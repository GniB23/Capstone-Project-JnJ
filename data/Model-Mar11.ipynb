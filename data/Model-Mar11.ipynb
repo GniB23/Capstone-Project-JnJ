{
 "cells": [
  {
   "cell_type": "markdown",
   "metadata": {},
   "source": [
    "# Models"
   ]
  },
  {
   "cell_type": "code",
   "execution_count": 1,
   "metadata": {},
   "outputs": [],
   "source": [
    "import pandas as pd\n",
    "import numpy as np\n",
    "import warnings\n",
    "warnings.filterwarnings('ignore')"
   ]
  },
  {
   "cell_type": "code",
   "execution_count": 2,
   "metadata": {},
   "outputs": [],
   "source": [
    "tweets = pd.read_csv(\"tweets.csv\")"
   ]
  },
  {
   "cell_type": "code",
   "execution_count": 3,
   "metadata": {},
   "outputs": [],
   "source": [
    "import emoji\n",
    "def deEmoji(text):\n",
    "    return emoji.get_emoji_regexp().sub(r'', text)"
   ]
  },
  {
   "cell_type": "code",
   "execution_count": 4,
   "metadata": {},
   "outputs": [],
   "source": [
    "# Preprocess\n",
    "import re\n",
    "import nltk\n",
    "from nltk.corpus import stopwords\n",
    "from nltk.stem import PorterStemmer\n",
    "from nltk.tokenize import TweetTokenizer\n",
    "\n",
    "def text_preprocess(text):\n",
    "    text = re.sub(r'#', '', text) #Replace the # symbol with '' in every tweet\n",
    "    text = re.sub(r'https?:\\/\\/.*[\\r\\n]*', '', text) #Replace hyperlinks with '' in every tweet\n",
    "    text = re.sub(r'[^\\w\\d\\s]+', '', text) #Remove all punctuations\n",
    "    text = deEmoji(text) #Remove emoji\n",
    "    text = re.sub(r'\\n', '', text) #Remove \\n\n",
    "    \n",
    "    #Remove all stopwords\n",
    "    stopwords_eng = stopwords.words('english')\n",
    "    pattern = re.compile(r'\\b(' + r'|'.join(stopwords_eng) + r')\\b\\s*')\n",
    "    text = pattern.sub('', text)\n",
    "    \n",
    "    #Apply stem\n",
    "    ps = PorterStemmer()\n",
    "    tk = TweetTokenizer(preserve_case=False, strip_handles = True)\n",
    "    tweet_tokens = tk.tokenize(text)\n",
    "    tweet_finish = ''\n",
    "    for token in tweet_tokens:\n",
    "        stem = ps.stem(token)\n",
    "        tweet_finish += (stem + ' ')\n",
    "    return tweet_finish  "
   ]
  },
  {
   "cell_type": "code",
   "execution_count": 5,
   "metadata": {},
   "outputs": [],
   "source": [
    "tweets = tweets[['medical_device', 'text']]"
   ]
  },
  {
   "cell_type": "code",
   "execution_count": 6,
   "metadata": {},
   "outputs": [
    {
     "data": {
      "text/plain": [
       "'I’ve been using this toner since I was younger and it really does do what it says on the tin! Now just to find a good toner! Any recommendations??? Remember Just Be You! Please like and share this post to brighten up someones day 👍 #cleanandclear @jnj #jnj #cleanser #toner https://t.co/PfRZlXNHSX'"
      ]
     },
     "execution_count": 6,
     "metadata": {},
     "output_type": "execute_result"
    }
   ],
   "source": [
    "tweets.text.iloc[5]"
   ]
  },
  {
   "cell_type": "code",
   "execution_count": 7,
   "metadata": {},
   "outputs": [
    {
     "data": {
      "text/plain": [
       "Index(['medical_device', 'text'], dtype='object')"
      ]
     },
     "execution_count": 7,
     "metadata": {},
     "output_type": "execute_result"
    }
   ],
   "source": [
    "tweets.columns"
   ]
  },
  {
   "cell_type": "code",
   "execution_count": 8,
   "metadata": {},
   "outputs": [],
   "source": [
    "length = len(tweets.text)\n",
    "for i in range(length):\n",
    "    tweets.text.iloc[i] = text_preprocess(tweets.text.iloc[i])"
   ]
  },
  {
   "cell_type": "code",
   "execution_count": 9,
   "metadata": {},
   "outputs": [
    {
     "data": {
      "text/html": [
       "<div>\n",
       "<style scoped>\n",
       "    .dataframe tbody tr th:only-of-type {\n",
       "        vertical-align: middle;\n",
       "    }\n",
       "\n",
       "    .dataframe tbody tr th {\n",
       "        vertical-align: top;\n",
       "    }\n",
       "\n",
       "    .dataframe thead th {\n",
       "        text-align: right;\n",
       "    }\n",
       "</style>\n",
       "<table border=\"1\" class=\"dataframe\">\n",
       "  <thead>\n",
       "    <tr style=\"text-align: right;\">\n",
       "      <th></th>\n",
       "      <th>medical_device</th>\n",
       "      <th>text</th>\n",
       "    </tr>\n",
       "  </thead>\n",
       "  <tbody>\n",
       "    <tr>\n",
       "      <th>0</th>\n",
       "      <td>False</td>\n",
       "      <td>yall know i know im never leav boy alon jnj</td>\n",
       "    </tr>\n",
       "    <tr>\n",
       "      <th>1</th>\n",
       "      <td>False</td>\n",
       "      <td>superkelli 24 such funni scene jnj</td>\n",
       "    </tr>\n",
       "    <tr>\n",
       "      <th>2</th>\n",
       "      <td>False</td>\n",
       "      <td>jampjohnson flagform confirm continu possibl j...</td>\n",
       "    </tr>\n",
       "    <tr>\n",
       "      <th>3</th>\n",
       "      <td>False</td>\n",
       "      <td>jnj daili rsi hasnt touch 69 sinc februari 202...</td>\n",
       "    </tr>\n",
       "    <tr>\n",
       "      <th>4</th>\n",
       "      <td>False</td>\n",
       "      <td>we outstand opportun join non clinic safeti te...</td>\n",
       "    </tr>\n",
       "    <tr>\n",
       "      <th>...</th>\n",
       "      <td>...</td>\n",
       "      <td>...</td>\n",
       "    </tr>\n",
       "    <tr>\n",
       "      <th>6489</th>\n",
       "      <td>False</td>\n",
       "      <td>bought jnj call 904 155 53 entri</td>\n",
       "    </tr>\n",
       "    <tr>\n",
       "      <th>6490</th>\n",
       "      <td>False</td>\n",
       "      <td>wikileak pamper huggi johnson johnson jnj hist...</td>\n",
       "    </tr>\n",
       "    <tr>\n",
       "      <th>6491</th>\n",
       "      <td>False</td>\n",
       "      <td>wikileak pamper huggi johnson johnson jnj hist...</td>\n",
       "    </tr>\n",
       "    <tr>\n",
       "      <th>6492</th>\n",
       "      <td>False</td>\n",
       "      <td>hostess_snack jnj kick theyr kick get done</td>\n",
       "    </tr>\n",
       "    <tr>\n",
       "      <th>6493</th>\n",
       "      <td>False</td>\n",
       "      <td>superkelli 24 i hope rc give jnj amp johnsonbr...</td>\n",
       "    </tr>\n",
       "  </tbody>\n",
       "</table>\n",
       "<p>6494 rows × 2 columns</p>\n",
       "</div>"
      ],
      "text/plain": [
       "      medical_device                                               text\n",
       "0              False       yall know i know im never leav boy alon jnj \n",
       "1              False                superkelli 24 such funni scene jnj \n",
       "2              False  jampjohnson flagform confirm continu possibl j...\n",
       "3              False  jnj daili rsi hasnt touch 69 sinc februari 202...\n",
       "4              False  we outstand opportun join non clinic safeti te...\n",
       "...              ...                                                ...\n",
       "6489           False                  bought jnj call 904 155 53 entri \n",
       "6490           False  wikileak pamper huggi johnson johnson jnj hist...\n",
       "6491           False  wikileak pamper huggi johnson johnson jnj hist...\n",
       "6492           False        hostess_snack jnj kick theyr kick get done \n",
       "6493           False  superkelli 24 i hope rc give jnj amp johnsonbr...\n",
       "\n",
       "[6494 rows x 2 columns]"
      ]
     },
     "execution_count": 9,
     "metadata": {},
     "output_type": "execute_result"
    }
   ],
   "source": [
    "tweets"
   ]
  },
  {
   "cell_type": "code",
   "execution_count": 10,
   "metadata": {},
   "outputs": [
    {
     "name": "stdout",
     "output_type": "stream",
     "text": [
      "False    5859\n",
      "True      635\n",
      "Name: medical_device, dtype: int64\n"
     ]
    }
   ],
   "source": [
    "import seaborn as sns\n",
    "import matplotlib.pyplot as plt\n",
    "%matplotlib inline\n",
    "\n",
    "x=tweets['medical_device'].value_counts()\n",
    "print(x)"
   ]
  },
  {
   "cell_type": "code",
   "execution_count": 11,
   "metadata": {},
   "outputs": [
    {
     "data": {
      "image/png": "[encoded data removed]",
      "text/plain": [
       "<Figure size 432x288 with 1 Axes>"
      ]
     },
     "metadata": {
      "needs_background": "light"
     },
     "output_type": "display_data"
    }
   ],
   "source": [
    "ax = sns.countplot(x=\"medical_device\", data=tweets)"
   ]
  },
  {
   "cell_type": "code",
   "execution_count": 12,
   "metadata": {},
   "outputs": [],
   "source": [
    "import gensim\n",
    "from gensim.models import Word2Vec #Word2Vec is mostly used for huge datasets\n",
    "\n",
    "# create Word2vec model\n",
    "#here words_f should be a list containing words from each document. say 1st row of the list is words from the 1st document/sentence\n",
    "#length of words_f is number of documents/sentences in your dataset\n",
    "tweets['clean_text_tok']=[nltk.word_tokenize(i) for i in tweets['text']] #convert preprocessed sentence to tokenized sentence\n",
    "model = Word2Vec(tweets['clean_text_tok'],min_count=1)  #min_count=1 means word should be present at least across all documents,\n",
    "#if min_count=2 means if the word is present less than 2 times across all the documents then we shouldn't consider it\n",
    "\n",
    "\n",
    "w2v = dict(zip(model.wv.index_to_key, model.wv.vectors))  #combination of word and its vector\n",
    "\n",
    "#for converting sentence to vectors/numbers from word vectors result by Word2Vec\n",
    "class MeanEmbeddingVectorizer(object):\n",
    "    def __init__(self, word2vec):\n",
    "        self.word2vec = word2vec\n",
    "        # if a text is empty we should return a vector of zeros\n",
    "        # with the same dimensionality as all the other vectors\n",
    "        self.dim = len(next(iter(word2vec.values())))\n",
    "\n",
    "    def fit(self, X, y):\n",
    "        return self\n",
    "\n",
    "    def transform(self, X):\n",
    "        return np.array([\n",
    "            np.mean([self.word2vec[w] for w in words if w in self.word2vec]\n",
    "                    or [np.zeros(self.dim)], axis=0)\n",
    "            for words in X\n",
    "        ])"
   ]
  },
  {
   "cell_type": "markdown",
   "metadata": {},
   "source": [
    "## OverSampling"
   ]
  },
  {
   "cell_type": "code",
   "execution_count": 13,
   "metadata": {},
   "outputs": [],
   "source": [
    "from sklearn.model_selection import train_test_split\n",
    "X_train, X_test, y_train, y_test = train_test_split(tweets[\"text\"], tweets[\"medical_device\"],\n",
    "                                                    test_size=0.2,\n",
    "                                                    shuffle=True, \n",
    "                                                    #stratify=tweets[\"medical_device\"],\n",
    "                                                    random_state=42)"
   ]
  },
  {
   "cell_type": "code",
   "execution_count": 14,
   "metadata": {},
   "outputs": [],
   "source": [
    "from imblearn.over_sampling import RandomOverSampler\n",
    "ros = RandomOverSampler(random_state=42)\n",
    "X_train, y_train = ros.fit_resample(X_train.values.reshape(-1,1), y_train)"
   ]
  },
  {
   "cell_type": "code",
   "execution_count": 15,
   "metadata": {},
   "outputs": [],
   "source": [
    "X_train = pd.Series(X_train.ravel())"
   ]
  },
  {
   "cell_type": "code",
   "execution_count": 16,
   "metadata": {},
   "outputs": [
    {
     "data": {
      "text/plain": [
       "True     4691\n",
       "False    4691\n",
       "Name: medical_device, dtype: int64"
      ]
     },
     "execution_count": 16,
     "metadata": {},
     "output_type": "execute_result"
    }
   ],
   "source": [
    "y_train.value_counts()"
   ]
  },
  {
   "cell_type": "code",
   "execution_count": 17,
   "metadata": {},
   "outputs": [
    {
     "data": {
      "text/plain": [
       "False    1168\n",
       "True      131\n",
       "Name: medical_device, dtype: int64"
      ]
     },
     "execution_count": 17,
     "metadata": {},
     "output_type": "execute_result"
    }
   ],
   "source": [
    "y_test.value_counts()"
   ]
  },
  {
   "cell_type": "code",
   "execution_count": 18,
   "metadata": {},
   "outputs": [],
   "source": [
    "X_train_tok= [nltk.word_tokenize(i) for i in X_train]  \n",
    "X_test_tok= [nltk.word_tokenize(i) for i in X_test]"
   ]
  },
  {
   "cell_type": "code",
   "execution_count": 19,
   "metadata": {},
   "outputs": [],
   "source": [
    "from sklearn.feature_extraction.text import TfidfVectorizer\n",
    "\n",
    "tfidf_vectorizer = TfidfVectorizer(use_idf=True)\n",
    "X_train_vectors_tfidf = tfidf_vectorizer.fit_transform(X_train) \n",
    "X_test_vectors_tfidf = tfidf_vectorizer.transform(X_test)"
   ]
  },
  {
   "cell_type": "code",
   "execution_count": 20,
   "metadata": {},
   "outputs": [],
   "source": [
    "modelw = MeanEmbeddingVectorizer(w2v)\n",
    "X_train_vectors_w2v = modelw.transform(X_train_tok)\n",
    "X_test_vectors_w2v = modelw.transform(X_test_tok)"
   ]
  },
  {
   "cell_type": "code",
   "execution_count": 21,
   "metadata": {},
   "outputs": [],
   "source": [
    "from sklearn.model_selection import train_test_split\n",
    "from sklearn.linear_model import LogisticRegression\n",
    "from sklearn.linear_model import SGDClassifier\n",
    "from sklearn.naive_bayes import MultinomialNB\n",
    "from sklearn.metrics import classification_report, f1_score, accuracy_score, confusion_matrix\n",
    "from sklearn.metrics import roc_curve, auc, roc_auc_score"
   ]
  },
  {
   "cell_type": "markdown",
   "metadata": {},
   "source": [
    "## LR (tf-idf)"
   ]
  },
  {
   "cell_type": "code",
   "execution_count": 46,
   "metadata": {},
   "outputs": [
    {
     "name": "stdout",
     "output_type": "stream",
     "text": [
      "              precision    recall  f1-score   support\n",
      "\n",
      "       False       0.99      0.96      0.98      1168\n",
      "        True       0.73      0.91      0.81       131\n",
      "\n",
      "    accuracy                           0.96      1299\n",
      "   macro avg       0.86      0.94      0.89      1299\n",
      "weighted avg       0.96      0.96      0.96      1299\n",
      "\n",
      "Confusion Matrix: [[1124   44]\n",
      " [  12  119]]\n",
      "AUC: 0.9846184513228067\n"
     ]
    }
   ],
   "source": [
    "#FITTING THE CLASSIFICATION MODEL using Logistic Regression(tf-idf)\n",
    "\n",
    "from sklearn.model_selection import GridSearchCV\n",
    "\n",
    "lr_tfidf=LogisticRegression()\n",
    "lr_tfidf.fit(X_train_vectors_tfidf, y_train)  #model\n",
    "\n",
    "#Predict y value for test dataset\n",
    "y_predict = lr_tfidf.predict(X_test_vectors_tfidf)\n",
    "y_prob = lr_tfidf.predict_proba(X_test_vectors_tfidf)[:,1]\n",
    " \n",
    "\n",
    "print(classification_report(y_test,y_predict))\n",
    "print('Confusion Matrix:',confusion_matrix(y_test, y_predict))\n",
    " \n",
    "fpr_lrt, tpr_lrt, thresholds = roc_curve(y_test, y_prob)\n",
    "roc_auc_lrt = auc(fpr_lrt, tpr_lrt)\n",
    "print('AUC:', roc_auc_lrt)  "
   ]
  },
  {
   "cell_type": "code",
   "execution_count": 47,
   "metadata": {},
   "outputs": [
    {
     "data": {
      "image/png": "[encoded data removed]",
      "text/plain": [
       "<Figure size 432x288 with 1 Axes>"
      ]
     },
     "metadata": {
      "needs_background": "light"
     },
     "output_type": "display_data"
    }
   ],
   "source": [
    "from mlxtend.plotting import plot_confusion_matrix\n",
    "plot_confusion_matrix(confusion_matrix(y_test, y_predict))\n",
    "plt.title('Logistic Regression (tf-idf)')\n",
    "plt.savefig('LRT.png');"
   ]
  },
  {
   "cell_type": "markdown",
   "metadata": {},
   "source": [
    "## LR (w2v)"
   ]
  },
  {
   "cell_type": "code",
   "execution_count": 48,
   "metadata": {},
   "outputs": [
    {
     "name": "stdout",
     "output_type": "stream",
     "text": [
      "              precision    recall  f1-score   support\n",
      "\n",
      "       False       0.98      0.71      0.82      1168\n",
      "        True       0.25      0.86      0.39       131\n",
      "\n",
      "    accuracy                           0.73      1299\n",
      "   macro avg       0.62      0.79      0.61      1299\n",
      "weighted avg       0.91      0.73      0.78      1299\n",
      "\n",
      "Confusion Matrix: [[832 336]\n",
      " [ 18 113]]\n",
      "AUC: 0.8633568179441599\n"
     ]
    }
   ],
   "source": [
    "#FITTING THE CLASSIFICATION MODEL using Logistic Regression (W2v)\n",
    "\n",
    "lr_w2v= LogisticRegression()\n",
    "lr_w2v.fit(X_train_vectors_w2v, y_train)  #model\n",
    "\n",
    "#Predict y value for test dataset\n",
    "y_predict = lr_w2v.predict(X_test_vectors_w2v)\n",
    "y_prob = lr_w2v.predict_proba(X_test_vectors_w2v)[:,1]\n",
    "\n",
    "\n",
    "print(classification_report(y_test,y_predict))\n",
    "print('Confusion Matrix:',confusion_matrix(y_test, y_predict))\n",
    " \n",
    "fpr_lrw, tpr_lrw, thresholds = roc_curve(y_test, y_prob)\n",
    "roc_auc_lrw = auc(fpr_lrw, tpr_lrw)\n",
    "print('AUC:', roc_auc_lrw)  "
   ]
  },
  {
   "cell_type": "code",
   "execution_count": 49,
   "metadata": {},
   "outputs": [
    {
     "data": {
      "image/png": "[encoded data removed]",
      "text/plain": [
       "<Figure size 432x288 with 1 Axes>"
      ]
     },
     "metadata": {
      "needs_background": "light"
     },
     "output_type": "display_data"
    }
   ],
   "source": [
    "plot_confusion_matrix(confusion_matrix(y_test, y_predict))\n",
    "plt.title('Logistic Regression (w2v)')\n",
    "plt.savefig('LRW.png');"
   ]
  },
  {
   "cell_type": "markdown",
   "metadata": {},
   "source": [
    "## Ridge Regression (w2v)"
   ]
  },
  {
   "cell_type": "code",
   "execution_count": 40,
   "metadata": {},
   "outputs": [
    {
     "name": "stdout",
     "output_type": "stream",
     "text": [
      "Best estimators:  {'C': 1438.44988828766, 'penalty': 'l2', 'solver': 'liblinear'}\n",
      "              precision    recall  f1-score   support\n",
      "\n",
      "       False       0.99      0.86      0.92      1168\n",
      "        True       0.42      0.89      0.57       131\n",
      "\n",
      "    accuracy                           0.87      1299\n",
      "   macro avg       0.70      0.88      0.75      1299\n",
      "weighted avg       0.93      0.87      0.89      1299\n",
      "\n",
      "Confusion Matrix: [[1010  158]\n",
      " [  15  116]]\n",
      "AUC: 0.9440061957544703\n"
     ]
    }
   ],
   "source": [
    "#FITTING THE CLASSIFICATION MODEL using Ridge Regression (W2v)\n",
    "rr_w2v_param = {'solver' : ['liblinear'], 'C':np.logspace(-4, 4, 20),'penalty' : ['l2']}\n",
    "\n",
    "rr_w2v=GridSearchCV( LogisticRegression(), rr_w2v_param)\n",
    "rr_w2v.fit(X_train_vectors_w2v, y_train)  #model\n",
    "\n",
    "#Predict y value for test dataset\n",
    "y_predict = rr_w2v.predict(X_test_vectors_w2v)\n",
    "y_prob = rr_w2v.predict_proba(X_test_vectors_w2v)[:,1]\n",
    "\n",
    "print('Best estimators: ', rr_w2v.best_params_)\n",
    "\n",
    "print(classification_report(y_test,y_predict))\n",
    "print('Confusion Matrix:',confusion_matrix(y_test, y_predict))\n",
    " \n",
    "fpr_rrw, tpr_rrw, thresholds = roc_curve(y_test, y_prob)\n",
    "roc_auc_rrw = auc(fpr_rrw, tpr_rrw)\n",
    "print('AUC:', roc_auc_rrw)  "
   ]
  },
  {
   "cell_type": "code",
   "execution_count": 41,
   "metadata": {},
   "outputs": [
    {
     "data": {
      "image/png": "[encoded data removed]",
      "text/plain": [
       "<Figure size 432x288 with 1 Axes>"
      ]
     },
     "metadata": {
      "needs_background": "light"
     },
     "output_type": "display_data"
    }
   ],
   "source": [
    "plot_confusion_matrix(confusion_matrix(y_test, y_predict))\n",
    "plt.title('Ridge Regression (w2v)');"
   ]
  },
  {
   "cell_type": "markdown",
   "metadata": {},
   "source": [
    "## NB (tf-idf)"
   ]
  },
  {
   "cell_type": "code",
   "execution_count": 50,
   "metadata": {},
   "outputs": [
    {
     "name": "stdout",
     "output_type": "stream",
     "text": [
      "              precision    recall  f1-score   support\n",
      "\n",
      "       False       0.99      0.92      0.95      1168\n",
      "        True       0.56      0.92      0.70       131\n",
      "\n",
      "    accuracy                           0.92      1299\n",
      "   macro avg       0.78      0.92      0.83      1299\n",
      "weighted avg       0.95      0.92      0.93      1299\n",
      "\n",
      "Confusion Matrix: [[1074   94]\n",
      " [  10  121]]\n",
      "AUC: 0.9763901233922408\n"
     ]
    }
   ],
   "source": [
    "#FITTING THE CLASSIFICATION MODEL using Naive Bayes(tf-idf)\n",
    "#It's a probabilistic classifier that makes use of Bayes' Theorem, a rule that uses probability to make predictions based on prior knowledge of conditions that might be related. This algorithm is the most suitable for such large dataset as it considers each feature independently, calculates the probability of each category, and then predicts the category with the highest probability.\n",
    "\n",
    "nb_tfidf = MultinomialNB()\n",
    "nb_tfidf.fit(X_train_vectors_tfidf, y_train)  #model\n",
    "\n",
    "#Predict y value for test dataset\n",
    "y_predict = nb_tfidf.predict(X_test_vectors_tfidf)\n",
    "y_prob = nb_tfidf.predict_proba(X_test_vectors_tfidf)[:,1]\n",
    " \n",
    "    \n",
    "print(classification_report(y_test,y_predict))\n",
    "print('Confusion Matrix:',confusion_matrix(y_test, y_predict))\n",
    " \n",
    "fpr_nbt, tpr_nbt, thresholds = roc_curve(y_test, y_prob)\n",
    "roc_auc_nbt = auc(fpr_nbt, tpr_nbt)\n",
    "print('AUC:', roc_auc_nbt)  "
   ]
  },
  {
   "cell_type": "code",
   "execution_count": 51,
   "metadata": {},
   "outputs": [
    {
     "data": {
      "image/png": "[encoded data removed]",
      "text/plain": [
       "<Figure size 432x288 with 1 Axes>"
      ]
     },
     "metadata": {
      "needs_background": "light"
     },
     "output_type": "display_data"
    }
   ],
   "source": [
    "plot_confusion_matrix(confusion_matrix(y_test, y_predict))\n",
    "plt.title('Naive Bayes (tf-idf)')\n",
    "plt.savefig('NBT.png');"
   ]
  },
  {
   "cell_type": "markdown",
   "metadata": {},
   "source": [
    "## Gradient Boosting (tf-idf)"
   ]
  },
  {
   "cell_type": "code",
   "execution_count": 108,
   "metadata": {},
   "outputs": [
    {
     "name": "stdout",
     "output_type": "stream",
     "text": [
      "              precision    recall  f1-score   support\n",
      "\n",
      "       False       0.98      0.97      0.98      1168\n",
      "        True       0.76      0.84      0.80       131\n",
      "\n",
      "    accuracy                           0.96      1299\n",
      "   macro avg       0.87      0.90      0.89      1299\n",
      "weighted avg       0.96      0.96      0.96      1299\n",
      "\n",
      "Confusion Matrix: [[1133   35]\n",
      " [  21  110]]\n",
      "AUC: 0.9801611680435011\n"
     ]
    }
   ],
   "source": [
    "from sklearn.ensemble import GradientBoostingClassifier\n",
    "gbdt_tfidf = GradientBoostingClassifier(n_estimators=100, learning_rate=0.2, max_depth=15, random_state=42)\n",
    "gbdt_tfidf.fit(X_train_vectors_tfidf, y_train)  #model\n",
    "\n",
    "#Predict y value for test dataset\n",
    "y_predict = gbdt_tfidf.predict(X_test_vectors_tfidf)\n",
    "y_prob = gbdt_tfidf.predict_proba(X_test_vectors_tfidf)[:,1]\n",
    " \n",
    "print(classification_report(y_test,y_predict))\n",
    "print('Confusion Matrix:',confusion_matrix(y_test, y_predict))\n",
    " \n",
    "fpr, tpr, thresholds = roc_curve(y_test, y_prob)\n",
    "roc_auc = auc(fpr, tpr)\n",
    "print('AUC:', roc_auc)"
   ]
  },
  {
   "cell_type": "code",
   "execution_count": 109,
   "metadata": {},
   "outputs": [
    {
     "data": {
      "text/plain": [
       "(<Figure size 432x288 with 1 Axes>,\n",
       " <AxesSubplot:xlabel='predicted label', ylabel='true label'>)"
      ]
     },
     "execution_count": 109,
     "metadata": {},
     "output_type": "execute_result"
    },
    {
     "data": {
      "image/png": "[encoded data removed]",
      "text/plain": [
       "<Figure size 432x288 with 1 Axes>"
      ]
     },
     "metadata": {
      "needs_background": "light"
     },
     "output_type": "display_data"
    }
   ],
   "source": [
    "plot_confusion_matrix(confusion_matrix(y_test, y_predict))"
   ]
  },
  {
   "cell_type": "markdown",
   "metadata": {},
   "source": [
    "## Gradient Boosting (w2v)"
   ]
  },
  {
   "cell_type": "code",
   "execution_count": 110,
   "metadata": {},
   "outputs": [
    {
     "name": "stdout",
     "output_type": "stream",
     "text": [
      "              precision    recall  f1-score   support\n",
      "\n",
      "       False       0.95      0.98      0.97      1168\n",
      "        True       0.78      0.53      0.63       131\n",
      "\n",
      "    accuracy                           0.94      1299\n",
      "   macro avg       0.86      0.75      0.80      1299\n",
      "weighted avg       0.93      0.94      0.93      1299\n",
      "\n",
      "Confusion Matrix: [[1148   20]\n",
      " [  62   69]]\n",
      "AUC: 0.9396861602007738\n"
     ]
    }
   ],
   "source": [
    "gbdt_w2v = GradientBoostingClassifier(n_estimators=100, learning_rate=0.2, max_depth=15, random_state=42)\n",
    "gbdt_w2v.fit(X_train_vectors_w2v, y_train)  #model\n",
    "\n",
    "#Predict y value for test dataset\n",
    "y_predict = gbdt_w2v.predict(X_test_vectors_w2v)\n",
    "y_prob = gbdt_w2v.predict_proba(X_test_vectors_w2v)[:,1]\n",
    " \n",
    "print(classification_report(y_test,y_predict))\n",
    "print('Confusion Matrix:',confusion_matrix(y_test, y_predict))\n",
    " \n",
    "fpr, tpr, thresholds = roc_curve(y_test, y_prob)\n",
    "roc_auc = auc(fpr, tpr)\n",
    "print('AUC:', roc_auc)"
   ]
  },
  {
   "cell_type": "code",
   "execution_count": 111,
   "metadata": {},
   "outputs": [
    {
     "data": {
      "text/plain": [
       "(<Figure size 432x288 with 1 Axes>,\n",
       " <AxesSubplot:xlabel='predicted label', ylabel='true label'>)"
      ]
     },
     "execution_count": 111,
     "metadata": {},
     "output_type": "execute_result"
    },
    {
     "data": {
      "image/png": "[encoded data removed]",
      "text/plain": [
       "<Figure size 432x288 with 1 Axes>"
      ]
     },
     "metadata": {
      "needs_background": "light"
     },
     "output_type": "display_data"
    }
   ],
   "source": [
    "plot_confusion_matrix(confusion_matrix(y_test, y_predict))"
   ]
  },
  {
   "cell_type": "markdown",
   "metadata": {},
   "source": [
    "## XGBoost (tf-idf)"
   ]
  },
  {
   "cell_type": "code",
   "execution_count": 54,
   "metadata": {},
   "outputs": [
    {
     "name": "stdout",
     "output_type": "stream",
     "text": [
      "[19:08:01] WARNING: /opt/concourse/worker/volumes/live/7a2b9f41-3287-451b-6691-43e9a6c0910f/volume/xgboost-split_1619728204606/work/src/learner.cc:1061: Starting in XGBoost 1.3.0, the default evaluation metric used with the objective 'binary:logistic' was changed from 'error' to 'logloss'. Explicitly set eval_metric if you'd like to restore the old behavior.\n",
      "              precision    recall  f1-score   support\n",
      "\n",
      "       False       0.98      0.98      0.98      1168\n",
      "        True       0.80      0.81      0.81       131\n",
      "\n",
      "    accuracy                           0.96      1299\n",
      "   macro avg       0.89      0.89      0.89      1299\n",
      "weighted avg       0.96      0.96      0.96      1299\n",
      "\n",
      "Confusion Matrix: [[1142   26]\n",
      " [  25  106]]\n",
      "AUC: 0.9747758287148385\n"
     ]
    }
   ],
   "source": [
    "from xgboost import XGBClassifier\n",
    "xgb_tfidf = XGBClassifier(n_estimators=100, learning_rate=0.2, max_depth=15, random_state=42)\n",
    "xgb_tfidf.fit(X_train_vectors_tfidf, y_train)  #model\n",
    "\n",
    "#Predict y value for test dataset\n",
    "y_predict = xgb_tfidf.predict(X_test_vectors_tfidf)\n",
    "y_prob = xgb_tfidf.predict_proba(X_test_vectors_tfidf)[:,1]\n",
    " \n",
    "print(classification_report(y_test,y_predict))\n",
    "print('Confusion Matrix:',confusion_matrix(y_test, y_predict))\n",
    " \n",
    "fpr_xgt, tpr_xgt, thresholds = roc_curve(y_test, y_prob)\n",
    "roc_auc_xgt = auc(fpr_xgt, tpr_xgt)\n",
    "print('AUC:', roc_auc_xgt)"
   ]
  },
  {
   "cell_type": "code",
   "execution_count": 55,
   "metadata": {},
   "outputs": [
    {
     "data": {
      "image/png": "[encoded data removed]",
      "text/plain": [
       "<Figure size 432x288 with 1 Axes>"
      ]
     },
     "metadata": {
      "needs_background": "light"
     },
     "output_type": "display_data"
    }
   ],
   "source": [
    "plot_confusion_matrix(confusion_matrix(y_test, y_predict))\n",
    "plt.title('XGBoost (tf-idf)')\n",
    "plt.savefig('XGT.png');"
   ]
  },
  {
   "cell_type": "markdown",
   "metadata": {},
   "source": [
    "## XGBoost (w2v)"
   ]
  },
  {
   "cell_type": "code",
   "execution_count": 58,
   "metadata": {},
   "outputs": [
    {
     "name": "stdout",
     "output_type": "stream",
     "text": [
      "[19:10:35] WARNING: /opt/concourse/worker/volumes/live/7a2b9f41-3287-451b-6691-43e9a6c0910f/volume/xgboost-split_1619728204606/work/src/learner.cc:1061: Starting in XGBoost 1.3.0, the default evaluation metric used with the objective 'binary:logistic' was changed from 'error' to 'logloss'. Explicitly set eval_metric if you'd like to restore the old behavior.\n",
      "              precision    recall  f1-score   support\n",
      "\n",
      "       False       0.96      0.98      0.97      1168\n",
      "        True       0.76      0.61      0.68       131\n",
      "\n",
      "    accuracy                           0.94      1299\n",
      "   macro avg       0.86      0.79      0.82      1299\n",
      "weighted avg       0.94      0.94      0.94      1299\n",
      "\n",
      "Confusion Matrix: [[1143   25]\n",
      " [  51   80]]\n",
      "AUC: 0.9378757973439297\n"
     ]
    }
   ],
   "source": [
    "xgb_w2v = XGBClassifier(n_estimators=100, learning_rate=0.2, max_depth=15, random_state=42)\n",
    "xgb_w2v.fit(X_train_vectors_w2v, y_train)  #model\n",
    "\n",
    "#Predict y value for test dataset\n",
    "y_predict = xgb_w2v.predict(X_test_vectors_w2v)\n",
    "y_prob = xgb_w2v.predict_proba(X_test_vectors_w2v)[:,1]\n",
    " \n",
    "print(classification_report(y_test,y_predict))\n",
    "print('Confusion Matrix:',confusion_matrix(y_test, y_predict))\n",
    " \n",
    "fpr_xgw, tpr_xgw, thresholds = roc_curve(y_test, y_prob)\n",
    "roc_auc_xgw = auc(fpr_xgw, tpr_xgw)\n",
    "print('AUC:', roc_auc_xgw)"
   ]
  },
  {
   "cell_type": "code",
   "execution_count": 59,
   "metadata": {},
   "outputs": [
    {
     "data": {
      "image/png": "[encoded data removed]",
      "text/plain": [
       "<Figure size 432x288 with 1 Axes>"
      ]
     },
     "metadata": {
      "needs_background": "light"
     },
     "output_type": "display_data"
    }
   ],
   "source": [
    "plot_confusion_matrix(confusion_matrix(y_test, y_predict))\n",
    "plt.title('XGBoost (w2v)')\n",
    "plt.savefig('XGW.png');"
   ]
  },
  {
   "cell_type": "markdown",
   "metadata": {},
   "source": [
    "## ROC Curve"
   ]
  },
  {
   "cell_type": "code",
   "execution_count": 71,
   "metadata": {},
   "outputs": [
    {
     "data": {
      "image/png": "[encoded data removed]",
      "text/plain": [
       "<Figure size 720x432 with 1 Axes>"
      ]
     },
     "metadata": {
      "needs_background": "light"
     },
     "output_type": "display_data"
    }
   ],
   "source": [
    "plt.figure(figsize=(10,6))\n",
    "plt.plot(\n",
    "    fpr_lrt,\n",
    "    tpr_lrt,\n",
    "    label=\"Logistic Regression(tf-idf) (area = %0.3f)\" % roc_auc_lrt,\n",
    ")\n",
    "plt.plot(\n",
    "    fpr_lrw,\n",
    "    tpr_lrw,\n",
    "    label=\"Logistic Regression(w2v) (area = %0.3f)\" % roc_auc_lrw,\n",
    ")\n",
    "plt.plot(\n",
    "    fpr_nbt,\n",
    "    tpr_nbt,\n",
    "    label=\"Naive Bayes(tf-idf) (area = %0.3f)\" % roc_auc_nbt,\n",
    ")\n",
    "plt.plot(\n",
    "    fpr_xgt,\n",
    "    tpr_xgt,\n",
    "    label=\"XGBoost(tf-idf) (area = %0.3f)\" % roc_auc_xgt,\n",
    ")\n",
    "plt.plot(\n",
    "    fpr_xgw,\n",
    "    tpr_xgw,\n",
    "    label=\"XGBoost(w2v) (area = %0.3f)\" % roc_auc_xgw,\n",
    ")\n",
    "plt.plot([0, 1], [0, 1], color=\"navy\", linestyle=\"--\", label = 'Random Classifier (area = 0.5)')\n",
    "plt.legend(loc=\"lower right\")\n",
    "plt.title('ROC Curves')\n",
    "plt.savefig('ROC.png');"
   ]
  },
  {
   "cell_type": "code",
   "execution_count": null,
   "metadata": {},
   "outputs": [],
   "source": []
  }
 ],
 "metadata": {
  "kernelspec": {
   "display_name": "Python 3",
   "language": "python",
   "name": "python3"
  },
  "language_info": {
   "codemirror_mode": {
    "name": "ipython",
    "version": 3
   },
   "file_extension": ".py",
   "mimetype": "text/x-python",
   "name": "python",
   "nbconvert_exporter": "python",
   "pygments_lexer": "ipython3",
   "version": "3.8.5"
  }
 },
 "nbformat": 4,
 "nbformat_minor": 2
}
