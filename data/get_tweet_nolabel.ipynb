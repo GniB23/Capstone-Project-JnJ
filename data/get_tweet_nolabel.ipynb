{
 "cells": [
  {
   "cell_type": "code",
   "execution_count": 1,
   "id": "ff9cc6d3",
   "metadata": {},
   "outputs": [],
   "source": [
    "#Preprocess nolabel tweets and save them to a 'tweet_no_label_afterpreprocess.csv'\n",
    "import pandas as pd\n",
    "import numpy as np\n",
    "import warnings\n",
    "warnings.filterwarnings('ignore')"
   ]
  },
  {
   "cell_type": "code",
   "execution_count": 19,
   "id": "0f85d5b1",
   "metadata": {},
   "outputs": [],
   "source": [
    "tweet_original = pd.read_csv('tweets-no-labels.csv')"
   ]
  },
  {
   "cell_type": "code",
   "execution_count": 8,
   "id": "d8e4acd8",
   "metadata": {},
   "outputs": [],
   "source": [
    "tweet_nolabel = pd.read_csv('tweets-no-labels.csv')"
   ]
  },
  {
   "cell_type": "code",
   "execution_count": 9,
   "id": "5888c45f",
   "metadata": {},
   "outputs": [],
   "source": [
    "tweet_nolabel = tweet_nolabel[['text','query']]"
   ]
  },
  {
   "cell_type": "code",
   "execution_count": 10,
   "id": "7483862e",
   "metadata": {},
   "outputs": [
    {
     "data": {
      "text/html": [
       "<div>\n",
       "<style scoped>\n",
       "    .dataframe tbody tr th:only-of-type {\n",
       "        vertical-align: middle;\n",
       "    }\n",
       "\n",
       "    .dataframe tbody tr th {\n",
       "        vertical-align: top;\n",
       "    }\n",
       "\n",
       "    .dataframe thead th {\n",
       "        text-align: right;\n",
       "    }\n",
       "</style>\n",
       "<table border=\"1\" class=\"dataframe\">\n",
       "  <thead>\n",
       "    <tr style=\"text-align: right;\">\n",
       "      <th></th>\n",
       "      <th>text</th>\n",
       "      <th>query</th>\n",
       "    </tr>\n",
       "  </thead>\n",
       "  <tbody>\n",
       "    <tr>\n",
       "      <th>0</th>\n",
       "      <td>@Timcast @joerogan Isn’t the goal to beat the ...</td>\n",
       "      <td>#jnj</td>\n",
       "    </tr>\n",
       "    <tr>\n",
       "      <th>1</th>\n",
       "      <td>@EMA_News Frustrating @EMA_News #JnJ ships vac...</td>\n",
       "      <td>#jnj</td>\n",
       "    </tr>\n",
       "    <tr>\n",
       "      <th>2</th>\n",
       "      <td>@AlexandrosAndre @YorkTeachingNHS @Ethicon @ab...</td>\n",
       "      <td>ethicon</td>\n",
       "    </tr>\n",
       "    <tr>\n",
       "      <th>3</th>\n",
       "      <td>Jack and Jennifer had me rolling today. I have...</td>\n",
       "      <td>#jnj</td>\n",
       "    </tr>\n",
       "    <tr>\n",
       "      <th>4</th>\n",
       "      <td>@xotonironixo They will always be #JnJ to me a...</td>\n",
       "      <td>#jnj</td>\n",
       "    </tr>\n",
       "  </tbody>\n",
       "</table>\n",
       "</div>"
      ],
      "text/plain": [
       "                                                text    query\n",
       "0  @Timcast @joerogan Isn’t the goal to beat the ...     #jnj\n",
       "1  @EMA_News Frustrating @EMA_News #JnJ ships vac...     #jnj\n",
       "2  @AlexandrosAndre @YorkTeachingNHS @Ethicon @ab...  ethicon\n",
       "3  Jack and Jennifer had me rolling today. I have...     #jnj\n",
       "4  @xotonironixo They will always be #JnJ to me a...     #jnj"
      ]
     },
     "execution_count": 10,
     "metadata": {},
     "output_type": "execute_result"
    }
   ],
   "source": [
    "tweet_nolabel.head()"
   ]
  },
  {
   "cell_type": "code",
   "execution_count": 11,
   "id": "a9a8c2f8",
   "metadata": {},
   "outputs": [
    {
     "data": {
      "text/plain": [
       "#jnj                  22598\n",
       "ethicon                 678\n",
       "#bwi                    406\n",
       "\"ETHICON\"               391\n",
       "biosense webster         61\n",
       "\"BIOSENSE WEBSTER\"       29\n",
       "Name: query, dtype: int64"
      ]
     },
     "execution_count": 11,
     "metadata": {},
     "output_type": "execute_result"
    }
   ],
   "source": [
    "tweet_nolabel['query'].value_counts()"
   ]
  },
  {
   "cell_type": "code",
   "execution_count": 12,
   "id": "c378bbcf",
   "metadata": {},
   "outputs": [],
   "source": [
    "import emoji\n",
    "def deEmoji(text):\n",
    "    return emoji.get_emoji_regexp().sub(r'', text)"
   ]
  },
  {
   "cell_type": "code",
   "execution_count": 13,
   "id": "14ba6f44",
   "metadata": {},
   "outputs": [],
   "source": [
    "# Preprocess\n",
    "import re\n",
    "import nltk\n",
    "from nltk.corpus import stopwords\n",
    "from nltk.stem import PorterStemmer\n",
    "from nltk.tokenize import TweetTokenizer\n",
    "\n",
    "def text_preprocess(text):\n",
    "    text = re.sub(r'#', '', text) #Replace the # symbol with '' in every tweet\n",
    "    text = re.sub(r'https?:\\/\\/.*[\\r\\n]*', '', text) #Replace hyperlinks with '' in every tweet\n",
    "    text = re.sub(r'[^\\w\\d\\s]+', '', text) #Remove all punctuations\n",
    "    text = deEmoji(text) #Remove emoji\n",
    "    text = re.sub(r'\\n', '', text) #Remove \\n\n",
    "    \n",
    "    #Remove all stopwords\n",
    "    stopwords_eng = stopwords.words('english')\n",
    "    pattern = re.compile(r'\\b(' + r'|'.join(stopwords_eng) + r')\\b\\s*')\n",
    "    text = pattern.sub('', text)\n",
    "    \n",
    "    #Apply stem\n",
    "    ps = PorterStemmer()\n",
    "    tk = TweetTokenizer(preserve_case=False, strip_handles = True)\n",
    "    tweet_tokens = tk.tokenize(text)\n",
    "    tweet_finish = ''\n",
    "    for token in tweet_tokens:\n",
    "        stem = ps.stem(token)\n",
    "        tweet_finish += (stem + ' ')\n",
    "    return tweet_finish "
   ]
  },
  {
   "cell_type": "code",
   "execution_count": 14,
   "id": "84f15892",
   "metadata": {},
   "outputs": [],
   "source": [
    "length = len(tweet_nolabel.text)\n",
    "for i in range(length):\n",
    "    tweet_nolabel.text.iloc[i] = text_preprocess(tweet_nolabel.text.iloc[i])"
   ]
  },
  {
   "cell_type": "code",
   "execution_count": 15,
   "id": "2428564b",
   "metadata": {},
   "outputs": [
    {
     "data": {
      "text/html": [
       "<div>\n",
       "<style scoped>\n",
       "    .dataframe tbody tr th:only-of-type {\n",
       "        vertical-align: middle;\n",
       "    }\n",
       "\n",
       "    .dataframe tbody tr th {\n",
       "        vertical-align: top;\n",
       "    }\n",
       "\n",
       "    .dataframe thead th {\n",
       "        text-align: right;\n",
       "    }\n",
       "</style>\n",
       "<table border=\"1\" class=\"dataframe\">\n",
       "  <thead>\n",
       "    <tr style=\"text-align: right;\">\n",
       "      <th></th>\n",
       "      <th>text</th>\n",
       "      <th>query</th>\n",
       "    </tr>\n",
       "  </thead>\n",
       "  <tbody>\n",
       "    <tr>\n",
       "      <th>0</th>\n",
       "      <td>timcast joerogan isnt goal beat viru let say a...</td>\n",
       "      <td>#jnj</td>\n",
       "    </tr>\n",
       "    <tr>\n",
       "      <th>1</th>\n",
       "      <td>ema_new frustrat ema_new jnj ship vaccin made ...</td>\n",
       "      <td>#jnj</td>\n",
       "    </tr>\n",
       "    <tr>\n",
       "      <th>2</th>\n",
       "      <td>alexandrosandr yorkteachingnh ethicon abby_lan...</td>\n",
       "      <td>ethicon</td>\n",
       "    </tr>\n",
       "    <tr>\n",
       "      <th>3</th>\n",
       "      <td>jack jennif roll today i love sinc i first lai...</td>\n",
       "      <td>#jnj</td>\n",
       "    </tr>\n",
       "    <tr>\n",
       "      <th>4</th>\n",
       "      <td>xotonironixo they alway jnj alway hold special...</td>\n",
       "      <td>#jnj</td>\n",
       "    </tr>\n",
       "    <tr>\n",
       "      <th>...</th>\n",
       "      <td>...</td>\n",
       "      <td>...</td>\n",
       "    </tr>\n",
       "    <tr>\n",
       "      <th>24158</th>\n",
       "      <td>futur jnj sale rep make meshinjur mafiamedicin...</td>\n",
       "      <td>#jnj</td>\n",
       "    </tr>\n",
       "    <tr>\n",
       "      <th>24159</th>\n",
       "      <td>pray justic would trust covid vacin made jnjta...</td>\n",
       "      <td>#jnj</td>\n",
       "    </tr>\n",
       "    <tr>\n",
       "      <th>24160</th>\n",
       "      <td>some corpor guilti hatr prison blm jnj also ex...</td>\n",
       "      <td>#jnj</td>\n",
       "    </tr>\n",
       "    <tr>\n",
       "      <th>24161</th>\n",
       "      <td>she die win trial jnjblm blacklivesmatt meshin...</td>\n",
       "      <td>#jnj</td>\n",
       "    </tr>\n",
       "    <tr>\n",
       "      <th>24162</th>\n",
       "      <td>iron compani dirti ethic would partner run dir...</td>\n",
       "      <td>#jnj</td>\n",
       "    </tr>\n",
       "  </tbody>\n",
       "</table>\n",
       "<p>24163 rows × 2 columns</p>\n",
       "</div>"
      ],
      "text/plain": [
       "                                                    text    query\n",
       "0      timcast joerogan isnt goal beat viru let say a...     #jnj\n",
       "1      ema_new frustrat ema_new jnj ship vaccin made ...     #jnj\n",
       "2      alexandrosandr yorkteachingnh ethicon abby_lan...  ethicon\n",
       "3      jack jennif roll today i love sinc i first lai...     #jnj\n",
       "4      xotonironixo they alway jnj alway hold special...     #jnj\n",
       "...                                                  ...      ...\n",
       "24158  futur jnj sale rep make meshinjur mafiamedicin...     #jnj\n",
       "24159  pray justic would trust covid vacin made jnjta...     #jnj\n",
       "24160  some corpor guilti hatr prison blm jnj also ex...     #jnj\n",
       "24161  she die win trial jnjblm blacklivesmatt meshin...     #jnj\n",
       "24162  iron compani dirti ethic would partner run dir...     #jnj\n",
       "\n",
       "[24163 rows x 2 columns]"
      ]
     },
     "execution_count": 15,
     "metadata": {},
     "output_type": "execute_result"
    }
   ],
   "source": [
    "tweet_nolabel"
   ]
  },
  {
   "cell_type": "code",
   "execution_count": 34,
   "id": "7d3d6c04",
   "metadata": {},
   "outputs": [
    {
     "data": {
      "text/plain": [
       "Index(['Unnamed: 0', 'text', 'query'], dtype='object')"
      ]
     },
     "execution_count": 34,
     "metadata": {},
     "output_type": "execute_result"
    }
   ],
   "source": [
    "tweet_nolabel = pd.read_csv('tweet_no_label_afterpreprocess.csv')\n",
    "tweet_original = pd.read_csv('tweets-no-labels.csv')\n",
    "tweet_nolabel.columns"
   ]
  },
  {
   "cell_type": "code",
   "execution_count": 35,
   "id": "11f618b8",
   "metadata": {},
   "outputs": [
    {
     "data": {
      "text/html": [
       "<div>\n",
       "<style scoped>\n",
       "    .dataframe tbody tr th:only-of-type {\n",
       "        vertical-align: middle;\n",
       "    }\n",
       "\n",
       "    .dataframe tbody tr th {\n",
       "        vertical-align: top;\n",
       "    }\n",
       "\n",
       "    .dataframe thead th {\n",
       "        text-align: right;\n",
       "    }\n",
       "</style>\n",
       "<table border=\"1\" class=\"dataframe\">\n",
       "  <thead>\n",
       "    <tr style=\"text-align: right;\">\n",
       "      <th></th>\n",
       "      <th>text_preprocess</th>\n",
       "      <th>query</th>\n",
       "    </tr>\n",
       "  </thead>\n",
       "  <tbody>\n",
       "    <tr>\n",
       "      <th>0</th>\n",
       "      <td>timcast joerogan isnt goal beat viru let say a...</td>\n",
       "      <td>#jnj</td>\n",
       "    </tr>\n",
       "    <tr>\n",
       "      <th>1</th>\n",
       "      <td>ema_new frustrat ema_new jnj ship vaccin made ...</td>\n",
       "      <td>#jnj</td>\n",
       "    </tr>\n",
       "    <tr>\n",
       "      <th>2</th>\n",
       "      <td>alexandrosandr yorkteachingnh ethicon abby_lan...</td>\n",
       "      <td>ethicon</td>\n",
       "    </tr>\n",
       "    <tr>\n",
       "      <th>3</th>\n",
       "      <td>jack jennif roll today i love sinc i first lai...</td>\n",
       "      <td>#jnj</td>\n",
       "    </tr>\n",
       "    <tr>\n",
       "      <th>4</th>\n",
       "      <td>xotonironixo they alway jnj alway hold special...</td>\n",
       "      <td>#jnj</td>\n",
       "    </tr>\n",
       "  </tbody>\n",
       "</table>\n",
       "</div>"
      ],
      "text/plain": [
       "                                     text_preprocess    query\n",
       "0  timcast joerogan isnt goal beat viru let say a...     #jnj\n",
       "1  ema_new frustrat ema_new jnj ship vaccin made ...     #jnj\n",
       "2  alexandrosandr yorkteachingnh ethicon abby_lan...  ethicon\n",
       "3  jack jennif roll today i love sinc i first lai...     #jnj\n",
       "4  xotonironixo they alway jnj alway hold special...     #jnj"
      ]
     },
     "execution_count": 35,
     "metadata": {},
     "output_type": "execute_result"
    }
   ],
   "source": [
    "tweet_nolabel.rename(columns = {'text': 'text_preprocess'},inplace = True)\n",
    "tweet_nolabel.drop(columns = 'Unnamed: 0', inplace = True)\n",
    "tweet_nolabel.head()"
   ]
  },
  {
   "cell_type": "code",
   "execution_count": null,
   "id": "cad006a1",
   "metadata": {},
   "outputs": [],
   "source": [
    "#tweet_nolabel.to_csv('tweet_no_label_afterpreprocess.csv')"
   ]
  }
 ],
 "metadata": {
  "kernelspec": {
   "display_name": "Python 3 (ipykernel)",
   "language": "python",
   "name": "python3"
  },
  "language_info": {
   "codemirror_mode": {
    "name": "ipython",
    "version": 3
   },
   "file_extension": ".py",
   "mimetype": "text/x-python",
   "name": "python",
   "nbconvert_exporter": "python",
   "pygments_lexer": "ipython3",
   "version": "3.9.7"
  }
 },
 "nbformat": 4,
 "nbformat_minor": 5
}
