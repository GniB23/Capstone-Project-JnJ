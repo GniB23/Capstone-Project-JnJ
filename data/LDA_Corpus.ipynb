{
 "cells": [
  {
   "cell_type": "markdown",
   "metadata": {
    "id": "qPIBxjfwePv0"
   },
   "source": [
    "## Idea\n",
    "  \n",
    "  By applying LDA on the dataset with only negative labels, we can get topic constructions and frequent words for this dataset and thus get some ideas about the blacklist. Similarly, we can also get a whitelist by applying LDA on the dataset with only positive labels. Then, we are planning to use these two lists to help us do some unsupervised classification and narrow down the original tweet dataset in order to get more useful information."
   ]
  },
  {
   "cell_type": "markdown",
   "metadata": {
    "id": "dwboA9nJwKf0"
   },
   "source": [
    "## Preprocess"
   ]
  },
  {
   "cell_type": "code",
   "execution_count": 1,
   "metadata": {
    "id": "jLEsL8l7rk0d"
   },
   "outputs": [],
   "source": [
    "import pandas as pd\n",
    "import numpy as np\n",
    "import warnings\n",
    "warnings.filterwarnings('ignore')"
   ]
  },
  {
   "cell_type": "code",
   "execution_count": 2,
   "metadata": {
    "id": "eUljSi6YrqCI"
   },
   "outputs": [],
   "source": [
    "tweets = pd.read_csv(\"tweets.csv\")\n"
   ]
  },
  {
   "cell_type": "code",
   "execution_count": 3,
   "metadata": {
    "colab": {
     "base_uri": "https://localhost:8080/"
    },
    "id": "xScKq36sB1fw",
    "outputId": "596940dd-ff71-42b6-9735-deb0ea53b644"
   },
   "outputs": [
    {
     "data": {
      "text/plain": [
       "#jnj                     5033\n",
       "ethicon                   832\n",
       "#bwi                      368\n",
       "\"johnson & johnson\"        95\n",
       "biosense webster           90\n",
       "\"ETHICON\"                  36\n",
       "#mycompany                 12\n",
       "\"johnson and johnson\"      11\n",
       "#janssen                    8\n",
       "\"BIOSENSE WEBSTER\"          5\n",
       "actelion                    2\n",
       "depuy                       2\n",
       "Name: query, dtype: int64"
      ]
     },
     "execution_count": 3,
     "metadata": {},
     "output_type": "execute_result"
    }
   ],
   "source": [
    "tweets['query'].value_counts()"
   ]
  },
  {
   "cell_type": "code",
   "execution_count": 4,
   "metadata": {
    "colab": {
     "base_uri": "https://localhost:8080/"
    },
    "id": "Utbzo-FmAtFC",
    "outputId": "6134b060-9a00-4996-f5a7-eae46006baaf"
   },
   "outputs": [
    {
     "data": {
      "text/plain": [
       "['#jnj',\n",
       " 'ethicon',\n",
       " '#bwi',\n",
       " '\"johnson & johnson\"',\n",
       " 'biosense webster',\n",
       " '\"ETHICON\"',\n",
       " '#mycompany',\n",
       " '\"johnson and johnson\"',\n",
       " '#janssen',\n",
       " '\"BIOSENSE WEBSTER\"',\n",
       " 'actelion',\n",
       " 'depuy']"
      ]
     },
     "execution_count": 4,
     "metadata": {},
     "output_type": "execute_result"
    }
   ],
   "source": [
    "queries = list(tweets['query'].value_counts().index)\n",
    "queries"
   ]
  },
  {
   "cell_type": "code",
   "execution_count": 5,
   "metadata": {
    "colab": {
     "base_uri": "https://localhost:8080/"
    },
    "id": "Aq6zb1LmFtWA",
    "outputId": "7dd173e8-9581-4c6f-aa88-75a08400ffee"
   },
   "outputs": [
    {
     "data": {
      "text/plain": [
       "12"
      ]
     },
     "execution_count": 5,
     "metadata": {},
     "output_type": "execute_result"
    }
   ],
   "source": [
    "query_length = len(queries)\n",
    "query_length"
   ]
  },
  {
   "cell_type": "code",
   "execution_count": 6,
   "metadata": {
    "id": "IgglzpZPAhLA"
   },
   "outputs": [],
   "source": [
    "tweets = tweets[['medical_device', 'text']]"
   ]
  },
  {
   "cell_type": "code",
   "execution_count": 7,
   "metadata": {
    "id": "InjUiREYrsaS"
   },
   "outputs": [],
   "source": [
    "#!pip install emoji\n",
    "import emoji\n",
    "def deEmoji(text):\n",
    "    return emoji.get_emoji_regexp().sub(r'', text)"
   ]
  },
  {
   "cell_type": "code",
   "execution_count": 8,
   "metadata": {
    "id": "jhbtnXeqvv6Z"
   },
   "outputs": [],
   "source": [
    "# Preprocess\n",
    "import re\n",
    "import nltk\n",
    "#nltk.download('stopwords')\n",
    "from nltk.corpus import stopwords\n",
    "from nltk.stem import PorterStemmer\n",
    "from nltk.tokenize import TweetTokenizer\n",
    "\n",
    "def text_preprocess(text):\n",
    "    text = re.sub(r'#', '', text) #Replace the # symbol with '' in every tweet\n",
    "    text = re.sub(r'https?:\\/\\/.*[\\r\\n]*', '', text) #Replace hyperlinks with '' in every tweet\n",
    "    text = re.sub(r'[^\\w\\d\\s]+', '', text) #Remove all punctuations\n",
    "    text = deEmoji(text) #Remove emoji\n",
    "    text = re.sub(r'\\n', '', text) #Remove \\n\n",
    "    \n",
    "    #Remove all stopwords\n",
    "    stopwords_eng = stopwords.words('english')\n",
    "    pattern = re.compile(r'\\b(' + r'|'.join(stopwords_eng) + r')\\b\\s*')\n",
    "    text = pattern.sub('', text)\n",
    "    \n",
    "    #Apply stem\n",
    "    \n",
    "    ps = PorterStemmer()\n",
    "    tk = TweetTokenizer(preserve_case=False, strip_handles = True)\n",
    "    tweet_tokens = tk.tokenize(text)\n",
    "    tweet_finish = ''\n",
    "    for token in tweet_tokens:\n",
    "        stem = ps.stem(token)\n",
    "        tweet_finish += (stem + ' ')\n",
    "    \n",
    "\n",
    "    return tweet_finish"
   ]
  },
  {
   "cell_type": "code",
   "execution_count": 9,
   "metadata": {
    "colab": {
     "base_uri": "https://localhost:8080/"
    },
    "id": "xZzO1_05XVsb",
    "outputId": "7b77f3cf-e419-4963-830f-987176cbe033"
   },
   "outputs": [
    {
     "data": {
      "text/plain": [
       "['jnj',\n",
       " 'ethicon',\n",
       " 'bwi',\n",
       " 'johnson',\n",
       " 'johnson',\n",
       " 'biosens',\n",
       " 'webster',\n",
       " 'ethicon',\n",
       " 'mycompani',\n",
       " 'johnson',\n",
       " 'johnson',\n",
       " 'janssen',\n",
       " 'biosens',\n",
       " 'webster',\n",
       " 'actelion',\n",
       " 'depuy']"
      ]
     },
     "execution_count": 9,
     "metadata": {},
     "output_type": "execute_result"
    }
   ],
   "source": [
    "#Split query tags into words\n",
    "query_list = []\n",
    "for i in range(len(queries)):\n",
    "  tmp = text_preprocess(queries[i])\n",
    "  tmp = tmp.split(' ')\n",
    "  query_list.extend(tmp)\n",
    "\n",
    "while(\"\" in query_list) :\n",
    "    query_list.remove(\"\")\n",
    "    \n",
    "query_list"
   ]
  },
  {
   "cell_type": "code",
   "execution_count": 10,
   "metadata": {
    "colab": {
     "base_uri": "https://localhost:8080/"
    },
    "id": "c7v9hBrKYGBG",
    "outputId": "9f728528-87e8-44ab-8a7a-253c21889b5b"
   },
   "outputs": [
    {
     "data": {
      "text/plain": [
       "{'actelion',\n",
       " 'biosens',\n",
       " 'bwi',\n",
       " 'depuy',\n",
       " 'ethicon',\n",
       " 'janssen',\n",
       " 'jnj',\n",
       " 'johnson',\n",
       " 'mycompani',\n",
       " 'webster'}"
      ]
     },
     "execution_count": 10,
     "metadata": {},
     "output_type": "execute_result"
    }
   ],
   "source": [
    "#Remove duplicates \n",
    "query_list = set(query_list)\n",
    "query_list"
   ]
  },
  {
   "cell_type": "code",
   "execution_count": 11,
   "metadata": {
    "id": "JHElzDOpv9Hh"
   },
   "outputs": [],
   "source": [
    "length = len(tweets.text)\n",
    "for i in range(length):\n",
    "    tweets.text.iloc[i] = text_preprocess(tweets.text.iloc[i])"
   ]
  },
  {
   "cell_type": "code",
   "execution_count": 12,
   "metadata": {
    "colab": {
     "base_uri": "https://localhost:8080/",
     "height": 206
    },
    "id": "6TN528pFwAGb",
    "outputId": "c475a1a1-4641-4428-ec2f-09baedb7c1f4"
   },
   "outputs": [
    {
     "data": {
      "text/html": [
       "<div>\n",
       "<style scoped>\n",
       "    .dataframe tbody tr th:only-of-type {\n",
       "        vertical-align: middle;\n",
       "    }\n",
       "\n",
       "    .dataframe tbody tr th {\n",
       "        vertical-align: top;\n",
       "    }\n",
       "\n",
       "    .dataframe thead th {\n",
       "        text-align: right;\n",
       "    }\n",
       "</style>\n",
       "<table border=\"1\" class=\"dataframe\">\n",
       "  <thead>\n",
       "    <tr style=\"text-align: right;\">\n",
       "      <th></th>\n",
       "      <th>medical_device</th>\n",
       "      <th>text</th>\n",
       "    </tr>\n",
       "  </thead>\n",
       "  <tbody>\n",
       "    <tr>\n",
       "      <th>0</th>\n",
       "      <td>False</td>\n",
       "      <td>yall know i know im never leav boy alon jnj</td>\n",
       "    </tr>\n",
       "    <tr>\n",
       "      <th>1</th>\n",
       "      <td>False</td>\n",
       "      <td>superkelli 24 such funni scene jnj</td>\n",
       "    </tr>\n",
       "    <tr>\n",
       "      <th>2</th>\n",
       "      <td>False</td>\n",
       "      <td>jampjohnson flagform confirm continu possibl j...</td>\n",
       "    </tr>\n",
       "    <tr>\n",
       "      <th>3</th>\n",
       "      <td>False</td>\n",
       "      <td>jnj daili rsi hasnt touch 69 sinc februari 202...</td>\n",
       "    </tr>\n",
       "    <tr>\n",
       "      <th>4</th>\n",
       "      <td>False</td>\n",
       "      <td>we outstand opportun join non clinic safeti te...</td>\n",
       "    </tr>\n",
       "  </tbody>\n",
       "</table>\n",
       "</div>"
      ],
      "text/plain": [
       "   medical_device                                               text\n",
       "0           False       yall know i know im never leav boy alon jnj \n",
       "1           False                superkelli 24 such funni scene jnj \n",
       "2           False  jampjohnson flagform confirm continu possibl j...\n",
       "3           False  jnj daili rsi hasnt touch 69 sinc februari 202...\n",
       "4           False  we outstand opportun join non clinic safeti te..."
      ]
     },
     "execution_count": 12,
     "metadata": {},
     "output_type": "execute_result"
    }
   ],
   "source": [
    "tweets.head()"
   ]
  },
  {
   "cell_type": "code",
   "execution_count": 13,
   "metadata": {
    "id": "EMje706Bv577"
   },
   "outputs": [],
   "source": [
    "tweets_neg = tweets[tweets['medical_device'] == False]\n",
    "tweets_pos = tweets[tweets['medical_device'] == True]"
   ]
  },
  {
   "cell_type": "markdown",
   "metadata": {
    "id": "j96JDLo2wH6T"
   },
   "source": [
    "## LDA with Positive Labels"
   ]
  },
  {
   "cell_type": "code",
   "execution_count": 14,
   "metadata": {
    "id": "Ap19Uo9AwjVr"
   },
   "outputs": [],
   "source": [
    "from gensim import corpora, models\n",
    "import gensim\n",
    "from pprint import pprint"
   ]
  },
  {
   "cell_type": "code",
   "execution_count": 15,
   "metadata": {
    "id": "TDMqG4Jzwmc_"
   },
   "outputs": [],
   "source": [
    "clean_corp_pos = [tweet.split() for tweet in tweets_pos['text']]\n",
    "dictionary_pos = corpora.Dictionary(clean_corp_pos)\n",
    "corpus_pos = [dictionary_pos.doc2bow(text) for text in clean_corp_pos]"
   ]
  },
  {
   "cell_type": "code",
   "execution_count": 16,
   "metadata": {
    "id": "SmFvpnduwzyk"
   },
   "outputs": [],
   "source": [
    "lda_pos = gensim.models.ldamodel.LdaModel(corpus_pos, num_topics = query_length, id2word = dictionary_pos, passes=20, random_state = 42)"
   ]
  },
  {
   "cell_type": "code",
   "execution_count": 17,
   "metadata": {
    "colab": {
     "base_uri": "https://localhost:8080/"
    },
    "id": "XzgHVACfw9Bi",
    "outputId": "59e91b8b-33d3-4e2e-f135-d9bb9082a276"
   },
   "outputs": [
    {
     "name": "stdout",
     "output_type": "stream",
     "text": [
      "[(0,\n",
      "  '0.018*\"ethicon\" + 0.014*\"jnj\" + 0.010*\"new\" + 0.010*\"amp\" + 0.009*\"product\" '\n",
      "  '+ 0.007*\"studi\" + 0.006*\"mesh\" + 0.005*\"smoke\" + 0.005*\"compani\" + '\n",
      "  '0.005*\"machin\"'),\n",
      " (1,\n",
      "  '0.024*\"ethicon\" + 0.019*\"amp\" + 0.018*\"mesh\" + 0.018*\"jnj\" + '\n",
      "  '0.013*\"implant\" + 0.010*\"johnson\" + 0.007*\"trump\" + 0.007*\"manufactur\" + '\n",
      "  '0.007*\"ottava\" + 0.007*\"donor\"'),\n",
      " (2,\n",
      "  '0.018*\"ethicon\" + 0.012*\"jnj\" + 0.010*\"surgic\" + 0.009*\"medic\" + '\n",
      "  '0.007*\"market\" + 0.007*\"the\" + 0.007*\"johnson\" + 0.006*\"echelon\" + '\n",
      "  '0.006*\"advanc\" + 0.006*\"learn\"'),\n",
      " (3,\n",
      "  '0.033*\"amp\" + 0.029*\"johnson\" + 0.022*\"mesh\" + 0.020*\"ethicon\" + '\n",
      "  '0.018*\"jnj\" + 0.010*\"market\" + 0.007*\"the\" + 0.006*\"trial\" + 0.006*\"surgic\" '\n",
      "  '+ 0.005*\"regist\"'),\n",
      " (4,\n",
      "  '0.018*\"ablat\" + 0.017*\"biosens\" + 0.016*\"fda\" + 0.016*\"cathet\" + '\n",
      "  '0.015*\"webster\" + 0.015*\"ethicon\" + 0.014*\"use\" + 0.010*\"jampj\" + '\n",
      "  '0.009*\"learn\" + 0.009*\"get\"'),\n",
      " (5,\n",
      "  '0.030*\"ethicon\" + 0.021*\"mesh\" + 0.013*\"jampj\" + 0.012*\"day\" + '\n",
      "  '0.012*\"johnson\" + 0.012*\"help\" + 0.012*\"amp\" + 0.011*\"health\" + 0.011*\"3d\" '\n",
      "  '+ 0.011*\"print\"'),\n",
      " (6,\n",
      "  '0.017*\"ethicon\" + 0.016*\"stapl\" + 0.015*\"cathet\" + 0.014*\"jnj\" + '\n",
      "  '0.013*\"fda\" + 0.013*\"surgic\" + 0.011*\"ablat\" + 0.011*\"line\" + '\n",
      "  '0.011*\"webster\" + 0.011*\"biosens\"'),\n",
      " (7,\n",
      "  '0.015*\"mesh\" + 0.014*\"ethicon\" + 0.013*\"pain\" + 0.013*\"amp\" + '\n",
      "  '0.011*\"implant\" + 0.008*\"jnj\" + 0.008*\"medic\" + 0.008*\"inhuman\" + '\n",
      "  '0.008*\"access\" + 0.007*\"biosens\"'),\n",
      " (8,\n",
      "  '0.023*\"ethicon\" + 0.022*\"jnj\" + 0.008*\"devic\" + 0.007*\"studi\" + 0.007*\"i\" + '\n",
      "  '0.006*\"patient\" + 0.005*\"technolog\" + 0.005*\"reduc\" + 0.005*\"jampj\" + '\n",
      "  '0.005*\"appl\"'),\n",
      " (9,\n",
      "  '0.030*\"ethicon\" + 0.023*\"johnson\" + 0.015*\"amp\" + 0.012*\"mesh\" + '\n",
      "  '0.012*\"devic\" + 0.011*\"jnj\" + 0.010*\"market\" + 0.008*\"million\" + '\n",
      "  '0.008*\"surgic\" + 0.008*\"transvagin\"'),\n",
      " (10,\n",
      "  '0.025*\"ethicon\" + 0.019*\"johnson\" + 0.012*\"amp\" + 0.012*\"jnj\" + '\n",
      "  '0.008*\"mesh\" + 0.007*\"devic\" + 0.007*\"technolog\" + 0.006*\"million\" + '\n",
      "  '0.006*\"use\" + 0.005*\"medtech\"'),\n",
      " (11,\n",
      "  '0.027*\"ethicon\" + 0.016*\"johnson\" + 0.015*\"jnj\" + 0.012*\"i\" + 0.012*\"amp\" + '\n",
      "  '0.011*\"mesh\" + 0.010*\"surgeon\" + 0.008*\"devic\" + 0.007*\"surgeri\" + '\n",
      "  '0.007*\"use\"')]\n"
     ]
    }
   ],
   "source": [
    "pprint(lda_pos.print_topics())"
   ]
  },
  {
   "cell_type": "code",
   "execution_count": 18,
   "metadata": {
    "id": "Yu3vbqfXxFsX"
   },
   "outputs": [],
   "source": [
    "tweet_topic_pos = lda_pos[corpus_pos]\n",
    "topic=[]\n",
    "for n in range(len(tweet_topic_pos)):\n",
    "    dic = dict(tweet_topic_pos[n])\n",
    "    topic.append(max(dic, key=dic.get))"
   ]
  },
  {
   "cell_type": "code",
   "execution_count": 19,
   "metadata": {
    "colab": {
     "base_uri": "https://localhost:8080/",
     "height": 206
    },
    "id": "gqW128bux7EK",
    "outputId": "34c2a362-6306-4a03-9cae-cbdfd54b8cd0"
   },
   "outputs": [
    {
     "data": {
      "text/html": [
       "<div>\n",
       "<style scoped>\n",
       "    .dataframe tbody tr th:only-of-type {\n",
       "        vertical-align: middle;\n",
       "    }\n",
       "\n",
       "    .dataframe tbody tr th {\n",
       "        vertical-align: top;\n",
       "    }\n",
       "\n",
       "    .dataframe thead th {\n",
       "        text-align: right;\n",
       "    }\n",
       "</style>\n",
       "<table border=\"1\" class=\"dataframe\">\n",
       "  <thead>\n",
       "    <tr style=\"text-align: right;\">\n",
       "      <th></th>\n",
       "      <th>medical_device</th>\n",
       "      <th>text</th>\n",
       "      <th>topic</th>\n",
       "    </tr>\n",
       "  </thead>\n",
       "  <tbody>\n",
       "    <tr>\n",
       "      <th>20</th>\n",
       "      <td>True</td>\n",
       "      <td>csat start research project uw sinc valid meth...</td>\n",
       "      <td>11</td>\n",
       "    </tr>\n",
       "    <tr>\n",
       "      <th>40</th>\n",
       "      <td>True</td>\n",
       "      <td>sambitswaraj need clear glass tri jnj acuvu le...</td>\n",
       "      <td>8</td>\n",
       "    </tr>\n",
       "    <tr>\n",
       "      <th>45</th>\n",
       "      <td>True</td>\n",
       "      <td>icymi huzefafn vice presid jnj digit solut gen...</td>\n",
       "      <td>0</td>\n",
       "    </tr>\n",
       "    <tr>\n",
       "      <th>66</th>\n",
       "      <td>True</td>\n",
       "      <td>dont miss regist complimentari csatsinc ethico...</td>\n",
       "      <td>3</td>\n",
       "    </tr>\n",
       "    <tr>\n",
       "      <th>69</th>\n",
       "      <td>True</td>\n",
       "      <td>biosens webster receiv ce mark approv qdot mic...</td>\n",
       "      <td>6</td>\n",
       "    </tr>\n",
       "  </tbody>\n",
       "</table>\n",
       "</div>"
      ],
      "text/plain": [
       "    medical_device                                               text  topic\n",
       "20            True  csat start research project uw sinc valid meth...     11\n",
       "40            True  sambitswaraj need clear glass tri jnj acuvu le...      8\n",
       "45            True  icymi huzefafn vice presid jnj digit solut gen...      0\n",
       "66            True  dont miss regist complimentari csatsinc ethico...      3\n",
       "69            True  biosens webster receiv ce mark approv qdot mic...      6"
      ]
     },
     "execution_count": 19,
     "metadata": {},
     "output_type": "execute_result"
    }
   ],
   "source": [
    "tweets_pos['topic']=topic\n",
    "tweets_pos.head()"
   ]
  },
  {
   "cell_type": "code",
   "execution_count": 20,
   "metadata": {
    "colab": {
     "base_uri": "https://localhost:8080/"
    },
    "id": "eDwreF_QyI90",
    "outputId": "8983f4b6-074b-46c9-8e6c-168dcb22081f"
   },
   "outputs": [
    {
     "data": {
      "text/plain": [
       "11    80\n",
       "6     75\n",
       "10    64\n",
       "3     63\n",
       "5     58\n",
       "8     55\n",
       "2     53\n",
       "9     52\n",
       "1     38\n",
       "4     37\n",
       "0     35\n",
       "7     25\n",
       "Name: topic, dtype: int64"
      ]
     },
     "execution_count": 20,
     "metadata": {},
     "output_type": "execute_result"
    }
   ],
   "source": [
    "tweets_pos.topic.value_counts()"
   ]
  },
  {
   "cell_type": "code",
   "execution_count": 21,
   "metadata": {
    "colab": {
     "base_uri": "https://localhost:8080/"
    },
    "id": "dOZtjHg-0sjF",
    "outputId": "c5222f9f-49e3-4a2a-822d-d2b9fff74884"
   },
   "outputs": [
    {
     "data": {
      "text/plain": [
       "96"
      ]
     },
     "execution_count": 21,
     "metadata": {},
     "output_type": "execute_result"
    }
   ],
   "source": [
    "#Construct whitelist\n",
    "#With words whose probability >= 0.005 in each topic\n",
    "whitelist = []\n",
    "for index, topic in lda_pos.show_topics(formatted=False):\n",
    "    tmp = [x[0].lower() for x in topic if x[1]>=0.005]\n",
    "    whitelist.extend(tmp)\n",
    "len(whitelist)"
   ]
  },
  {
   "cell_type": "code",
   "execution_count": 22,
   "metadata": {
    "colab": {
     "base_uri": "https://localhost:8080/"
    },
    "id": "Xq0bebLn24ih",
    "outputId": "3265919b-36ab-4a7f-aa7e-8d571dabc3e3"
   },
   "outputs": [
    {
     "data": {
      "text/plain": [
       "47"
      ]
     },
     "execution_count": 22,
     "metadata": {},
     "output_type": "execute_result"
    }
   ],
   "source": [
    "#remove duplicates\n",
    "whitelist = set(whitelist)\n",
    "len(whitelist)"
   ]
  },
  {
   "cell_type": "code",
   "execution_count": 23,
   "metadata": {
    "colab": {
     "base_uri": "https://localhost:8080/"
    },
    "id": "S1x9U56k3v7v",
    "outputId": "1f212ae8-2fce-4bfb-fe90-cc8e1ad153a4"
   },
   "outputs": [
    {
     "data": {
      "text/plain": [
       "{'3d',\n",
       " 'ablat',\n",
       " 'access',\n",
       " 'advanc',\n",
       " 'amp',\n",
       " 'appl',\n",
       " 'biosens',\n",
       " 'cathet',\n",
       " 'day',\n",
       " 'devic',\n",
       " 'donor',\n",
       " 'echelon',\n",
       " 'ethicon',\n",
       " 'fda',\n",
       " 'health',\n",
       " 'help',\n",
       " 'i',\n",
       " 'implant',\n",
       " 'inhuman',\n",
       " 'jampj',\n",
       " 'jnj',\n",
       " 'johnson',\n",
       " 'learn',\n",
       " 'line',\n",
       " 'manufactur',\n",
       " 'market',\n",
       " 'medic',\n",
       " 'medtech',\n",
       " 'mesh',\n",
       " 'million',\n",
       " 'new',\n",
       " 'ottava',\n",
       " 'pain',\n",
       " 'patient',\n",
       " 'print',\n",
       " 'product',\n",
       " 'reduc',\n",
       " 'stapl',\n",
       " 'studi',\n",
       " 'surgic',\n",
       " 'technolog',\n",
       " 'the',\n",
       " 'transvagin',\n",
       " 'trial',\n",
       " 'trump',\n",
       " 'use',\n",
       " 'webster'}"
      ]
     },
     "execution_count": 23,
     "metadata": {},
     "output_type": "execute_result"
    }
   ],
   "source": [
    "whitelist"
   ]
  },
  {
   "cell_type": "markdown",
   "metadata": {
    "id": "50HLNsXl50eI"
   },
   "source": [
    "## LDA with Negative Labels"
   ]
  },
  {
   "cell_type": "code",
   "execution_count": 24,
   "metadata": {
    "id": "ox_Z6WMf50eV"
   },
   "outputs": [],
   "source": [
    "clean_corp_neg = [tweet.split() for tweet in tweets_neg['text']]\n",
    "dictionary_neg = corpora.Dictionary(clean_corp_neg)\n",
    "corpus_neg = [dictionary_neg.doc2bow(text) for text in clean_corp_neg]"
   ]
  },
  {
   "cell_type": "code",
   "execution_count": 25,
   "metadata": {
    "id": "PMdDaWI350eV"
   },
   "outputs": [],
   "source": [
    "lda_neg = gensim.models.ldamodel.LdaModel(corpus_neg, num_topics = query_length, id2word = dictionary_neg, passes=20, random_state = 42)"
   ]
  },
  {
   "cell_type": "code",
   "execution_count": 26,
   "metadata": {
    "colab": {
     "base_uri": "https://localhost:8080/"
    },
    "id": "XdUjinlf50eV",
    "outputId": "85864c08-1d1e-4371-e90a-e184edfdbf27"
   },
   "outputs": [
    {
     "name": "stdout",
     "output_type": "stream",
     "text": [
      "[(0,\n",
      "  '0.084*\"jnj\" + 0.035*\"johnson\" + 0.018*\"amp\" + 0.012*\"chart\" + '\n",
      "  '0.009*\"jnjnew\" + 0.007*\"buy\" + 0.006*\"look\" + 0.006*\"time\" + 0.006*\"thank\" '\n",
      "  '+ 0.006*\"next\"'),\n",
      " (1,\n",
      "  '0.038*\"jnj\" + 0.016*\"2\" + 0.012*\"the\" + 0.010*\"one\" + 0.009*\"take\" + '\n",
      "  '0.009*\"hour\" + 0.008*\"video\" + 0.008*\"amp\" + 0.007*\"20\" + 0.007*\"year\"'),\n",
      " (2,\n",
      "  '0.085*\"jnj\" + 0.061*\"i\" + 0.019*\"jack\" + 0.019*\"love\" + 0.013*\"24\" + '\n",
      "  '0.012*\"superkelli\" + 0.012*\"get\" + 0.011*\"one\" + 0.011*\"im\" + '\n",
      "  '0.010*\"jennif\"'),\n",
      " (3,\n",
      "  '0.030*\"sol\" + 0.020*\"now\" + 0.019*\"jnj\" + 0.019*\"ive\" + 0.018*\"nkla\" + '\n",
      "  '0.017*\"profit\" + 0.017*\"never\" + 0.017*\"mo\" + 0.017*\"coin\" + 0.016*\"dot\"'),\n",
      " (4,\n",
      "  '0.034*\"johnson\" + 0.032*\"jnj\" + 0.019*\"amp\" + 0.012*\"fda\" + 0.011*\"studi\" + '\n",
      "  '0.007*\"health\" + 0.007*\"know\" + 0.007*\"us\" + 0.007*\"mani\" + 0.006*\"batch\"'),\n",
      " (5,\n",
      "  '0.043*\"ethicon\" + 0.010*\"market\" + 0.008*\"thank\" + 0.007*\"inc\" + '\n",
      "  '0.007*\"donat\" + 0.006*\"biosens\" + 0.006*\"us\" + 0.006*\"webster\" + 0.006*\"et\" '\n",
      "  '+ 0.005*\"learn\"'),\n",
      " (6,\n",
      "  '0.024*\"jnj\" + 0.012*\"busi\" + 0.008*\"top\" + 0.007*\"jnjnew\" + 0.007*\"xrp\" + '\n",
      "  '0.007*\"microsoft\" + 0.006*\"done\" + 0.006*\"jnjcare\" + 0.006*\"i\" + '\n",
      "  '0.005*\"news\"'),\n",
      " (7,\n",
      "  '0.027*\"jnj\" + 0.023*\"stem\" + 0.020*\"2d\" + 0.013*\"program\" + 0.013*\"johnson\" '\n",
      "  '+ 0.012*\"wistem\" + 0.012*\"amp\" + 0.009*\"appli\" + 0.009*\"meet\" + '\n",
      "  '0.009*\"girl\"'),\n",
      " (8,\n",
      "  '0.052*\"jnj\" + 0.018*\"amp\" + 0.010*\"health\" + 0.010*\"support\" + 0.009*\"help\" '\n",
      "  '+ 0.009*\"proud\" + 0.008*\"join\" + 0.008*\"innov\" + 0.008*\"work\" + '\n",
      "  '0.007*\"part\"'),\n",
      " (9,\n",
      "  '0.058*\"jnj\" + 0.016*\"usd\" + 0.015*\"amp\" + 0.010*\"johnson\" + 0.008*\"report\" '\n",
      "  '+ 0.007*\"us\" + 0.007*\"jnjnew\" + 0.006*\"product\" + 0.006*\"12\" + '\n",
      "  '0.006*\"price\"'),\n",
      " (10,\n",
      "  '0.032*\"pfe\" + 0.022*\"jnj\" + 0.017*\"there\" + 0.016*\"still\" + 0.015*\"peopl\" + '\n",
      "  '0.015*\"think\" + 0.015*\"polkadot\" + 0.014*\"bat\" + 0.014*\"atom\" + '\n",
      "  '0.014*\"zec\"'),\n",
      " (11,\n",
      "  '0.038*\"bwi\" + 0.029*\"jnj\" + 0.016*\"may\" + 0.014*\"jab\" + 0.014*\"dose\" + '\n",
      "  '0.009*\"airport\" + 0.008*\"week\" + 0.007*\"sa\" + 0.007*\"today\" + 0.007*\"1\"')]\n"
     ]
    }
   ],
   "source": [
    "pprint(lda_neg.print_topics())"
   ]
  },
  {
   "cell_type": "code",
   "execution_count": 27,
   "metadata": {
    "id": "watKEJ8o50eV"
   },
   "outputs": [],
   "source": [
    "tweet_topic_neg = lda_neg[corpus_neg]\n",
    "topic=[]\n",
    "for n in range(len(tweet_topic_neg)):\n",
    "    dic = dict(tweet_topic_neg[n])\n",
    "    topic.append(max(dic, key=dic.get))"
   ]
  },
  {
   "cell_type": "code",
   "execution_count": 28,
   "metadata": {
    "colab": {
     "base_uri": "https://localhost:8080/",
     "height": 206
    },
    "id": "YWICfKW650eV",
    "outputId": "c8ff323b-a2b5-4020-9583-c906a4353797"
   },
   "outputs": [
    {
     "data": {
      "text/html": [
       "<div>\n",
       "<style scoped>\n",
       "    .dataframe tbody tr th:only-of-type {\n",
       "        vertical-align: middle;\n",
       "    }\n",
       "\n",
       "    .dataframe tbody tr th {\n",
       "        vertical-align: top;\n",
       "    }\n",
       "\n",
       "    .dataframe thead th {\n",
       "        text-align: right;\n",
       "    }\n",
       "</style>\n",
       "<table border=\"1\" class=\"dataframe\">\n",
       "  <thead>\n",
       "    <tr style=\"text-align: right;\">\n",
       "      <th></th>\n",
       "      <th>medical_device</th>\n",
       "      <th>text</th>\n",
       "      <th>topic</th>\n",
       "    </tr>\n",
       "  </thead>\n",
       "  <tbody>\n",
       "    <tr>\n",
       "      <th>0</th>\n",
       "      <td>False</td>\n",
       "      <td>yall know i know im never leav boy alon jnj</td>\n",
       "      <td>2</td>\n",
       "    </tr>\n",
       "    <tr>\n",
       "      <th>1</th>\n",
       "      <td>False</td>\n",
       "      <td>superkelli 24 such funni scene jnj</td>\n",
       "      <td>2</td>\n",
       "    </tr>\n",
       "    <tr>\n",
       "      <th>2</th>\n",
       "      <td>False</td>\n",
       "      <td>jampjohnson flagform confirm continu possibl j...</td>\n",
       "      <td>11</td>\n",
       "    </tr>\n",
       "    <tr>\n",
       "      <th>3</th>\n",
       "      <td>False</td>\n",
       "      <td>jnj daili rsi hasnt touch 69 sinc februari 202...</td>\n",
       "      <td>7</td>\n",
       "    </tr>\n",
       "    <tr>\n",
       "      <th>4</th>\n",
       "      <td>False</td>\n",
       "      <td>we outstand opportun join non clinic safeti te...</td>\n",
       "      <td>5</td>\n",
       "    </tr>\n",
       "  </tbody>\n",
       "</table>\n",
       "</div>"
      ],
      "text/plain": [
       "   medical_device                                               text  topic\n",
       "0           False       yall know i know im never leav boy alon jnj       2\n",
       "1           False                superkelli 24 such funni scene jnj       2\n",
       "2           False  jampjohnson flagform confirm continu possibl j...     11\n",
       "3           False  jnj daili rsi hasnt touch 69 sinc februari 202...      7\n",
       "4           False  we outstand opportun join non clinic safeti te...      5"
      ]
     },
     "execution_count": 28,
     "metadata": {},
     "output_type": "execute_result"
    }
   ],
   "source": [
    "tweets_neg['topic']=topic\n",
    "tweets_neg.head()"
   ]
  },
  {
   "cell_type": "code",
   "execution_count": 29,
   "metadata": {
    "colab": {
     "base_uri": "https://localhost:8080/"
    },
    "id": "gnK4d68650eV",
    "outputId": "c4001629-2746-4620-8380-fc21f51d6e52"
   },
   "outputs": [
    {
     "data": {
      "text/plain": [
       "2     1420\n",
       "8     1020\n",
       "0      575\n",
       "9      534\n",
       "11     458\n",
       "5      335\n",
       "4      318\n",
       "1      318\n",
       "7      240\n",
       "3      226\n",
       "10     217\n",
       "6      198\n",
       "Name: topic, dtype: int64"
      ]
     },
     "execution_count": 29,
     "metadata": {},
     "output_type": "execute_result"
    }
   ],
   "source": [
    "tweets_neg.topic.value_counts()"
   ]
  },
  {
   "cell_type": "code",
   "execution_count": 30,
   "metadata": {
    "colab": {
     "base_uri": "https://localhost:8080/"
    },
    "id": "-VUNs5ch50eV",
    "outputId": "6716dc3b-cd25-4ff9-8c84-a6392f2ad7eb"
   },
   "outputs": [
    {
     "data": {
      "text/plain": [
       "100"
      ]
     },
     "execution_count": 30,
     "metadata": {},
     "output_type": "execute_result"
    }
   ],
   "source": [
    "#Construct blacklist\n",
    "#With words whose probability >= 0.005 in each topic\n",
    "blacklist = []\n",
    "for index, topic in lda_neg.show_topics(formatted=False):\n",
    "    tmp = [x[0].lower() for x in topic if x[1]>=0.005]\n",
    "    blacklist.extend(tmp)\n",
    "len(blacklist)"
   ]
  },
  {
   "cell_type": "code",
   "execution_count": 31,
   "metadata": {
    "colab": {
     "base_uri": "https://localhost:8080/"
    },
    "id": "nJObBZW650eW",
    "outputId": "90610db4-7843-4b35-9e5f-aaac5a831ade"
   },
   "outputs": [
    {
     "data": {
      "text/plain": [
       "82"
      ]
     },
     "execution_count": 31,
     "metadata": {},
     "output_type": "execute_result"
    }
   ],
   "source": [
    "#remove duplicates\n",
    "blacklist = set(blacklist)\n",
    "len(blacklist)"
   ]
  },
  {
   "cell_type": "code",
   "execution_count": 32,
   "metadata": {
    "colab": {
     "base_uri": "https://localhost:8080/"
    },
    "id": "s1YH8AHU50eW",
    "outputId": "8e68a4f9-be9c-4547-faa9-31c3d07b864a"
   },
   "outputs": [
    {
     "data": {
      "text/plain": [
       "{'1',\n",
       " '2',\n",
       " '20',\n",
       " '24',\n",
       " '2d',\n",
       " 'airport',\n",
       " 'amp',\n",
       " 'appli',\n",
       " 'atom',\n",
       " 'bat',\n",
       " 'batch',\n",
       " 'biosens',\n",
       " 'busi',\n",
       " 'buy',\n",
       " 'bwi',\n",
       " 'chart',\n",
       " 'coin',\n",
       " 'donat',\n",
       " 'done',\n",
       " 'dose',\n",
       " 'dot',\n",
       " 'et',\n",
       " 'ethicon',\n",
       " 'fda',\n",
       " 'get',\n",
       " 'girl',\n",
       " 'health',\n",
       " 'hour',\n",
       " 'i',\n",
       " 'im',\n",
       " 'inc',\n",
       " 'ive',\n",
       " 'jab',\n",
       " 'jack',\n",
       " 'jennif',\n",
       " 'jnj',\n",
       " 'jnjcare',\n",
       " 'jnjnew',\n",
       " 'johnson',\n",
       " 'know',\n",
       " 'learn',\n",
       " 'look',\n",
       " 'love',\n",
       " 'mani',\n",
       " 'market',\n",
       " 'may',\n",
       " 'meet',\n",
       " 'microsoft',\n",
       " 'mo',\n",
       " 'never',\n",
       " 'news',\n",
       " 'next',\n",
       " 'nkla',\n",
       " 'now',\n",
       " 'one',\n",
       " 'peopl',\n",
       " 'pfe',\n",
       " 'polkadot',\n",
       " 'profit',\n",
       " 'program',\n",
       " 'sa',\n",
       " 'sol',\n",
       " 'stem',\n",
       " 'still',\n",
       " 'studi',\n",
       " 'superkelli',\n",
       " 'take',\n",
       " 'thank',\n",
       " 'the',\n",
       " 'there',\n",
       " 'think',\n",
       " 'time',\n",
       " 'today',\n",
       " 'top',\n",
       " 'us',\n",
       " 'video',\n",
       " 'webster',\n",
       " 'week',\n",
       " 'wistem',\n",
       " 'xrp',\n",
       " 'year',\n",
       " 'zec'}"
      ]
     },
     "execution_count": 32,
     "metadata": {},
     "output_type": "execute_result"
    }
   ],
   "source": [
    "blacklist"
   ]
  },
  {
   "cell_type": "markdown",
   "metadata": {
    "id": "wOMC3HY1bnWI"
   },
   "source": [
    "## Corpus"
   ]
  },
  {
   "cell_type": "code",
   "execution_count": 33,
   "metadata": {
    "colab": {
     "base_uri": "https://localhost:8080/"
    },
    "id": "oNGGPbDqbpYe",
    "outputId": "ea3c3960-aee6-4195-d276-9a1c9a9b1e40"
   },
   "outputs": [
    {
     "data": {
      "text/plain": [
       "{'1',\n",
       " '2',\n",
       " '20',\n",
       " '24',\n",
       " '2d',\n",
       " 'airport',\n",
       " 'amp',\n",
       " 'appli',\n",
       " 'atom',\n",
       " 'bat',\n",
       " 'batch',\n",
       " 'biosens',\n",
       " 'busi',\n",
       " 'buy',\n",
       " 'bwi',\n",
       " 'chart',\n",
       " 'coin',\n",
       " 'donat',\n",
       " 'done',\n",
       " 'dose',\n",
       " 'dot',\n",
       " 'et',\n",
       " 'ethicon',\n",
       " 'fda',\n",
       " 'get',\n",
       " 'girl',\n",
       " 'health',\n",
       " 'hour',\n",
       " 'i',\n",
       " 'im',\n",
       " 'inc',\n",
       " 'ive',\n",
       " 'jab',\n",
       " 'jack',\n",
       " 'jennif',\n",
       " 'jnj',\n",
       " 'jnjcare',\n",
       " 'jnjnew',\n",
       " 'johnson',\n",
       " 'know',\n",
       " 'learn',\n",
       " 'look',\n",
       " 'love',\n",
       " 'mani',\n",
       " 'market',\n",
       " 'may',\n",
       " 'meet',\n",
       " 'microsoft',\n",
       " 'mo',\n",
       " 'never',\n",
       " 'news',\n",
       " 'next',\n",
       " 'nkla',\n",
       " 'now',\n",
       " 'one',\n",
       " 'peopl',\n",
       " 'pfe',\n",
       " 'polkadot',\n",
       " 'profit',\n",
       " 'program',\n",
       " 'sa',\n",
       " 'sol',\n",
       " 'stem',\n",
       " 'still',\n",
       " 'studi',\n",
       " 'superkelli',\n",
       " 'take',\n",
       " 'thank',\n",
       " 'the',\n",
       " 'there',\n",
       " 'think',\n",
       " 'time',\n",
       " 'today',\n",
       " 'top',\n",
       " 'us',\n",
       " 'video',\n",
       " 'webster',\n",
       " 'week',\n",
       " 'wistem',\n",
       " 'xrp',\n",
       " 'year',\n",
       " 'zec'}"
      ]
     },
     "execution_count": 33,
     "metadata": {},
     "output_type": "execute_result"
    }
   ],
   "source": [
    "blacklist"
   ]
  },
  {
   "cell_type": "code",
   "execution_count": 34,
   "metadata": {
    "colab": {
     "base_uri": "https://localhost:8080/"
    },
    "id": "pAPdbbAW7LxU",
    "outputId": "c9c82782-627b-4173-fd5c-efe29dd6d8cc"
   },
   "outputs": [
    {
     "data": {
      "text/plain": [
       "{'3d',\n",
       " 'ablat',\n",
       " 'access',\n",
       " 'advanc',\n",
       " 'amp',\n",
       " 'appl',\n",
       " 'biosens',\n",
       " 'cathet',\n",
       " 'day',\n",
       " 'devic',\n",
       " 'donor',\n",
       " 'echelon',\n",
       " 'ethicon',\n",
       " 'fda',\n",
       " 'health',\n",
       " 'help',\n",
       " 'i',\n",
       " 'implant',\n",
       " 'inhuman',\n",
       " 'jampj',\n",
       " 'jnj',\n",
       " 'johnson',\n",
       " 'learn',\n",
       " 'line',\n",
       " 'manufactur',\n",
       " 'market',\n",
       " 'medic',\n",
       " 'medtech',\n",
       " 'mesh',\n",
       " 'million',\n",
       " 'new',\n",
       " 'ottava',\n",
       " 'pain',\n",
       " 'patient',\n",
       " 'print',\n",
       " 'product',\n",
       " 'reduc',\n",
       " 'stapl',\n",
       " 'studi',\n",
       " 'surgic',\n",
       " 'technolog',\n",
       " 'the',\n",
       " 'transvagin',\n",
       " 'trial',\n",
       " 'trump',\n",
       " 'use',\n",
       " 'webster'}"
      ]
     },
     "execution_count": 34,
     "metadata": {},
     "output_type": "execute_result"
    }
   ],
   "source": [
    "whitelist"
   ]
  },
  {
   "cell_type": "code",
   "execution_count": 35,
   "metadata": {
    "colab": {
     "base_uri": "https://localhost:8080/"
    },
    "id": "gBwNyBG5byiS",
    "outputId": "a3873cbe-d5a1-405c-8655-a7dcc9332ac9"
   },
   "outputs": [
    {
     "data": {
      "text/plain": [
       "{'amp',\n",
       " 'biosens',\n",
       " 'ethicon',\n",
       " 'fda',\n",
       " 'health',\n",
       " 'i',\n",
       " 'jnj',\n",
       " 'johnson',\n",
       " 'learn',\n",
       " 'market',\n",
       " 'studi',\n",
       " 'the',\n",
       " 'webster'}"
      ]
     },
     "execution_count": 35,
     "metadata": {},
     "output_type": "execute_result"
    }
   ],
   "source": [
    "#intersection b/w whitelist and blacklist \n",
    "inter_black_white = blacklist.intersection(whitelist)\n",
    "inter_black_white"
   ]
  },
  {
   "cell_type": "code",
   "execution_count": 36,
   "metadata": {
    "colab": {
     "base_uri": "https://localhost:8080/"
    },
    "id": "Ub3c-CqKqcKI",
    "outputId": "88d6d4ae-f985-4ad5-9f18-cc950249be1c"
   },
   "outputs": [
    {
     "data": {
      "text/plain": [
       "{'1',\n",
       " '2',\n",
       " '20',\n",
       " '24',\n",
       " '2d',\n",
       " 'airport',\n",
       " 'appli',\n",
       " 'atom',\n",
       " 'bat',\n",
       " 'batch',\n",
       " 'busi',\n",
       " 'buy',\n",
       " 'bwi',\n",
       " 'chart',\n",
       " 'coin',\n",
       " 'donat',\n",
       " 'done',\n",
       " 'dose',\n",
       " 'dot',\n",
       " 'et',\n",
       " 'get',\n",
       " 'girl',\n",
       " 'hour',\n",
       " 'im',\n",
       " 'inc',\n",
       " 'ive',\n",
       " 'jab',\n",
       " 'jack',\n",
       " 'jennif',\n",
       " 'jnjcare',\n",
       " 'jnjnew',\n",
       " 'know',\n",
       " 'look',\n",
       " 'love',\n",
       " 'mani',\n",
       " 'may',\n",
       " 'meet',\n",
       " 'microsoft',\n",
       " 'mo',\n",
       " 'never',\n",
       " 'news',\n",
       " 'next',\n",
       " 'nkla',\n",
       " 'now',\n",
       " 'one',\n",
       " 'peopl',\n",
       " 'pfe',\n",
       " 'polkadot',\n",
       " 'profit',\n",
       " 'program',\n",
       " 'sa',\n",
       " 'sol',\n",
       " 'stem',\n",
       " 'still',\n",
       " 'superkelli',\n",
       " 'take',\n",
       " 'thank',\n",
       " 'there',\n",
       " 'think',\n",
       " 'time',\n",
       " 'today',\n",
       " 'top',\n",
       " 'us',\n",
       " 'video',\n",
       " 'week',\n",
       " 'wistem',\n",
       " 'xrp',\n",
       " 'year',\n",
       " 'zec'}"
      ]
     },
     "execution_count": 36,
     "metadata": {},
     "output_type": "execute_result"
    }
   ],
   "source": [
    "#remove common words \n",
    "blacklist_final = blacklist.difference(inter_black_white)\n",
    "blacklist_final"
   ]
  },
  {
   "cell_type": "code",
   "execution_count": 37,
   "metadata": {
    "colab": {
     "base_uri": "https://localhost:8080/"
    },
    "id": "bfgKhaJaq40d",
    "outputId": "dabd4c76-4854-4404-a780-0fb31d5525a3"
   },
   "outputs": [
    {
     "data": {
      "text/plain": [
       "{'3d',\n",
       " 'ablat',\n",
       " 'access',\n",
       " 'advanc',\n",
       " 'appl',\n",
       " 'cathet',\n",
       " 'day',\n",
       " 'devic',\n",
       " 'donor',\n",
       " 'echelon',\n",
       " 'help',\n",
       " 'implant',\n",
       " 'inhuman',\n",
       " 'jampj',\n",
       " 'line',\n",
       " 'manufactur',\n",
       " 'medic',\n",
       " 'medtech',\n",
       " 'mesh',\n",
       " 'million',\n",
       " 'new',\n",
       " 'ottava',\n",
       " 'pain',\n",
       " 'patient',\n",
       " 'print',\n",
       " 'product',\n",
       " 'reduc',\n",
       " 'stapl',\n",
       " 'surgic',\n",
       " 'technolog',\n",
       " 'transvagin',\n",
       " 'trial',\n",
       " 'trump',\n",
       " 'use'}"
      ]
     },
     "execution_count": 37,
     "metadata": {},
     "output_type": "execute_result"
    }
   ],
   "source": [
    "whitelist_final = whitelist.difference(inter_black_white)\n",
    "whitelist_final"
   ]
  },
  {
   "cell_type": "code",
   "execution_count": 41,
   "metadata": {},
   "outputs": [],
   "source": [
    "#save sets\n",
    "import json\n",
    "blacklist_final = list(blacklist_final)\n",
    "whitelist_final = list(whitelist_final)\n",
    "\n",
    "with open('lda_blacklist.txt', 'w') as f:\n",
    "    f.write(json.dumps(blacklist_final))\n",
    "\n",
    "with open('lda_whitelist.txt', 'w') as f:\n",
    "    f.write(json.dumps(whitelist_final))"
   ]
  },
  {
   "cell_type": "code",
   "execution_count": 42,
   "metadata": {},
   "outputs": [
    {
     "data": {
      "text/plain": [
       "{'1',\n",
       " '2',\n",
       " '20',\n",
       " '24',\n",
       " '2d',\n",
       " 'airport',\n",
       " 'appli',\n",
       " 'atom',\n",
       " 'bat',\n",
       " 'batch',\n",
       " 'busi',\n",
       " 'buy',\n",
       " 'bwi',\n",
       " 'chart',\n",
       " 'coin',\n",
       " 'donat',\n",
       " 'done',\n",
       " 'dose',\n",
       " 'dot',\n",
       " 'et',\n",
       " 'get',\n",
       " 'girl',\n",
       " 'hour',\n",
       " 'im',\n",
       " 'inc',\n",
       " 'ive',\n",
       " 'jab',\n",
       " 'jack',\n",
       " 'jennif',\n",
       " 'jnjcare',\n",
       " 'jnjnew',\n",
       " 'know',\n",
       " 'look',\n",
       " 'love',\n",
       " 'mani',\n",
       " 'may',\n",
       " 'meet',\n",
       " 'microsoft',\n",
       " 'mo',\n",
       " 'never',\n",
       " 'news',\n",
       " 'next',\n",
       " 'nkla',\n",
       " 'now',\n",
       " 'one',\n",
       " 'peopl',\n",
       " 'pfe',\n",
       " 'polkadot',\n",
       " 'profit',\n",
       " 'program',\n",
       " 'sa',\n",
       " 'sol',\n",
       " 'stem',\n",
       " 'still',\n",
       " 'superkelli',\n",
       " 'take',\n",
       " 'thank',\n",
       " 'there',\n",
       " 'think',\n",
       " 'time',\n",
       " 'today',\n",
       " 'top',\n",
       " 'us',\n",
       " 'video',\n",
       " 'week',\n",
       " 'wistem',\n",
       " 'xrp',\n",
       " 'year',\n",
       " 'zec'}"
      ]
     },
     "execution_count": 42,
     "metadata": {},
     "output_type": "execute_result"
    }
   ],
   "source": [
    "#read sets\n",
    "with open('lda_blacklist.txt', 'r') as f:\n",
    "    bl = json.loads(f.read())\n",
    "bl = set(bl)\n",
    "bl"
   ]
  },
  {
   "cell_type": "markdown",
   "metadata": {
    "id": "N2-XfCEs9Gk5"
   },
   "source": [
    "## Problems\n",
    "- Size of dataset too small, lack of representative meaning\n",
    "- Hard to decide num_topics (hyperparameter in the LDA model) : now using the length of the list of query tags\n",
    "- Tricky to decide the threshold of the probability of each word in topics representation (now probability>= 0.005 is chosen)"
   ]
  }
 ],
 "metadata": {
  "colab": {
   "collapsed_sections": [],
   "name": "LDA_Corpus.ipynb",
   "provenance": []
  },
  "kernelspec": {
   "display_name": "Python 3 (ipykernel)",
   "language": "python",
   "name": "python3"
  },
  "language_info": {
   "codemirror_mode": {
    "name": "ipython",
    "version": 3
   },
   "file_extension": ".py",
   "mimetype": "text/x-python",
   "name": "python",
   "nbconvert_exporter": "python",
   "pygments_lexer": "ipython3",
   "version": "3.9.7"
  }
 },
 "nbformat": 4,
 "nbformat_minor": 1
}
