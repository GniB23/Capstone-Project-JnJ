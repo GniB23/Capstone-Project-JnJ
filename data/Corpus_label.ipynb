{
 "cells": [
  {
   "cell_type": "code",
   "execution_count": 1,
   "id": "2d96fd1a",
   "metadata": {},
   "outputs": [],
   "source": [
    "#Check the accuracy of the corpus\n",
    "import pandas as pd\n",
    "import numpy as np\n",
    "import warnings\n",
    "warnings.filterwarnings('ignore')"
   ]
  },
  {
   "cell_type": "code",
   "execution_count": 2,
   "id": "b904b0a9",
   "metadata": {},
   "outputs": [],
   "source": [
    "db = pd.read_csv('corpus_label.csv')"
   ]
  },
  {
   "cell_type": "code",
   "execution_count": 3,
   "id": "27bf7553",
   "metadata": {},
   "outputs": [
    {
     "data": {
      "text/plain": [
       "Index(['Column1', 'text_preprocess', 'query', 'label', 'text_original',\n",
       "       'score', 'score2'],\n",
       "      dtype='object')"
      ]
     },
     "execution_count": 3,
     "metadata": {},
     "output_type": "execute_result"
    }
   ],
   "source": [
    "db.columns"
   ]
  },
  {
   "cell_type": "code",
   "execution_count": 4,
   "id": "c79581c9",
   "metadata": {},
   "outputs": [
    {
     "data": {
      "text/plain": [
       "f    446\n",
       "t    308\n",
       "Name: label, dtype: int64"
      ]
     },
     "execution_count": 4,
     "metadata": {},
     "output_type": "execute_result"
    }
   ],
   "source": [
    "db.label.value_counts()"
   ]
  },
  {
   "cell_type": "markdown",
   "id": "ded33fa8",
   "metadata": {},
   "source": [
    "## Score = 3"
   ]
  },
  {
   "cell_type": "code",
   "execution_count": 5,
   "id": "db50ef61",
   "metadata": {},
   "outputs": [],
   "source": [
    "db_3 = db[db.score == 3]"
   ]
  },
  {
   "cell_type": "code",
   "execution_count": 6,
   "id": "c23804c1",
   "metadata": {},
   "outputs": [
    {
     "data": {
      "text/plain": [
       "8"
      ]
     },
     "execution_count": 6,
     "metadata": {},
     "output_type": "execute_result"
    }
   ],
   "source": [
    "len(db_3)"
   ]
  },
  {
   "cell_type": "code",
   "execution_count": 7,
   "id": "72a06403",
   "metadata": {},
   "outputs": [
    {
     "data": {
      "text/plain": [
       "t    8\n",
       "Name: label, dtype: int64"
      ]
     },
     "execution_count": 7,
     "metadata": {},
     "output_type": "execute_result"
    }
   ],
   "source": [
    "db_3.label.value_counts()"
   ]
  },
  {
   "cell_type": "code",
   "execution_count": 8,
   "id": "815d313f",
   "metadata": {},
   "outputs": [
    {
     "name": "stdout",
     "output_type": "stream",
     "text": [
      "The accuracy for score = 3 is 100%\n"
     ]
    }
   ],
   "source": [
    "print('The accuracy for score = 3 is 100%')"
   ]
  },
  {
   "cell_type": "markdown",
   "id": "65340ff8",
   "metadata": {},
   "source": [
    "## Score >= 2"
   ]
  },
  {
   "cell_type": "code",
   "execution_count": 9,
   "id": "dc93059d",
   "metadata": {},
   "outputs": [],
   "source": [
    "db_2 = db[db.score >= 2]"
   ]
  },
  {
   "cell_type": "code",
   "execution_count": 10,
   "id": "b051089f",
   "metadata": {},
   "outputs": [
    {
     "data": {
      "text/plain": [
       "155"
      ]
     },
     "execution_count": 10,
     "metadata": {},
     "output_type": "execute_result"
    }
   ],
   "source": [
    "len(db_2)"
   ]
  },
  {
   "cell_type": "code",
   "execution_count": 11,
   "id": "c8934b7f",
   "metadata": {},
   "outputs": [
    {
     "data": {
      "text/plain": [
       "t    134\n",
       "f     21\n",
       "Name: label, dtype: int64"
      ]
     },
     "execution_count": 11,
     "metadata": {},
     "output_type": "execute_result"
    }
   ],
   "source": [
    "db_2.label.value_counts()"
   ]
  },
  {
   "cell_type": "code",
   "execution_count": 12,
   "id": "3922880c",
   "metadata": {},
   "outputs": [
    {
     "name": "stdout",
     "output_type": "stream",
     "text": [
      "The accuracy for score >= 2 is 0.864516129032258\n"
     ]
    }
   ],
   "source": [
    "print('The accuracy for score >= 2 is', 134/155)"
   ]
  },
  {
   "cell_type": "code",
   "execution_count": null,
   "id": "a908db74",
   "metadata": {},
   "outputs": [],
   "source": []
  }
 ],
 "metadata": {
  "kernelspec": {
   "display_name": "Python 3 (ipykernel)",
   "language": "python",
   "name": "python3"
  },
  "language_info": {
   "codemirror_mode": {
    "name": "ipython",
    "version": 3
   },
   "file_extension": ".py",
   "mimetype": "text/x-python",
   "name": "python",
   "nbconvert_exporter": "python",
   "pygments_lexer": "ipython3",
   "version": "3.9.7"
  }
 },
 "nbformat": 4,
 "nbformat_minor": 5
}
