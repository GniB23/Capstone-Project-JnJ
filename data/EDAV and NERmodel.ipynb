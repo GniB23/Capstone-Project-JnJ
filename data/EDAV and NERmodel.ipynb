{
 "cells": [
  {
   "cell_type": "code",
   "execution_count": 153,
   "metadata": {},
   "outputs": [],
   "source": [
    "import pandas as pd\n",
    "import numpy as np\n",
    "import spacy\n",
    "from spacy import displacy\n",
    "from spacy.util import minibatch, compounding\n",
    "\n",
    "import matplotlib.pyplot as plt\n",
    "%matplotlib inline"
   ]
  },
  {
   "cell_type": "code",
   "execution_count": 154,
   "metadata": {},
   "outputs": [],
   "source": [
    "tweets = pd.read_csv(\"tweets.csv\")"
   ]
  },
  {
   "cell_type": "code",
   "execution_count": 155,
   "metadata": {},
   "outputs": [],
   "source": [
    "import emoji\n",
    "def deEmoji(text):\n",
    "    return emoji.get_emoji_regexp().sub(r'', text)"
   ]
  },
  {
   "cell_type": "code",
   "execution_count": 175,
   "metadata": {},
   "outputs": [],
   "source": [
    "# Preprocess\n",
    "import re\n",
    "import nltk\n",
    "from nltk.corpus import stopwords\n",
    "from nltk.stem import PorterStemmer\n",
    "from nltk.tokenize import TweetTokenizer\n",
    "\n",
    "def text_preprocess(text):\n",
    "    text = re.sub(r'#', '', text) #Replace the # symbol with '' in every tweet\n",
    "    text = re.sub(r'https?:\\/\\/.*[\\r\\n]*', '', text) #Replace hyperlinks with '' in every tweet\n",
    "    text = re.sub(r'[^\\w\\d\\s]+', '', text) #Remove all punctuations\n",
    "    text = deEmoji(text) #Remove emoji\n",
    "    text = re.sub(r'\\n', '', text) #Remove \\n\n",
    "    \n",
    "    #Remove all stopwords\n",
    "    stopwords_eng = stopwords.words('english')\n",
    "    pattern = re.compile(r'\\b(' + r'|'.join(stopwords_eng) + r')\\b\\s*')\n",
    "    text = pattern.sub('', text)\n",
    "    \n",
    "    #Apply stem\n",
    "    ps = PorterStemmer()\n",
    "    tk = TweetTokenizer(preserve_case=False, strip_handles = True)\n",
    "    tweet_tokens = tk.tokenize(text)\n",
    "    tweet_finish = ''\n",
    "    for token in tweet_tokens:\n",
    "        stem = ps.stem(token)\n",
    "        tweet_finish += (stem + ' ')\n",
    "    return tweet_finish  "
   ]
  },
  {
   "cell_type": "code",
   "execution_count": 157,
   "metadata": {},
   "outputs": [
    {
     "data": {
      "text/html": [
       "<div>\n",
       "<style scoped>\n",
       "    .dataframe tbody tr th:only-of-type {\n",
       "        vertical-align: middle;\n",
       "    }\n",
       "\n",
       "    .dataframe tbody tr th {\n",
       "        vertical-align: top;\n",
       "    }\n",
       "\n",
       "    .dataframe thead th {\n",
       "        text-align: right;\n",
       "    }\n",
       "</style>\n",
       "<table border=\"1\" class=\"dataframe\">\n",
       "  <thead>\n",
       "    <tr style=\"text-align: right;\">\n",
       "      <th></th>\n",
       "      <th>Unnamed: 0</th>\n",
       "      <th>status_id</th>\n",
       "      <th>medical_device</th>\n",
       "      <th>text</th>\n",
       "      <th>user_id</th>\n",
       "      <th>created_at</th>\n",
       "      <th>screen_name</th>\n",
       "      <th>source</th>\n",
       "      <th>display_text_width</th>\n",
       "      <th>reply_to_status_id</th>\n",
       "      <th>...</th>\n",
       "      <th>favourites_count</th>\n",
       "      <th>account_created_at</th>\n",
       "      <th>verified</th>\n",
       "      <th>profile_url</th>\n",
       "      <th>profile_expanded_url</th>\n",
       "      <th>account_lang</th>\n",
       "      <th>profile_banner_url</th>\n",
       "      <th>profile_background_url</th>\n",
       "      <th>profile_image_url</th>\n",
       "      <th>query</th>\n",
       "    </tr>\n",
       "  </thead>\n",
       "  <tbody>\n",
       "    <tr>\n",
       "      <th>0</th>\n",
       "      <td>1</td>\n",
       "      <td>1295193004144242690</td>\n",
       "      <td>False</td>\n",
       "      <td>Y’all know and I know I’m never leaving this b...</td>\n",
       "      <td>1255365753517285376</td>\n",
       "      <td>2020-08-17 02:57:30</td>\n",
       "      <td>dtmjasminee</td>\n",
       "      <td>Twitter for iPhone</td>\n",
       "      <td>63</td>\n",
       "      <td>NaN</td>\n",
       "      <td>...</td>\n",
       "      <td>488</td>\n",
       "      <td>2020-04-29 05:18:22</td>\n",
       "      <td>0</td>\n",
       "      <td>NaN</td>\n",
       "      <td>NaN</td>\n",
       "      <td>NaN</td>\n",
       "      <td>https://pbs.twimg.com/profile_banners/12553657...</td>\n",
       "      <td>NaN</td>\n",
       "      <td>http://pbs.twimg.com/profile_images/1274031744...</td>\n",
       "      <td>#jnj</td>\n",
       "    </tr>\n",
       "    <tr>\n",
       "      <th>1</th>\n",
       "      <td>2</td>\n",
       "      <td>1300190881467846656</td>\n",
       "      <td>False</td>\n",
       "      <td>@SuperKelli24 Such a funny scene! #JnJ</td>\n",
       "      <td>133471182</td>\n",
       "      <td>2020-08-30 21:57:17</td>\n",
       "      <td>Amyreader100</td>\n",
       "      <td>Twitter for iPad</td>\n",
       "      <td>24</td>\n",
       "      <td>1.300187e+18</td>\n",
       "      <td>...</td>\n",
       "      <td>159044</td>\n",
       "      <td>2010-04-15 22:06:08</td>\n",
       "      <td>0</td>\n",
       "      <td>NaN</td>\n",
       "      <td>NaN</td>\n",
       "      <td>NaN</td>\n",
       "      <td>https://pbs.twimg.com/profile_banners/13347118...</td>\n",
       "      <td>http://abs.twimg.com/images/themes/theme1/bg.png</td>\n",
       "      <td>http://pbs.twimg.com/profile_images/1213468646...</td>\n",
       "      <td>#jnj</td>\n",
       "    </tr>\n",
       "    <tr>\n",
       "      <th>2</th>\n",
       "      <td>3</td>\n",
       "      <td>1299699123428290561</td>\n",
       "      <td>False</td>\n",
       "      <td>J&amp;amp;JOHNSON, Flag-Formation Confirmed, Conti...</td>\n",
       "      <td>1142737563481980931</td>\n",
       "      <td>2020-08-29 13:23:12</td>\n",
       "      <td>VincePrince244</td>\n",
       "      <td>TradingView</td>\n",
       "      <td>100</td>\n",
       "      <td>NaN</td>\n",
       "      <td>...</td>\n",
       "      <td>38599</td>\n",
       "      <td>2019-06-23 10:14:00</td>\n",
       "      <td>0</td>\n",
       "      <td>NaN</td>\n",
       "      <td>NaN</td>\n",
       "      <td>NaN</td>\n",
       "      <td>https://pbs.twimg.com/profile_banners/11427375...</td>\n",
       "      <td>NaN</td>\n",
       "      <td>http://pbs.twimg.com/profile_images/1160910657...</td>\n",
       "      <td>#jnj</td>\n",
       "    </tr>\n",
       "    <tr>\n",
       "      <th>3</th>\n",
       "      <td>4</td>\n",
       "      <td>1299558944982134784</td>\n",
       "      <td>False</td>\n",
       "      <td>$JNJ's daily RSI hasn't touched 69 since its F...</td>\n",
       "      <td>1282487181211168769</td>\n",
       "      <td>2020-08-29 04:06:11</td>\n",
       "      <td>options__edge</td>\n",
       "      <td>Twitter Web App</td>\n",
       "      <td>155</td>\n",
       "      <td>NaN</td>\n",
       "      <td>...</td>\n",
       "      <td>247</td>\n",
       "      <td>2020-07-13 01:29:36</td>\n",
       "      <td>0</td>\n",
       "      <td>https://t.co/qlZko56SxU</td>\n",
       "      <td>http://optionsedge.io</td>\n",
       "      <td>NaN</td>\n",
       "      <td>https://pbs.twimg.com/profile_banners/12824871...</td>\n",
       "      <td>NaN</td>\n",
       "      <td>http://pbs.twimg.com/profile_images/1285053865...</td>\n",
       "      <td>#jnj</td>\n",
       "    </tr>\n",
       "    <tr>\n",
       "      <th>4</th>\n",
       "      <td>5</td>\n",
       "      <td>1299474674066305024</td>\n",
       "      <td>False</td>\n",
       "      <td>We have an outstanding opportunity to join our...</td>\n",
       "      <td>1705053332</td>\n",
       "      <td>2020-08-28 22:31:20</td>\n",
       "      <td>CaliforniaLopez</td>\n",
       "      <td>LinkedIn</td>\n",
       "      <td>278</td>\n",
       "      <td>NaN</td>\n",
       "      <td>...</td>\n",
       "      <td>1565</td>\n",
       "      <td>2013-08-27 16:12:51</td>\n",
       "      <td>0</td>\n",
       "      <td>https://t.co/ZjjMOq2pu3</td>\n",
       "      <td>http://careers.jnj.com</td>\n",
       "      <td>NaN</td>\n",
       "      <td>NaN</td>\n",
       "      <td>http://abs.twimg.com/images/themes/theme1/bg.png</td>\n",
       "      <td>http://pbs.twimg.com/profile_images/4431589516...</td>\n",
       "      <td>#jnj</td>\n",
       "    </tr>\n",
       "  </tbody>\n",
       "</table>\n",
       "<p>5 rows × 93 columns</p>\n",
       "</div>"
      ],
      "text/plain": [
       "   Unnamed: 0            status_id  medical_device  \\\n",
       "0           1  1295193004144242690           False   \n",
       "1           2  1300190881467846656           False   \n",
       "2           3  1299699123428290561           False   \n",
       "3           4  1299558944982134784           False   \n",
       "4           5  1299474674066305024           False   \n",
       "\n",
       "                                                text              user_id  \\\n",
       "0  Y’all know and I know I’m never leaving this b...  1255365753517285376   \n",
       "1             @SuperKelli24 Such a funny scene! #JnJ            133471182   \n",
       "2  J&amp;JOHNSON, Flag-Formation Confirmed, Conti...  1142737563481980931   \n",
       "3  $JNJ's daily RSI hasn't touched 69 since its F...  1282487181211168769   \n",
       "4  We have an outstanding opportunity to join our...           1705053332   \n",
       "\n",
       "            created_at      screen_name              source  \\\n",
       "0  2020-08-17 02:57:30      dtmjasminee  Twitter for iPhone   \n",
       "1  2020-08-30 21:57:17     Amyreader100    Twitter for iPad   \n",
       "2  2020-08-29 13:23:12   VincePrince244         TradingView   \n",
       "3  2020-08-29 04:06:11    options__edge     Twitter Web App   \n",
       "4  2020-08-28 22:31:20  CaliforniaLopez            LinkedIn   \n",
       "\n",
       "   display_text_width  reply_to_status_id  ...  favourites_count  \\\n",
       "0                  63                 NaN  ...               488   \n",
       "1                  24        1.300187e+18  ...            159044   \n",
       "2                 100                 NaN  ...             38599   \n",
       "3                 155                 NaN  ...               247   \n",
       "4                 278                 NaN  ...              1565   \n",
       "\n",
       "    account_created_at  verified              profile_url  \\\n",
       "0  2020-04-29 05:18:22         0                      NaN   \n",
       "1  2010-04-15 22:06:08         0                      NaN   \n",
       "2  2019-06-23 10:14:00         0                      NaN   \n",
       "3  2020-07-13 01:29:36         0  https://t.co/qlZko56SxU   \n",
       "4  2013-08-27 16:12:51         0  https://t.co/ZjjMOq2pu3   \n",
       "\n",
       "     profile_expanded_url  account_lang  \\\n",
       "0                     NaN           NaN   \n",
       "1                     NaN           NaN   \n",
       "2                     NaN           NaN   \n",
       "3   http://optionsedge.io           NaN   \n",
       "4  http://careers.jnj.com           NaN   \n",
       "\n",
       "                                  profile_banner_url  \\\n",
       "0  https://pbs.twimg.com/profile_banners/12553657...   \n",
       "1  https://pbs.twimg.com/profile_banners/13347118...   \n",
       "2  https://pbs.twimg.com/profile_banners/11427375...   \n",
       "3  https://pbs.twimg.com/profile_banners/12824871...   \n",
       "4                                                NaN   \n",
       "\n",
       "                             profile_background_url  \\\n",
       "0                                               NaN   \n",
       "1  http://abs.twimg.com/images/themes/theme1/bg.png   \n",
       "2                                               NaN   \n",
       "3                                               NaN   \n",
       "4  http://abs.twimg.com/images/themes/theme1/bg.png   \n",
       "\n",
       "                                   profile_image_url query  \n",
       "0  http://pbs.twimg.com/profile_images/1274031744...  #jnj  \n",
       "1  http://pbs.twimg.com/profile_images/1213468646...  #jnj  \n",
       "2  http://pbs.twimg.com/profile_images/1160910657...  #jnj  \n",
       "3  http://pbs.twimg.com/profile_images/1285053865...  #jnj  \n",
       "4  http://pbs.twimg.com/profile_images/4431589516...  #jnj  \n",
       "\n",
       "[5 rows x 93 columns]"
      ]
     },
     "execution_count": 157,
     "metadata": {},
     "output_type": "execute_result"
    }
   ],
   "source": [
    "tweets.head()"
   ]
  },
  {
   "cell_type": "code",
   "execution_count": 158,
   "metadata": {},
   "outputs": [
    {
     "data": {
      "text/html": [
       "<div>\n",
       "<style scoped>\n",
       "    .dataframe tbody tr th:only-of-type {\n",
       "        vertical-align: middle;\n",
       "    }\n",
       "\n",
       "    .dataframe tbody tr th {\n",
       "        vertical-align: top;\n",
       "    }\n",
       "\n",
       "    .dataframe thead th {\n",
       "        text-align: right;\n",
       "    }\n",
       "</style>\n",
       "<table border=\"1\" class=\"dataframe\">\n",
       "  <thead>\n",
       "    <tr style=\"text-align: right;\">\n",
       "      <th></th>\n",
       "      <th>Unnamed: 0</th>\n",
       "      <th>status_id</th>\n",
       "      <th>user_id</th>\n",
       "      <th>display_text_width</th>\n",
       "      <th>reply_to_status_id</th>\n",
       "      <th>reply_to_user_id</th>\n",
       "      <th>is_quote</th>\n",
       "      <th>is_retweet</th>\n",
       "      <th>favorite_count</th>\n",
       "      <th>retweet_count</th>\n",
       "      <th>...</th>\n",
       "      <th>retweet_description</th>\n",
       "      <th>retweet_verified</th>\n",
       "      <th>protected</th>\n",
       "      <th>followers_count</th>\n",
       "      <th>friends_count</th>\n",
       "      <th>listed_count</th>\n",
       "      <th>statuses_count</th>\n",
       "      <th>favourites_count</th>\n",
       "      <th>verified</th>\n",
       "      <th>account_lang</th>\n",
       "    </tr>\n",
       "  </thead>\n",
       "  <tbody>\n",
       "    <tr>\n",
       "      <th>count</th>\n",
       "      <td>4640.000000</td>\n",
       "      <td>4.640000e+03</td>\n",
       "      <td>4.640000e+03</td>\n",
       "      <td>4640.000000</td>\n",
       "      <td>1.179000e+03</td>\n",
       "      <td>1.302000e+03</td>\n",
       "      <td>4640.000000</td>\n",
       "      <td>4640.0</td>\n",
       "      <td>4640.000000</td>\n",
       "      <td>4640.000000</td>\n",
       "      <td>...</td>\n",
       "      <td>0.0</td>\n",
       "      <td>0.0</td>\n",
       "      <td>4640.0</td>\n",
       "      <td>4.640000e+03</td>\n",
       "      <td>4640.000000</td>\n",
       "      <td>4640.00000</td>\n",
       "      <td>4.640000e+03</td>\n",
       "      <td>4640.000000</td>\n",
       "      <td>4640.000000</td>\n",
       "      <td>0.0</td>\n",
       "    </tr>\n",
       "    <tr>\n",
       "      <th>mean</th>\n",
       "      <td>2320.500000</td>\n",
       "      <td>1.346441e+18</td>\n",
       "      <td>3.546603e+17</td>\n",
       "      <td>170.465948</td>\n",
       "      <td>1.331920e+18</td>\n",
       "      <td>2.679447e+17</td>\n",
       "      <td>0.130819</td>\n",
       "      <td>0.0</td>\n",
       "      <td>3.466810</td>\n",
       "      <td>1.073707</td>\n",
       "      <td>...</td>\n",
       "      <td>NaN</td>\n",
       "      <td>NaN</td>\n",
       "      <td>0.0</td>\n",
       "      <td>5.187643e+03</td>\n",
       "      <td>1042.906466</td>\n",
       "      <td>73.00000</td>\n",
       "      <td>3.118775e+04</td>\n",
       "      <td>15615.714224</td>\n",
       "      <td>0.050647</td>\n",
       "      <td>NaN</td>\n",
       "    </tr>\n",
       "    <tr>\n",
       "      <th>std</th>\n",
       "      <td>1339.596954</td>\n",
       "      <td>7.304407e+16</td>\n",
       "      <td>5.165250e+17</td>\n",
       "      <td>88.319989</td>\n",
       "      <td>7.314198e+16</td>\n",
       "      <td>4.553111e+17</td>\n",
       "      <td>0.337239</td>\n",
       "      <td>0.0</td>\n",
       "      <td>15.710691</td>\n",
       "      <td>9.411743</td>\n",
       "      <td>...</td>\n",
       "      <td>NaN</td>\n",
       "      <td>NaN</td>\n",
       "      <td>0.0</td>\n",
       "      <td>6.338350e+04</td>\n",
       "      <td>1810.748551</td>\n",
       "      <td>233.52257</td>\n",
       "      <td>1.450083e+05</td>\n",
       "      <td>43138.028185</td>\n",
       "      <td>0.219299</td>\n",
       "      <td>NaN</td>\n",
       "    </tr>\n",
       "    <tr>\n",
       "      <th>min</th>\n",
       "      <td>1.000000</td>\n",
       "      <td>1.224230e+18</td>\n",
       "      <td>1.742701e+06</td>\n",
       "      <td>9.000000</td>\n",
       "      <td>1.011252e+18</td>\n",
       "      <td>4.283330e+05</td>\n",
       "      <td>0.000000</td>\n",
       "      <td>0.0</td>\n",
       "      <td>0.000000</td>\n",
       "      <td>0.000000</td>\n",
       "      <td>...</td>\n",
       "      <td>NaN</td>\n",
       "      <td>NaN</td>\n",
       "      <td>0.0</td>\n",
       "      <td>0.000000e+00</td>\n",
       "      <td>0.000000</td>\n",
       "      <td>0.00000</td>\n",
       "      <td>0.000000e+00</td>\n",
       "      <td>0.000000</td>\n",
       "      <td>0.000000</td>\n",
       "      <td>NaN</td>\n",
       "    </tr>\n",
       "    <tr>\n",
       "      <th>25%</th>\n",
       "      <td>1160.750000</td>\n",
       "      <td>1.297489e+18</td>\n",
       "      <td>1.735943e+08</td>\n",
       "      <td>89.000000</td>\n",
       "      <td>1.266217e+18</td>\n",
       "      <td>1.388450e+08</td>\n",
       "      <td>0.000000</td>\n",
       "      <td>0.0</td>\n",
       "      <td>0.000000</td>\n",
       "      <td>0.000000</td>\n",
       "      <td>...</td>\n",
       "      <td>NaN</td>\n",
       "      <td>NaN</td>\n",
       "      <td>0.0</td>\n",
       "      <td>1.487500e+02</td>\n",
       "      <td>182.000000</td>\n",
       "      <td>1.00000</td>\n",
       "      <td>9.697500e+02</td>\n",
       "      <td>174.750000</td>\n",
       "      <td>0.000000</td>\n",
       "      <td>NaN</td>\n",
       "    </tr>\n",
       "    <tr>\n",
       "      <th>50%</th>\n",
       "      <td>2320.500000</td>\n",
       "      <td>1.331629e+18</td>\n",
       "      <td>1.623827e+09</td>\n",
       "      <td>176.000000</td>\n",
       "      <td>1.325616e+18</td>\n",
       "      <td>1.716283e+09</td>\n",
       "      <td>0.000000</td>\n",
       "      <td>0.0</td>\n",
       "      <td>1.000000</td>\n",
       "      <td>0.000000</td>\n",
       "      <td>...</td>\n",
       "      <td>NaN</td>\n",
       "      <td>NaN</td>\n",
       "      <td>0.0</td>\n",
       "      <td>5.365000e+02</td>\n",
       "      <td>421.500000</td>\n",
       "      <td>8.00000</td>\n",
       "      <td>4.414000e+03</td>\n",
       "      <td>1836.000000</td>\n",
       "      <td>0.000000</td>\n",
       "      <td>NaN</td>\n",
       "    </tr>\n",
       "    <tr>\n",
       "      <th>75%</th>\n",
       "      <td>3480.250000</td>\n",
       "      <td>1.408867e+18</td>\n",
       "      <td>8.889435e+17</td>\n",
       "      <td>261.000000</td>\n",
       "      <td>1.395494e+18</td>\n",
       "      <td>7.778192e+17</td>\n",
       "      <td>0.000000</td>\n",
       "      <td>0.0</td>\n",
       "      <td>3.000000</td>\n",
       "      <td>0.000000</td>\n",
       "      <td>...</td>\n",
       "      <td>NaN</td>\n",
       "      <td>NaN</td>\n",
       "      <td>0.0</td>\n",
       "      <td>1.691250e+03</td>\n",
       "      <td>1219.000000</td>\n",
       "      <td>40.00000</td>\n",
       "      <td>1.719800e+04</td>\n",
       "      <td>12079.250000</td>\n",
       "      <td>0.000000</td>\n",
       "      <td>NaN</td>\n",
       "    </tr>\n",
       "    <tr>\n",
       "      <th>max</th>\n",
       "      <td>4640.000000</td>\n",
       "      <td>1.491378e+18</td>\n",
       "      <td>1.486798e+18</td>\n",
       "      <td>316.000000</td>\n",
       "      <td>1.491118e+18</td>\n",
       "      <td>1.466252e+18</td>\n",
       "      <td>1.000000</td>\n",
       "      <td>0.0</td>\n",
       "      <td>571.000000</td>\n",
       "      <td>318.000000</td>\n",
       "      <td>...</td>\n",
       "      <td>NaN</td>\n",
       "      <td>NaN</td>\n",
       "      <td>0.0</td>\n",
       "      <td>3.942088e+06</td>\n",
       "      <td>42090.000000</td>\n",
       "      <td>4930.00000</td>\n",
       "      <td>2.359718e+06</td>\n",
       "      <td>630488.000000</td>\n",
       "      <td>1.000000</td>\n",
       "      <td>NaN</td>\n",
       "    </tr>\n",
       "  </tbody>\n",
       "</table>\n",
       "<p>8 rows × 44 columns</p>\n",
       "</div>"
      ],
      "text/plain": [
       "        Unnamed: 0     status_id       user_id  display_text_width  \\\n",
       "count  4640.000000  4.640000e+03  4.640000e+03         4640.000000   \n",
       "mean   2320.500000  1.346441e+18  3.546603e+17          170.465948   \n",
       "std    1339.596954  7.304407e+16  5.165250e+17           88.319989   \n",
       "min       1.000000  1.224230e+18  1.742701e+06            9.000000   \n",
       "25%    1160.750000  1.297489e+18  1.735943e+08           89.000000   \n",
       "50%    2320.500000  1.331629e+18  1.623827e+09          176.000000   \n",
       "75%    3480.250000  1.408867e+18  8.889435e+17          261.000000   \n",
       "max    4640.000000  1.491378e+18  1.486798e+18          316.000000   \n",
       "\n",
       "       reply_to_status_id  reply_to_user_id     is_quote  is_retweet  \\\n",
       "count        1.179000e+03      1.302000e+03  4640.000000      4640.0   \n",
       "mean         1.331920e+18      2.679447e+17     0.130819         0.0   \n",
       "std          7.314198e+16      4.553111e+17     0.337239         0.0   \n",
       "min          1.011252e+18      4.283330e+05     0.000000         0.0   \n",
       "25%          1.266217e+18      1.388450e+08     0.000000         0.0   \n",
       "50%          1.325616e+18      1.716283e+09     0.000000         0.0   \n",
       "75%          1.395494e+18      7.778192e+17     0.000000         0.0   \n",
       "max          1.491118e+18      1.466252e+18     1.000000         0.0   \n",
       "\n",
       "       favorite_count  retweet_count  ...  retweet_description  \\\n",
       "count     4640.000000    4640.000000  ...                  0.0   \n",
       "mean         3.466810       1.073707  ...                  NaN   \n",
       "std         15.710691       9.411743  ...                  NaN   \n",
       "min          0.000000       0.000000  ...                  NaN   \n",
       "25%          0.000000       0.000000  ...                  NaN   \n",
       "50%          1.000000       0.000000  ...                  NaN   \n",
       "75%          3.000000       0.000000  ...                  NaN   \n",
       "max        571.000000     318.000000  ...                  NaN   \n",
       "\n",
       "       retweet_verified  protected  followers_count  friends_count  \\\n",
       "count               0.0     4640.0     4.640000e+03    4640.000000   \n",
       "mean                NaN        0.0     5.187643e+03    1042.906466   \n",
       "std                 NaN        0.0     6.338350e+04    1810.748551   \n",
       "min                 NaN        0.0     0.000000e+00       0.000000   \n",
       "25%                 NaN        0.0     1.487500e+02     182.000000   \n",
       "50%                 NaN        0.0     5.365000e+02     421.500000   \n",
       "75%                 NaN        0.0     1.691250e+03    1219.000000   \n",
       "max                 NaN        0.0     3.942088e+06   42090.000000   \n",
       "\n",
       "       listed_count  statuses_count  favourites_count     verified  \\\n",
       "count    4640.00000    4.640000e+03       4640.000000  4640.000000   \n",
       "mean       73.00000    3.118775e+04      15615.714224     0.050647   \n",
       "std       233.52257    1.450083e+05      43138.028185     0.219299   \n",
       "min         0.00000    0.000000e+00          0.000000     0.000000   \n",
       "25%         1.00000    9.697500e+02        174.750000     0.000000   \n",
       "50%         8.00000    4.414000e+03       1836.000000     0.000000   \n",
       "75%        40.00000    1.719800e+04      12079.250000     0.000000   \n",
       "max      4930.00000    2.359718e+06     630488.000000     1.000000   \n",
       "\n",
       "       account_lang  \n",
       "count           0.0  \n",
       "mean            NaN  \n",
       "std             NaN  \n",
       "min             NaN  \n",
       "25%             NaN  \n",
       "50%             NaN  \n",
       "75%             NaN  \n",
       "max             NaN  \n",
       "\n",
       "[8 rows x 44 columns]"
      ]
     },
     "execution_count": 158,
     "metadata": {},
     "output_type": "execute_result"
    }
   ],
   "source": [
    "tweets.describe()"
   ]
  },
  {
   "cell_type": "code",
   "execution_count": 159,
   "metadata": {},
   "outputs": [
    {
     "data": {
      "text/html": [
       "<style  type=\"text/css\" >\n",
       "    #T_7c826116_a0af_11ec_b6b1_acde48001122row0_col1 {\n",
       "            background-color:  #3f007d;\n",
       "            color:  #f1f1f1;\n",
       "        }    #T_7c826116_a0af_11ec_b6b1_acde48001122row1_col1 {\n",
       "            background-color:  #fcfbfd;\n",
       "            color:  #000000;\n",
       "        }</style><table id=\"T_7c826116_a0af_11ec_b6b1_acde48001122\" ><thead>    <tr>        <th class=\"blank level0\" ></th>        <th class=\"col_heading level0 col0\" >medical_device</th>        <th class=\"col_heading level0 col1\" >text</th>    </tr></thead><tbody>\n",
       "                <tr>\n",
       "                        <th id=\"T_7c826116_a0af_11ec_b6b1_acde48001122level0_row0\" class=\"row_heading level0 row0\" >0</th>\n",
       "                        <td id=\"T_7c826116_a0af_11ec_b6b1_acde48001122row0_col0\" class=\"data row0 col0\" >False</td>\n",
       "                        <td id=\"T_7c826116_a0af_11ec_b6b1_acde48001122row0_col1\" class=\"data row0 col1\" >4157</td>\n",
       "            </tr>\n",
       "            <tr>\n",
       "                        <th id=\"T_7c826116_a0af_11ec_b6b1_acde48001122level0_row1\" class=\"row_heading level0 row1\" >1</th>\n",
       "                        <td id=\"T_7c826116_a0af_11ec_b6b1_acde48001122row1_col0\" class=\"data row1 col0\" >True</td>\n",
       "                        <td id=\"T_7c826116_a0af_11ec_b6b1_acde48001122row1_col1\" class=\"data row1 col1\" >483</td>\n",
       "            </tr>\n",
       "    </tbody></table>"
      ],
      "text/plain": [
       "<pandas.io.formats.style.Styler at 0x7fdc128b8850>"
      ]
     },
     "execution_count": 159,
     "metadata": {},
     "output_type": "execute_result"
    }
   ],
   "source": [
    "temp = tweets.groupby('medical_device').count()['text'].reset_index().sort_values(by='text',ascending=False)\n",
    "temp.style.background_gradient(cmap='Purples')"
   ]
  },
  {
   "cell_type": "code",
   "execution_count": 160,
   "metadata": {},
   "outputs": [
    {
     "data": {
      "image/png": "[encoded data removed]",
      "text/plain": [
       "<Figure size 720x432 with 1 Axes>"
      ]
     },
     "metadata": {
      "needs_background": "light"
     },
     "output_type": "display_data"
    }
   ],
   "source": [
    "import seaborn as sns\n",
    "plt.figure(figsize=(10,6))\n",
    "sns.countplot(x='medical_device',data=tweets)\n",
    "plt.savefig('proportion1.png')"
   ]
  },
  {
   "cell_type": "code",
   "execution_count": 161,
   "metadata": {},
   "outputs": [
    {
     "data": {
      "application/vnd.plotly.v1+json": {
       "config": {
        "plotlyServerURL": "https://plot.ly"
       },
       "data": [
        {
         "text": [
          false,
          true
         ],
         "title": {
          "position": "top center",
          "text": "Funnel-Chart of medical_device"
         },
         "type": "funnelarea",
         "values": [
          4157,
          483
         ]
        }
       ],
       "layout": {
        "template": {
         "data": {
          "bar": [
           {
            "error_x": {
             "color": "#2a3f5f"
            },
            "error_y": {
             "color": "#2a3f5f"
            },
            "marker": {
             "line": {
              "color": "#E5ECF6",
              "width": 0.5
             }
            },
            "type": "bar"
           }
          ],
          "barpolar": [
           {
            "marker": {
             "line": {
              "color": "#E5ECF6",
              "width": 0.5
             }
            },
            "type": "barpolar"
           }
          ],
          "carpet": [
           {
            "aaxis": {
             "endlinecolor": "#2a3f5f",
             "gridcolor": "white",
             "linecolor": "white",
             "minorgridcolor": "white",
             "startlinecolor": "#2a3f5f"
            },
            "baxis": {
             "endlinecolor": "#2a3f5f",
             "gridcolor": "white",
             "linecolor": "white",
             "minorgridcolor": "white",
             "startlinecolor": "#2a3f5f"
            },
            "type": "carpet"
           }
          ],
          "choropleth": [
           {
            "colorbar": {
             "outlinewidth": 0,
             "ticks": ""
            },
            "type": "choropleth"
           }
          ],
          "contour": [
           {
            "colorbar": {
             "outlinewidth": 0,
             "ticks": ""
            },
            "colorscale": [
             [
              0,
              "#0d0887"
             ],
             [
              0.1111111111111111,
              "#46039f"
             ],
             [
              0.2222222222222222,
              "#7201a8"
             ],
             [
              0.3333333333333333,
              "#9c179e"
             ],
             [
              0.4444444444444444,
              "#bd3786"
             ],
             [
              0.5555555555555556,
              "#d8576b"
             ],
             [
              0.6666666666666666,
              "#ed7953"
             ],
             [
              0.7777777777777778,
              "#fb9f3a"
             ],
             [
              0.8888888888888888,
              "#fdca26"
             ],
             [
              1,
              "#f0f921"
             ]
            ],
            "type": "contour"
           }
          ],
          "contourcarpet": [
           {
            "colorbar": {
             "outlinewidth": 0,
             "ticks": ""
            },
            "type": "contourcarpet"
           }
          ],
          "heatmap": [
           {
            "colorbar": {
             "outlinewidth": 0,
             "ticks": ""
            },
            "colorscale": [
             [
              0,
              "#0d0887"
             ],
             [
              0.1111111111111111,
              "#46039f"
             ],
             [
              0.2222222222222222,
              "#7201a8"
             ],
             [
              0.3333333333333333,
              "#9c179e"
             ],
             [
              0.4444444444444444,
              "#bd3786"
             ],
             [
              0.5555555555555556,
              "#d8576b"
             ],
             [
              0.6666666666666666,
              "#ed7953"
             ],
             [
              0.7777777777777778,
              "#fb9f3a"
             ],
             [
              0.8888888888888888,
              "#fdca26"
             ],
             [
              1,
              "#f0f921"
             ]
            ],
            "type": "heatmap"
           }
          ],
          "heatmapgl": [
           {
            "colorbar": {
             "outlinewidth": 0,
             "ticks": ""
            },
            "colorscale": [
             [
              0,
              "#0d0887"
             ],
             [
              0.1111111111111111,
              "#46039f"
             ],
             [
              0.2222222222222222,
              "#7201a8"
             ],
             [
              0.3333333333333333,
              "#9c179e"
             ],
             [
              0.4444444444444444,
              "#bd3786"
             ],
             [
              0.5555555555555556,
              "#d8576b"
             ],
             [
              0.6666666666666666,
              "#ed7953"
             ],
             [
              0.7777777777777778,
              "#fb9f3a"
             ],
             [
              0.8888888888888888,
              "#fdca26"
             ],
             [
              1,
              "#f0f921"
             ]
            ],
            "type": "heatmapgl"
           }
          ],
          "histogram": [
           {
            "marker": {
             "colorbar": {
              "outlinewidth": 0,
              "ticks": ""
             }
            },
            "type": "histogram"
           }
          ],
          "histogram2d": [
           {
            "colorbar": {
             "outlinewidth": 0,
             "ticks": ""
            },
            "colorscale": [
             [
              0,
              "#0d0887"
             ],
             [
              0.1111111111111111,
              "#46039f"
             ],
             [
              0.2222222222222222,
              "#7201a8"
             ],
             [
              0.3333333333333333,
              "#9c179e"
             ],
             [
              0.4444444444444444,
              "#bd3786"
             ],
             [
              0.5555555555555556,
              "#d8576b"
             ],
             [
              0.6666666666666666,
              "#ed7953"
             ],
             [
              0.7777777777777778,
              "#fb9f3a"
             ],
             [
              0.8888888888888888,
              "#fdca26"
             ],
             [
              1,
              "#f0f921"
             ]
            ],
            "type": "histogram2d"
           }
          ],
          "histogram2dcontour": [
           {
            "colorbar": {
             "outlinewidth": 0,
             "ticks": ""
            },
            "colorscale": [
             [
              0,
              "#0d0887"
             ],
             [
              0.1111111111111111,
              "#46039f"
             ],
             [
              0.2222222222222222,
              "#7201a8"
             ],
             [
              0.3333333333333333,
              "#9c179e"
             ],
             [
              0.4444444444444444,
              "#bd3786"
             ],
             [
              0.5555555555555556,
              "#d8576b"
             ],
             [
              0.6666666666666666,
              "#ed7953"
             ],
             [
              0.7777777777777778,
              "#fb9f3a"
             ],
             [
              0.8888888888888888,
              "#fdca26"
             ],
             [
              1,
              "#f0f921"
             ]
            ],
            "type": "histogram2dcontour"
           }
          ],
          "mesh3d": [
           {
            "colorbar": {
             "outlinewidth": 0,
             "ticks": ""
            },
            "type": "mesh3d"
           }
          ],
          "parcoords": [
           {
            "line": {
             "colorbar": {
              "outlinewidth": 0,
              "ticks": ""
             }
            },
            "type": "parcoords"
           }
          ],
          "pie": [
           {
            "automargin": true,
            "type": "pie"
           }
          ],
          "scatter": [
           {
            "marker": {
             "colorbar": {
              "outlinewidth": 0,
              "ticks": ""
             }
            },
            "type": "scatter"
           }
          ],
          "scatter3d": [
           {
            "line": {
             "colorbar": {
              "outlinewidth": 0,
              "ticks": ""
             }
            },
            "marker": {
             "colorbar": {
              "outlinewidth": 0,
              "ticks": ""
             }
            },
            "type": "scatter3d"
           }
          ],
          "scattercarpet": [
           {
            "marker": {
             "colorbar": {
              "outlinewidth": 0,
              "ticks": ""
             }
            },
            "type": "scattercarpet"
           }
          ],
          "scattergeo": [
           {
            "marker": {
             "colorbar": {
              "outlinewidth": 0,
              "ticks": ""
             }
            },
            "type": "scattergeo"
           }
          ],
          "scattergl": [
           {
            "marker": {
             "colorbar": {
              "outlinewidth": 0,
              "ticks": ""
             }
            },
            "type": "scattergl"
           }
          ],
          "scattermapbox": [
           {
            "marker": {
             "colorbar": {
              "outlinewidth": 0,
              "ticks": ""
             }
            },
            "type": "scattermapbox"
           }
          ],
          "scatterpolar": [
           {
            "marker": {
             "colorbar": {
              "outlinewidth": 0,
              "ticks": ""
             }
            },
            "type": "scatterpolar"
           }
          ],
          "scatterpolargl": [
           {
            "marker": {
             "colorbar": {
              "outlinewidth": 0,
              "ticks": ""
             }
            },
            "type": "scatterpolargl"
           }
          ],
          "scatterternary": [
           {
            "marker": {
             "colorbar": {
              "outlinewidth": 0,
              "ticks": ""
             }
            },
            "type": "scatterternary"
           }
          ],
          "surface": [
           {
            "colorbar": {
             "outlinewidth": 0,
             "ticks": ""
            },
            "colorscale": [
             [
              0,
              "#0d0887"
             ],
             [
              0.1111111111111111,
              "#46039f"
             ],
             [
              0.2222222222222222,
              "#7201a8"
             ],
             [
              0.3333333333333333,
              "#9c179e"
             ],
             [
              0.4444444444444444,
              "#bd3786"
             ],
             [
              0.5555555555555556,
              "#d8576b"
             ],
             [
              0.6666666666666666,
              "#ed7953"
             ],
             [
              0.7777777777777778,
              "#fb9f3a"
             ],
             [
              0.8888888888888888,
              "#fdca26"
             ],
             [
              1,
              "#f0f921"
             ]
            ],
            "type": "surface"
           }
          ],
          "table": [
           {
            "cells": {
             "fill": {
              "color": "#EBF0F8"
             },
             "line": {
              "color": "white"
             }
            },
            "header": {
             "fill": {
              "color": "#C8D4E3"
             },
             "line": {
              "color": "white"
             }
            },
            "type": "table"
           }
          ]
         },
         "layout": {
          "annotationdefaults": {
           "arrowcolor": "#2a3f5f",
           "arrowhead": 0,
           "arrowwidth": 1
          },
          "coloraxis": {
           "colorbar": {
            "outlinewidth": 0,
            "ticks": ""
           }
          },
          "colorscale": {
           "diverging": [
            [
             0,
             "#8e0152"
            ],
            [
             0.1,
             "#c51b7d"
            ],
            [
             0.2,
             "#de77ae"
            ],
            [
             0.3,
             "#f1b6da"
            ],
            [
             0.4,
             "#fde0ef"
            ],
            [
             0.5,
             "#f7f7f7"
            ],
            [
             0.6,
             "#e6f5d0"
            ],
            [
             0.7,
             "#b8e186"
            ],
            [
             0.8,
             "#7fbc41"
            ],
            [
             0.9,
             "#4d9221"
            ],
            [
             1,
             "#276419"
            ]
           ],
           "sequential": [
            [
             0,
             "#0d0887"
            ],
            [
             0.1111111111111111,
             "#46039f"
            ],
            [
             0.2222222222222222,
             "#7201a8"
            ],
            [
             0.3333333333333333,
             "#9c179e"
            ],
            [
             0.4444444444444444,
             "#bd3786"
            ],
            [
             0.5555555555555556,
             "#d8576b"
            ],
            [
             0.6666666666666666,
             "#ed7953"
            ],
            [
             0.7777777777777778,
             "#fb9f3a"
            ],
            [
             0.8888888888888888,
             "#fdca26"
            ],
            [
             1,
             "#f0f921"
            ]
           ],
           "sequentialminus": [
            [
             0,
             "#0d0887"
            ],
            [
             0.1111111111111111,
             "#46039f"
            ],
            [
             0.2222222222222222,
             "#7201a8"
            ],
            [
             0.3333333333333333,
             "#9c179e"
            ],
            [
             0.4444444444444444,
             "#bd3786"
            ],
            [
             0.5555555555555556,
             "#d8576b"
            ],
            [
             0.6666666666666666,
             "#ed7953"
            ],
            [
             0.7777777777777778,
             "#fb9f3a"
            ],
            [
             0.8888888888888888,
             "#fdca26"
            ],
            [
             1,
             "#f0f921"
            ]
           ]
          },
          "colorway": [
           "#636efa",
           "#EF553B",
           "#00cc96",
           "#ab63fa",
           "#FFA15A",
           "#19d3f3",
           "#FF6692",
           "#B6E880",
           "#FF97FF",
           "#FECB52"
          ],
          "font": {
           "color": "#2a3f5f"
          },
          "geo": {
           "bgcolor": "white",
           "lakecolor": "white",
           "landcolor": "#E5ECF6",
           "showlakes": true,
           "showland": true,
           "subunitcolor": "white"
          },
          "hoverlabel": {
           "align": "left"
          },
          "hovermode": "closest",
          "mapbox": {
           "style": "light"
          },
          "paper_bgcolor": "white",
          "plot_bgcolor": "#E5ECF6",
          "polar": {
           "angularaxis": {
            "gridcolor": "white",
            "linecolor": "white",
            "ticks": ""
           },
           "bgcolor": "#E5ECF6",
           "radialaxis": {
            "gridcolor": "white",
            "linecolor": "white",
            "ticks": ""
           }
          },
          "scene": {
           "xaxis": {
            "backgroundcolor": "#E5ECF6",
            "gridcolor": "white",
            "gridwidth": 2,
            "linecolor": "white",
            "showbackground": true,
            "ticks": "",
            "zerolinecolor": "white"
           },
           "yaxis": {
            "backgroundcolor": "#E5ECF6",
            "gridcolor": "white",
            "gridwidth": 2,
            "linecolor": "white",
            "showbackground": true,
            "ticks": "",
            "zerolinecolor": "white"
           },
           "zaxis": {
            "backgroundcolor": "#E5ECF6",
            "gridcolor": "white",
            "gridwidth": 2,
            "linecolor": "white",
            "showbackground": true,
            "ticks": "",
            "zerolinecolor": "white"
           }
          },
          "shapedefaults": {
           "line": {
            "color": "#2a3f5f"
           }
          },
          "ternary": {
           "aaxis": {
            "gridcolor": "white",
            "linecolor": "white",
            "ticks": ""
           },
           "baxis": {
            "gridcolor": "white",
            "linecolor": "white",
            "ticks": ""
           },
           "bgcolor": "#E5ECF6",
           "caxis": {
            "gridcolor": "white",
            "linecolor": "white",
            "ticks": ""
           }
          },
          "title": {
           "x": 0.05
          },
          "xaxis": {
           "automargin": true,
           "gridcolor": "white",
           "linecolor": "white",
           "ticks": "",
           "title": {
            "standoff": 15
           },
           "zerolinecolor": "white",
           "zerolinewidth": 2
          },
          "yaxis": {
           "automargin": true,
           "gridcolor": "white",
           "linecolor": "white",
           "ticks": "",
           "title": {
            "standoff": 15
           },
           "zerolinecolor": "white",
           "zerolinewidth": 2
          }
         }
        }
       }
      },
      "text/html": [
       "<div>                            <div id=\"fa429813-d4d6-4166-b8a6-46adfd67e952\" class=\"plotly-graph-div\" style=\"height:525px; width:100%;\"></div>            <script type=\"text/javascript\">                require([\"plotly\"], function(Plotly) {                    window.PLOTLYENV=window.PLOTLYENV || {};                                    if (document.getElementById(\"fa429813-d4d6-4166-b8a6-46adfd67e952\")) {                    Plotly.newPlot(                        \"fa429813-d4d6-4166-b8a6-46adfd67e952\",                        [{\"text\": [false, true], \"title\": {\"position\": \"top center\", \"text\": \"Funnel-Chart of medical_device\"}, \"type\": \"funnelarea\", \"values\": [4157, 483]}],                        {\"template\": {\"data\": {\"bar\": [{\"error_x\": {\"color\": \"#2a3f5f\"}, \"error_y\": {\"color\": \"#2a3f5f\"}, \"marker\": {\"line\": {\"color\": \"#E5ECF6\", \"width\": 0.5}}, \"type\": \"bar\"}], \"barpolar\": [{\"marker\": {\"line\": {\"color\": \"#E5ECF6\", \"width\": 0.5}}, \"type\": \"barpolar\"}], \"carpet\": [{\"aaxis\": {\"endlinecolor\": \"#2a3f5f\", \"gridcolor\": \"white\", \"linecolor\": \"white\", \"minorgridcolor\": \"white\", \"startlinecolor\": \"#2a3f5f\"}, \"baxis\": {\"endlinecolor\": \"#2a3f5f\", \"gridcolor\": \"white\", \"linecolor\": \"white\", \"minorgridcolor\": \"white\", \"startlinecolor\": \"#2a3f5f\"}, \"type\": \"carpet\"}], \"choropleth\": [{\"colorbar\": {\"outlinewidth\": 0, \"ticks\": \"\"}, \"type\": \"choropleth\"}], \"contour\": [{\"colorbar\": {\"outlinewidth\": 0, \"ticks\": \"\"}, \"colorscale\": [[0.0, \"#0d0887\"], [0.1111111111111111, \"#46039f\"], [0.2222222222222222, \"#7201a8\"], [0.3333333333333333, \"#9c179e\"], [0.4444444444444444, \"#bd3786\"], [0.5555555555555556, \"#d8576b\"], [0.6666666666666666, \"#ed7953\"], [0.7777777777777778, \"#fb9f3a\"], [0.8888888888888888, \"#fdca26\"], [1.0, \"#f0f921\"]], \"type\": \"contour\"}], \"contourcarpet\": [{\"colorbar\": {\"outlinewidth\": 0, \"ticks\": \"\"}, \"type\": \"contourcarpet\"}], \"heatmap\": [{\"colorbar\": {\"outlinewidth\": 0, \"ticks\": \"\"}, \"colorscale\": [[0.0, \"#0d0887\"], [0.1111111111111111, \"#46039f\"], [0.2222222222222222, \"#7201a8\"], [0.3333333333333333, \"#9c179e\"], [0.4444444444444444, \"#bd3786\"], [0.5555555555555556, \"#d8576b\"], [0.6666666666666666, \"#ed7953\"], [0.7777777777777778, \"#fb9f3a\"], [0.8888888888888888, \"#fdca26\"], [1.0, \"#f0f921\"]], \"type\": \"heatmap\"}], \"heatmapgl\": [{\"colorbar\": {\"outlinewidth\": 0, \"ticks\": \"\"}, \"colorscale\": [[0.0, \"#0d0887\"], [0.1111111111111111, \"#46039f\"], [0.2222222222222222, \"#7201a8\"], [0.3333333333333333, \"#9c179e\"], [0.4444444444444444, \"#bd3786\"], [0.5555555555555556, \"#d8576b\"], [0.6666666666666666, \"#ed7953\"], [0.7777777777777778, \"#fb9f3a\"], [0.8888888888888888, \"#fdca26\"], [1.0, \"#f0f921\"]], \"type\": \"heatmapgl\"}], \"histogram\": [{\"marker\": {\"colorbar\": {\"outlinewidth\": 0, \"ticks\": \"\"}}, \"type\": \"histogram\"}], \"histogram2d\": [{\"colorbar\": {\"outlinewidth\": 0, \"ticks\": \"\"}, \"colorscale\": [[0.0, \"#0d0887\"], [0.1111111111111111, \"#46039f\"], [0.2222222222222222, \"#7201a8\"], [0.3333333333333333, \"#9c179e\"], [0.4444444444444444, \"#bd3786\"], [0.5555555555555556, \"#d8576b\"], [0.6666666666666666, \"#ed7953\"], [0.7777777777777778, \"#fb9f3a\"], [0.8888888888888888, \"#fdca26\"], [1.0, \"#f0f921\"]], \"type\": \"histogram2d\"}], \"histogram2dcontour\": [{\"colorbar\": {\"outlinewidth\": 0, \"ticks\": \"\"}, \"colorscale\": [[0.0, \"#0d0887\"], [0.1111111111111111, \"#46039f\"], [0.2222222222222222, \"#7201a8\"], [0.3333333333333333, \"#9c179e\"], [0.4444444444444444, \"#bd3786\"], [0.5555555555555556, \"#d8576b\"], [0.6666666666666666, \"#ed7953\"], [0.7777777777777778, \"#fb9f3a\"], [0.8888888888888888, \"#fdca26\"], [1.0, \"#f0f921\"]], \"type\": \"histogram2dcontour\"}], \"mesh3d\": [{\"colorbar\": {\"outlinewidth\": 0, \"ticks\": \"\"}, \"type\": \"mesh3d\"}], \"parcoords\": [{\"line\": {\"colorbar\": {\"outlinewidth\": 0, \"ticks\": \"\"}}, \"type\": \"parcoords\"}], \"pie\": [{\"automargin\": true, \"type\": \"pie\"}], \"scatter\": [{\"marker\": {\"colorbar\": {\"outlinewidth\": 0, \"ticks\": \"\"}}, \"type\": \"scatter\"}], \"scatter3d\": [{\"line\": {\"colorbar\": {\"outlinewidth\": 0, \"ticks\": \"\"}}, \"marker\": {\"colorbar\": {\"outlinewidth\": 0, \"ticks\": \"\"}}, \"type\": \"scatter3d\"}], \"scattercarpet\": [{\"marker\": {\"colorbar\": {\"outlinewidth\": 0, \"ticks\": \"\"}}, \"type\": \"scattercarpet\"}], \"scattergeo\": [{\"marker\": {\"colorbar\": {\"outlinewidth\": 0, \"ticks\": \"\"}}, \"type\": \"scattergeo\"}], \"scattergl\": [{\"marker\": {\"colorbar\": {\"outlinewidth\": 0, \"ticks\": \"\"}}, \"type\": \"scattergl\"}], \"scattermapbox\": [{\"marker\": {\"colorbar\": {\"outlinewidth\": 0, \"ticks\": \"\"}}, \"type\": \"scattermapbox\"}], \"scatterpolar\": [{\"marker\": {\"colorbar\": {\"outlinewidth\": 0, \"ticks\": \"\"}}, \"type\": \"scatterpolar\"}], \"scatterpolargl\": [{\"marker\": {\"colorbar\": {\"outlinewidth\": 0, \"ticks\": \"\"}}, \"type\": \"scatterpolargl\"}], \"scatterternary\": [{\"marker\": {\"colorbar\": {\"outlinewidth\": 0, \"ticks\": \"\"}}, \"type\": \"scatterternary\"}], \"surface\": [{\"colorbar\": {\"outlinewidth\": 0, \"ticks\": \"\"}, \"colorscale\": [[0.0, \"#0d0887\"], [0.1111111111111111, \"#46039f\"], [0.2222222222222222, \"#7201a8\"], [0.3333333333333333, \"#9c179e\"], [0.4444444444444444, \"#bd3786\"], [0.5555555555555556, \"#d8576b\"], [0.6666666666666666, \"#ed7953\"], [0.7777777777777778, \"#fb9f3a\"], [0.8888888888888888, \"#fdca26\"], [1.0, \"#f0f921\"]], \"type\": \"surface\"}], \"table\": [{\"cells\": {\"fill\": {\"color\": \"#EBF0F8\"}, \"line\": {\"color\": \"white\"}}, \"header\": {\"fill\": {\"color\": \"#C8D4E3\"}, \"line\": {\"color\": \"white\"}}, \"type\": \"table\"}]}, \"layout\": {\"annotationdefaults\": {\"arrowcolor\": \"#2a3f5f\", \"arrowhead\": 0, \"arrowwidth\": 1}, \"coloraxis\": {\"colorbar\": {\"outlinewidth\": 0, \"ticks\": \"\"}}, \"colorscale\": {\"diverging\": [[0, \"#8e0152\"], [0.1, \"#c51b7d\"], [0.2, \"#de77ae\"], [0.3, \"#f1b6da\"], [0.4, \"#fde0ef\"], [0.5, \"#f7f7f7\"], [0.6, \"#e6f5d0\"], [0.7, \"#b8e186\"], [0.8, \"#7fbc41\"], [0.9, \"#4d9221\"], [1, \"#276419\"]], \"sequential\": [[0.0, \"#0d0887\"], [0.1111111111111111, \"#46039f\"], [0.2222222222222222, \"#7201a8\"], [0.3333333333333333, \"#9c179e\"], [0.4444444444444444, \"#bd3786\"], [0.5555555555555556, \"#d8576b\"], [0.6666666666666666, \"#ed7953\"], [0.7777777777777778, \"#fb9f3a\"], [0.8888888888888888, \"#fdca26\"], [1.0, \"#f0f921\"]], \"sequentialminus\": [[0.0, \"#0d0887\"], [0.1111111111111111, \"#46039f\"], [0.2222222222222222, \"#7201a8\"], [0.3333333333333333, \"#9c179e\"], [0.4444444444444444, \"#bd3786\"], [0.5555555555555556, \"#d8576b\"], [0.6666666666666666, \"#ed7953\"], [0.7777777777777778, \"#fb9f3a\"], [0.8888888888888888, \"#fdca26\"], [1.0, \"#f0f921\"]]}, \"colorway\": [\"#636efa\", \"#EF553B\", \"#00cc96\", \"#ab63fa\", \"#FFA15A\", \"#19d3f3\", \"#FF6692\", \"#B6E880\", \"#FF97FF\", \"#FECB52\"], \"font\": {\"color\": \"#2a3f5f\"}, \"geo\": {\"bgcolor\": \"white\", \"lakecolor\": \"white\", \"landcolor\": \"#E5ECF6\", \"showlakes\": true, \"showland\": true, \"subunitcolor\": \"white\"}, \"hoverlabel\": {\"align\": \"left\"}, \"hovermode\": \"closest\", \"mapbox\": {\"style\": \"light\"}, \"paper_bgcolor\": \"white\", \"plot_bgcolor\": \"#E5ECF6\", \"polar\": {\"angularaxis\": {\"gridcolor\": \"white\", \"linecolor\": \"white\", \"ticks\": \"\"}, \"bgcolor\": \"#E5ECF6\", \"radialaxis\": {\"gridcolor\": \"white\", \"linecolor\": \"white\", \"ticks\": \"\"}}, \"scene\": {\"xaxis\": {\"backgroundcolor\": \"#E5ECF6\", \"gridcolor\": \"white\", \"gridwidth\": 2, \"linecolor\": \"white\", \"showbackground\": true, \"ticks\": \"\", \"zerolinecolor\": \"white\"}, \"yaxis\": {\"backgroundcolor\": \"#E5ECF6\", \"gridcolor\": \"white\", \"gridwidth\": 2, \"linecolor\": \"white\", \"showbackground\": true, \"ticks\": \"\", \"zerolinecolor\": \"white\"}, \"zaxis\": {\"backgroundcolor\": \"#E5ECF6\", \"gridcolor\": \"white\", \"gridwidth\": 2, \"linecolor\": \"white\", \"showbackground\": true, \"ticks\": \"\", \"zerolinecolor\": \"white\"}}, \"shapedefaults\": {\"line\": {\"color\": \"#2a3f5f\"}}, \"ternary\": {\"aaxis\": {\"gridcolor\": \"white\", \"linecolor\": \"white\", \"ticks\": \"\"}, \"baxis\": {\"gridcolor\": \"white\", \"linecolor\": \"white\", \"ticks\": \"\"}, \"bgcolor\": \"#E5ECF6\", \"caxis\": {\"gridcolor\": \"white\", \"linecolor\": \"white\", \"ticks\": \"\"}}, \"title\": {\"x\": 0.05}, \"xaxis\": {\"automargin\": true, \"gridcolor\": \"white\", \"linecolor\": \"white\", \"ticks\": \"\", \"title\": {\"standoff\": 15}, \"zerolinecolor\": \"white\", \"zerolinewidth\": 2}, \"yaxis\": {\"automargin\": true, \"gridcolor\": \"white\", \"linecolor\": \"white\", \"ticks\": \"\", \"title\": {\"standoff\": 15}, \"zerolinecolor\": \"white\", \"zerolinewidth\": 2}}}},                        {\"responsive\": true}                    ).then(function(){\n",
       "                            \n",
       "var gd = document.getElementById('fa429813-d4d6-4166-b8a6-46adfd67e952');\n",
       "var x = new MutationObserver(function (mutations, observer) {{\n",
       "        var display = window.getComputedStyle(gd).display;\n",
       "        if (!display || display === 'none') {{\n",
       "            console.log([gd, 'removed!']);\n",
       "            Plotly.purge(gd);\n",
       "            observer.disconnect();\n",
       "        }}\n",
       "}});\n",
       "\n",
       "// Listen for the removal of the full notebook cells\n",
       "var notebookContainer = gd.closest('#notebook-container');\n",
       "if (notebookContainer) {{\n",
       "    x.observe(notebookContainer, {childList: true});\n",
       "}}\n",
       "\n",
       "// Listen for the clearing of the current output cell\n",
       "var outputEl = gd.closest('.output');\n",
       "if (outputEl) {{\n",
       "    x.observe(outputEl, {childList: true});\n",
       "}}\n",
       "\n",
       "                        })                };                });            </script>        </div>"
      ]
     },
     "metadata": {},
     "output_type": "display_data"
    }
   ],
   "source": [
    "from plotly import graph_objs as go\n",
    "\n",
    "fig = go.Figure(go.Funnelarea(\n",
    "    text =temp.medical_device,\n",
    "    values = temp.text,\n",
    "    title = {\"position\": \"top center\", \"text\": \"Funnel-Chart of medical_device\"}\n",
    "    ))\n",
    "fig.write_image(\"proportion2.png\")\n",
    "fig.show()"
   ]
  },
  {
   "cell_type": "code",
   "execution_count": 162,
   "metadata": {},
   "outputs": [],
   "source": [
    "def jaccard(str1, str2): \n",
    "    a = set(str1.lower().split()) \n",
    "    b = set(str2.lower().split())\n",
    "    c = a.intersection(b)\n",
    "    return float(len(c)) / (len(a) + len(b) - len(c))"
   ]
  },
  {
   "cell_type": "code",
   "execution_count": 163,
   "metadata": {},
   "outputs": [],
   "source": [
    "tweets['Num_words'] = tweets['text'].apply(lambda x:len(str(x).split())) #Number Of words in Selected Text"
   ]
  },
  {
   "cell_type": "code",
   "execution_count": 164,
   "metadata": {},
   "outputs": [
    {
     "data": {
      "text/html": [
       "<div>\n",
       "<style scoped>\n",
       "    .dataframe tbody tr th:only-of-type {\n",
       "        vertical-align: middle;\n",
       "    }\n",
       "\n",
       "    .dataframe tbody tr th {\n",
       "        vertical-align: top;\n",
       "    }\n",
       "\n",
       "    .dataframe thead th {\n",
       "        text-align: right;\n",
       "    }\n",
       "</style>\n",
       "<table border=\"1\" class=\"dataframe\">\n",
       "  <thead>\n",
       "    <tr style=\"text-align: right;\">\n",
       "      <th></th>\n",
       "      <th>Unnamed: 0</th>\n",
       "      <th>status_id</th>\n",
       "      <th>medical_device</th>\n",
       "      <th>text</th>\n",
       "      <th>user_id</th>\n",
       "      <th>created_at</th>\n",
       "      <th>screen_name</th>\n",
       "      <th>source</th>\n",
       "      <th>display_text_width</th>\n",
       "      <th>reply_to_status_id</th>\n",
       "      <th>...</th>\n",
       "      <th>account_created_at</th>\n",
       "      <th>verified</th>\n",
       "      <th>profile_url</th>\n",
       "      <th>profile_expanded_url</th>\n",
       "      <th>account_lang</th>\n",
       "      <th>profile_banner_url</th>\n",
       "      <th>profile_background_url</th>\n",
       "      <th>profile_image_url</th>\n",
       "      <th>query</th>\n",
       "      <th>Num_words</th>\n",
       "    </tr>\n",
       "  </thead>\n",
       "  <tbody>\n",
       "    <tr>\n",
       "      <th>0</th>\n",
       "      <td>1</td>\n",
       "      <td>1295193004144242690</td>\n",
       "      <td>False</td>\n",
       "      <td>Y’all know and I know I’m never leaving this b...</td>\n",
       "      <td>1255365753517285376</td>\n",
       "      <td>2020-08-17 02:57:30</td>\n",
       "      <td>dtmjasminee</td>\n",
       "      <td>Twitter for iPhone</td>\n",
       "      <td>63</td>\n",
       "      <td>NaN</td>\n",
       "      <td>...</td>\n",
       "      <td>2020-04-29 05:18:22</td>\n",
       "      <td>0</td>\n",
       "      <td>NaN</td>\n",
       "      <td>NaN</td>\n",
       "      <td>NaN</td>\n",
       "      <td>https://pbs.twimg.com/profile_banners/12553657...</td>\n",
       "      <td>NaN</td>\n",
       "      <td>http://pbs.twimg.com/profile_images/1274031744...</td>\n",
       "      <td>#jnj</td>\n",
       "      <td>13</td>\n",
       "    </tr>\n",
       "    <tr>\n",
       "      <th>1</th>\n",
       "      <td>2</td>\n",
       "      <td>1300190881467846656</td>\n",
       "      <td>False</td>\n",
       "      <td>@SuperKelli24 Such a funny scene! #JnJ</td>\n",
       "      <td>133471182</td>\n",
       "      <td>2020-08-30 21:57:17</td>\n",
       "      <td>Amyreader100</td>\n",
       "      <td>Twitter for iPad</td>\n",
       "      <td>24</td>\n",
       "      <td>1.300187e+18</td>\n",
       "      <td>...</td>\n",
       "      <td>2010-04-15 22:06:08</td>\n",
       "      <td>0</td>\n",
       "      <td>NaN</td>\n",
       "      <td>NaN</td>\n",
       "      <td>NaN</td>\n",
       "      <td>https://pbs.twimg.com/profile_banners/13347118...</td>\n",
       "      <td>http://abs.twimg.com/images/themes/theme1/bg.png</td>\n",
       "      <td>http://pbs.twimg.com/profile_images/1213468646...</td>\n",
       "      <td>#jnj</td>\n",
       "      <td>6</td>\n",
       "    </tr>\n",
       "    <tr>\n",
       "      <th>2</th>\n",
       "      <td>3</td>\n",
       "      <td>1299699123428290561</td>\n",
       "      <td>False</td>\n",
       "      <td>J&amp;amp;JOHNSON, Flag-Formation Confirmed, Conti...</td>\n",
       "      <td>1142737563481980931</td>\n",
       "      <td>2020-08-29 13:23:12</td>\n",
       "      <td>VincePrince244</td>\n",
       "      <td>TradingView</td>\n",
       "      <td>100</td>\n",
       "      <td>NaN</td>\n",
       "      <td>...</td>\n",
       "      <td>2019-06-23 10:14:00</td>\n",
       "      <td>0</td>\n",
       "      <td>NaN</td>\n",
       "      <td>NaN</td>\n",
       "      <td>NaN</td>\n",
       "      <td>https://pbs.twimg.com/profile_banners/11427375...</td>\n",
       "      <td>NaN</td>\n",
       "      <td>http://pbs.twimg.com/profile_images/1160910657...</td>\n",
       "      <td>#jnj</td>\n",
       "      <td>9</td>\n",
       "    </tr>\n",
       "    <tr>\n",
       "      <th>3</th>\n",
       "      <td>4</td>\n",
       "      <td>1299558944982134784</td>\n",
       "      <td>False</td>\n",
       "      <td>$JNJ's daily RSI hasn't touched 69 since its F...</td>\n",
       "      <td>1282487181211168769</td>\n",
       "      <td>2020-08-29 04:06:11</td>\n",
       "      <td>options__edge</td>\n",
       "      <td>Twitter Web App</td>\n",
       "      <td>155</td>\n",
       "      <td>NaN</td>\n",
       "      <td>...</td>\n",
       "      <td>2020-07-13 01:29:36</td>\n",
       "      <td>0</td>\n",
       "      <td>https://t.co/qlZko56SxU</td>\n",
       "      <td>http://optionsedge.io</td>\n",
       "      <td>NaN</td>\n",
       "      <td>https://pbs.twimg.com/profile_banners/12824871...</td>\n",
       "      <td>NaN</td>\n",
       "      <td>http://pbs.twimg.com/profile_images/1285053865...</td>\n",
       "      <td>#jnj</td>\n",
       "      <td>31</td>\n",
       "    </tr>\n",
       "    <tr>\n",
       "      <th>4</th>\n",
       "      <td>5</td>\n",
       "      <td>1299474674066305024</td>\n",
       "      <td>False</td>\n",
       "      <td>We have an outstanding opportunity to join our...</td>\n",
       "      <td>1705053332</td>\n",
       "      <td>2020-08-28 22:31:20</td>\n",
       "      <td>CaliforniaLopez</td>\n",
       "      <td>LinkedIn</td>\n",
       "      <td>278</td>\n",
       "      <td>NaN</td>\n",
       "      <td>...</td>\n",
       "      <td>2013-08-27 16:12:51</td>\n",
       "      <td>0</td>\n",
       "      <td>https://t.co/ZjjMOq2pu3</td>\n",
       "      <td>http://careers.jnj.com</td>\n",
       "      <td>NaN</td>\n",
       "      <td>NaN</td>\n",
       "      <td>http://abs.twimg.com/images/themes/theme1/bg.png</td>\n",
       "      <td>http://pbs.twimg.com/profile_images/4431589516...</td>\n",
       "      <td>#jnj</td>\n",
       "      <td>34</td>\n",
       "    </tr>\n",
       "  </tbody>\n",
       "</table>\n",
       "<p>5 rows × 94 columns</p>\n",
       "</div>"
      ],
      "text/plain": [
       "   Unnamed: 0            status_id  medical_device  \\\n",
       "0           1  1295193004144242690           False   \n",
       "1           2  1300190881467846656           False   \n",
       "2           3  1299699123428290561           False   \n",
       "3           4  1299558944982134784           False   \n",
       "4           5  1299474674066305024           False   \n",
       "\n",
       "                                                text              user_id  \\\n",
       "0  Y’all know and I know I’m never leaving this b...  1255365753517285376   \n",
       "1             @SuperKelli24 Such a funny scene! #JnJ            133471182   \n",
       "2  J&amp;JOHNSON, Flag-Formation Confirmed, Conti...  1142737563481980931   \n",
       "3  $JNJ's daily RSI hasn't touched 69 since its F...  1282487181211168769   \n",
       "4  We have an outstanding opportunity to join our...           1705053332   \n",
       "\n",
       "            created_at      screen_name              source  \\\n",
       "0  2020-08-17 02:57:30      dtmjasminee  Twitter for iPhone   \n",
       "1  2020-08-30 21:57:17     Amyreader100    Twitter for iPad   \n",
       "2  2020-08-29 13:23:12   VincePrince244         TradingView   \n",
       "3  2020-08-29 04:06:11    options__edge     Twitter Web App   \n",
       "4  2020-08-28 22:31:20  CaliforniaLopez            LinkedIn   \n",
       "\n",
       "   display_text_width  reply_to_status_id  ...   account_created_at verified  \\\n",
       "0                  63                 NaN  ...  2020-04-29 05:18:22        0   \n",
       "1                  24        1.300187e+18  ...  2010-04-15 22:06:08        0   \n",
       "2                 100                 NaN  ...  2019-06-23 10:14:00        0   \n",
       "3                 155                 NaN  ...  2020-07-13 01:29:36        0   \n",
       "4                 278                 NaN  ...  2013-08-27 16:12:51        0   \n",
       "\n",
       "               profile_url    profile_expanded_url  account_lang  \\\n",
       "0                      NaN                     NaN           NaN   \n",
       "1                      NaN                     NaN           NaN   \n",
       "2                      NaN                     NaN           NaN   \n",
       "3  https://t.co/qlZko56SxU   http://optionsedge.io           NaN   \n",
       "4  https://t.co/ZjjMOq2pu3  http://careers.jnj.com           NaN   \n",
       "\n",
       "                                  profile_banner_url  \\\n",
       "0  https://pbs.twimg.com/profile_banners/12553657...   \n",
       "1  https://pbs.twimg.com/profile_banners/13347118...   \n",
       "2  https://pbs.twimg.com/profile_banners/11427375...   \n",
       "3  https://pbs.twimg.com/profile_banners/12824871...   \n",
       "4                                                NaN   \n",
       "\n",
       "                             profile_background_url  \\\n",
       "0                                               NaN   \n",
       "1  http://abs.twimg.com/images/themes/theme1/bg.png   \n",
       "2                                               NaN   \n",
       "3                                               NaN   \n",
       "4  http://abs.twimg.com/images/themes/theme1/bg.png   \n",
       "\n",
       "                                   profile_image_url query Num_words  \n",
       "0  http://pbs.twimg.com/profile_images/1274031744...  #jnj        13  \n",
       "1  http://pbs.twimg.com/profile_images/1213468646...  #jnj         6  \n",
       "2  http://pbs.twimg.com/profile_images/1160910657...  #jnj         9  \n",
       "3  http://pbs.twimg.com/profile_images/1285053865...  #jnj        31  \n",
       "4  http://pbs.twimg.com/profile_images/4431589516...  #jnj        34  \n",
       "\n",
       "[5 rows x 94 columns]"
      ]
     },
     "execution_count": 164,
     "metadata": {},
     "output_type": "execute_result"
    }
   ],
   "source": [
    "tweets.head()"
   ]
  },
  {
   "cell_type": "code",
   "execution_count": 165,
   "metadata": {},
   "outputs": [
    {
     "data": {
      "image/png": "[encoded data removed]",
      "text/plain": [
       "<Figure size 864x432 with 1 Axes>"
      ]
     },
     "metadata": {
      "needs_background": "light"
     },
     "output_type": "display_data"
    }
   ],
   "source": [
    "plt.figure(figsize=(12,6))\n",
    "p1=sns.kdeplot(tweets[tweets['medical_device']==True]['Num_words'], shade=True, color=\"b\").set_title('KDE of numbers of words across different class')\n",
    "p2=sns.kdeplot(tweets[tweets['medical_device']==False]['Num_words'], shade=True, color=\"r\")\n",
    "plt.legend(labels=['True','False'])\n",
    "plt.savefig('KDE')\n",
    "plt.show()"
   ]
  },
  {
   "cell_type": "code",
   "execution_count": 166,
   "metadata": {},
   "outputs": [
    {
     "data": {
      "text/html": [
       "<div>\n",
       "<style scoped>\n",
       "    .dataframe tbody tr th:only-of-type {\n",
       "        vertical-align: middle;\n",
       "    }\n",
       "\n",
       "    .dataframe tbody tr th {\n",
       "        vertical-align: top;\n",
       "    }\n",
       "\n",
       "    .dataframe thead th {\n",
       "        text-align: right;\n",
       "    }\n",
       "</style>\n",
       "<table border=\"1\" class=\"dataframe\">\n",
       "  <thead>\n",
       "    <tr style=\"text-align: right;\">\n",
       "      <th></th>\n",
       "      <th>Unnamed: 0</th>\n",
       "      <th>status_id</th>\n",
       "      <th>medical_device</th>\n",
       "      <th>text</th>\n",
       "      <th>user_id</th>\n",
       "      <th>created_at</th>\n",
       "      <th>screen_name</th>\n",
       "      <th>source</th>\n",
       "      <th>display_text_width</th>\n",
       "      <th>reply_to_status_id</th>\n",
       "      <th>...</th>\n",
       "      <th>account_created_at</th>\n",
       "      <th>verified</th>\n",
       "      <th>profile_url</th>\n",
       "      <th>profile_expanded_url</th>\n",
       "      <th>account_lang</th>\n",
       "      <th>profile_banner_url</th>\n",
       "      <th>profile_background_url</th>\n",
       "      <th>profile_image_url</th>\n",
       "      <th>query</th>\n",
       "      <th>Num_words</th>\n",
       "    </tr>\n",
       "  </thead>\n",
       "  <tbody>\n",
       "    <tr>\n",
       "      <th>20</th>\n",
       "      <td>21</td>\n",
       "      <td>1297945036940808192</td>\n",
       "      <td>True</td>\n",
       "      <td>C-SATS started as a research project at the @U...</td>\n",
       "      <td>3166000867</td>\n",
       "      <td>2020-08-24 17:13:06</td>\n",
       "      <td>CSATSinc</td>\n",
       "      <td>Sprout Social</td>\n",
       "      <td>222</td>\n",
       "      <td>NaN</td>\n",
       "      <td>...</td>\n",
       "      <td>2015-04-20 22:09:38</td>\n",
       "      <td>0</td>\n",
       "      <td>http://t.co/nfUfQ0G1dr</td>\n",
       "      <td>http://www.csats.com/</td>\n",
       "      <td>NaN</td>\n",
       "      <td>https://pbs.twimg.com/profile_banners/31660008...</td>\n",
       "      <td>http://abs.twimg.com/images/themes/theme1/bg.png</td>\n",
       "      <td>http://pbs.twimg.com/profile_images/1169368804...</td>\n",
       "      <td>#jnj</td>\n",
       "      <td>29</td>\n",
       "    </tr>\n",
       "    <tr>\n",
       "      <th>40</th>\n",
       "      <td>41</td>\n",
       "      <td>1296289194822651905</td>\n",
       "      <td>True</td>\n",
       "      <td>@sambitswaraj needs some clear glasses. Try #j...</td>\n",
       "      <td>701409756</td>\n",
       "      <td>2020-08-20 03:33:22</td>\n",
       "      <td>adzynamic</td>\n",
       "      <td>Twitter for Android</td>\n",
       "      <td>110</td>\n",
       "      <td>NaN</td>\n",
       "      <td>...</td>\n",
       "      <td>2012-07-17 17:08:19</td>\n",
       "      <td>0</td>\n",
       "      <td>NaN</td>\n",
       "      <td>NaN</td>\n",
       "      <td>NaN</td>\n",
       "      <td>https://pbs.twimg.com/profile_banners/70140975...</td>\n",
       "      <td>http://abs.twimg.com/images/themes/theme14/bg.gif</td>\n",
       "      <td>http://pbs.twimg.com/profile_images/1258108264...</td>\n",
       "      <td>#jnj</td>\n",
       "      <td>18</td>\n",
       "    </tr>\n",
       "    <tr>\n",
       "      <th>45</th>\n",
       "      <td>46</td>\n",
       "      <td>1296160913112932352</td>\n",
       "      <td>True</td>\n",
       "      <td>ICYMI:  @huzefafn, Vice President, #JNJ Digita...</td>\n",
       "      <td>3166000867</td>\n",
       "      <td>2020-08-19 19:03:37</td>\n",
       "      <td>CSATSinc</td>\n",
       "      <td>Twitter Web App</td>\n",
       "      <td>260</td>\n",
       "      <td>NaN</td>\n",
       "      <td>...</td>\n",
       "      <td>2015-04-20 22:09:38</td>\n",
       "      <td>0</td>\n",
       "      <td>http://t.co/nfUfQ0G1dr</td>\n",
       "      <td>http://www.csats.com/</td>\n",
       "      <td>NaN</td>\n",
       "      <td>https://pbs.twimg.com/profile_banners/31660008...</td>\n",
       "      <td>http://abs.twimg.com/images/themes/theme1/bg.png</td>\n",
       "      <td>http://pbs.twimg.com/profile_images/1169368804...</td>\n",
       "      <td>#jnj</td>\n",
       "      <td>27</td>\n",
       "    </tr>\n",
       "    <tr>\n",
       "      <th>66</th>\n",
       "      <td>67</td>\n",
       "      <td>1294375742583832583</td>\n",
       "      <td>True</td>\n",
       "      <td>Don’t miss out! Register for our complimentary...</td>\n",
       "      <td>3166000867</td>\n",
       "      <td>2020-08-14 20:50:00</td>\n",
       "      <td>CSATSinc</td>\n",
       "      <td>Twitter for iPhone</td>\n",
       "      <td>273</td>\n",
       "      <td>NaN</td>\n",
       "      <td>...</td>\n",
       "      <td>2015-04-20 22:09:38</td>\n",
       "      <td>0</td>\n",
       "      <td>http://t.co/nfUfQ0G1dr</td>\n",
       "      <td>http://www.csats.com/</td>\n",
       "      <td>NaN</td>\n",
       "      <td>https://pbs.twimg.com/profile_banners/31660008...</td>\n",
       "      <td>http://abs.twimg.com/images/themes/theme1/bg.png</td>\n",
       "      <td>http://pbs.twimg.com/profile_images/1169368804...</td>\n",
       "      <td>#jnj</td>\n",
       "      <td>33</td>\n",
       "    </tr>\n",
       "    <tr>\n",
       "      <th>69</th>\n",
       "      <td>70</td>\n",
       "      <td>1293925500528791553</td>\n",
       "      <td>True</td>\n",
       "      <td>Biosense Webster receives CE mark approval for...</td>\n",
       "      <td>473416032</td>\n",
       "      <td>2020-08-13 15:00:53</td>\n",
       "      <td>kelly_rkelly</td>\n",
       "      <td>Twitter Web App</td>\n",
       "      <td>115</td>\n",
       "      <td>NaN</td>\n",
       "      <td>...</td>\n",
       "      <td>2012-01-24 23:28:32</td>\n",
       "      <td>0</td>\n",
       "      <td>NaN</td>\n",
       "      <td>NaN</td>\n",
       "      <td>NaN</td>\n",
       "      <td>NaN</td>\n",
       "      <td>http://abs.twimg.com/images/themes/theme1/bg.png</td>\n",
       "      <td>http://pbs.twimg.com/profile_images/9224008823...</td>\n",
       "      <td>#jnj</td>\n",
       "      <td>14</td>\n",
       "    </tr>\n",
       "    <tr>\n",
       "      <th>...</th>\n",
       "      <td>...</td>\n",
       "      <td>...</td>\n",
       "      <td>...</td>\n",
       "      <td>...</td>\n",
       "      <td>...</td>\n",
       "      <td>...</td>\n",
       "      <td>...</td>\n",
       "      <td>...</td>\n",
       "      <td>...</td>\n",
       "      <td>...</td>\n",
       "      <td>...</td>\n",
       "      <td>...</td>\n",
       "      <td>...</td>\n",
       "      <td>...</td>\n",
       "      <td>...</td>\n",
       "      <td>...</td>\n",
       "      <td>...</td>\n",
       "      <td>...</td>\n",
       "      <td>...</td>\n",
       "      <td>...</td>\n",
       "      <td>...</td>\n",
       "    </tr>\n",
       "    <tr>\n",
       "      <th>4630</th>\n",
       "      <td>4631</td>\n",
       "      <td>1488183234085203980</td>\n",
       "      <td>True</td>\n",
       "      <td>#MedEdWest surgical trainees and medical stude...</td>\n",
       "      <td>730410919</td>\n",
       "      <td>2022-01-31 16:11:46</td>\n",
       "      <td>McgeeSinead</td>\n",
       "      <td>Twitter for iPad</td>\n",
       "      <td>207</td>\n",
       "      <td>NaN</td>\n",
       "      <td>...</td>\n",
       "      <td>2012-08-01 10:15:09</td>\n",
       "      <td>0</td>\n",
       "      <td>NaN</td>\n",
       "      <td>NaN</td>\n",
       "      <td>NaN</td>\n",
       "      <td>NaN</td>\n",
       "      <td>http://abs.twimg.com/images/themes/theme1/bg.png</td>\n",
       "      <td>http://pbs.twimg.com/profile_images/1321614783...</td>\n",
       "      <td>\"ETHICON\"</td>\n",
       "      <td>24</td>\n",
       "    </tr>\n",
       "    <tr>\n",
       "      <th>4631</th>\n",
       "      <td>4632</td>\n",
       "      <td>1488167498902130689</td>\n",
       "      <td>True</td>\n",
       "      <td>TOMORROW | Hear about managing LINX patients f...</td>\n",
       "      <td>991959173847048192</td>\n",
       "      <td>2022-01-31 15:09:15</td>\n",
       "      <td>EndoscopyNow</td>\n",
       "      <td>Twitter Web App</td>\n",
       "      <td>265</td>\n",
       "      <td>NaN</td>\n",
       "      <td>...</td>\n",
       "      <td>2018-05-03 08:34:31</td>\n",
       "      <td>0</td>\n",
       "      <td>https://t.co/66uXRIN2qh</td>\n",
       "      <td>http://www.endoscopynow.com</td>\n",
       "      <td>NaN</td>\n",
       "      <td>https://pbs.twimg.com/profile_banners/99195917...</td>\n",
       "      <td>http://abs.twimg.com/images/themes/theme1/bg.png</td>\n",
       "      <td>http://pbs.twimg.com/profile_images/9961238233...</td>\n",
       "      <td>\"ETHICON\"</td>\n",
       "      <td>31</td>\n",
       "    </tr>\n",
       "    <tr>\n",
       "      <th>4632</th>\n",
       "      <td>4633</td>\n",
       "      <td>1488124893581430785</td>\n",
       "      <td>True</td>\n",
       "      <td>@Weebrian @WesternHSCTrust Morning session in ...</td>\n",
       "      <td>812916565</td>\n",
       "      <td>2022-01-31 12:19:57</td>\n",
       "      <td>boyce_kathryn</td>\n",
       "      <td>Twitter for iPhone</td>\n",
       "      <td>85</td>\n",
       "      <td>1.487130e+18</td>\n",
       "      <td>...</td>\n",
       "      <td>2012-09-09 11:12:51</td>\n",
       "      <td>0</td>\n",
       "      <td>NaN</td>\n",
       "      <td>NaN</td>\n",
       "      <td>NaN</td>\n",
       "      <td>https://pbs.twimg.com/profile_banners/81291656...</td>\n",
       "      <td>http://abs.twimg.com/images/themes/theme1/bg.png</td>\n",
       "      <td>http://pbs.twimg.com/profile_images/1453442395...</td>\n",
       "      <td>\"ETHICON\"</td>\n",
       "      <td>16</td>\n",
       "    </tr>\n",
       "    <tr>\n",
       "      <th>4634</th>\n",
       "      <td>4635</td>\n",
       "      <td>1491117699447275521</td>\n",
       "      <td>True</td>\n",
       "      <td>Biosense Webster is part of the Johnson&amp;amp;Jo...</td>\n",
       "      <td>1363691492099977217</td>\n",
       "      <td>2022-02-08 18:32:17</td>\n",
       "      <td>med_tec2</td>\n",
       "      <td>Twitter for iPhone</td>\n",
       "      <td>280</td>\n",
       "      <td>1.491118e+18</td>\n",
       "      <td>...</td>\n",
       "      <td>2021-02-22 03:26:17</td>\n",
       "      <td>0</td>\n",
       "      <td>https://t.co/r4h4F0pH8l</td>\n",
       "      <td>http://tec2med.pt/</td>\n",
       "      <td>NaN</td>\n",
       "      <td>https://pbs.twimg.com/profile_banners/13636914...</td>\n",
       "      <td>NaN</td>\n",
       "      <td>http://pbs.twimg.com/profile_images/1363691861...</td>\n",
       "      <td>\"BIOSENSE WEBSTER\"</td>\n",
       "      <td>39</td>\n",
       "    </tr>\n",
       "    <tr>\n",
       "      <th>4635</th>\n",
       "      <td>4636</td>\n",
       "      <td>1490948786650157059</td>\n",
       "      <td>True</td>\n",
       "      <td>Cardiac Mapping Market\\nhttps://t.co/oBNqvTHD3W</td>\n",
       "      <td>1483738702417625092</td>\n",
       "      <td>2022-02-08 07:21:05</td>\n",
       "      <td>Samuela69713106</td>\n",
       "      <td>Twitter Web App</td>\n",
       "      <td>46</td>\n",
       "      <td>NaN</td>\n",
       "      <td>...</td>\n",
       "      <td>2022-01-19 09:51:02</td>\n",
       "      <td>0</td>\n",
       "      <td>NaN</td>\n",
       "      <td>NaN</td>\n",
       "      <td>NaN</td>\n",
       "      <td>NaN</td>\n",
       "      <td>NaN</td>\n",
       "      <td>http://pbs.twimg.com/profile_images/1483738764...</td>\n",
       "      <td>\"BIOSENSE WEBSTER\"</td>\n",
       "      <td>4</td>\n",
       "    </tr>\n",
       "  </tbody>\n",
       "</table>\n",
       "<p>483 rows × 94 columns</p>\n",
       "</div>"
      ],
      "text/plain": [
       "      Unnamed: 0            status_id  medical_device  \\\n",
       "20            21  1297945036940808192            True   \n",
       "40            41  1296289194822651905            True   \n",
       "45            46  1296160913112932352            True   \n",
       "66            67  1294375742583832583            True   \n",
       "69            70  1293925500528791553            True   \n",
       "...          ...                  ...             ...   \n",
       "4630        4631  1488183234085203980            True   \n",
       "4631        4632  1488167498902130689            True   \n",
       "4632        4633  1488124893581430785            True   \n",
       "4634        4635  1491117699447275521            True   \n",
       "4635        4636  1490948786650157059            True   \n",
       "\n",
       "                                                   text              user_id  \\\n",
       "20    C-SATS started as a research project at the @U...           3166000867   \n",
       "40    @sambitswaraj needs some clear glasses. Try #j...            701409756   \n",
       "45    ICYMI:  @huzefafn, Vice President, #JNJ Digita...           3166000867   \n",
       "66    Don’t miss out! Register for our complimentary...           3166000867   \n",
       "69    Biosense Webster receives CE mark approval for...            473416032   \n",
       "...                                                 ...                  ...   \n",
       "4630  #MedEdWest surgical trainees and medical stude...            730410919   \n",
       "4631  TOMORROW | Hear about managing LINX patients f...   991959173847048192   \n",
       "4632  @Weebrian @WesternHSCTrust Morning session in ...            812916565   \n",
       "4634  Biosense Webster is part of the Johnson&amp;Jo...  1363691492099977217   \n",
       "4635    Cardiac Mapping Market\\nhttps://t.co/oBNqvTHD3W  1483738702417625092   \n",
       "\n",
       "               created_at      screen_name               source  \\\n",
       "20    2020-08-24 17:13:06         CSATSinc        Sprout Social   \n",
       "40    2020-08-20 03:33:22        adzynamic  Twitter for Android   \n",
       "45    2020-08-19 19:03:37         CSATSinc      Twitter Web App   \n",
       "66    2020-08-14 20:50:00         CSATSinc   Twitter for iPhone   \n",
       "69    2020-08-13 15:00:53     kelly_rkelly      Twitter Web App   \n",
       "...                   ...              ...                  ...   \n",
       "4630  2022-01-31 16:11:46      McgeeSinead     Twitter for iPad   \n",
       "4631  2022-01-31 15:09:15     EndoscopyNow      Twitter Web App   \n",
       "4632  2022-01-31 12:19:57    boyce_kathryn   Twitter for iPhone   \n",
       "4634  2022-02-08 18:32:17         med_tec2   Twitter for iPhone   \n",
       "4635  2022-02-08 07:21:05  Samuela69713106      Twitter Web App   \n",
       "\n",
       "      display_text_width  reply_to_status_id  ...   account_created_at  \\\n",
       "20                   222                 NaN  ...  2015-04-20 22:09:38   \n",
       "40                   110                 NaN  ...  2012-07-17 17:08:19   \n",
       "45                   260                 NaN  ...  2015-04-20 22:09:38   \n",
       "66                   273                 NaN  ...  2015-04-20 22:09:38   \n",
       "69                   115                 NaN  ...  2012-01-24 23:28:32   \n",
       "...                  ...                 ...  ...                  ...   \n",
       "4630                 207                 NaN  ...  2012-08-01 10:15:09   \n",
       "4631                 265                 NaN  ...  2018-05-03 08:34:31   \n",
       "4632                  85        1.487130e+18  ...  2012-09-09 11:12:51   \n",
       "4634                 280        1.491118e+18  ...  2021-02-22 03:26:17   \n",
       "4635                  46                 NaN  ...  2022-01-19 09:51:02   \n",
       "\n",
       "     verified              profile_url         profile_expanded_url  \\\n",
       "20          0   http://t.co/nfUfQ0G1dr        http://www.csats.com/   \n",
       "40          0                      NaN                          NaN   \n",
       "45          0   http://t.co/nfUfQ0G1dr        http://www.csats.com/   \n",
       "66          0   http://t.co/nfUfQ0G1dr        http://www.csats.com/   \n",
       "69          0                      NaN                          NaN   \n",
       "...       ...                      ...                          ...   \n",
       "4630        0                      NaN                          NaN   \n",
       "4631        0  https://t.co/66uXRIN2qh  http://www.endoscopynow.com   \n",
       "4632        0                      NaN                          NaN   \n",
       "4634        0  https://t.co/r4h4F0pH8l           http://tec2med.pt/   \n",
       "4635        0                      NaN                          NaN   \n",
       "\n",
       "      account_lang                                 profile_banner_url  \\\n",
       "20             NaN  https://pbs.twimg.com/profile_banners/31660008...   \n",
       "40             NaN  https://pbs.twimg.com/profile_banners/70140975...   \n",
       "45             NaN  https://pbs.twimg.com/profile_banners/31660008...   \n",
       "66             NaN  https://pbs.twimg.com/profile_banners/31660008...   \n",
       "69             NaN                                                NaN   \n",
       "...            ...                                                ...   \n",
       "4630           NaN                                                NaN   \n",
       "4631           NaN  https://pbs.twimg.com/profile_banners/99195917...   \n",
       "4632           NaN  https://pbs.twimg.com/profile_banners/81291656...   \n",
       "4634           NaN  https://pbs.twimg.com/profile_banners/13636914...   \n",
       "4635           NaN                                                NaN   \n",
       "\n",
       "                                 profile_background_url  \\\n",
       "20     http://abs.twimg.com/images/themes/theme1/bg.png   \n",
       "40    http://abs.twimg.com/images/themes/theme14/bg.gif   \n",
       "45     http://abs.twimg.com/images/themes/theme1/bg.png   \n",
       "66     http://abs.twimg.com/images/themes/theme1/bg.png   \n",
       "69     http://abs.twimg.com/images/themes/theme1/bg.png   \n",
       "...                                                 ...   \n",
       "4630   http://abs.twimg.com/images/themes/theme1/bg.png   \n",
       "4631   http://abs.twimg.com/images/themes/theme1/bg.png   \n",
       "4632   http://abs.twimg.com/images/themes/theme1/bg.png   \n",
       "4634                                                NaN   \n",
       "4635                                                NaN   \n",
       "\n",
       "                                      profile_image_url               query  \\\n",
       "20    http://pbs.twimg.com/profile_images/1169368804...                #jnj   \n",
       "40    http://pbs.twimg.com/profile_images/1258108264...                #jnj   \n",
       "45    http://pbs.twimg.com/profile_images/1169368804...                #jnj   \n",
       "66    http://pbs.twimg.com/profile_images/1169368804...                #jnj   \n",
       "69    http://pbs.twimg.com/profile_images/9224008823...                #jnj   \n",
       "...                                                 ...                 ...   \n",
       "4630  http://pbs.twimg.com/profile_images/1321614783...           \"ETHICON\"   \n",
       "4631  http://pbs.twimg.com/profile_images/9961238233...           \"ETHICON\"   \n",
       "4632  http://pbs.twimg.com/profile_images/1453442395...           \"ETHICON\"   \n",
       "4634  http://pbs.twimg.com/profile_images/1363691861...  \"BIOSENSE WEBSTER\"   \n",
       "4635  http://pbs.twimg.com/profile_images/1483738764...  \"BIOSENSE WEBSTER\"   \n",
       "\n",
       "     Num_words  \n",
       "20          29  \n",
       "40          18  \n",
       "45          27  \n",
       "66          33  \n",
       "69          14  \n",
       "...        ...  \n",
       "4630        24  \n",
       "4631        31  \n",
       "4632        16  \n",
       "4634        39  \n",
       "4635         4  \n",
       "\n",
       "[483 rows x 94 columns]"
      ]
     },
     "execution_count": 166,
     "metadata": {},
     "output_type": "execute_result"
    }
   ],
   "source": [
    "tweets[tweets['medical_device']==True]"
   ]
  },
  {
   "cell_type": "code",
   "execution_count": 167,
   "metadata": {},
   "outputs": [],
   "source": [
    "k = tweets[tweets['Num_words']<=5]"
   ]
  },
  {
   "cell_type": "code",
   "execution_count": 168,
   "metadata": {},
   "outputs": [
    {
     "data": {
      "text/html": [
       "<div>\n",
       "<style scoped>\n",
       "    .dataframe tbody tr th:only-of-type {\n",
       "        vertical-align: middle;\n",
       "    }\n",
       "\n",
       "    .dataframe tbody tr th {\n",
       "        vertical-align: top;\n",
       "    }\n",
       "\n",
       "    .dataframe thead th {\n",
       "        text-align: right;\n",
       "    }\n",
       "</style>\n",
       "<table border=\"1\" class=\"dataframe\">\n",
       "  <thead>\n",
       "    <tr style=\"text-align: right;\">\n",
       "      <th></th>\n",
       "      <th>Unnamed: 0</th>\n",
       "      <th>status_id</th>\n",
       "      <th>medical_device</th>\n",
       "      <th>text</th>\n",
       "      <th>user_id</th>\n",
       "      <th>created_at</th>\n",
       "      <th>screen_name</th>\n",
       "      <th>source</th>\n",
       "      <th>display_text_width</th>\n",
       "      <th>reply_to_status_id</th>\n",
       "      <th>...</th>\n",
       "      <th>account_created_at</th>\n",
       "      <th>verified</th>\n",
       "      <th>profile_url</th>\n",
       "      <th>profile_expanded_url</th>\n",
       "      <th>account_lang</th>\n",
       "      <th>profile_banner_url</th>\n",
       "      <th>profile_background_url</th>\n",
       "      <th>profile_image_url</th>\n",
       "      <th>query</th>\n",
       "      <th>Num_words</th>\n",
       "    </tr>\n",
       "  </thead>\n",
       "  <tbody>\n",
       "    <tr>\n",
       "      <th>2671</th>\n",
       "      <td>2672</td>\n",
       "      <td>1343768575241293824</td>\n",
       "      <td>True</td>\n",
       "      <td>@Ethicon What is surgical smoke?</td>\n",
       "      <td>1055579178</td>\n",
       "      <td>2020-12-29 03:59:29</td>\n",
       "      <td>Strong4895</td>\n",
       "      <td>Twitter for iPad</td>\n",
       "      <td>23</td>\n",
       "      <td>1.336038e+18</td>\n",
       "      <td>...</td>\n",
       "      <td>2013-01-02 17:02:14</td>\n",
       "      <td>0</td>\n",
       "      <td>NaN</td>\n",
       "      <td>NaN</td>\n",
       "      <td>NaN</td>\n",
       "      <td>https://pbs.twimg.com/profile_banners/10555791...</td>\n",
       "      <td>http://abs.twimg.com/images/themes/theme1/bg.png</td>\n",
       "      <td>http://pbs.twimg.com/profile_images/1152961585...</td>\n",
       "      <td>ethicon</td>\n",
       "      <td>5</td>\n",
       "    </tr>\n",
       "    <tr>\n",
       "      <th>2802</th>\n",
       "      <td>2803</td>\n",
       "      <td>1355833901172846595</td>\n",
       "      <td>True</td>\n",
       "      <td>Hermonic Ethicon Whatsapp +923157651238 https:...</td>\n",
       "      <td>1129470938402238466</td>\n",
       "      <td>2021-01-31 11:02:46</td>\n",
       "      <td>ajwa_surgical</td>\n",
       "      <td>Twitter for Android</td>\n",
       "      <td>39</td>\n",
       "      <td>NaN</td>\n",
       "      <td>...</td>\n",
       "      <td>2019-05-17 19:37:11</td>\n",
       "      <td>0</td>\n",
       "      <td>https://t.co/wCRwXkk4jn</td>\n",
       "      <td>http://www.ajwasurgical.com</td>\n",
       "      <td>NaN</td>\n",
       "      <td>https://pbs.twimg.com/profile_banners/11294709...</td>\n",
       "      <td>NaN</td>\n",
       "      <td>http://pbs.twimg.com/profile_images/1129471138...</td>\n",
       "      <td>ethicon</td>\n",
       "      <td>5</td>\n",
       "    </tr>\n",
       "    <tr>\n",
       "      <th>4099</th>\n",
       "      <td>4100</td>\n",
       "      <td>1490611222105915392</td>\n",
       "      <td>True</td>\n",
       "      <td>Gastrointestinal Devices Market\\nhttps://t.co/...</td>\n",
       "      <td>1483679086660964358</td>\n",
       "      <td>2022-02-07 08:59:44</td>\n",
       "      <td>sai_konapure</td>\n",
       "      <td>Twitter Web App</td>\n",
       "      <td>55</td>\n",
       "      <td>NaN</td>\n",
       "      <td>...</td>\n",
       "      <td>2022-01-19 05:54:26</td>\n",
       "      <td>0</td>\n",
       "      <td>NaN</td>\n",
       "      <td>NaN</td>\n",
       "      <td>NaN</td>\n",
       "      <td>NaN</td>\n",
       "      <td>NaN</td>\n",
       "      <td>http://pbs.twimg.com/profile_images/1483679221...</td>\n",
       "      <td>\"ETHICON\"</td>\n",
       "      <td>4</td>\n",
       "    </tr>\n",
       "    <tr>\n",
       "      <th>4100</th>\n",
       "      <td>4101</td>\n",
       "      <td>1488502525384749057</td>\n",
       "      <td>True</td>\n",
       "      <td>Tumor Ablation Devices Market\\nhttps://t.co/bp...</td>\n",
       "      <td>1483679086660964358</td>\n",
       "      <td>2022-02-01 13:20:31</td>\n",
       "      <td>sai_konapure</td>\n",
       "      <td>Twitter Web App</td>\n",
       "      <td>53</td>\n",
       "      <td>NaN</td>\n",
       "      <td>...</td>\n",
       "      <td>2022-01-19 05:54:26</td>\n",
       "      <td>0</td>\n",
       "      <td>NaN</td>\n",
       "      <td>NaN</td>\n",
       "      <td>NaN</td>\n",
       "      <td>NaN</td>\n",
       "      <td>NaN</td>\n",
       "      <td>http://pbs.twimg.com/profile_images/1483679221...</td>\n",
       "      <td>\"ETHICON\"</td>\n",
       "      <td>5</td>\n",
       "    </tr>\n",
       "    <tr>\n",
       "      <th>4635</th>\n",
       "      <td>4636</td>\n",
       "      <td>1490948786650157059</td>\n",
       "      <td>True</td>\n",
       "      <td>Cardiac Mapping Market\\nhttps://t.co/oBNqvTHD3W</td>\n",
       "      <td>1483738702417625092</td>\n",
       "      <td>2022-02-08 07:21:05</td>\n",
       "      <td>Samuela69713106</td>\n",
       "      <td>Twitter Web App</td>\n",
       "      <td>46</td>\n",
       "      <td>NaN</td>\n",
       "      <td>...</td>\n",
       "      <td>2022-01-19 09:51:02</td>\n",
       "      <td>0</td>\n",
       "      <td>NaN</td>\n",
       "      <td>NaN</td>\n",
       "      <td>NaN</td>\n",
       "      <td>NaN</td>\n",
       "      <td>NaN</td>\n",
       "      <td>http://pbs.twimg.com/profile_images/1483738764...</td>\n",
       "      <td>\"BIOSENSE WEBSTER\"</td>\n",
       "      <td>4</td>\n",
       "    </tr>\n",
       "  </tbody>\n",
       "</table>\n",
       "<p>5 rows × 94 columns</p>\n",
       "</div>"
      ],
      "text/plain": [
       "      Unnamed: 0            status_id  medical_device  \\\n",
       "2671        2672  1343768575241293824            True   \n",
       "2802        2803  1355833901172846595            True   \n",
       "4099        4100  1490611222105915392            True   \n",
       "4100        4101  1488502525384749057            True   \n",
       "4635        4636  1490948786650157059            True   \n",
       "\n",
       "                                                   text              user_id  \\\n",
       "2671                   @Ethicon What is surgical smoke?           1055579178   \n",
       "2802  Hermonic Ethicon Whatsapp +923157651238 https:...  1129470938402238466   \n",
       "4099  Gastrointestinal Devices Market\\nhttps://t.co/...  1483679086660964358   \n",
       "4100  Tumor Ablation Devices Market\\nhttps://t.co/bp...  1483679086660964358   \n",
       "4635    Cardiac Mapping Market\\nhttps://t.co/oBNqvTHD3W  1483738702417625092   \n",
       "\n",
       "               created_at      screen_name               source  \\\n",
       "2671  2020-12-29 03:59:29       Strong4895     Twitter for iPad   \n",
       "2802  2021-01-31 11:02:46    ajwa_surgical  Twitter for Android   \n",
       "4099  2022-02-07 08:59:44     sai_konapure      Twitter Web App   \n",
       "4100  2022-02-01 13:20:31     sai_konapure      Twitter Web App   \n",
       "4635  2022-02-08 07:21:05  Samuela69713106      Twitter Web App   \n",
       "\n",
       "      display_text_width  reply_to_status_id  ...   account_created_at  \\\n",
       "2671                  23        1.336038e+18  ...  2013-01-02 17:02:14   \n",
       "2802                  39                 NaN  ...  2019-05-17 19:37:11   \n",
       "4099                  55                 NaN  ...  2022-01-19 05:54:26   \n",
       "4100                  53                 NaN  ...  2022-01-19 05:54:26   \n",
       "4635                  46                 NaN  ...  2022-01-19 09:51:02   \n",
       "\n",
       "     verified              profile_url         profile_expanded_url  \\\n",
       "2671        0                      NaN                          NaN   \n",
       "2802        0  https://t.co/wCRwXkk4jn  http://www.ajwasurgical.com   \n",
       "4099        0                      NaN                          NaN   \n",
       "4100        0                      NaN                          NaN   \n",
       "4635        0                      NaN                          NaN   \n",
       "\n",
       "      account_lang                                 profile_banner_url  \\\n",
       "2671           NaN  https://pbs.twimg.com/profile_banners/10555791...   \n",
       "2802           NaN  https://pbs.twimg.com/profile_banners/11294709...   \n",
       "4099           NaN                                                NaN   \n",
       "4100           NaN                                                NaN   \n",
       "4635           NaN                                                NaN   \n",
       "\n",
       "                                profile_background_url  \\\n",
       "2671  http://abs.twimg.com/images/themes/theme1/bg.png   \n",
       "2802                                               NaN   \n",
       "4099                                               NaN   \n",
       "4100                                               NaN   \n",
       "4635                                               NaN   \n",
       "\n",
       "                                      profile_image_url               query  \\\n",
       "2671  http://pbs.twimg.com/profile_images/1152961585...             ethicon   \n",
       "2802  http://pbs.twimg.com/profile_images/1129471138...             ethicon   \n",
       "4099  http://pbs.twimg.com/profile_images/1483679221...           \"ETHICON\"   \n",
       "4100  http://pbs.twimg.com/profile_images/1483679221...           \"ETHICON\"   \n",
       "4635  http://pbs.twimg.com/profile_images/1483738764...  \"BIOSENSE WEBSTER\"   \n",
       "\n",
       "     Num_words  \n",
       "2671         5  \n",
       "2802         5  \n",
       "4099         4  \n",
       "4100         5  \n",
       "4635         4  \n",
       "\n",
       "[5 rows x 94 columns]"
      ]
     },
     "execution_count": 168,
     "metadata": {},
     "output_type": "execute_result"
    }
   ],
   "source": [
    "k[k['medical_device']==True]"
   ]
  },
  {
   "cell_type": "code",
   "execution_count": 169,
   "metadata": {},
   "outputs": [],
   "source": [
    "def clean_text(text):\n",
    "    '''Make text lowercase, remove text in square brackets,remove links,remove punctuation\n",
    "    and remove words containing numbers.'''\n",
    "    text = str(text).lower()\n",
    "    text = re.sub('\\[.*?\\]', '', text)\n",
    "    text = re.sub('https?://\\S+|www\\.\\S+', '', text)\n",
    "    text = re.sub('<.*?>+', '', text)\n",
    "    #text = re.sub('[%s]' % re.escape(string.punctuation), '', text)\n",
    "    text = re.sub('\\n', '', text)\n",
    "    text = re.sub('\\w*\\d\\w*', '', text)\n",
    "    return text"
   ]
  },
  {
   "cell_type": "code",
   "execution_count": 170,
   "metadata": {},
   "outputs": [],
   "source": [
    "tweets['text2'] = tweets['text'].apply(lambda x:text_preprocess(x))\n",
    "tweets['text3'] = tweets['text'].apply(lambda x:clean_text(x))"
   ]
  },
  {
   "cell_type": "code",
   "execution_count": 171,
   "metadata": {},
   "outputs": [
    {
     "data": {
      "text/html": [
       "<div>\n",
       "<style scoped>\n",
       "    .dataframe tbody tr th:only-of-type {\n",
       "        vertical-align: middle;\n",
       "    }\n",
       "\n",
       "    .dataframe tbody tr th {\n",
       "        vertical-align: top;\n",
       "    }\n",
       "\n",
       "    .dataframe thead th {\n",
       "        text-align: right;\n",
       "    }\n",
       "</style>\n",
       "<table border=\"1\" class=\"dataframe\">\n",
       "  <thead>\n",
       "    <tr style=\"text-align: right;\">\n",
       "      <th></th>\n",
       "      <th>Unnamed: 0</th>\n",
       "      <th>status_id</th>\n",
       "      <th>medical_device</th>\n",
       "      <th>text</th>\n",
       "      <th>user_id</th>\n",
       "      <th>created_at</th>\n",
       "      <th>screen_name</th>\n",
       "      <th>source</th>\n",
       "      <th>display_text_width</th>\n",
       "      <th>reply_to_status_id</th>\n",
       "      <th>...</th>\n",
       "      <th>profile_url</th>\n",
       "      <th>profile_expanded_url</th>\n",
       "      <th>account_lang</th>\n",
       "      <th>profile_banner_url</th>\n",
       "      <th>profile_background_url</th>\n",
       "      <th>profile_image_url</th>\n",
       "      <th>query</th>\n",
       "      <th>Num_words</th>\n",
       "      <th>text2</th>\n",
       "      <th>text3</th>\n",
       "    </tr>\n",
       "  </thead>\n",
       "  <tbody>\n",
       "    <tr>\n",
       "      <th>0</th>\n",
       "      <td>1</td>\n",
       "      <td>1295193004144242690</td>\n",
       "      <td>False</td>\n",
       "      <td>Y’all know and I know I’m never leaving this b...</td>\n",
       "      <td>1255365753517285376</td>\n",
       "      <td>2020-08-17 02:57:30</td>\n",
       "      <td>dtmjasminee</td>\n",
       "      <td>Twitter for iPhone</td>\n",
       "      <td>63</td>\n",
       "      <td>NaN</td>\n",
       "      <td>...</td>\n",
       "      <td>NaN</td>\n",
       "      <td>NaN</td>\n",
       "      <td>NaN</td>\n",
       "      <td>https://pbs.twimg.com/profile_banners/12553657...</td>\n",
       "      <td>NaN</td>\n",
       "      <td>http://pbs.twimg.com/profile_images/1274031744...</td>\n",
       "      <td>#jnj</td>\n",
       "      <td>13</td>\n",
       "      <td>yall know i know im never leav boy alon jnj</td>\n",
       "      <td>y’all know and i know i’m never leaving this b...</td>\n",
       "    </tr>\n",
       "    <tr>\n",
       "      <th>1</th>\n",
       "      <td>2</td>\n",
       "      <td>1300190881467846656</td>\n",
       "      <td>False</td>\n",
       "      <td>@SuperKelli24 Such a funny scene! #JnJ</td>\n",
       "      <td>133471182</td>\n",
       "      <td>2020-08-30 21:57:17</td>\n",
       "      <td>Amyreader100</td>\n",
       "      <td>Twitter for iPad</td>\n",
       "      <td>24</td>\n",
       "      <td>1.300187e+18</td>\n",
       "      <td>...</td>\n",
       "      <td>NaN</td>\n",
       "      <td>NaN</td>\n",
       "      <td>NaN</td>\n",
       "      <td>https://pbs.twimg.com/profile_banners/13347118...</td>\n",
       "      <td>http://abs.twimg.com/images/themes/theme1/bg.png</td>\n",
       "      <td>http://pbs.twimg.com/profile_images/1213468646...</td>\n",
       "      <td>#jnj</td>\n",
       "      <td>6</td>\n",
       "      <td>superkelli 24 such funni scene jnj</td>\n",
       "      <td>@ such a funny scene! #jnj</td>\n",
       "    </tr>\n",
       "    <tr>\n",
       "      <th>2</th>\n",
       "      <td>3</td>\n",
       "      <td>1299699123428290561</td>\n",
       "      <td>False</td>\n",
       "      <td>J&amp;amp;JOHNSON, Flag-Formation Confirmed, Conti...</td>\n",
       "      <td>1142737563481980931</td>\n",
       "      <td>2020-08-29 13:23:12</td>\n",
       "      <td>VincePrince244</td>\n",
       "      <td>TradingView</td>\n",
       "      <td>100</td>\n",
       "      <td>NaN</td>\n",
       "      <td>...</td>\n",
       "      <td>NaN</td>\n",
       "      <td>NaN</td>\n",
       "      <td>NaN</td>\n",
       "      <td>https://pbs.twimg.com/profile_banners/11427375...</td>\n",
       "      <td>NaN</td>\n",
       "      <td>http://pbs.twimg.com/profile_images/1160910657...</td>\n",
       "      <td>#jnj</td>\n",
       "      <td>9</td>\n",
       "      <td>jampjohnson flagform confirm continu possibl j...</td>\n",
       "      <td>j&amp;amp;johnson, flag-formation confirmed, conti...</td>\n",
       "    </tr>\n",
       "    <tr>\n",
       "      <th>3</th>\n",
       "      <td>4</td>\n",
       "      <td>1299558944982134784</td>\n",
       "      <td>False</td>\n",
       "      <td>$JNJ's daily RSI hasn't touched 69 since its F...</td>\n",
       "      <td>1282487181211168769</td>\n",
       "      <td>2020-08-29 04:06:11</td>\n",
       "      <td>options__edge</td>\n",
       "      <td>Twitter Web App</td>\n",
       "      <td>155</td>\n",
       "      <td>NaN</td>\n",
       "      <td>...</td>\n",
       "      <td>https://t.co/qlZko56SxU</td>\n",
       "      <td>http://optionsedge.io</td>\n",
       "      <td>NaN</td>\n",
       "      <td>https://pbs.twimg.com/profile_banners/12824871...</td>\n",
       "      <td>NaN</td>\n",
       "      <td>http://pbs.twimg.com/profile_images/1285053865...</td>\n",
       "      <td>#jnj</td>\n",
       "      <td>31</td>\n",
       "      <td>jnj daili rsi hasnt touch 69 sinc februari 202...</td>\n",
       "      <td>$jnj's daily rsi hasn't touched  since its feb...</td>\n",
       "    </tr>\n",
       "    <tr>\n",
       "      <th>4</th>\n",
       "      <td>5</td>\n",
       "      <td>1299474674066305024</td>\n",
       "      <td>False</td>\n",
       "      <td>We have an outstanding opportunity to join our...</td>\n",
       "      <td>1705053332</td>\n",
       "      <td>2020-08-28 22:31:20</td>\n",
       "      <td>CaliforniaLopez</td>\n",
       "      <td>LinkedIn</td>\n",
       "      <td>278</td>\n",
       "      <td>NaN</td>\n",
       "      <td>...</td>\n",
       "      <td>https://t.co/ZjjMOq2pu3</td>\n",
       "      <td>http://careers.jnj.com</td>\n",
       "      <td>NaN</td>\n",
       "      <td>NaN</td>\n",
       "      <td>http://abs.twimg.com/images/themes/theme1/bg.png</td>\n",
       "      <td>http://pbs.twimg.com/profile_images/4431589516...</td>\n",
       "      <td>#jnj</td>\n",
       "      <td>34</td>\n",
       "      <td>we outstand opportun join non clinic safeti te...</td>\n",
       "      <td>we have an outstanding opportunity to join our...</td>\n",
       "    </tr>\n",
       "  </tbody>\n",
       "</table>\n",
       "<p>5 rows × 96 columns</p>\n",
       "</div>"
      ],
      "text/plain": [
       "   Unnamed: 0            status_id  medical_device  \\\n",
       "0           1  1295193004144242690           False   \n",
       "1           2  1300190881467846656           False   \n",
       "2           3  1299699123428290561           False   \n",
       "3           4  1299558944982134784           False   \n",
       "4           5  1299474674066305024           False   \n",
       "\n",
       "                                                text              user_id  \\\n",
       "0  Y’all know and I know I’m never leaving this b...  1255365753517285376   \n",
       "1             @SuperKelli24 Such a funny scene! #JnJ            133471182   \n",
       "2  J&amp;JOHNSON, Flag-Formation Confirmed, Conti...  1142737563481980931   \n",
       "3  $JNJ's daily RSI hasn't touched 69 since its F...  1282487181211168769   \n",
       "4  We have an outstanding opportunity to join our...           1705053332   \n",
       "\n",
       "            created_at      screen_name              source  \\\n",
       "0  2020-08-17 02:57:30      dtmjasminee  Twitter for iPhone   \n",
       "1  2020-08-30 21:57:17     Amyreader100    Twitter for iPad   \n",
       "2  2020-08-29 13:23:12   VincePrince244         TradingView   \n",
       "3  2020-08-29 04:06:11    options__edge     Twitter Web App   \n",
       "4  2020-08-28 22:31:20  CaliforniaLopez            LinkedIn   \n",
       "\n",
       "   display_text_width  reply_to_status_id  ...              profile_url  \\\n",
       "0                  63                 NaN  ...                      NaN   \n",
       "1                  24        1.300187e+18  ...                      NaN   \n",
       "2                 100                 NaN  ...                      NaN   \n",
       "3                 155                 NaN  ...  https://t.co/qlZko56SxU   \n",
       "4                 278                 NaN  ...  https://t.co/ZjjMOq2pu3   \n",
       "\n",
       "     profile_expanded_url  account_lang  \\\n",
       "0                     NaN           NaN   \n",
       "1                     NaN           NaN   \n",
       "2                     NaN           NaN   \n",
       "3   http://optionsedge.io           NaN   \n",
       "4  http://careers.jnj.com           NaN   \n",
       "\n",
       "                                  profile_banner_url  \\\n",
       "0  https://pbs.twimg.com/profile_banners/12553657...   \n",
       "1  https://pbs.twimg.com/profile_banners/13347118...   \n",
       "2  https://pbs.twimg.com/profile_banners/11427375...   \n",
       "3  https://pbs.twimg.com/profile_banners/12824871...   \n",
       "4                                                NaN   \n",
       "\n",
       "                             profile_background_url  \\\n",
       "0                                               NaN   \n",
       "1  http://abs.twimg.com/images/themes/theme1/bg.png   \n",
       "2                                               NaN   \n",
       "3                                               NaN   \n",
       "4  http://abs.twimg.com/images/themes/theme1/bg.png   \n",
       "\n",
       "                                   profile_image_url  query  Num_words  \\\n",
       "0  http://pbs.twimg.com/profile_images/1274031744...   #jnj         13   \n",
       "1  http://pbs.twimg.com/profile_images/1213468646...   #jnj          6   \n",
       "2  http://pbs.twimg.com/profile_images/1160910657...   #jnj          9   \n",
       "3  http://pbs.twimg.com/profile_images/1285053865...   #jnj         31   \n",
       "4  http://pbs.twimg.com/profile_images/4431589516...   #jnj         34   \n",
       "\n",
       "                                               text2  \\\n",
       "0       yall know i know im never leav boy alon jnj    \n",
       "1                superkelli 24 such funni scene jnj    \n",
       "2  jampjohnson flagform confirm continu possibl j...   \n",
       "3  jnj daili rsi hasnt touch 69 sinc februari 202...   \n",
       "4  we outstand opportun join non clinic safeti te...   \n",
       "\n",
       "                                               text3  \n",
       "0  y’all know and i know i’m never leaving this b...  \n",
       "1                         @ such a funny scene! #jnj  \n",
       "2  j&amp;johnson, flag-formation confirmed, conti...  \n",
       "3  $jnj's daily rsi hasn't touched  since its feb...  \n",
       "4  we have an outstanding opportunity to join our...  \n",
       "\n",
       "[5 rows x 96 columns]"
      ]
     },
     "execution_count": 171,
     "metadata": {},
     "output_type": "execute_result"
    }
   ],
   "source": [
    "tweets.head()"
   ]
  },
  {
   "cell_type": "code",
   "execution_count": 177,
   "metadata": {},
   "outputs": [
    {
     "data": {
      "text/html": [
       "<style  type=\"text/css\" >\n",
       "    #T_bea27f40_a0af_11ec_b6b1_acde48001122row0_col1 {\n",
       "            background-color:  #08306b;\n",
       "            color:  #f1f1f1;\n",
       "        }    #T_bea27f40_a0af_11ec_b6b1_acde48001122row1_col1 {\n",
       "            background-color:  #d4e4f4;\n",
       "            color:  #000000;\n",
       "        }    #T_bea27f40_a0af_11ec_b6b1_acde48001122row2_col1 {\n",
       "            background-color:  #d8e7f5;\n",
       "            color:  #000000;\n",
       "        }    #T_bea27f40_a0af_11ec_b6b1_acde48001122row3_col1 {\n",
       "            background-color:  #e2edf8;\n",
       "            color:  #000000;\n",
       "        }    #T_bea27f40_a0af_11ec_b6b1_acde48001122row4_col1 {\n",
       "            background-color:  #e4eff9;\n",
       "            color:  #000000;\n",
       "        }    #T_bea27f40_a0af_11ec_b6b1_acde48001122row5_col1 {\n",
       "            background-color:  #f1f7fd;\n",
       "            color:  #000000;\n",
       "        }    #T_bea27f40_a0af_11ec_b6b1_acde48001122row6_col1 {\n",
       "            background-color:  #f5f9fe;\n",
       "            color:  #000000;\n",
       "        }    #T_bea27f40_a0af_11ec_b6b1_acde48001122row7_col1 {\n",
       "            background-color:  #f5fafe;\n",
       "            color:  #000000;\n",
       "        }    #T_bea27f40_a0af_11ec_b6b1_acde48001122row8_col1 {\n",
       "            background-color:  #f6faff;\n",
       "            color:  #000000;\n",
       "        }    #T_bea27f40_a0af_11ec_b6b1_acde48001122row9_col1 {\n",
       "            background-color:  #f6faff;\n",
       "            color:  #000000;\n",
       "        }    #T_bea27f40_a0af_11ec_b6b1_acde48001122row10_col1 {\n",
       "            background-color:  #f7fbff;\n",
       "            color:  #000000;\n",
       "        }    #T_bea27f40_a0af_11ec_b6b1_acde48001122row11_col1 {\n",
       "            background-color:  #f7fbff;\n",
       "            color:  #000000;\n",
       "        }    #T_bea27f40_a0af_11ec_b6b1_acde48001122row12_col1 {\n",
       "            background-color:  #f7fbff;\n",
       "            color:  #000000;\n",
       "        }    #T_bea27f40_a0af_11ec_b6b1_acde48001122row13_col1 {\n",
       "            background-color:  #f7fbff;\n",
       "            color:  #000000;\n",
       "        }    #T_bea27f40_a0af_11ec_b6b1_acde48001122row14_col1 {\n",
       "            background-color:  #f7fbff;\n",
       "            color:  #000000;\n",
       "        }    #T_bea27f40_a0af_11ec_b6b1_acde48001122row15_col1 {\n",
       "            background-color:  #f7fbff;\n",
       "            color:  #000000;\n",
       "        }    #T_bea27f40_a0af_11ec_b6b1_acde48001122row16_col1 {\n",
       "            background-color:  #f7fbff;\n",
       "            color:  #000000;\n",
       "        }    #T_bea27f40_a0af_11ec_b6b1_acde48001122row17_col1 {\n",
       "            background-color:  #f7fbff;\n",
       "            color:  #000000;\n",
       "        }    #T_bea27f40_a0af_11ec_b6b1_acde48001122row18_col1 {\n",
       "            background-color:  #f7fbff;\n",
       "            color:  #000000;\n",
       "        }    #T_bea27f40_a0af_11ec_b6b1_acde48001122row19_col1 {\n",
       "            background-color:  #f7fbff;\n",
       "            color:  #000000;\n",
       "        }</style><table id=\"T_bea27f40_a0af_11ec_b6b1_acde48001122\" ><thead>    <tr>        <th class=\"blank level0\" ></th>        <th class=\"col_heading level0 col0\" >Common_words</th>        <th class=\"col_heading level0 col1\" >count</th>    </tr></thead><tbody>\n",
       "                <tr>\n",
       "                        <th id=\"T_bea27f40_a0af_11ec_b6b1_acde48001122level0_row0\" class=\"row_heading level0 row0\" >0</th>\n",
       "                        <td id=\"T_bea27f40_a0af_11ec_b6b1_acde48001122row0_col0\" class=\"data row0 col0\" >jnj</td>\n",
       "                        <td id=\"T_bea27f40_a0af_11ec_b6b1_acde48001122row0_col1\" class=\"data row0 col1\" >3728</td>\n",
       "            </tr>\n",
       "            <tr>\n",
       "                        <th id=\"T_bea27f40_a0af_11ec_b6b1_acde48001122level0_row1\" class=\"row_heading level0 row1\" >1</th>\n",
       "                        <td id=\"T_bea27f40_a0af_11ec_b6b1_acde48001122row1_col0\" class=\"data row1 col0\" >i</td>\n",
       "                        <td id=\"T_bea27f40_a0af_11ec_b6b1_acde48001122row1_col1\" class=\"data row1 col1\" >842</td>\n",
       "            </tr>\n",
       "            <tr>\n",
       "                        <th id=\"T_bea27f40_a0af_11ec_b6b1_acde48001122level0_row2\" class=\"row_heading level0 row2\" >2</th>\n",
       "                        <td id=\"T_bea27f40_a0af_11ec_b6b1_acde48001122row2_col0\" class=\"data row2 col0\" >amp</td>\n",
       "                        <td id=\"T_bea27f40_a0af_11ec_b6b1_acde48001122row2_col1\" class=\"data row2 col1\" >785</td>\n",
       "            </tr>\n",
       "            <tr>\n",
       "                        <th id=\"T_bea27f40_a0af_11ec_b6b1_acde48001122level0_row3\" class=\"row_heading level0 row3\" >3</th>\n",
       "                        <td id=\"T_bea27f40_a0af_11ec_b6b1_acde48001122row3_col0\" class=\"data row3 col0\" >johnson</td>\n",
       "                        <td id=\"T_bea27f40_a0af_11ec_b6b1_acde48001122row3_col1\" class=\"data row3 col1\" >608</td>\n",
       "            </tr>\n",
       "            <tr>\n",
       "                        <th id=\"T_bea27f40_a0af_11ec_b6b1_acde48001122level0_row4\" class=\"row_heading level0 row4\" >4</th>\n",
       "                        <td id=\"T_bea27f40_a0af_11ec_b6b1_acde48001122row4_col0\" class=\"data row4 col0\" >ethicon</td>\n",
       "                        <td id=\"T_bea27f40_a0af_11ec_b6b1_acde48001122row4_col1\" class=\"data row4 col1\" >564</td>\n",
       "            </tr>\n",
       "            <tr>\n",
       "                        <th id=\"T_bea27f40_a0af_11ec_b6b1_acde48001122level0_row5\" class=\"row_heading level0 row5\" >5</th>\n",
       "                        <td id=\"T_bea27f40_a0af_11ec_b6b1_acde48001122row5_col0\" class=\"data row5 col0\" >the</td>\n",
       "                        <td id=\"T_bea27f40_a0af_11ec_b6b1_acde48001122row5_col1\" class=\"data row5 col1\" >340</td>\n",
       "            </tr>\n",
       "            <tr>\n",
       "                        <th id=\"T_bea27f40_a0af_11ec_b6b1_acde48001122level0_row6\" class=\"row_heading level0 row6\" >6</th>\n",
       "                        <td id=\"T_bea27f40_a0af_11ec_b6b1_acde48001122row6_col0\" class=\"data row6 col0\" >bwi</td>\n",
       "                        <td id=\"T_bea27f40_a0af_11ec_b6b1_acde48001122row6_col1\" class=\"data row6 col1\" >269</td>\n",
       "            </tr>\n",
       "            <tr>\n",
       "                        <th id=\"T_bea27f40_a0af_11ec_b6b1_acde48001122level0_row7\" class=\"row_heading level0 row7\" >7</th>\n",
       "                        <td id=\"T_bea27f40_a0af_11ec_b6b1_acde48001122row7_col0\" class=\"data row7 col0\" >sol</td>\n",
       "                        <td id=\"T_bea27f40_a0af_11ec_b6b1_acde48001122row7_col1\" class=\"data row7 col1\" >254</td>\n",
       "            </tr>\n",
       "            <tr>\n",
       "                        <th id=\"T_bea27f40_a0af_11ec_b6b1_acde48001122level0_row8\" class=\"row_heading level0 row8\" >8</th>\n",
       "                        <td id=\"T_bea27f40_a0af_11ec_b6b1_acde48001122row8_col0\" class=\"data row8 col0\" >pfe</td>\n",
       "                        <td id=\"T_bea27f40_a0af_11ec_b6b1_acde48001122row8_col1\" class=\"data row8 col1\" >242</td>\n",
       "            </tr>\n",
       "            <tr>\n",
       "                        <th id=\"T_bea27f40_a0af_11ec_b6b1_acde48001122level0_row9\" class=\"row_heading level0 row9\" >9</th>\n",
       "                        <td id=\"T_bea27f40_a0af_11ec_b6b1_acde48001122row9_col0\" class=\"data row9 col0\" >love</td>\n",
       "                        <td id=\"T_bea27f40_a0af_11ec_b6b1_acde48001122row9_col1\" class=\"data row9 col1\" >240</td>\n",
       "            </tr>\n",
       "            <tr>\n",
       "                        <th id=\"T_bea27f40_a0af_11ec_b6b1_acde48001122level0_row10\" class=\"row_heading level0 row10\" >10</th>\n",
       "                        <td id=\"T_bea27f40_a0af_11ec_b6b1_acde48001122row10_col0\" class=\"data row10 col0\" >health</td>\n",
       "                        <td id=\"T_bea27f40_a0af_11ec_b6b1_acde48001122row10_col1\" class=\"data row10 col1\" >239</td>\n",
       "            </tr>\n",
       "            <tr>\n",
       "                        <th id=\"T_bea27f40_a0af_11ec_b6b1_acde48001122level0_row11\" class=\"row_heading level0 row11\" >11</th>\n",
       "                        <td id=\"T_bea27f40_a0af_11ec_b6b1_acde48001122row11_col0\" class=\"data row11 col0\" >peopl</td>\n",
       "                        <td id=\"T_bea27f40_a0af_11ec_b6b1_acde48001122row11_col1\" class=\"data row11 col1\" >239</td>\n",
       "            </tr>\n",
       "            <tr>\n",
       "                        <th id=\"T_bea27f40_a0af_11ec_b6b1_acde48001122level0_row12\" class=\"row_heading level0 row12\" >12</th>\n",
       "                        <td id=\"T_bea27f40_a0af_11ec_b6b1_acde48001122row12_col0\" class=\"data row12 col0\" >one</td>\n",
       "                        <td id=\"T_bea27f40_a0af_11ec_b6b1_acde48001122row12_col1\" class=\"data row12 col1\" >232</td>\n",
       "            </tr>\n",
       "            <tr>\n",
       "                        <th id=\"T_bea27f40_a0af_11ec_b6b1_acde48001122level0_row13\" class=\"row_heading level0 row13\" >13</th>\n",
       "                        <td id=\"T_bea27f40_a0af_11ec_b6b1_acde48001122row13_col0\" class=\"data row13 col0\" >day</td>\n",
       "                        <td id=\"T_bea27f40_a0af_11ec_b6b1_acde48001122row13_col1\" class=\"data row13 col1\" >231</td>\n",
       "            </tr>\n",
       "            <tr>\n",
       "                        <th id=\"T_bea27f40_a0af_11ec_b6b1_acde48001122level0_row14\" class=\"row_heading level0 row14\" >14</th>\n",
       "                        <td id=\"T_bea27f40_a0af_11ec_b6b1_acde48001122row14_col0\" class=\"data row14 col0\" >uon</td>\n",
       "                        <td id=\"T_bea27f40_a0af_11ec_b6b1_acde48001122row14_col1\" class=\"data row14 col1\" >231</td>\n",
       "            </tr>\n",
       "            <tr>\n",
       "                        <th id=\"T_bea27f40_a0af_11ec_b6b1_acde48001122level0_row15\" class=\"row_heading level0 row15\" >15</th>\n",
       "                        <td id=\"T_bea27f40_a0af_11ec_b6b1_acde48001122row15_col0\" class=\"data row15 col0\" >time</td>\n",
       "                        <td id=\"T_bea27f40_a0af_11ec_b6b1_acde48001122row15_col1\" class=\"data row15 col1\" >230</td>\n",
       "            </tr>\n",
       "            <tr>\n",
       "                        <th id=\"T_bea27f40_a0af_11ec_b6b1_acde48001122level0_row16\" class=\"row_heading level0 row16\" >16</th>\n",
       "                        <td id=\"T_bea27f40_a0af_11ec_b6b1_acde48001122row16_col0\" class=\"data row16 col0\" >get</td>\n",
       "                        <td id=\"T_bea27f40_a0af_11ec_b6b1_acde48001122row16_col1\" class=\"data row16 col1\" >230</td>\n",
       "            </tr>\n",
       "            <tr>\n",
       "                        <th id=\"T_bea27f40_a0af_11ec_b6b1_acde48001122level0_row17\" class=\"row_heading level0 row17\" >17</th>\n",
       "                        <td id=\"T_bea27f40_a0af_11ec_b6b1_acde48001122row17_col0\" class=\"data row17 col0\" >1</td>\n",
       "                        <td id=\"T_bea27f40_a0af_11ec_b6b1_acde48001122row17_col1\" class=\"data row17 col1\" >228</td>\n",
       "            </tr>\n",
       "            <tr>\n",
       "                        <th id=\"T_bea27f40_a0af_11ec_b6b1_acde48001122level0_row18\" class=\"row_heading level0 row18\" >18</th>\n",
       "                        <td id=\"T_bea27f40_a0af_11ec_b6b1_acde48001122row18_col0\" class=\"data row18 col0\" >thank</td>\n",
       "                        <td id=\"T_bea27f40_a0af_11ec_b6b1_acde48001122row18_col1\" class=\"data row18 col1\" >227</td>\n",
       "            </tr>\n",
       "            <tr>\n",
       "                        <th id=\"T_bea27f40_a0af_11ec_b6b1_acde48001122level0_row19\" class=\"row_heading level0 row19\" >19</th>\n",
       "                        <td id=\"T_bea27f40_a0af_11ec_b6b1_acde48001122row19_col0\" class=\"data row19 col0\" >nftart</td>\n",
       "                        <td id=\"T_bea27f40_a0af_11ec_b6b1_acde48001122row19_col1\" class=\"data row19 col1\" >226</td>\n",
       "            </tr>\n",
       "    </tbody></table>"
      ],
      "text/plain": [
       "<pandas.io.formats.style.Styler at 0x7fdc13112950>"
      ]
     },
     "execution_count": 177,
     "metadata": {},
     "output_type": "execute_result"
    }
   ],
   "source": [
    "from collections import Counter\n",
    "tweets['temp_list'] = tweets['text2'].apply(lambda x:str(x).split())\n",
    "top = Counter([item for sublist in tweets['temp_list'] for item in sublist])\n",
    "temp = pd.DataFrame(top.most_common(20))\n",
    "temp.columns = ['Common_words','count']\n",
    "temp.style.background_gradient(cmap='Blues')"
   ]
  },
  {
   "cell_type": "code",
   "execution_count": 178,
   "metadata": {},
   "outputs": [],
   "source": [
    "def remove_stopword(x):\n",
    "    return [y for y in x if y not in stopwords.words('english')]\n",
    "tweets['temp_list3'] = tweets['temp_list'].apply(lambda x:remove_stopword(x))"
   ]
  },
  {
   "cell_type": "code",
   "execution_count": 179,
   "metadata": {},
   "outputs": [
    {
     "data": {
      "text/html": [
       "<div>\n",
       "<style scoped>\n",
       "    .dataframe tbody tr th:only-of-type {\n",
       "        vertical-align: middle;\n",
       "    }\n",
       "\n",
       "    .dataframe tbody tr th {\n",
       "        vertical-align: top;\n",
       "    }\n",
       "\n",
       "    .dataframe thead th {\n",
       "        text-align: right;\n",
       "    }\n",
       "</style>\n",
       "<table border=\"1\" class=\"dataframe\">\n",
       "  <thead>\n",
       "    <tr style=\"text-align: right;\">\n",
       "      <th></th>\n",
       "      <th>Unnamed: 0</th>\n",
       "      <th>status_id</th>\n",
       "      <th>medical_device</th>\n",
       "      <th>text</th>\n",
       "      <th>user_id</th>\n",
       "      <th>created_at</th>\n",
       "      <th>screen_name</th>\n",
       "      <th>source</th>\n",
       "      <th>display_text_width</th>\n",
       "      <th>reply_to_status_id</th>\n",
       "      <th>...</th>\n",
       "      <th>account_lang</th>\n",
       "      <th>profile_banner_url</th>\n",
       "      <th>profile_background_url</th>\n",
       "      <th>profile_image_url</th>\n",
       "      <th>query</th>\n",
       "      <th>Num_words</th>\n",
       "      <th>text2</th>\n",
       "      <th>text3</th>\n",
       "      <th>temp_list</th>\n",
       "      <th>temp_list3</th>\n",
       "    </tr>\n",
       "  </thead>\n",
       "  <tbody>\n",
       "    <tr>\n",
       "      <th>0</th>\n",
       "      <td>1</td>\n",
       "      <td>1295193004144242690</td>\n",
       "      <td>False</td>\n",
       "      <td>Y’all know and I know I’m never leaving this b...</td>\n",
       "      <td>1255365753517285376</td>\n",
       "      <td>2020-08-17 02:57:30</td>\n",
       "      <td>dtmjasminee</td>\n",
       "      <td>Twitter for iPhone</td>\n",
       "      <td>63</td>\n",
       "      <td>NaN</td>\n",
       "      <td>...</td>\n",
       "      <td>NaN</td>\n",
       "      <td>https://pbs.twimg.com/profile_banners/12553657...</td>\n",
       "      <td>NaN</td>\n",
       "      <td>http://pbs.twimg.com/profile_images/1274031744...</td>\n",
       "      <td>#jnj</td>\n",
       "      <td>13</td>\n",
       "      <td>yall know i know im never leav boy alon jnj</td>\n",
       "      <td>y’all know and i know i’m never leaving this b...</td>\n",
       "      <td>[yall, know, i, know, im, never, leav, boy, al...</td>\n",
       "      <td>[yall, know, know, im, never, leav, boy, alon,...</td>\n",
       "    </tr>\n",
       "    <tr>\n",
       "      <th>1</th>\n",
       "      <td>2</td>\n",
       "      <td>1300190881467846656</td>\n",
       "      <td>False</td>\n",
       "      <td>@SuperKelli24 Such a funny scene! #JnJ</td>\n",
       "      <td>133471182</td>\n",
       "      <td>2020-08-30 21:57:17</td>\n",
       "      <td>Amyreader100</td>\n",
       "      <td>Twitter for iPad</td>\n",
       "      <td>24</td>\n",
       "      <td>1.300187e+18</td>\n",
       "      <td>...</td>\n",
       "      <td>NaN</td>\n",
       "      <td>https://pbs.twimg.com/profile_banners/13347118...</td>\n",
       "      <td>http://abs.twimg.com/images/themes/theme1/bg.png</td>\n",
       "      <td>http://pbs.twimg.com/profile_images/1213468646...</td>\n",
       "      <td>#jnj</td>\n",
       "      <td>6</td>\n",
       "      <td>superkelli 24 such funni scene jnj</td>\n",
       "      <td>@ such a funny scene! #jnj</td>\n",
       "      <td>[superkelli, 24, such, funni, scene, jnj]</td>\n",
       "      <td>[superkelli, 24, funni, scene, jnj]</td>\n",
       "    </tr>\n",
       "    <tr>\n",
       "      <th>2</th>\n",
       "      <td>3</td>\n",
       "      <td>1299699123428290561</td>\n",
       "      <td>False</td>\n",
       "      <td>J&amp;amp;JOHNSON, Flag-Formation Confirmed, Conti...</td>\n",
       "      <td>1142737563481980931</td>\n",
       "      <td>2020-08-29 13:23:12</td>\n",
       "      <td>VincePrince244</td>\n",
       "      <td>TradingView</td>\n",
       "      <td>100</td>\n",
       "      <td>NaN</td>\n",
       "      <td>...</td>\n",
       "      <td>NaN</td>\n",
       "      <td>https://pbs.twimg.com/profile_banners/11427375...</td>\n",
       "      <td>NaN</td>\n",
       "      <td>http://pbs.twimg.com/profile_images/1160910657...</td>\n",
       "      <td>#jnj</td>\n",
       "      <td>9</td>\n",
       "      <td>jampjohnson flagform confirm continu possibl j...</td>\n",
       "      <td>j&amp;amp;johnson, flag-formation confirmed, conti...</td>\n",
       "      <td>[jampjohnson, flagform, confirm, continu, poss...</td>\n",
       "      <td>[jampjohnson, flagform, confirm, continu, poss...</td>\n",
       "    </tr>\n",
       "    <tr>\n",
       "      <th>3</th>\n",
       "      <td>4</td>\n",
       "      <td>1299558944982134784</td>\n",
       "      <td>False</td>\n",
       "      <td>$JNJ's daily RSI hasn't touched 69 since its F...</td>\n",
       "      <td>1282487181211168769</td>\n",
       "      <td>2020-08-29 04:06:11</td>\n",
       "      <td>options__edge</td>\n",
       "      <td>Twitter Web App</td>\n",
       "      <td>155</td>\n",
       "      <td>NaN</td>\n",
       "      <td>...</td>\n",
       "      <td>NaN</td>\n",
       "      <td>https://pbs.twimg.com/profile_banners/12824871...</td>\n",
       "      <td>NaN</td>\n",
       "      <td>http://pbs.twimg.com/profile_images/1285053865...</td>\n",
       "      <td>#jnj</td>\n",
       "      <td>31</td>\n",
       "      <td>jnj daili rsi hasnt touch 69 sinc februari 202...</td>\n",
       "      <td>$jnj's daily rsi hasn't touched  since its feb...</td>\n",
       "      <td>[jnj, daili, rsi, hasnt, touch, 69, sinc, febr...</td>\n",
       "      <td>[jnj, daili, rsi, hasnt, touch, 69, sinc, febr...</td>\n",
       "    </tr>\n",
       "    <tr>\n",
       "      <th>4</th>\n",
       "      <td>5</td>\n",
       "      <td>1299474674066305024</td>\n",
       "      <td>False</td>\n",
       "      <td>We have an outstanding opportunity to join our...</td>\n",
       "      <td>1705053332</td>\n",
       "      <td>2020-08-28 22:31:20</td>\n",
       "      <td>CaliforniaLopez</td>\n",
       "      <td>LinkedIn</td>\n",
       "      <td>278</td>\n",
       "      <td>NaN</td>\n",
       "      <td>...</td>\n",
       "      <td>NaN</td>\n",
       "      <td>NaN</td>\n",
       "      <td>http://abs.twimg.com/images/themes/theme1/bg.png</td>\n",
       "      <td>http://pbs.twimg.com/profile_images/4431589516...</td>\n",
       "      <td>#jnj</td>\n",
       "      <td>34</td>\n",
       "      <td>we outstand opportun join non clinic safeti te...</td>\n",
       "      <td>we have an outstanding opportunity to join our...</td>\n",
       "      <td>[we, outstand, opportun, join, non, clinic, sa...</td>\n",
       "      <td>[outstand, opportun, join, non, clinic, safeti...</td>\n",
       "    </tr>\n",
       "    <tr>\n",
       "      <th>...</th>\n",
       "      <td>...</td>\n",
       "      <td>...</td>\n",
       "      <td>...</td>\n",
       "      <td>...</td>\n",
       "      <td>...</td>\n",
       "      <td>...</td>\n",
       "      <td>...</td>\n",
       "      <td>...</td>\n",
       "      <td>...</td>\n",
       "      <td>...</td>\n",
       "      <td>...</td>\n",
       "      <td>...</td>\n",
       "      <td>...</td>\n",
       "      <td>...</td>\n",
       "      <td>...</td>\n",
       "      <td>...</td>\n",
       "      <td>...</td>\n",
       "      <td>...</td>\n",
       "      <td>...</td>\n",
       "      <td>...</td>\n",
       "      <td>...</td>\n",
       "    </tr>\n",
       "    <tr>\n",
       "      <th>4635</th>\n",
       "      <td>4636</td>\n",
       "      <td>1490948786650157059</td>\n",
       "      <td>True</td>\n",
       "      <td>Cardiac Mapping Market\\nhttps://t.co/oBNqvTHD3W</td>\n",
       "      <td>1483738702417625092</td>\n",
       "      <td>2022-02-08 07:21:05</td>\n",
       "      <td>Samuela69713106</td>\n",
       "      <td>Twitter Web App</td>\n",
       "      <td>46</td>\n",
       "      <td>NaN</td>\n",
       "      <td>...</td>\n",
       "      <td>NaN</td>\n",
       "      <td>NaN</td>\n",
       "      <td>NaN</td>\n",
       "      <td>http://pbs.twimg.com/profile_images/1483738764...</td>\n",
       "      <td>\"BIOSENSE WEBSTER\"</td>\n",
       "      <td>4</td>\n",
       "      <td>cardiac map market</td>\n",
       "      <td>cardiac mapping market</td>\n",
       "      <td>[cardiac, map, market]</td>\n",
       "      <td>[cardiac, map, market]</td>\n",
       "    </tr>\n",
       "    <tr>\n",
       "      <th>4636</th>\n",
       "      <td>4637</td>\n",
       "      <td>1491170087298076674</td>\n",
       "      <td>False</td>\n",
       "      <td>@ForegutSociety @JNJInstitute @Ethicon @Proxim...</td>\n",
       "      <td>1053822633618243584</td>\n",
       "      <td>2022-02-08 22:00:28</td>\n",
       "      <td>ForegutSociety</td>\n",
       "      <td>Hootsuite Inc.</td>\n",
       "      <td>97</td>\n",
       "      <td>NaN</td>\n",
       "      <td>...</td>\n",
       "      <td>NaN</td>\n",
       "      <td>https://pbs.twimg.com/profile_banners/10538226...</td>\n",
       "      <td>NaN</td>\n",
       "      <td>http://pbs.twimg.com/profile_images/1053826896...</td>\n",
       "      <td>\"ETHICON\"</td>\n",
       "      <td>11</td>\n",
       "      <td>foregutsocieti jnjinstitut ethicon proximiear ...</td>\n",
       "      <td>@foregutsociety @jnjinstitute @ethicon @proxim...</td>\n",
       "      <td>[foregutsocieti, jnjinstitut, ethicon, proximi...</td>\n",
       "      <td>[foregutsocieti, jnjinstitut, ethicon, proximi...</td>\n",
       "    </tr>\n",
       "    <tr>\n",
       "      <th>4637</th>\n",
       "      <td>4638</td>\n",
       "      <td>1491351776620343297</td>\n",
       "      <td>False</td>\n",
       "      <td>Get ready to watch at 8.00pm (Beijing Time) Th...</td>\n",
       "      <td>1217652692</td>\n",
       "      <td>2022-02-09 10:02:26</td>\n",
       "      <td>AISChannel</td>\n",
       "      <td>Twitter Web App</td>\n",
       "      <td>277</td>\n",
       "      <td>NaN</td>\n",
       "      <td>...</td>\n",
       "      <td>NaN</td>\n",
       "      <td>https://pbs.twimg.com/profile_banners/12176526...</td>\n",
       "      <td>http://abs.twimg.com/images/themes/theme14/bg.gif</td>\n",
       "      <td>http://pbs.twimg.com/profile_images/1491317830...</td>\n",
       "      <td>\"ETHICON\"</td>\n",
       "      <td>33</td>\n",
       "      <td>get readi watch 800pm beij time the chines per...</td>\n",
       "      <td>get ready to watch at . (beijing time) the chi...</td>\n",
       "      <td>[get, readi, watch, 800pm, beij, time, the, ch...</td>\n",
       "      <td>[get, readi, watch, 800pm, beij, time, chines,...</td>\n",
       "    </tr>\n",
       "    <tr>\n",
       "      <th>4638</th>\n",
       "      <td>4639</td>\n",
       "      <td>1491378162584137733</td>\n",
       "      <td>False</td>\n",
       "      <td>🔛 WELCOME to the #webinar The Chinese Perspect...</td>\n",
       "      <td>1217652692</td>\n",
       "      <td>2022-02-09 11:47:17</td>\n",
       "      <td>AISChannel</td>\n",
       "      <td>Twitter Web App</td>\n",
       "      <td>273</td>\n",
       "      <td>NaN</td>\n",
       "      <td>...</td>\n",
       "      <td>NaN</td>\n",
       "      <td>https://pbs.twimg.com/profile_banners/12176526...</td>\n",
       "      <td>http://abs.twimg.com/images/themes/theme14/bg.gif</td>\n",
       "      <td>http://pbs.twimg.com/profile_images/1491317830...</td>\n",
       "      <td>\"ETHICON\"</td>\n",
       "      <td>31</td>\n",
       "      <td>welcom webinar the chines perspect vat left up...</td>\n",
       "      <td>🔛 welcome to the #webinar the chinese perspect...</td>\n",
       "      <td>[welcom, webinar, the, chines, perspect, vat, ...</td>\n",
       "      <td>[welcom, webinar, chines, perspect, vat, left,...</td>\n",
       "    </tr>\n",
       "    <tr>\n",
       "      <th>4639</th>\n",
       "      <td>4640</td>\n",
       "      <td>1491343948035420160</td>\n",
       "      <td>False</td>\n",
       "      <td>YiiRS2022 clinician Dr Raghu Lakshminarayan wi...</td>\n",
       "      <td>1202332576180064265</td>\n",
       "      <td>2022-02-09 09:31:19</td>\n",
       "      <td>YiiRSymposium</td>\n",
       "      <td>Twitter for iPhone</td>\n",
       "      <td>262</td>\n",
       "      <td>NaN</td>\n",
       "      <td>...</td>\n",
       "      <td>NaN</td>\n",
       "      <td>https://pbs.twimg.com/profile_banners/12023325...</td>\n",
       "      <td>NaN</td>\n",
       "      <td>http://pbs.twimg.com/profile_images/1488525525...</td>\n",
       "      <td>\"ETHICON\"</td>\n",
       "      <td>27</td>\n",
       "      <td>yiir 2022 clinician dr raghu lakshminarayan co...</td>\n",
       "      <td>clinician dr raghu lakshminarayan will be at ...</td>\n",
       "      <td>[yiir, 2022, clinician, dr, raghu, lakshminara...</td>\n",
       "      <td>[yiir, 2022, clinician, dr, raghu, lakshminara...</td>\n",
       "    </tr>\n",
       "  </tbody>\n",
       "</table>\n",
       "<p>4640 rows × 98 columns</p>\n",
       "</div>"
      ],
      "text/plain": [
       "      Unnamed: 0            status_id  medical_device  \\\n",
       "0              1  1295193004144242690           False   \n",
       "1              2  1300190881467846656           False   \n",
       "2              3  1299699123428290561           False   \n",
       "3              4  1299558944982134784           False   \n",
       "4              5  1299474674066305024           False   \n",
       "...          ...                  ...             ...   \n",
       "4635        4636  1490948786650157059            True   \n",
       "4636        4637  1491170087298076674           False   \n",
       "4637        4638  1491351776620343297           False   \n",
       "4638        4639  1491378162584137733           False   \n",
       "4639        4640  1491343948035420160           False   \n",
       "\n",
       "                                                   text              user_id  \\\n",
       "0     Y’all know and I know I’m never leaving this b...  1255365753517285376   \n",
       "1                @SuperKelli24 Such a funny scene! #JnJ            133471182   \n",
       "2     J&amp;JOHNSON, Flag-Formation Confirmed, Conti...  1142737563481980931   \n",
       "3     $JNJ's daily RSI hasn't touched 69 since its F...  1282487181211168769   \n",
       "4     We have an outstanding opportunity to join our...           1705053332   \n",
       "...                                                 ...                  ...   \n",
       "4635    Cardiac Mapping Market\\nhttps://t.co/oBNqvTHD3W  1483738702417625092   \n",
       "4636  @ForegutSociety @JNJInstitute @Ethicon @Proxim...  1053822633618243584   \n",
       "4637  Get ready to watch at 8.00pm (Beijing Time) Th...           1217652692   \n",
       "4638  🔛 WELCOME to the #webinar The Chinese Perspect...           1217652692   \n",
       "4639  YiiRS2022 clinician Dr Raghu Lakshminarayan wi...  1202332576180064265   \n",
       "\n",
       "               created_at      screen_name              source  \\\n",
       "0     2020-08-17 02:57:30      dtmjasminee  Twitter for iPhone   \n",
       "1     2020-08-30 21:57:17     Amyreader100    Twitter for iPad   \n",
       "2     2020-08-29 13:23:12   VincePrince244         TradingView   \n",
       "3     2020-08-29 04:06:11    options__edge     Twitter Web App   \n",
       "4     2020-08-28 22:31:20  CaliforniaLopez            LinkedIn   \n",
       "...                   ...              ...                 ...   \n",
       "4635  2022-02-08 07:21:05  Samuela69713106     Twitter Web App   \n",
       "4636  2022-02-08 22:00:28   ForegutSociety      Hootsuite Inc.   \n",
       "4637  2022-02-09 10:02:26       AISChannel     Twitter Web App   \n",
       "4638  2022-02-09 11:47:17       AISChannel     Twitter Web App   \n",
       "4639  2022-02-09 09:31:19    YiiRSymposium  Twitter for iPhone   \n",
       "\n",
       "      display_text_width  reply_to_status_id  ...  account_lang  \\\n",
       "0                     63                 NaN  ...           NaN   \n",
       "1                     24        1.300187e+18  ...           NaN   \n",
       "2                    100                 NaN  ...           NaN   \n",
       "3                    155                 NaN  ...           NaN   \n",
       "4                    278                 NaN  ...           NaN   \n",
       "...                  ...                 ...  ...           ...   \n",
       "4635                  46                 NaN  ...           NaN   \n",
       "4636                  97                 NaN  ...           NaN   \n",
       "4637                 277                 NaN  ...           NaN   \n",
       "4638                 273                 NaN  ...           NaN   \n",
       "4639                 262                 NaN  ...           NaN   \n",
       "\n",
       "                                     profile_banner_url  \\\n",
       "0     https://pbs.twimg.com/profile_banners/12553657...   \n",
       "1     https://pbs.twimg.com/profile_banners/13347118...   \n",
       "2     https://pbs.twimg.com/profile_banners/11427375...   \n",
       "3     https://pbs.twimg.com/profile_banners/12824871...   \n",
       "4                                                   NaN   \n",
       "...                                                 ...   \n",
       "4635                                                NaN   \n",
       "4636  https://pbs.twimg.com/profile_banners/10538226...   \n",
       "4637  https://pbs.twimg.com/profile_banners/12176526...   \n",
       "4638  https://pbs.twimg.com/profile_banners/12176526...   \n",
       "4639  https://pbs.twimg.com/profile_banners/12023325...   \n",
       "\n",
       "                                 profile_background_url  \\\n",
       "0                                                   NaN   \n",
       "1      http://abs.twimg.com/images/themes/theme1/bg.png   \n",
       "2                                                   NaN   \n",
       "3                                                   NaN   \n",
       "4      http://abs.twimg.com/images/themes/theme1/bg.png   \n",
       "...                                                 ...   \n",
       "4635                                                NaN   \n",
       "4636                                                NaN   \n",
       "4637  http://abs.twimg.com/images/themes/theme14/bg.gif   \n",
       "4638  http://abs.twimg.com/images/themes/theme14/bg.gif   \n",
       "4639                                                NaN   \n",
       "\n",
       "                                      profile_image_url               query  \\\n",
       "0     http://pbs.twimg.com/profile_images/1274031744...                #jnj   \n",
       "1     http://pbs.twimg.com/profile_images/1213468646...                #jnj   \n",
       "2     http://pbs.twimg.com/profile_images/1160910657...                #jnj   \n",
       "3     http://pbs.twimg.com/profile_images/1285053865...                #jnj   \n",
       "4     http://pbs.twimg.com/profile_images/4431589516...                #jnj   \n",
       "...                                                 ...                 ...   \n",
       "4635  http://pbs.twimg.com/profile_images/1483738764...  \"BIOSENSE WEBSTER\"   \n",
       "4636  http://pbs.twimg.com/profile_images/1053826896...           \"ETHICON\"   \n",
       "4637  http://pbs.twimg.com/profile_images/1491317830...           \"ETHICON\"   \n",
       "4638  http://pbs.twimg.com/profile_images/1491317830...           \"ETHICON\"   \n",
       "4639  http://pbs.twimg.com/profile_images/1488525525...           \"ETHICON\"   \n",
       "\n",
       "      Num_words                                              text2  \\\n",
       "0            13       yall know i know im never leav boy alon jnj    \n",
       "1             6                superkelli 24 such funni scene jnj    \n",
       "2             9  jampjohnson flagform confirm continu possibl j...   \n",
       "3            31  jnj daili rsi hasnt touch 69 sinc februari 202...   \n",
       "4            34  we outstand opportun join non clinic safeti te...   \n",
       "...         ...                                                ...   \n",
       "4635          4                                cardiac map market    \n",
       "4636         11  foregutsocieti jnjinstitut ethicon proximiear ...   \n",
       "4637         33  get readi watch 800pm beij time the chines per...   \n",
       "4638         31  welcom webinar the chines perspect vat left up...   \n",
       "4639         27  yiir 2022 clinician dr raghu lakshminarayan co...   \n",
       "\n",
       "                                                  text3  \\\n",
       "0     y’all know and i know i’m never leaving this b...   \n",
       "1                            @ such a funny scene! #jnj   \n",
       "2     j&amp;johnson, flag-formation confirmed, conti...   \n",
       "3     $jnj's daily rsi hasn't touched  since its feb...   \n",
       "4     we have an outstanding opportunity to join our...   \n",
       "...                                                 ...   \n",
       "4635                             cardiac mapping market   \n",
       "4636  @foregutsociety @jnjinstitute @ethicon @proxim...   \n",
       "4637  get ready to watch at . (beijing time) the chi...   \n",
       "4638  🔛 welcome to the #webinar the chinese perspect...   \n",
       "4639   clinician dr raghu lakshminarayan will be at ...   \n",
       "\n",
       "                                              temp_list  \\\n",
       "0     [yall, know, i, know, im, never, leav, boy, al...   \n",
       "1             [superkelli, 24, such, funni, scene, jnj]   \n",
       "2     [jampjohnson, flagform, confirm, continu, poss...   \n",
       "3     [jnj, daili, rsi, hasnt, touch, 69, sinc, febr...   \n",
       "4     [we, outstand, opportun, join, non, clinic, sa...   \n",
       "...                                                 ...   \n",
       "4635                             [cardiac, map, market]   \n",
       "4636  [foregutsocieti, jnjinstitut, ethicon, proximi...   \n",
       "4637  [get, readi, watch, 800pm, beij, time, the, ch...   \n",
       "4638  [welcom, webinar, the, chines, perspect, vat, ...   \n",
       "4639  [yiir, 2022, clinician, dr, raghu, lakshminara...   \n",
       "\n",
       "                                             temp_list3  \n",
       "0     [yall, know, know, im, never, leav, boy, alon,...  \n",
       "1                   [superkelli, 24, funni, scene, jnj]  \n",
       "2     [jampjohnson, flagform, confirm, continu, poss...  \n",
       "3     [jnj, daili, rsi, hasnt, touch, 69, sinc, febr...  \n",
       "4     [outstand, opportun, join, non, clinic, safeti...  \n",
       "...                                                 ...  \n",
       "4635                             [cardiac, map, market]  \n",
       "4636  [foregutsocieti, jnjinstitut, ethicon, proximi...  \n",
       "4637  [get, readi, watch, 800pm, beij, time, chines,...  \n",
       "4638  [welcom, webinar, chines, perspect, vat, left,...  \n",
       "4639  [yiir, 2022, clinician, dr, raghu, lakshminara...  \n",
       "\n",
       "[4640 rows x 98 columns]"
      ]
     },
     "execution_count": 179,
     "metadata": {},
     "output_type": "execute_result"
    }
   ],
   "source": [
    "tweets"
   ]
  },
  {
   "cell_type": "code",
   "execution_count": 194,
   "metadata": {},
   "outputs": [
    {
     "data": {
      "text/html": [
       "<style  type=\"text/css\" >\n",
       "    #T_0de696b0_a0b3_11ec_b6b1_acde48001122row0_col1 {\n",
       "            background-color:  #3f007d;\n",
       "            color:  #f1f1f1;\n",
       "        }    #T_0de696b0_a0b3_11ec_b6b1_acde48001122row1_col1 {\n",
       "            background-color:  #e9e8f2;\n",
       "            color:  #000000;\n",
       "        }    #T_0de696b0_a0b3_11ec_b6b1_acde48001122row2_col1 {\n",
       "            background-color:  #f1eff6;\n",
       "            color:  #000000;\n",
       "        }    #T_0de696b0_a0b3_11ec_b6b1_acde48001122row3_col1 {\n",
       "            background-color:  #f2f0f7;\n",
       "            color:  #000000;\n",
       "        }    #T_0de696b0_a0b3_11ec_b6b1_acde48001122row4_col1 {\n",
       "            background-color:  #faf9fc;\n",
       "            color:  #000000;\n",
       "        }    #T_0de696b0_a0b3_11ec_b6b1_acde48001122row5_col1 {\n",
       "            background-color:  #fbfafc;\n",
       "            color:  #000000;\n",
       "        }    #T_0de696b0_a0b3_11ec_b6b1_acde48001122row6_col1 {\n",
       "            background-color:  #fbfafc;\n",
       "            color:  #000000;\n",
       "        }    #T_0de696b0_a0b3_11ec_b6b1_acde48001122row7_col1 {\n",
       "            background-color:  #fcfbfd;\n",
       "            color:  #000000;\n",
       "        }    #T_0de696b0_a0b3_11ec_b6b1_acde48001122row8_col1 {\n",
       "            background-color:  #fcfbfd;\n",
       "            color:  #000000;\n",
       "        }    #T_0de696b0_a0b3_11ec_b6b1_acde48001122row9_col1 {\n",
       "            background-color:  #fcfbfd;\n",
       "            color:  #000000;\n",
       "        }    #T_0de696b0_a0b3_11ec_b6b1_acde48001122row10_col1 {\n",
       "            background-color:  #fcfbfd;\n",
       "            color:  #000000;\n",
       "        }    #T_0de696b0_a0b3_11ec_b6b1_acde48001122row11_col1 {\n",
       "            background-color:  #fcfbfd;\n",
       "            color:  #000000;\n",
       "        }    #T_0de696b0_a0b3_11ec_b6b1_acde48001122row12_col1 {\n",
       "            background-color:  #fcfbfd;\n",
       "            color:  #000000;\n",
       "        }    #T_0de696b0_a0b3_11ec_b6b1_acde48001122row13_col1 {\n",
       "            background-color:  #fcfbfd;\n",
       "            color:  #000000;\n",
       "        }    #T_0de696b0_a0b3_11ec_b6b1_acde48001122row14_col1 {\n",
       "            background-color:  #fcfbfd;\n",
       "            color:  #000000;\n",
       "        }    #T_0de696b0_a0b3_11ec_b6b1_acde48001122row15_col1 {\n",
       "            background-color:  #fcfbfd;\n",
       "            color:  #000000;\n",
       "        }    #T_0de696b0_a0b3_11ec_b6b1_acde48001122row16_col1 {\n",
       "            background-color:  #fcfbfd;\n",
       "            color:  #000000;\n",
       "        }    #T_0de696b0_a0b3_11ec_b6b1_acde48001122row17_col1 {\n",
       "            background-color:  #fcfbfd;\n",
       "            color:  #000000;\n",
       "        }    #T_0de696b0_a0b3_11ec_b6b1_acde48001122row18_col1 {\n",
       "            background-color:  #fcfbfd;\n",
       "            color:  #000000;\n",
       "        }    #T_0de696b0_a0b3_11ec_b6b1_acde48001122row19_col1 {\n",
       "            background-color:  #fcfbfd;\n",
       "            color:  #000000;\n",
       "        }</style><table id=\"T_0de696b0_a0b3_11ec_b6b1_acde48001122\" ><thead>    <tr>        <th class=\"blank level0\" ></th>        <th class=\"col_heading level0 col0\" >Common_words</th>        <th class=\"col_heading level0 col1\" >count</th>    </tr></thead><tbody>\n",
       "                <tr>\n",
       "                        <th id=\"T_0de696b0_a0b3_11ec_b6b1_acde48001122level0_row0\" class=\"row_heading level0 row0\" >0</th>\n",
       "                        <td id=\"T_0de696b0_a0b3_11ec_b6b1_acde48001122row0_col0\" class=\"data row0 col0\" >jnj</td>\n",
       "                        <td id=\"T_0de696b0_a0b3_11ec_b6b1_acde48001122row0_col1\" class=\"data row0 col1\" >3728</td>\n",
       "            </tr>\n",
       "            <tr>\n",
       "                        <th id=\"T_0de696b0_a0b3_11ec_b6b1_acde48001122level0_row1\" class=\"row_heading level0 row1\" >1</th>\n",
       "                        <td id=\"T_0de696b0_a0b3_11ec_b6b1_acde48001122row1_col0\" class=\"data row1 col0\" >amp</td>\n",
       "                        <td id=\"T_0de696b0_a0b3_11ec_b6b1_acde48001122row1_col1\" class=\"data row1 col1\" >785</td>\n",
       "            </tr>\n",
       "            <tr>\n",
       "                        <th id=\"T_0de696b0_a0b3_11ec_b6b1_acde48001122level0_row2\" class=\"row_heading level0 row2\" >2</th>\n",
       "                        <td id=\"T_0de696b0_a0b3_11ec_b6b1_acde48001122row2_col0\" class=\"data row2 col0\" >johnson</td>\n",
       "                        <td id=\"T_0de696b0_a0b3_11ec_b6b1_acde48001122row2_col1\" class=\"data row2 col1\" >608</td>\n",
       "            </tr>\n",
       "            <tr>\n",
       "                        <th id=\"T_0de696b0_a0b3_11ec_b6b1_acde48001122level0_row3\" class=\"row_heading level0 row3\" >3</th>\n",
       "                        <td id=\"T_0de696b0_a0b3_11ec_b6b1_acde48001122row3_col0\" class=\"data row3 col0\" >ethicon</td>\n",
       "                        <td id=\"T_0de696b0_a0b3_11ec_b6b1_acde48001122row3_col1\" class=\"data row3 col1\" >564</td>\n",
       "            </tr>\n",
       "            <tr>\n",
       "                        <th id=\"T_0de696b0_a0b3_11ec_b6b1_acde48001122level0_row4\" class=\"row_heading level0 row4\" >4</th>\n",
       "                        <td id=\"T_0de696b0_a0b3_11ec_b6b1_acde48001122row4_col0\" class=\"data row4 col0\" >bwi</td>\n",
       "                        <td id=\"T_0de696b0_a0b3_11ec_b6b1_acde48001122row4_col1\" class=\"data row4 col1\" >269</td>\n",
       "            </tr>\n",
       "            <tr>\n",
       "                        <th id=\"T_0de696b0_a0b3_11ec_b6b1_acde48001122level0_row5\" class=\"row_heading level0 row5\" >5</th>\n",
       "                        <td id=\"T_0de696b0_a0b3_11ec_b6b1_acde48001122row5_col0\" class=\"data row5 col0\" >sol</td>\n",
       "                        <td id=\"T_0de696b0_a0b3_11ec_b6b1_acde48001122row5_col1\" class=\"data row5 col1\" >254</td>\n",
       "            </tr>\n",
       "            <tr>\n",
       "                        <th id=\"T_0de696b0_a0b3_11ec_b6b1_acde48001122level0_row6\" class=\"row_heading level0 row6\" >6</th>\n",
       "                        <td id=\"T_0de696b0_a0b3_11ec_b6b1_acde48001122row6_col0\" class=\"data row6 col0\" >pfe</td>\n",
       "                        <td id=\"T_0de696b0_a0b3_11ec_b6b1_acde48001122row6_col1\" class=\"data row6 col1\" >242</td>\n",
       "            </tr>\n",
       "            <tr>\n",
       "                        <th id=\"T_0de696b0_a0b3_11ec_b6b1_acde48001122level0_row7\" class=\"row_heading level0 row7\" >7</th>\n",
       "                        <td id=\"T_0de696b0_a0b3_11ec_b6b1_acde48001122row7_col0\" class=\"data row7 col0\" >love</td>\n",
       "                        <td id=\"T_0de696b0_a0b3_11ec_b6b1_acde48001122row7_col1\" class=\"data row7 col1\" >240</td>\n",
       "            </tr>\n",
       "            <tr>\n",
       "                        <th id=\"T_0de696b0_a0b3_11ec_b6b1_acde48001122level0_row8\" class=\"row_heading level0 row8\" >8</th>\n",
       "                        <td id=\"T_0de696b0_a0b3_11ec_b6b1_acde48001122row8_col0\" class=\"data row8 col0\" >health</td>\n",
       "                        <td id=\"T_0de696b0_a0b3_11ec_b6b1_acde48001122row8_col1\" class=\"data row8 col1\" >239</td>\n",
       "            </tr>\n",
       "            <tr>\n",
       "                        <th id=\"T_0de696b0_a0b3_11ec_b6b1_acde48001122level0_row9\" class=\"row_heading level0 row9\" >9</th>\n",
       "                        <td id=\"T_0de696b0_a0b3_11ec_b6b1_acde48001122row9_col0\" class=\"data row9 col0\" >peopl</td>\n",
       "                        <td id=\"T_0de696b0_a0b3_11ec_b6b1_acde48001122row9_col1\" class=\"data row9 col1\" >239</td>\n",
       "            </tr>\n",
       "            <tr>\n",
       "                        <th id=\"T_0de696b0_a0b3_11ec_b6b1_acde48001122level0_row10\" class=\"row_heading level0 row10\" >10</th>\n",
       "                        <td id=\"T_0de696b0_a0b3_11ec_b6b1_acde48001122row10_col0\" class=\"data row10 col0\" >one</td>\n",
       "                        <td id=\"T_0de696b0_a0b3_11ec_b6b1_acde48001122row10_col1\" class=\"data row10 col1\" >232</td>\n",
       "            </tr>\n",
       "            <tr>\n",
       "                        <th id=\"T_0de696b0_a0b3_11ec_b6b1_acde48001122level0_row11\" class=\"row_heading level0 row11\" >11</th>\n",
       "                        <td id=\"T_0de696b0_a0b3_11ec_b6b1_acde48001122row11_col0\" class=\"data row11 col0\" >day</td>\n",
       "                        <td id=\"T_0de696b0_a0b3_11ec_b6b1_acde48001122row11_col1\" class=\"data row11 col1\" >231</td>\n",
       "            </tr>\n",
       "            <tr>\n",
       "                        <th id=\"T_0de696b0_a0b3_11ec_b6b1_acde48001122level0_row12\" class=\"row_heading level0 row12\" >12</th>\n",
       "                        <td id=\"T_0de696b0_a0b3_11ec_b6b1_acde48001122row12_col0\" class=\"data row12 col0\" >uon</td>\n",
       "                        <td id=\"T_0de696b0_a0b3_11ec_b6b1_acde48001122row12_col1\" class=\"data row12 col1\" >231</td>\n",
       "            </tr>\n",
       "            <tr>\n",
       "                        <th id=\"T_0de696b0_a0b3_11ec_b6b1_acde48001122level0_row13\" class=\"row_heading level0 row13\" >13</th>\n",
       "                        <td id=\"T_0de696b0_a0b3_11ec_b6b1_acde48001122row13_col0\" class=\"data row13 col0\" >time</td>\n",
       "                        <td id=\"T_0de696b0_a0b3_11ec_b6b1_acde48001122row13_col1\" class=\"data row13 col1\" >230</td>\n",
       "            </tr>\n",
       "            <tr>\n",
       "                        <th id=\"T_0de696b0_a0b3_11ec_b6b1_acde48001122level0_row14\" class=\"row_heading level0 row14\" >14</th>\n",
       "                        <td id=\"T_0de696b0_a0b3_11ec_b6b1_acde48001122row14_col0\" class=\"data row14 col0\" >get</td>\n",
       "                        <td id=\"T_0de696b0_a0b3_11ec_b6b1_acde48001122row14_col1\" class=\"data row14 col1\" >230</td>\n",
       "            </tr>\n",
       "            <tr>\n",
       "                        <th id=\"T_0de696b0_a0b3_11ec_b6b1_acde48001122level0_row15\" class=\"row_heading level0 row15\" >15</th>\n",
       "                        <td id=\"T_0de696b0_a0b3_11ec_b6b1_acde48001122row15_col0\" class=\"data row15 col0\" >1</td>\n",
       "                        <td id=\"T_0de696b0_a0b3_11ec_b6b1_acde48001122row15_col1\" class=\"data row15 col1\" >228</td>\n",
       "            </tr>\n",
       "            <tr>\n",
       "                        <th id=\"T_0de696b0_a0b3_11ec_b6b1_acde48001122level0_row16\" class=\"row_heading level0 row16\" >16</th>\n",
       "                        <td id=\"T_0de696b0_a0b3_11ec_b6b1_acde48001122row16_col0\" class=\"data row16 col0\" >thank</td>\n",
       "                        <td id=\"T_0de696b0_a0b3_11ec_b6b1_acde48001122row16_col1\" class=\"data row16 col1\" >227</td>\n",
       "            </tr>\n",
       "            <tr>\n",
       "                        <th id=\"T_0de696b0_a0b3_11ec_b6b1_acde48001122level0_row17\" class=\"row_heading level0 row17\" >17</th>\n",
       "                        <td id=\"T_0de696b0_a0b3_11ec_b6b1_acde48001122row17_col0\" class=\"data row17 col0\" >nftart</td>\n",
       "                        <td id=\"T_0de696b0_a0b3_11ec_b6b1_acde48001122row17_col1\" class=\"data row17 col1\" >226</td>\n",
       "            </tr>\n",
       "            <tr>\n",
       "                        <th id=\"T_0de696b0_a0b3_11ec_b6b1_acde48001122level0_row18\" class=\"row_heading level0 row18\" >18</th>\n",
       "                        <td id=\"T_0de696b0_a0b3_11ec_b6b1_acde48001122row18_col0\" class=\"data row18 col0\" >us</td>\n",
       "                        <td id=\"T_0de696b0_a0b3_11ec_b6b1_acde48001122row18_col1\" class=\"data row18 col1\" >217</td>\n",
       "            </tr>\n",
       "            <tr>\n",
       "                        <th id=\"T_0de696b0_a0b3_11ec_b6b1_acde48001122level0_row19\" class=\"row_heading level0 row19\" >19</th>\n",
       "                        <td id=\"T_0de696b0_a0b3_11ec_b6b1_acde48001122row19_col0\" class=\"data row19 col0\" >jnjnew</td>\n",
       "                        <td id=\"T_0de696b0_a0b3_11ec_b6b1_acde48001122row19_col1\" class=\"data row19 col1\" >214</td>\n",
       "            </tr>\n",
       "    </tbody></table>"
      ],
      "text/plain": [
       "<pandas.io.formats.style.Styler at 0x7fdc13170d50>"
      ]
     },
     "execution_count": 194,
     "metadata": {},
     "output_type": "execute_result"
    }
   ],
   "source": [
    "top = Counter([item for sublist in tweets['temp_list3'] for item in sublist])\n",
    "temp = pd.DataFrame(top.most_common(20))\n",
    "temp = temp.iloc[0:,:]\n",
    "temp1 = temp.iloc[0:10,:]\n",
    "temp.columns = ['Common_words','count']\n",
    "temp1.columns = ['Common_words','count']\n",
    "temp.style.background_gradient(cmap='Purples')"
   ]
  },
  {
   "cell_type": "code",
   "execution_count": 182,
   "metadata": {},
   "outputs": [
    {
     "name": "stdout",
     "output_type": "stream",
     "text": [
      "1\n"
     ]
    }
   ],
   "source": [
    "if 'i' in  stopwords.words('english'):\n",
    "    print(1)"
   ]
  },
  {
   "cell_type": "code",
   "execution_count": null,
   "metadata": {},
   "outputs": [],
   "source": []
  },
  {
   "cell_type": "code",
   "execution_count": 195,
   "metadata": {},
   "outputs": [
    {
     "data": {
      "application/vnd.plotly.v1+json": {
       "config": {
        "plotlyServerURL": "https://plot.ly"
       },
       "data": [
        {
         "branchvalues": "total",
         "domain": {
          "x": [
           0,
           1
          ],
          "y": [
           0,
           1
          ]
         },
         "hovertemplate": "labels=%{label}<br>count=%{value}<br>parent=%{parent}<br>id=%{id}<extra></extra>",
         "ids": [
          "1",
          "amp",
          "bwi",
          "day",
          "ethicon",
          "get",
          "health",
          "jnj",
          "jnjnew",
          "johnson",
          "love",
          "nftart",
          "one",
          "peopl",
          "pfe",
          "sol",
          "thank",
          "time",
          "uon",
          "us"
         ],
         "labels": [
          "1",
          "amp",
          "bwi",
          "day",
          "ethicon",
          "get",
          "health",
          "jnj",
          "jnjnew",
          "johnson",
          "love",
          "nftart",
          "one",
          "peopl",
          "pfe",
          "sol",
          "thank",
          "time",
          "uon",
          "us"
         ],
         "name": "",
         "parents": [
          "",
          "",
          "",
          "",
          "",
          "",
          "",
          "",
          "",
          "",
          "",
          "",
          "",
          "",
          "",
          "",
          "",
          "",
          "",
          ""
         ],
         "type": "treemap",
         "values": [
          228,
          785,
          269,
          231,
          564,
          230,
          239,
          3728,
          214,
          608,
          240,
          226,
          232,
          239,
          242,
          254,
          227,
          230,
          231,
          217
         ]
        }
       ],
       "layout": {
        "legend": {
         "tracegroupgap": 0
        },
        "template": {
         "data": {
          "bar": [
           {
            "error_x": {
             "color": "#2a3f5f"
            },
            "error_y": {
             "color": "#2a3f5f"
            },
            "marker": {
             "line": {
              "color": "#E5ECF6",
              "width": 0.5
             }
            },
            "type": "bar"
           }
          ],
          "barpolar": [
           {
            "marker": {
             "line": {
              "color": "#E5ECF6",
              "width": 0.5
             }
            },
            "type": "barpolar"
           }
          ],
          "carpet": [
           {
            "aaxis": {
             "endlinecolor": "#2a3f5f",
             "gridcolor": "white",
             "linecolor": "white",
             "minorgridcolor": "white",
             "startlinecolor": "#2a3f5f"
            },
            "baxis": {
             "endlinecolor": "#2a3f5f",
             "gridcolor": "white",
             "linecolor": "white",
             "minorgridcolor": "white",
             "startlinecolor": "#2a3f5f"
            },
            "type": "carpet"
           }
          ],
          "choropleth": [
           {
            "colorbar": {
             "outlinewidth": 0,
             "ticks": ""
            },
            "type": "choropleth"
           }
          ],
          "contour": [
           {
            "colorbar": {
             "outlinewidth": 0,
             "ticks": ""
            },
            "colorscale": [
             [
              0,
              "#0d0887"
             ],
             [
              0.1111111111111111,
              "#46039f"
             ],
             [
              0.2222222222222222,
              "#7201a8"
             ],
             [
              0.3333333333333333,
              "#9c179e"
             ],
             [
              0.4444444444444444,
              "#bd3786"
             ],
             [
              0.5555555555555556,
              "#d8576b"
             ],
             [
              0.6666666666666666,
              "#ed7953"
             ],
             [
              0.7777777777777778,
              "#fb9f3a"
             ],
             [
              0.8888888888888888,
              "#fdca26"
             ],
             [
              1,
              "#f0f921"
             ]
            ],
            "type": "contour"
           }
          ],
          "contourcarpet": [
           {
            "colorbar": {
             "outlinewidth": 0,
             "ticks": ""
            },
            "type": "contourcarpet"
           }
          ],
          "heatmap": [
           {
            "colorbar": {
             "outlinewidth": 0,
             "ticks": ""
            },
            "colorscale": [
             [
              0,
              "#0d0887"
             ],
             [
              0.1111111111111111,
              "#46039f"
             ],
             [
              0.2222222222222222,
              "#7201a8"
             ],
             [
              0.3333333333333333,
              "#9c179e"
             ],
             [
              0.4444444444444444,
              "#bd3786"
             ],
             [
              0.5555555555555556,
              "#d8576b"
             ],
             [
              0.6666666666666666,
              "#ed7953"
             ],
             [
              0.7777777777777778,
              "#fb9f3a"
             ],
             [
              0.8888888888888888,
              "#fdca26"
             ],
             [
              1,
              "#f0f921"
             ]
            ],
            "type": "heatmap"
           }
          ],
          "heatmapgl": [
           {
            "colorbar": {
             "outlinewidth": 0,
             "ticks": ""
            },
            "colorscale": [
             [
              0,
              "#0d0887"
             ],
             [
              0.1111111111111111,
              "#46039f"
             ],
             [
              0.2222222222222222,
              "#7201a8"
             ],
             [
              0.3333333333333333,
              "#9c179e"
             ],
             [
              0.4444444444444444,
              "#bd3786"
             ],
             [
              0.5555555555555556,
              "#d8576b"
             ],
             [
              0.6666666666666666,
              "#ed7953"
             ],
             [
              0.7777777777777778,
              "#fb9f3a"
             ],
             [
              0.8888888888888888,
              "#fdca26"
             ],
             [
              1,
              "#f0f921"
             ]
            ],
            "type": "heatmapgl"
           }
          ],
          "histogram": [
           {
            "marker": {
             "colorbar": {
              "outlinewidth": 0,
              "ticks": ""
             }
            },
            "type": "histogram"
           }
          ],
          "histogram2d": [
           {
            "colorbar": {
             "outlinewidth": 0,
             "ticks": ""
            },
            "colorscale": [
             [
              0,
              "#0d0887"
             ],
             [
              0.1111111111111111,
              "#46039f"
             ],
             [
              0.2222222222222222,
              "#7201a8"
             ],
             [
              0.3333333333333333,
              "#9c179e"
             ],
             [
              0.4444444444444444,
              "#bd3786"
             ],
             [
              0.5555555555555556,
              "#d8576b"
             ],
             [
              0.6666666666666666,
              "#ed7953"
             ],
             [
              0.7777777777777778,
              "#fb9f3a"
             ],
             [
              0.8888888888888888,
              "#fdca26"
             ],
             [
              1,
              "#f0f921"
             ]
            ],
            "type": "histogram2d"
           }
          ],
          "histogram2dcontour": [
           {
            "colorbar": {
             "outlinewidth": 0,
             "ticks": ""
            },
            "colorscale": [
             [
              0,
              "#0d0887"
             ],
             [
              0.1111111111111111,
              "#46039f"
             ],
             [
              0.2222222222222222,
              "#7201a8"
             ],
             [
              0.3333333333333333,
              "#9c179e"
             ],
             [
              0.4444444444444444,
              "#bd3786"
             ],
             [
              0.5555555555555556,
              "#d8576b"
             ],
             [
              0.6666666666666666,
              "#ed7953"
             ],
             [
              0.7777777777777778,
              "#fb9f3a"
             ],
             [
              0.8888888888888888,
              "#fdca26"
             ],
             [
              1,
              "#f0f921"
             ]
            ],
            "type": "histogram2dcontour"
           }
          ],
          "mesh3d": [
           {
            "colorbar": {
             "outlinewidth": 0,
             "ticks": ""
            },
            "type": "mesh3d"
           }
          ],
          "parcoords": [
           {
            "line": {
             "colorbar": {
              "outlinewidth": 0,
              "ticks": ""
             }
            },
            "type": "parcoords"
           }
          ],
          "pie": [
           {
            "automargin": true,
            "type": "pie"
           }
          ],
          "scatter": [
           {
            "marker": {
             "colorbar": {
              "outlinewidth": 0,
              "ticks": ""
             }
            },
            "type": "scatter"
           }
          ],
          "scatter3d": [
           {
            "line": {
             "colorbar": {
              "outlinewidth": 0,
              "ticks": ""
             }
            },
            "marker": {
             "colorbar": {
              "outlinewidth": 0,
              "ticks": ""
             }
            },
            "type": "scatter3d"
           }
          ],
          "scattercarpet": [
           {
            "marker": {
             "colorbar": {
              "outlinewidth": 0,
              "ticks": ""
             }
            },
            "type": "scattercarpet"
           }
          ],
          "scattergeo": [
           {
            "marker": {
             "colorbar": {
              "outlinewidth": 0,
              "ticks": ""
             }
            },
            "type": "scattergeo"
           }
          ],
          "scattergl": [
           {
            "marker": {
             "colorbar": {
              "outlinewidth": 0,
              "ticks": ""
             }
            },
            "type": "scattergl"
           }
          ],
          "scattermapbox": [
           {
            "marker": {
             "colorbar": {
              "outlinewidth": 0,
              "ticks": ""
             }
            },
            "type": "scattermapbox"
           }
          ],
          "scatterpolar": [
           {
            "marker": {
             "colorbar": {
              "outlinewidth": 0,
              "ticks": ""
             }
            },
            "type": "scatterpolar"
           }
          ],
          "scatterpolargl": [
           {
            "marker": {
             "colorbar": {
              "outlinewidth": 0,
              "ticks": ""
             }
            },
            "type": "scatterpolargl"
           }
          ],
          "scatterternary": [
           {
            "marker": {
             "colorbar": {
              "outlinewidth": 0,
              "ticks": ""
             }
            },
            "type": "scatterternary"
           }
          ],
          "surface": [
           {
            "colorbar": {
             "outlinewidth": 0,
             "ticks": ""
            },
            "colorscale": [
             [
              0,
              "#0d0887"
             ],
             [
              0.1111111111111111,
              "#46039f"
             ],
             [
              0.2222222222222222,
              "#7201a8"
             ],
             [
              0.3333333333333333,
              "#9c179e"
             ],
             [
              0.4444444444444444,
              "#bd3786"
             ],
             [
              0.5555555555555556,
              "#d8576b"
             ],
             [
              0.6666666666666666,
              "#ed7953"
             ],
             [
              0.7777777777777778,
              "#fb9f3a"
             ],
             [
              0.8888888888888888,
              "#fdca26"
             ],
             [
              1,
              "#f0f921"
             ]
            ],
            "type": "surface"
           }
          ],
          "table": [
           {
            "cells": {
             "fill": {
              "color": "#EBF0F8"
             },
             "line": {
              "color": "white"
             }
            },
            "header": {
             "fill": {
              "color": "#C8D4E3"
             },
             "line": {
              "color": "white"
             }
            },
            "type": "table"
           }
          ]
         },
         "layout": {
          "annotationdefaults": {
           "arrowcolor": "#2a3f5f",
           "arrowhead": 0,
           "arrowwidth": 1
          },
          "coloraxis": {
           "colorbar": {
            "outlinewidth": 0,
            "ticks": ""
           }
          },
          "colorscale": {
           "diverging": [
            [
             0,
             "#8e0152"
            ],
            [
             0.1,
             "#c51b7d"
            ],
            [
             0.2,
             "#de77ae"
            ],
            [
             0.3,
             "#f1b6da"
            ],
            [
             0.4,
             "#fde0ef"
            ],
            [
             0.5,
             "#f7f7f7"
            ],
            [
             0.6,
             "#e6f5d0"
            ],
            [
             0.7,
             "#b8e186"
            ],
            [
             0.8,
             "#7fbc41"
            ],
            [
             0.9,
             "#4d9221"
            ],
            [
             1,
             "#276419"
            ]
           ],
           "sequential": [
            [
             0,
             "#0d0887"
            ],
            [
             0.1111111111111111,
             "#46039f"
            ],
            [
             0.2222222222222222,
             "#7201a8"
            ],
            [
             0.3333333333333333,
             "#9c179e"
            ],
            [
             0.4444444444444444,
             "#bd3786"
            ],
            [
             0.5555555555555556,
             "#d8576b"
            ],
            [
             0.6666666666666666,
             "#ed7953"
            ],
            [
             0.7777777777777778,
             "#fb9f3a"
            ],
            [
             0.8888888888888888,
             "#fdca26"
            ],
            [
             1,
             "#f0f921"
            ]
           ],
           "sequentialminus": [
            [
             0,
             "#0d0887"
            ],
            [
             0.1111111111111111,
             "#46039f"
            ],
            [
             0.2222222222222222,
             "#7201a8"
            ],
            [
             0.3333333333333333,
             "#9c179e"
            ],
            [
             0.4444444444444444,
             "#bd3786"
            ],
            [
             0.5555555555555556,
             "#d8576b"
            ],
            [
             0.6666666666666666,
             "#ed7953"
            ],
            [
             0.7777777777777778,
             "#fb9f3a"
            ],
            [
             0.8888888888888888,
             "#fdca26"
            ],
            [
             1,
             "#f0f921"
            ]
           ]
          },
          "colorway": [
           "#636efa",
           "#EF553B",
           "#00cc96",
           "#ab63fa",
           "#FFA15A",
           "#19d3f3",
           "#FF6692",
           "#B6E880",
           "#FF97FF",
           "#FECB52"
          ],
          "font": {
           "color": "#2a3f5f"
          },
          "geo": {
           "bgcolor": "white",
           "lakecolor": "white",
           "landcolor": "#E5ECF6",
           "showlakes": true,
           "showland": true,
           "subunitcolor": "white"
          },
          "hoverlabel": {
           "align": "left"
          },
          "hovermode": "closest",
          "mapbox": {
           "style": "light"
          },
          "paper_bgcolor": "white",
          "plot_bgcolor": "#E5ECF6",
          "polar": {
           "angularaxis": {
            "gridcolor": "white",
            "linecolor": "white",
            "ticks": ""
           },
           "bgcolor": "#E5ECF6",
           "radialaxis": {
            "gridcolor": "white",
            "linecolor": "white",
            "ticks": ""
           }
          },
          "scene": {
           "xaxis": {
            "backgroundcolor": "#E5ECF6",
            "gridcolor": "white",
            "gridwidth": 2,
            "linecolor": "white",
            "showbackground": true,
            "ticks": "",
            "zerolinecolor": "white"
           },
           "yaxis": {
            "backgroundcolor": "#E5ECF6",
            "gridcolor": "white",
            "gridwidth": 2,
            "linecolor": "white",
            "showbackground": true,
            "ticks": "",
            "zerolinecolor": "white"
           },
           "zaxis": {
            "backgroundcolor": "#E5ECF6",
            "gridcolor": "white",
            "gridwidth": 2,
            "linecolor": "white",
            "showbackground": true,
            "ticks": "",
            "zerolinecolor": "white"
           }
          },
          "shapedefaults": {
           "line": {
            "color": "#2a3f5f"
           }
          },
          "ternary": {
           "aaxis": {
            "gridcolor": "white",
            "linecolor": "white",
            "ticks": ""
           },
           "baxis": {
            "gridcolor": "white",
            "linecolor": "white",
            "ticks": ""
           },
           "bgcolor": "#E5ECF6",
           "caxis": {
            "gridcolor": "white",
            "linecolor": "white",
            "ticks": ""
           }
          },
          "title": {
           "x": 0.05
          },
          "xaxis": {
           "automargin": true,
           "gridcolor": "white",
           "linecolor": "white",
           "ticks": "",
           "title": {
            "standoff": 15
           },
           "zerolinecolor": "white",
           "zerolinewidth": 2
          },
          "yaxis": {
           "automargin": true,
           "gridcolor": "white",
           "linecolor": "white",
           "ticks": "",
           "title": {
            "standoff": 15
           },
           "zerolinecolor": "white",
           "zerolinewidth": 2
          }
         }
        },
        "title": {
         "text": "Tree of Most Common Words"
        }
       }
      },
      "text/html": [
       "<div>                            <div id=\"559d7edd-e82a-4a37-91e5-341b7757520d\" class=\"plotly-graph-div\" style=\"height:525px; width:100%;\"></div>            <script type=\"text/javascript\">                require([\"plotly\"], function(Plotly) {                    window.PLOTLYENV=window.PLOTLYENV || {};                                    if (document.getElementById(\"559d7edd-e82a-4a37-91e5-341b7757520d\")) {                    Plotly.newPlot(                        \"559d7edd-e82a-4a37-91e5-341b7757520d\",                        [{\"branchvalues\": \"total\", \"domain\": {\"x\": [0.0, 1.0], \"y\": [0.0, 1.0]}, \"hovertemplate\": \"labels=%{label}<br>count=%{value}<br>parent=%{parent}<br>id=%{id}<extra></extra>\", \"ids\": [\"1\", \"amp\", \"bwi\", \"day\", \"ethicon\", \"get\", \"health\", \"jnj\", \"jnjnew\", \"johnson\", \"love\", \"nftart\", \"one\", \"peopl\", \"pfe\", \"sol\", \"thank\", \"time\", \"uon\", \"us\"], \"labels\": [\"1\", \"amp\", \"bwi\", \"day\", \"ethicon\", \"get\", \"health\", \"jnj\", \"jnjnew\", \"johnson\", \"love\", \"nftart\", \"one\", \"peopl\", \"pfe\", \"sol\", \"thank\", \"time\", \"uon\", \"us\"], \"name\": \"\", \"parents\": [\"\", \"\", \"\", \"\", \"\", \"\", \"\", \"\", \"\", \"\", \"\", \"\", \"\", \"\", \"\", \"\", \"\", \"\", \"\", \"\"], \"type\": \"treemap\", \"values\": [228, 785, 269, 231, 564, 230, 239, 3728, 214, 608, 240, 226, 232, 239, 242, 254, 227, 230, 231, 217]}],                        {\"legend\": {\"tracegroupgap\": 0}, \"template\": {\"data\": {\"bar\": [{\"error_x\": {\"color\": \"#2a3f5f\"}, \"error_y\": {\"color\": \"#2a3f5f\"}, \"marker\": {\"line\": {\"color\": \"#E5ECF6\", \"width\": 0.5}}, \"type\": \"bar\"}], \"barpolar\": [{\"marker\": {\"line\": {\"color\": \"#E5ECF6\", \"width\": 0.5}}, \"type\": \"barpolar\"}], \"carpet\": [{\"aaxis\": {\"endlinecolor\": \"#2a3f5f\", \"gridcolor\": \"white\", \"linecolor\": \"white\", \"minorgridcolor\": \"white\", \"startlinecolor\": \"#2a3f5f\"}, \"baxis\": {\"endlinecolor\": \"#2a3f5f\", \"gridcolor\": \"white\", \"linecolor\": \"white\", \"minorgridcolor\": \"white\", \"startlinecolor\": \"#2a3f5f\"}, \"type\": \"carpet\"}], \"choropleth\": [{\"colorbar\": {\"outlinewidth\": 0, \"ticks\": \"\"}, \"type\": \"choropleth\"}], \"contour\": [{\"colorbar\": {\"outlinewidth\": 0, \"ticks\": \"\"}, \"colorscale\": [[0.0, \"#0d0887\"], [0.1111111111111111, \"#46039f\"], [0.2222222222222222, \"#7201a8\"], [0.3333333333333333, \"#9c179e\"], [0.4444444444444444, \"#bd3786\"], [0.5555555555555556, \"#d8576b\"], [0.6666666666666666, \"#ed7953\"], [0.7777777777777778, \"#fb9f3a\"], [0.8888888888888888, \"#fdca26\"], [1.0, \"#f0f921\"]], \"type\": \"contour\"}], \"contourcarpet\": [{\"colorbar\": {\"outlinewidth\": 0, \"ticks\": \"\"}, \"type\": \"contourcarpet\"}], \"heatmap\": [{\"colorbar\": {\"outlinewidth\": 0, \"ticks\": \"\"}, \"colorscale\": [[0.0, \"#0d0887\"], [0.1111111111111111, \"#46039f\"], [0.2222222222222222, \"#7201a8\"], [0.3333333333333333, \"#9c179e\"], [0.4444444444444444, \"#bd3786\"], [0.5555555555555556, \"#d8576b\"], [0.6666666666666666, \"#ed7953\"], [0.7777777777777778, \"#fb9f3a\"], [0.8888888888888888, \"#fdca26\"], [1.0, \"#f0f921\"]], \"type\": \"heatmap\"}], \"heatmapgl\": [{\"colorbar\": {\"outlinewidth\": 0, \"ticks\": \"\"}, \"colorscale\": [[0.0, \"#0d0887\"], [0.1111111111111111, \"#46039f\"], [0.2222222222222222, \"#7201a8\"], [0.3333333333333333, \"#9c179e\"], [0.4444444444444444, \"#bd3786\"], [0.5555555555555556, \"#d8576b\"], [0.6666666666666666, \"#ed7953\"], [0.7777777777777778, \"#fb9f3a\"], [0.8888888888888888, \"#fdca26\"], [1.0, \"#f0f921\"]], \"type\": \"heatmapgl\"}], \"histogram\": [{\"marker\": {\"colorbar\": {\"outlinewidth\": 0, \"ticks\": \"\"}}, \"type\": \"histogram\"}], \"histogram2d\": [{\"colorbar\": {\"outlinewidth\": 0, \"ticks\": \"\"}, \"colorscale\": [[0.0, \"#0d0887\"], [0.1111111111111111, \"#46039f\"], [0.2222222222222222, \"#7201a8\"], [0.3333333333333333, \"#9c179e\"], [0.4444444444444444, \"#bd3786\"], [0.5555555555555556, \"#d8576b\"], [0.6666666666666666, \"#ed7953\"], [0.7777777777777778, \"#fb9f3a\"], [0.8888888888888888, \"#fdca26\"], [1.0, \"#f0f921\"]], \"type\": \"histogram2d\"}], \"histogram2dcontour\": [{\"colorbar\": {\"outlinewidth\": 0, \"ticks\": \"\"}, \"colorscale\": [[0.0, \"#0d0887\"], [0.1111111111111111, \"#46039f\"], [0.2222222222222222, \"#7201a8\"], [0.3333333333333333, \"#9c179e\"], [0.4444444444444444, \"#bd3786\"], [0.5555555555555556, \"#d8576b\"], [0.6666666666666666, \"#ed7953\"], [0.7777777777777778, \"#fb9f3a\"], [0.8888888888888888, \"#fdca26\"], [1.0, \"#f0f921\"]], \"type\": \"histogram2dcontour\"}], \"mesh3d\": [{\"colorbar\": {\"outlinewidth\": 0, \"ticks\": \"\"}, \"type\": \"mesh3d\"}], \"parcoords\": [{\"line\": {\"colorbar\": {\"outlinewidth\": 0, \"ticks\": \"\"}}, \"type\": \"parcoords\"}], \"pie\": [{\"automargin\": true, \"type\": \"pie\"}], \"scatter\": [{\"marker\": {\"colorbar\": {\"outlinewidth\": 0, \"ticks\": \"\"}}, \"type\": \"scatter\"}], \"scatter3d\": [{\"line\": {\"colorbar\": {\"outlinewidth\": 0, \"ticks\": \"\"}}, \"marker\": {\"colorbar\": {\"outlinewidth\": 0, \"ticks\": \"\"}}, \"type\": \"scatter3d\"}], \"scattercarpet\": [{\"marker\": {\"colorbar\": {\"outlinewidth\": 0, \"ticks\": \"\"}}, \"type\": \"scattercarpet\"}], \"scattergeo\": [{\"marker\": {\"colorbar\": {\"outlinewidth\": 0, \"ticks\": \"\"}}, \"type\": \"scattergeo\"}], \"scattergl\": [{\"marker\": {\"colorbar\": {\"outlinewidth\": 0, \"ticks\": \"\"}}, \"type\": \"scattergl\"}], \"scattermapbox\": [{\"marker\": {\"colorbar\": {\"outlinewidth\": 0, \"ticks\": \"\"}}, \"type\": \"scattermapbox\"}], \"scatterpolar\": [{\"marker\": {\"colorbar\": {\"outlinewidth\": 0, \"ticks\": \"\"}}, \"type\": \"scatterpolar\"}], \"scatterpolargl\": [{\"marker\": {\"colorbar\": {\"outlinewidth\": 0, \"ticks\": \"\"}}, \"type\": \"scatterpolargl\"}], \"scatterternary\": [{\"marker\": {\"colorbar\": {\"outlinewidth\": 0, \"ticks\": \"\"}}, \"type\": \"scatterternary\"}], \"surface\": [{\"colorbar\": {\"outlinewidth\": 0, \"ticks\": \"\"}, \"colorscale\": [[0.0, \"#0d0887\"], [0.1111111111111111, \"#46039f\"], [0.2222222222222222, \"#7201a8\"], [0.3333333333333333, \"#9c179e\"], [0.4444444444444444, \"#bd3786\"], [0.5555555555555556, \"#d8576b\"], [0.6666666666666666, \"#ed7953\"], [0.7777777777777778, \"#fb9f3a\"], [0.8888888888888888, \"#fdca26\"], [1.0, \"#f0f921\"]], \"type\": \"surface\"}], \"table\": [{\"cells\": {\"fill\": {\"color\": \"#EBF0F8\"}, \"line\": {\"color\": \"white\"}}, \"header\": {\"fill\": {\"color\": \"#C8D4E3\"}, \"line\": {\"color\": \"white\"}}, \"type\": \"table\"}]}, \"layout\": {\"annotationdefaults\": {\"arrowcolor\": \"#2a3f5f\", \"arrowhead\": 0, \"arrowwidth\": 1}, \"coloraxis\": {\"colorbar\": {\"outlinewidth\": 0, \"ticks\": \"\"}}, \"colorscale\": {\"diverging\": [[0, \"#8e0152\"], [0.1, \"#c51b7d\"], [0.2, \"#de77ae\"], [0.3, \"#f1b6da\"], [0.4, \"#fde0ef\"], [0.5, \"#f7f7f7\"], [0.6, \"#e6f5d0\"], [0.7, \"#b8e186\"], [0.8, \"#7fbc41\"], [0.9, \"#4d9221\"], [1, \"#276419\"]], \"sequential\": [[0.0, \"#0d0887\"], [0.1111111111111111, \"#46039f\"], [0.2222222222222222, \"#7201a8\"], [0.3333333333333333, \"#9c179e\"], [0.4444444444444444, \"#bd3786\"], [0.5555555555555556, \"#d8576b\"], [0.6666666666666666, \"#ed7953\"], [0.7777777777777778, \"#fb9f3a\"], [0.8888888888888888, \"#fdca26\"], [1.0, \"#f0f921\"]], \"sequentialminus\": [[0.0, \"#0d0887\"], [0.1111111111111111, \"#46039f\"], [0.2222222222222222, \"#7201a8\"], [0.3333333333333333, \"#9c179e\"], [0.4444444444444444, \"#bd3786\"], [0.5555555555555556, \"#d8576b\"], [0.6666666666666666, \"#ed7953\"], [0.7777777777777778, \"#fb9f3a\"], [0.8888888888888888, \"#fdca26\"], [1.0, \"#f0f921\"]]}, \"colorway\": [\"#636efa\", \"#EF553B\", \"#00cc96\", \"#ab63fa\", \"#FFA15A\", \"#19d3f3\", \"#FF6692\", \"#B6E880\", \"#FF97FF\", \"#FECB52\"], \"font\": {\"color\": \"#2a3f5f\"}, \"geo\": {\"bgcolor\": \"white\", \"lakecolor\": \"white\", \"landcolor\": \"#E5ECF6\", \"showlakes\": true, \"showland\": true, \"subunitcolor\": \"white\"}, \"hoverlabel\": {\"align\": \"left\"}, \"hovermode\": \"closest\", \"mapbox\": {\"style\": \"light\"}, \"paper_bgcolor\": \"white\", \"plot_bgcolor\": \"#E5ECF6\", \"polar\": {\"angularaxis\": {\"gridcolor\": \"white\", \"linecolor\": \"white\", \"ticks\": \"\"}, \"bgcolor\": \"#E5ECF6\", \"radialaxis\": {\"gridcolor\": \"white\", \"linecolor\": \"white\", \"ticks\": \"\"}}, \"scene\": {\"xaxis\": {\"backgroundcolor\": \"#E5ECF6\", \"gridcolor\": \"white\", \"gridwidth\": 2, \"linecolor\": \"white\", \"showbackground\": true, \"ticks\": \"\", \"zerolinecolor\": \"white\"}, \"yaxis\": {\"backgroundcolor\": \"#E5ECF6\", \"gridcolor\": \"white\", \"gridwidth\": 2, \"linecolor\": \"white\", \"showbackground\": true, \"ticks\": \"\", \"zerolinecolor\": \"white\"}, \"zaxis\": {\"backgroundcolor\": \"#E5ECF6\", \"gridcolor\": \"white\", \"gridwidth\": 2, \"linecolor\": \"white\", \"showbackground\": true, \"ticks\": \"\", \"zerolinecolor\": \"white\"}}, \"shapedefaults\": {\"line\": {\"color\": \"#2a3f5f\"}}, \"ternary\": {\"aaxis\": {\"gridcolor\": \"white\", \"linecolor\": \"white\", \"ticks\": \"\"}, \"baxis\": {\"gridcolor\": \"white\", \"linecolor\": \"white\", \"ticks\": \"\"}, \"bgcolor\": \"#E5ECF6\", \"caxis\": {\"gridcolor\": \"white\", \"linecolor\": \"white\", \"ticks\": \"\"}}, \"title\": {\"x\": 0.05}, \"xaxis\": {\"automargin\": true, \"gridcolor\": \"white\", \"linecolor\": \"white\", \"ticks\": \"\", \"title\": {\"standoff\": 15}, \"zerolinecolor\": \"white\", \"zerolinewidth\": 2}, \"yaxis\": {\"automargin\": true, \"gridcolor\": \"white\", \"linecolor\": \"white\", \"ticks\": \"\", \"title\": {\"standoff\": 15}, \"zerolinecolor\": \"white\", \"zerolinewidth\": 2}}}, \"title\": {\"text\": \"Tree of Most Common Words\"}},                        {\"responsive\": true}                    ).then(function(){\n",
       "                            \n",
       "var gd = document.getElementById('559d7edd-e82a-4a37-91e5-341b7757520d');\n",
       "var x = new MutationObserver(function (mutations, observer) {{\n",
       "        var display = window.getComputedStyle(gd).display;\n",
       "        if (!display || display === 'none') {{\n",
       "            console.log([gd, 'removed!']);\n",
       "            Plotly.purge(gd);\n",
       "            observer.disconnect();\n",
       "        }}\n",
       "}});\n",
       "\n",
       "// Listen for the removal of the full notebook cells\n",
       "var notebookContainer = gd.closest('#notebook-container');\n",
       "if (notebookContainer) {{\n",
       "    x.observe(notebookContainer, {childList: true});\n",
       "}}\n",
       "\n",
       "// Listen for the clearing of the current output cell\n",
       "var outputEl = gd.closest('.output');\n",
       "if (outputEl) {{\n",
       "    x.observe(outputEl, {childList: true});\n",
       "}}\n",
       "\n",
       "                        })                };                });            </script>        </div>"
      ]
     },
     "metadata": {},
     "output_type": "display_data"
    }
   ],
   "source": [
    "import plotly.express as px\n",
    "import plotly.figure_factory as ff\n",
    "fig = px.treemap(temp, path=['Common_words'], values='count',title='Tree of Most Common Words')\n",
    "fig.show()"
   ]
  },
  {
   "cell_type": "code",
   "execution_count": 199,
   "metadata": {},
   "outputs": [
    {
     "data": {
      "application/vnd.plotly.v1+json": {
       "config": {
        "plotlyServerURL": "https://plot.ly"
       },
       "data": [
        {
         "alignmentgroup": "True",
         "hovertemplate": "Common_words=%{y}<br>count=%{x}<extra></extra>",
         "legendgroup": "jnj",
         "marker": {
          "color": "#636efa"
         },
         "name": "jnj",
         "offsetgroup": "jnj",
         "orientation": "h",
         "showlegend": true,
         "textposition": "auto",
         "type": "bar",
         "x": [
          3728
         ],
         "xaxis": "x",
         "y": [
          "jnj"
         ],
         "yaxis": "y"
        },
        {
         "alignmentgroup": "True",
         "hovertemplate": "Common_words=%{y}<br>count=%{x}<extra></extra>",
         "legendgroup": "amp",
         "marker": {
          "color": "#EF553B"
         },
         "name": "amp",
         "offsetgroup": "amp",
         "orientation": "h",
         "showlegend": true,
         "textposition": "auto",
         "type": "bar",
         "x": [
          785
         ],
         "xaxis": "x",
         "y": [
          "amp"
         ],
         "yaxis": "y"
        },
        {
         "alignmentgroup": "True",
         "hovertemplate": "Common_words=%{y}<br>count=%{x}<extra></extra>",
         "legendgroup": "johnson",
         "marker": {
          "color": "#00cc96"
         },
         "name": "johnson",
         "offsetgroup": "johnson",
         "orientation": "h",
         "showlegend": true,
         "textposition": "auto",
         "type": "bar",
         "x": [
          608
         ],
         "xaxis": "x",
         "y": [
          "johnson"
         ],
         "yaxis": "y"
        },
        {
         "alignmentgroup": "True",
         "hovertemplate": "Common_words=%{y}<br>count=%{x}<extra></extra>",
         "legendgroup": "ethicon",
         "marker": {
          "color": "#ab63fa"
         },
         "name": "ethicon",
         "offsetgroup": "ethicon",
         "orientation": "h",
         "showlegend": true,
         "textposition": "auto",
         "type": "bar",
         "x": [
          564
         ],
         "xaxis": "x",
         "y": [
          "ethicon"
         ],
         "yaxis": "y"
        },
        {
         "alignmentgroup": "True",
         "hovertemplate": "Common_words=%{y}<br>count=%{x}<extra></extra>",
         "legendgroup": "bwi",
         "marker": {
          "color": "#FFA15A"
         },
         "name": "bwi",
         "offsetgroup": "bwi",
         "orientation": "h",
         "showlegend": true,
         "textposition": "auto",
         "type": "bar",
         "x": [
          269
         ],
         "xaxis": "x",
         "y": [
          "bwi"
         ],
         "yaxis": "y"
        },
        {
         "alignmentgroup": "True",
         "hovertemplate": "Common_words=%{y}<br>count=%{x}<extra></extra>",
         "legendgroup": "sol",
         "marker": {
          "color": "#19d3f3"
         },
         "name": "sol",
         "offsetgroup": "sol",
         "orientation": "h",
         "showlegend": true,
         "textposition": "auto",
         "type": "bar",
         "x": [
          254
         ],
         "xaxis": "x",
         "y": [
          "sol"
         ],
         "yaxis": "y"
        },
        {
         "alignmentgroup": "True",
         "hovertemplate": "Common_words=%{y}<br>count=%{x}<extra></extra>",
         "legendgroup": "pfe",
         "marker": {
          "color": "#FF6692"
         },
         "name": "pfe",
         "offsetgroup": "pfe",
         "orientation": "h",
         "showlegend": true,
         "textposition": "auto",
         "type": "bar",
         "x": [
          242
         ],
         "xaxis": "x",
         "y": [
          "pfe"
         ],
         "yaxis": "y"
        },
        {
         "alignmentgroup": "True",
         "hovertemplate": "Common_words=%{y}<br>count=%{x}<extra></extra>",
         "legendgroup": "love",
         "marker": {
          "color": "#B6E880"
         },
         "name": "love",
         "offsetgroup": "love",
         "orientation": "h",
         "showlegend": true,
         "textposition": "auto",
         "type": "bar",
         "x": [
          240
         ],
         "xaxis": "x",
         "y": [
          "love"
         ],
         "yaxis": "y"
        },
        {
         "alignmentgroup": "True",
         "hovertemplate": "Common_words=%{y}<br>count=%{x}<extra></extra>",
         "legendgroup": "health",
         "marker": {
          "color": "#FF97FF"
         },
         "name": "health",
         "offsetgroup": "health",
         "orientation": "h",
         "showlegend": true,
         "textposition": "auto",
         "type": "bar",
         "x": [
          239
         ],
         "xaxis": "x",
         "y": [
          "health"
         ],
         "yaxis": "y"
        },
        {
         "alignmentgroup": "True",
         "hovertemplate": "Common_words=%{y}<br>count=%{x}<extra></extra>",
         "legendgroup": "peopl",
         "marker": {
          "color": "#FECB52"
         },
         "name": "peopl",
         "offsetgroup": "peopl",
         "orientation": "h",
         "showlegend": true,
         "textposition": "auto",
         "type": "bar",
         "x": [
          239
         ],
         "xaxis": "x",
         "y": [
          "peopl"
         ],
         "yaxis": "y"
        }
       ],
       "layout": {
        "barmode": "relative",
        "height": 400,
        "legend": {
         "title": {
          "text": "Common_words"
         },
         "tracegroupgap": 0
        },
        "margin": {
         "t": 60
        },
        "template": {
         "data": {
          "bar": [
           {
            "error_x": {
             "color": "#2a3f5f"
            },
            "error_y": {
             "color": "#2a3f5f"
            },
            "marker": {
             "line": {
              "color": "#E5ECF6",
              "width": 0.5
             }
            },
            "type": "bar"
           }
          ],
          "barpolar": [
           {
            "marker": {
             "line": {
              "color": "#E5ECF6",
              "width": 0.5
             }
            },
            "type": "barpolar"
           }
          ],
          "carpet": [
           {
            "aaxis": {
             "endlinecolor": "#2a3f5f",
             "gridcolor": "white",
             "linecolor": "white",
             "minorgridcolor": "white",
             "startlinecolor": "#2a3f5f"
            },
            "baxis": {
             "endlinecolor": "#2a3f5f",
             "gridcolor": "white",
             "linecolor": "white",
             "minorgridcolor": "white",
             "startlinecolor": "#2a3f5f"
            },
            "type": "carpet"
           }
          ],
          "choropleth": [
           {
            "colorbar": {
             "outlinewidth": 0,
             "ticks": ""
            },
            "type": "choropleth"
           }
          ],
          "contour": [
           {
            "colorbar": {
             "outlinewidth": 0,
             "ticks": ""
            },
            "colorscale": [
             [
              0,
              "#0d0887"
             ],
             [
              0.1111111111111111,
              "#46039f"
             ],
             [
              0.2222222222222222,
              "#7201a8"
             ],
             [
              0.3333333333333333,
              "#9c179e"
             ],
             [
              0.4444444444444444,
              "#bd3786"
             ],
             [
              0.5555555555555556,
              "#d8576b"
             ],
             [
              0.6666666666666666,
              "#ed7953"
             ],
             [
              0.7777777777777778,
              "#fb9f3a"
             ],
             [
              0.8888888888888888,
              "#fdca26"
             ],
             [
              1,
              "#f0f921"
             ]
            ],
            "type": "contour"
           }
          ],
          "contourcarpet": [
           {
            "colorbar": {
             "outlinewidth": 0,
             "ticks": ""
            },
            "type": "contourcarpet"
           }
          ],
          "heatmap": [
           {
            "colorbar": {
             "outlinewidth": 0,
             "ticks": ""
            },
            "colorscale": [
             [
              0,
              "#0d0887"
             ],
             [
              0.1111111111111111,
              "#46039f"
             ],
             [
              0.2222222222222222,
              "#7201a8"
             ],
             [
              0.3333333333333333,
              "#9c179e"
             ],
             [
              0.4444444444444444,
              "#bd3786"
             ],
             [
              0.5555555555555556,
              "#d8576b"
             ],
             [
              0.6666666666666666,
              "#ed7953"
             ],
             [
              0.7777777777777778,
              "#fb9f3a"
             ],
             [
              0.8888888888888888,
              "#fdca26"
             ],
             [
              1,
              "#f0f921"
             ]
            ],
            "type": "heatmap"
           }
          ],
          "heatmapgl": [
           {
            "colorbar": {
             "outlinewidth": 0,
             "ticks": ""
            },
            "colorscale": [
             [
              0,
              "#0d0887"
             ],
             [
              0.1111111111111111,
              "#46039f"
             ],
             [
              0.2222222222222222,
              "#7201a8"
             ],
             [
              0.3333333333333333,
              "#9c179e"
             ],
             [
              0.4444444444444444,
              "#bd3786"
             ],
             [
              0.5555555555555556,
              "#d8576b"
             ],
             [
              0.6666666666666666,
              "#ed7953"
             ],
             [
              0.7777777777777778,
              "#fb9f3a"
             ],
             [
              0.8888888888888888,
              "#fdca26"
             ],
             [
              1,
              "#f0f921"
             ]
            ],
            "type": "heatmapgl"
           }
          ],
          "histogram": [
           {
            "marker": {
             "colorbar": {
              "outlinewidth": 0,
              "ticks": ""
             }
            },
            "type": "histogram"
           }
          ],
          "histogram2d": [
           {
            "colorbar": {
             "outlinewidth": 0,
             "ticks": ""
            },
            "colorscale": [
             [
              0,
              "#0d0887"
             ],
             [
              0.1111111111111111,
              "#46039f"
             ],
             [
              0.2222222222222222,
              "#7201a8"
             ],
             [
              0.3333333333333333,
              "#9c179e"
             ],
             [
              0.4444444444444444,
              "#bd3786"
             ],
             [
              0.5555555555555556,
              "#d8576b"
             ],
             [
              0.6666666666666666,
              "#ed7953"
             ],
             [
              0.7777777777777778,
              "#fb9f3a"
             ],
             [
              0.8888888888888888,
              "#fdca26"
             ],
             [
              1,
              "#f0f921"
             ]
            ],
            "type": "histogram2d"
           }
          ],
          "histogram2dcontour": [
           {
            "colorbar": {
             "outlinewidth": 0,
             "ticks": ""
            },
            "colorscale": [
             [
              0,
              "#0d0887"
             ],
             [
              0.1111111111111111,
              "#46039f"
             ],
             [
              0.2222222222222222,
              "#7201a8"
             ],
             [
              0.3333333333333333,
              "#9c179e"
             ],
             [
              0.4444444444444444,
              "#bd3786"
             ],
             [
              0.5555555555555556,
              "#d8576b"
             ],
             [
              0.6666666666666666,
              "#ed7953"
             ],
             [
              0.7777777777777778,
              "#fb9f3a"
             ],
             [
              0.8888888888888888,
              "#fdca26"
             ],
             [
              1,
              "#f0f921"
             ]
            ],
            "type": "histogram2dcontour"
           }
          ],
          "mesh3d": [
           {
            "colorbar": {
             "outlinewidth": 0,
             "ticks": ""
            },
            "type": "mesh3d"
           }
          ],
          "parcoords": [
           {
            "line": {
             "colorbar": {
              "outlinewidth": 0,
              "ticks": ""
             }
            },
            "type": "parcoords"
           }
          ],
          "pie": [
           {
            "automargin": true,
            "type": "pie"
           }
          ],
          "scatter": [
           {
            "marker": {
             "colorbar": {
              "outlinewidth": 0,
              "ticks": ""
             }
            },
            "type": "scatter"
           }
          ],
          "scatter3d": [
           {
            "line": {
             "colorbar": {
              "outlinewidth": 0,
              "ticks": ""
             }
            },
            "marker": {
             "colorbar": {
              "outlinewidth": 0,
              "ticks": ""
             }
            },
            "type": "scatter3d"
           }
          ],
          "scattercarpet": [
           {
            "marker": {
             "colorbar": {
              "outlinewidth": 0,
              "ticks": ""
             }
            },
            "type": "scattercarpet"
           }
          ],
          "scattergeo": [
           {
            "marker": {
             "colorbar": {
              "outlinewidth": 0,
              "ticks": ""
             }
            },
            "type": "scattergeo"
           }
          ],
          "scattergl": [
           {
            "marker": {
             "colorbar": {
              "outlinewidth": 0,
              "ticks": ""
             }
            },
            "type": "scattergl"
           }
          ],
          "scattermapbox": [
           {
            "marker": {
             "colorbar": {
              "outlinewidth": 0,
              "ticks": ""
             }
            },
            "type": "scattermapbox"
           }
          ],
          "scatterpolar": [
           {
            "marker": {
             "colorbar": {
              "outlinewidth": 0,
              "ticks": ""
             }
            },
            "type": "scatterpolar"
           }
          ],
          "scatterpolargl": [
           {
            "marker": {
             "colorbar": {
              "outlinewidth": 0,
              "ticks": ""
             }
            },
            "type": "scatterpolargl"
           }
          ],
          "scatterternary": [
           {
            "marker": {
             "colorbar": {
              "outlinewidth": 0,
              "ticks": ""
             }
            },
            "type": "scatterternary"
           }
          ],
          "surface": [
           {
            "colorbar": {
             "outlinewidth": 0,
             "ticks": ""
            },
            "colorscale": [
             [
              0,
              "#0d0887"
             ],
             [
              0.1111111111111111,
              "#46039f"
             ],
             [
              0.2222222222222222,
              "#7201a8"
             ],
             [
              0.3333333333333333,
              "#9c179e"
             ],
             [
              0.4444444444444444,
              "#bd3786"
             ],
             [
              0.5555555555555556,
              "#d8576b"
             ],
             [
              0.6666666666666666,
              "#ed7953"
             ],
             [
              0.7777777777777778,
              "#fb9f3a"
             ],
             [
              0.8888888888888888,
              "#fdca26"
             ],
             [
              1,
              "#f0f921"
             ]
            ],
            "type": "surface"
           }
          ],
          "table": [
           {
            "cells": {
             "fill": {
              "color": "#EBF0F8"
             },
             "line": {
              "color": "white"
             }
            },
            "header": {
             "fill": {
              "color": "#C8D4E3"
             },
             "line": {
              "color": "white"
             }
            },
            "type": "table"
           }
          ]
         },
         "layout": {
          "annotationdefaults": {
           "arrowcolor": "#2a3f5f",
           "arrowhead": 0,
           "arrowwidth": 1
          },
          "coloraxis": {
           "colorbar": {
            "outlinewidth": 0,
            "ticks": ""
           }
          },
          "colorscale": {
           "diverging": [
            [
             0,
             "#8e0152"
            ],
            [
             0.1,
             "#c51b7d"
            ],
            [
             0.2,
             "#de77ae"
            ],
            [
             0.3,
             "#f1b6da"
            ],
            [
             0.4,
             "#fde0ef"
            ],
            [
             0.5,
             "#f7f7f7"
            ],
            [
             0.6,
             "#e6f5d0"
            ],
            [
             0.7,
             "#b8e186"
            ],
            [
             0.8,
             "#7fbc41"
            ],
            [
             0.9,
             "#4d9221"
            ],
            [
             1,
             "#276419"
            ]
           ],
           "sequential": [
            [
             0,
             "#0d0887"
            ],
            [
             0.1111111111111111,
             "#46039f"
            ],
            [
             0.2222222222222222,
             "#7201a8"
            ],
            [
             0.3333333333333333,
             "#9c179e"
            ],
            [
             0.4444444444444444,
             "#bd3786"
            ],
            [
             0.5555555555555556,
             "#d8576b"
            ],
            [
             0.6666666666666666,
             "#ed7953"
            ],
            [
             0.7777777777777778,
             "#fb9f3a"
            ],
            [
             0.8888888888888888,
             "#fdca26"
            ],
            [
             1,
             "#f0f921"
            ]
           ],
           "sequentialminus": [
            [
             0,
             "#0d0887"
            ],
            [
             0.1111111111111111,
             "#46039f"
            ],
            [
             0.2222222222222222,
             "#7201a8"
            ],
            [
             0.3333333333333333,
             "#9c179e"
            ],
            [
             0.4444444444444444,
             "#bd3786"
            ],
            [
             0.5555555555555556,
             "#d8576b"
            ],
            [
             0.6666666666666666,
             "#ed7953"
            ],
            [
             0.7777777777777778,
             "#fb9f3a"
            ],
            [
             0.8888888888888888,
             "#fdca26"
            ],
            [
             1,
             "#f0f921"
            ]
           ]
          },
          "colorway": [
           "#636efa",
           "#EF553B",
           "#00cc96",
           "#ab63fa",
           "#FFA15A",
           "#19d3f3",
           "#FF6692",
           "#B6E880",
           "#FF97FF",
           "#FECB52"
          ],
          "font": {
           "color": "#2a3f5f"
          },
          "geo": {
           "bgcolor": "white",
           "lakecolor": "white",
           "landcolor": "#E5ECF6",
           "showlakes": true,
           "showland": true,
           "subunitcolor": "white"
          },
          "hoverlabel": {
           "align": "left"
          },
          "hovermode": "closest",
          "mapbox": {
           "style": "light"
          },
          "paper_bgcolor": "white",
          "plot_bgcolor": "#E5ECF6",
          "polar": {
           "angularaxis": {
            "gridcolor": "white",
            "linecolor": "white",
            "ticks": ""
           },
           "bgcolor": "#E5ECF6",
           "radialaxis": {
            "gridcolor": "white",
            "linecolor": "white",
            "ticks": ""
           }
          },
          "scene": {
           "xaxis": {
            "backgroundcolor": "#E5ECF6",
            "gridcolor": "white",
            "gridwidth": 2,
            "linecolor": "white",
            "showbackground": true,
            "ticks": "",
            "zerolinecolor": "white"
           },
           "yaxis": {
            "backgroundcolor": "#E5ECF6",
            "gridcolor": "white",
            "gridwidth": 2,
            "linecolor": "white",
            "showbackground": true,
            "ticks": "",
            "zerolinecolor": "white"
           },
           "zaxis": {
            "backgroundcolor": "#E5ECF6",
            "gridcolor": "white",
            "gridwidth": 2,
            "linecolor": "white",
            "showbackground": true,
            "ticks": "",
            "zerolinecolor": "white"
           }
          },
          "shapedefaults": {
           "line": {
            "color": "#2a3f5f"
           }
          },
          "ternary": {
           "aaxis": {
            "gridcolor": "white",
            "linecolor": "white",
            "ticks": ""
           },
           "baxis": {
            "gridcolor": "white",
            "linecolor": "white",
            "ticks": ""
           },
           "bgcolor": "#E5ECF6",
           "caxis": {
            "gridcolor": "white",
            "linecolor": "white",
            "ticks": ""
           }
          },
          "title": {
           "x": 0.05
          },
          "xaxis": {
           "automargin": true,
           "gridcolor": "white",
           "linecolor": "white",
           "ticks": "",
           "title": {
            "standoff": 15
           },
           "zerolinecolor": "white",
           "zerolinewidth": 2
          },
          "yaxis": {
           "automargin": true,
           "gridcolor": "white",
           "linecolor": "white",
           "ticks": "",
           "title": {
            "standoff": 15
           },
           "zerolinecolor": "white",
           "zerolinewidth": 2
          }
         }
        },
        "width": 500,
        "xaxis": {
         "anchor": "y",
         "domain": [
          0,
          1
         ],
         "title": {
          "text": "count"
         }
        },
        "yaxis": {
         "anchor": "x",
         "categoryarray": [
          "peopl",
          "health",
          "love",
          "pfe",
          "sol",
          "bwi",
          "ethicon",
          "johnson",
          "amp",
          "jnj"
         ],
         "categoryorder": "array",
         "domain": [
          0,
          1
         ],
         "title": {
          "text": "Common_words"
         }
        }
       }
      },
      "text/html": [
       "<div>                            <div id=\"69b1f053-107f-4de0-97ce-5b92df99021d\" class=\"plotly-graph-div\" style=\"height:400px; width:500px;\"></div>            <script type=\"text/javascript\">                require([\"plotly\"], function(Plotly) {                    window.PLOTLYENV=window.PLOTLYENV || {};                                    if (document.getElementById(\"69b1f053-107f-4de0-97ce-5b92df99021d\")) {                    Plotly.newPlot(                        \"69b1f053-107f-4de0-97ce-5b92df99021d\",                        [{\"alignmentgroup\": \"True\", \"hovertemplate\": \"Common_words=%{y}<br>count=%{x}<extra></extra>\", \"legendgroup\": \"jnj\", \"marker\": {\"color\": \"#636efa\"}, \"name\": \"jnj\", \"offsetgroup\": \"jnj\", \"orientation\": \"h\", \"showlegend\": true, \"textposition\": \"auto\", \"type\": \"bar\", \"x\": [3728], \"xaxis\": \"x\", \"y\": [\"jnj\"], \"yaxis\": \"y\"}, {\"alignmentgroup\": \"True\", \"hovertemplate\": \"Common_words=%{y}<br>count=%{x}<extra></extra>\", \"legendgroup\": \"amp\", \"marker\": {\"color\": \"#EF553B\"}, \"name\": \"amp\", \"offsetgroup\": \"amp\", \"orientation\": \"h\", \"showlegend\": true, \"textposition\": \"auto\", \"type\": \"bar\", \"x\": [785], \"xaxis\": \"x\", \"y\": [\"amp\"], \"yaxis\": \"y\"}, {\"alignmentgroup\": \"True\", \"hovertemplate\": \"Common_words=%{y}<br>count=%{x}<extra></extra>\", \"legendgroup\": \"johnson\", \"marker\": {\"color\": \"#00cc96\"}, \"name\": \"johnson\", \"offsetgroup\": \"johnson\", \"orientation\": \"h\", \"showlegend\": true, \"textposition\": \"auto\", \"type\": \"bar\", \"x\": [608], \"xaxis\": \"x\", \"y\": [\"johnson\"], \"yaxis\": \"y\"}, {\"alignmentgroup\": \"True\", \"hovertemplate\": \"Common_words=%{y}<br>count=%{x}<extra></extra>\", \"legendgroup\": \"ethicon\", \"marker\": {\"color\": \"#ab63fa\"}, \"name\": \"ethicon\", \"offsetgroup\": \"ethicon\", \"orientation\": \"h\", \"showlegend\": true, \"textposition\": \"auto\", \"type\": \"bar\", \"x\": [564], \"xaxis\": \"x\", \"y\": [\"ethicon\"], \"yaxis\": \"y\"}, {\"alignmentgroup\": \"True\", \"hovertemplate\": \"Common_words=%{y}<br>count=%{x}<extra></extra>\", \"legendgroup\": \"bwi\", \"marker\": {\"color\": \"#FFA15A\"}, \"name\": \"bwi\", \"offsetgroup\": \"bwi\", \"orientation\": \"h\", \"showlegend\": true, \"textposition\": \"auto\", \"type\": \"bar\", \"x\": [269], \"xaxis\": \"x\", \"y\": [\"bwi\"], \"yaxis\": \"y\"}, {\"alignmentgroup\": \"True\", \"hovertemplate\": \"Common_words=%{y}<br>count=%{x}<extra></extra>\", \"legendgroup\": \"sol\", \"marker\": {\"color\": \"#19d3f3\"}, \"name\": \"sol\", \"offsetgroup\": \"sol\", \"orientation\": \"h\", \"showlegend\": true, \"textposition\": \"auto\", \"type\": \"bar\", \"x\": [254], \"xaxis\": \"x\", \"y\": [\"sol\"], \"yaxis\": \"y\"}, {\"alignmentgroup\": \"True\", \"hovertemplate\": \"Common_words=%{y}<br>count=%{x}<extra></extra>\", \"legendgroup\": \"pfe\", \"marker\": {\"color\": \"#FF6692\"}, \"name\": \"pfe\", \"offsetgroup\": \"pfe\", \"orientation\": \"h\", \"showlegend\": true, \"textposition\": \"auto\", \"type\": \"bar\", \"x\": [242], \"xaxis\": \"x\", \"y\": [\"pfe\"], \"yaxis\": \"y\"}, {\"alignmentgroup\": \"True\", \"hovertemplate\": \"Common_words=%{y}<br>count=%{x}<extra></extra>\", \"legendgroup\": \"love\", \"marker\": {\"color\": \"#B6E880\"}, \"name\": \"love\", \"offsetgroup\": \"love\", \"orientation\": \"h\", \"showlegend\": true, \"textposition\": \"auto\", \"type\": \"bar\", \"x\": [240], \"xaxis\": \"x\", \"y\": [\"love\"], \"yaxis\": \"y\"}, {\"alignmentgroup\": \"True\", \"hovertemplate\": \"Common_words=%{y}<br>count=%{x}<extra></extra>\", \"legendgroup\": \"health\", \"marker\": {\"color\": \"#FF97FF\"}, \"name\": \"health\", \"offsetgroup\": \"health\", \"orientation\": \"h\", \"showlegend\": true, \"textposition\": \"auto\", \"type\": \"bar\", \"x\": [239], \"xaxis\": \"x\", \"y\": [\"health\"], \"yaxis\": \"y\"}, {\"alignmentgroup\": \"True\", \"hovertemplate\": \"Common_words=%{y}<br>count=%{x}<extra></extra>\", \"legendgroup\": \"peopl\", \"marker\": {\"color\": \"#FECB52\"}, \"name\": \"peopl\", \"offsetgroup\": \"peopl\", \"orientation\": \"h\", \"showlegend\": true, \"textposition\": \"auto\", \"type\": \"bar\", \"x\": [239], \"xaxis\": \"x\", \"y\": [\"peopl\"], \"yaxis\": \"y\"}],                        {\"barmode\": \"relative\", \"height\": 400, \"legend\": {\"title\": {\"text\": \"Common_words\"}, \"tracegroupgap\": 0}, \"margin\": {\"t\": 60}, \"template\": {\"data\": {\"bar\": [{\"error_x\": {\"color\": \"#2a3f5f\"}, \"error_y\": {\"color\": \"#2a3f5f\"}, \"marker\": {\"line\": {\"color\": \"#E5ECF6\", \"width\": 0.5}}, \"type\": \"bar\"}], \"barpolar\": [{\"marker\": {\"line\": {\"color\": \"#E5ECF6\", \"width\": 0.5}}, \"type\": \"barpolar\"}], \"carpet\": [{\"aaxis\": {\"endlinecolor\": \"#2a3f5f\", \"gridcolor\": \"white\", \"linecolor\": \"white\", \"minorgridcolor\": \"white\", \"startlinecolor\": \"#2a3f5f\"}, \"baxis\": {\"endlinecolor\": \"#2a3f5f\", \"gridcolor\": \"white\", \"linecolor\": \"white\", \"minorgridcolor\": \"white\", \"startlinecolor\": \"#2a3f5f\"}, \"type\": \"carpet\"}], \"choropleth\": [{\"colorbar\": {\"outlinewidth\": 0, \"ticks\": \"\"}, \"type\": \"choropleth\"}], \"contour\": [{\"colorbar\": {\"outlinewidth\": 0, \"ticks\": \"\"}, \"colorscale\": [[0.0, \"#0d0887\"], [0.1111111111111111, \"#46039f\"], [0.2222222222222222, \"#7201a8\"], [0.3333333333333333, \"#9c179e\"], [0.4444444444444444, \"#bd3786\"], [0.5555555555555556, \"#d8576b\"], [0.6666666666666666, \"#ed7953\"], [0.7777777777777778, \"#fb9f3a\"], [0.8888888888888888, \"#fdca26\"], [1.0, \"#f0f921\"]], \"type\": \"contour\"}], \"contourcarpet\": [{\"colorbar\": {\"outlinewidth\": 0, \"ticks\": \"\"}, \"type\": \"contourcarpet\"}], \"heatmap\": [{\"colorbar\": {\"outlinewidth\": 0, \"ticks\": \"\"}, \"colorscale\": [[0.0, \"#0d0887\"], [0.1111111111111111, \"#46039f\"], [0.2222222222222222, \"#7201a8\"], [0.3333333333333333, \"#9c179e\"], [0.4444444444444444, \"#bd3786\"], [0.5555555555555556, \"#d8576b\"], [0.6666666666666666, \"#ed7953\"], [0.7777777777777778, \"#fb9f3a\"], [0.8888888888888888, \"#fdca26\"], [1.0, \"#f0f921\"]], \"type\": \"heatmap\"}], \"heatmapgl\": [{\"colorbar\": {\"outlinewidth\": 0, \"ticks\": \"\"}, \"colorscale\": [[0.0, \"#0d0887\"], [0.1111111111111111, \"#46039f\"], [0.2222222222222222, \"#7201a8\"], [0.3333333333333333, \"#9c179e\"], [0.4444444444444444, \"#bd3786\"], [0.5555555555555556, \"#d8576b\"], [0.6666666666666666, \"#ed7953\"], [0.7777777777777778, \"#fb9f3a\"], [0.8888888888888888, \"#fdca26\"], [1.0, \"#f0f921\"]], \"type\": \"heatmapgl\"}], \"histogram\": [{\"marker\": {\"colorbar\": {\"outlinewidth\": 0, \"ticks\": \"\"}}, \"type\": \"histogram\"}], \"histogram2d\": [{\"colorbar\": {\"outlinewidth\": 0, \"ticks\": \"\"}, \"colorscale\": [[0.0, \"#0d0887\"], [0.1111111111111111, \"#46039f\"], [0.2222222222222222, \"#7201a8\"], [0.3333333333333333, \"#9c179e\"], [0.4444444444444444, \"#bd3786\"], [0.5555555555555556, \"#d8576b\"], [0.6666666666666666, \"#ed7953\"], [0.7777777777777778, \"#fb9f3a\"], [0.8888888888888888, \"#fdca26\"], [1.0, \"#f0f921\"]], \"type\": \"histogram2d\"}], \"histogram2dcontour\": [{\"colorbar\": {\"outlinewidth\": 0, \"ticks\": \"\"}, \"colorscale\": [[0.0, \"#0d0887\"], [0.1111111111111111, \"#46039f\"], [0.2222222222222222, \"#7201a8\"], [0.3333333333333333, \"#9c179e\"], [0.4444444444444444, \"#bd3786\"], [0.5555555555555556, \"#d8576b\"], [0.6666666666666666, \"#ed7953\"], [0.7777777777777778, \"#fb9f3a\"], [0.8888888888888888, \"#fdca26\"], [1.0, \"#f0f921\"]], \"type\": \"histogram2dcontour\"}], \"mesh3d\": [{\"colorbar\": {\"outlinewidth\": 0, \"ticks\": \"\"}, \"type\": \"mesh3d\"}], \"parcoords\": [{\"line\": {\"colorbar\": {\"outlinewidth\": 0, \"ticks\": \"\"}}, \"type\": \"parcoords\"}], \"pie\": [{\"automargin\": true, \"type\": \"pie\"}], \"scatter\": [{\"marker\": {\"colorbar\": {\"outlinewidth\": 0, \"ticks\": \"\"}}, \"type\": \"scatter\"}], \"scatter3d\": [{\"line\": {\"colorbar\": {\"outlinewidth\": 0, \"ticks\": \"\"}}, \"marker\": {\"colorbar\": {\"outlinewidth\": 0, \"ticks\": \"\"}}, \"type\": \"scatter3d\"}], \"scattercarpet\": [{\"marker\": {\"colorbar\": {\"outlinewidth\": 0, \"ticks\": \"\"}}, \"type\": \"scattercarpet\"}], \"scattergeo\": [{\"marker\": {\"colorbar\": {\"outlinewidth\": 0, \"ticks\": \"\"}}, \"type\": \"scattergeo\"}], \"scattergl\": [{\"marker\": {\"colorbar\": {\"outlinewidth\": 0, \"ticks\": \"\"}}, \"type\": \"scattergl\"}], \"scattermapbox\": [{\"marker\": {\"colorbar\": {\"outlinewidth\": 0, \"ticks\": \"\"}}, \"type\": \"scattermapbox\"}], \"scatterpolar\": [{\"marker\": {\"colorbar\": {\"outlinewidth\": 0, \"ticks\": \"\"}}, \"type\": \"scatterpolar\"}], \"scatterpolargl\": [{\"marker\": {\"colorbar\": {\"outlinewidth\": 0, \"ticks\": \"\"}}, \"type\": \"scatterpolargl\"}], \"scatterternary\": [{\"marker\": {\"colorbar\": {\"outlinewidth\": 0, \"ticks\": \"\"}}, \"type\": \"scatterternary\"}], \"surface\": [{\"colorbar\": {\"outlinewidth\": 0, \"ticks\": \"\"}, \"colorscale\": [[0.0, \"#0d0887\"], [0.1111111111111111, \"#46039f\"], [0.2222222222222222, \"#7201a8\"], [0.3333333333333333, \"#9c179e\"], [0.4444444444444444, \"#bd3786\"], [0.5555555555555556, \"#d8576b\"], [0.6666666666666666, \"#ed7953\"], [0.7777777777777778, \"#fb9f3a\"], [0.8888888888888888, \"#fdca26\"], [1.0, \"#f0f921\"]], \"type\": \"surface\"}], \"table\": [{\"cells\": {\"fill\": {\"color\": \"#EBF0F8\"}, \"line\": {\"color\": \"white\"}}, \"header\": {\"fill\": {\"color\": \"#C8D4E3\"}, \"line\": {\"color\": \"white\"}}, \"type\": \"table\"}]}, \"layout\": {\"annotationdefaults\": {\"arrowcolor\": \"#2a3f5f\", \"arrowhead\": 0, \"arrowwidth\": 1}, \"coloraxis\": {\"colorbar\": {\"outlinewidth\": 0, \"ticks\": \"\"}}, \"colorscale\": {\"diverging\": [[0, \"#8e0152\"], [0.1, \"#c51b7d\"], [0.2, \"#de77ae\"], [0.3, \"#f1b6da\"], [0.4, \"#fde0ef\"], [0.5, \"#f7f7f7\"], [0.6, \"#e6f5d0\"], [0.7, \"#b8e186\"], [0.8, \"#7fbc41\"], [0.9, \"#4d9221\"], [1, \"#276419\"]], \"sequential\": [[0.0, \"#0d0887\"], [0.1111111111111111, \"#46039f\"], [0.2222222222222222, \"#7201a8\"], [0.3333333333333333, \"#9c179e\"], [0.4444444444444444, \"#bd3786\"], [0.5555555555555556, \"#d8576b\"], [0.6666666666666666, \"#ed7953\"], [0.7777777777777778, \"#fb9f3a\"], [0.8888888888888888, \"#fdca26\"], [1.0, \"#f0f921\"]], \"sequentialminus\": [[0.0, \"#0d0887\"], [0.1111111111111111, \"#46039f\"], [0.2222222222222222, \"#7201a8\"], [0.3333333333333333, \"#9c179e\"], [0.4444444444444444, \"#bd3786\"], [0.5555555555555556, \"#d8576b\"], [0.6666666666666666, \"#ed7953\"], [0.7777777777777778, \"#fb9f3a\"], [0.8888888888888888, \"#fdca26\"], [1.0, \"#f0f921\"]]}, \"colorway\": [\"#636efa\", \"#EF553B\", \"#00cc96\", \"#ab63fa\", \"#FFA15A\", \"#19d3f3\", \"#FF6692\", \"#B6E880\", \"#FF97FF\", \"#FECB52\"], \"font\": {\"color\": \"#2a3f5f\"}, \"geo\": {\"bgcolor\": \"white\", \"lakecolor\": \"white\", \"landcolor\": \"#E5ECF6\", \"showlakes\": true, \"showland\": true, \"subunitcolor\": \"white\"}, \"hoverlabel\": {\"align\": \"left\"}, \"hovermode\": \"closest\", \"mapbox\": {\"style\": \"light\"}, \"paper_bgcolor\": \"white\", \"plot_bgcolor\": \"#E5ECF6\", \"polar\": {\"angularaxis\": {\"gridcolor\": \"white\", \"linecolor\": \"white\", \"ticks\": \"\"}, \"bgcolor\": \"#E5ECF6\", \"radialaxis\": {\"gridcolor\": \"white\", \"linecolor\": \"white\", \"ticks\": \"\"}}, \"scene\": {\"xaxis\": {\"backgroundcolor\": \"#E5ECF6\", \"gridcolor\": \"white\", \"gridwidth\": 2, \"linecolor\": \"white\", \"showbackground\": true, \"ticks\": \"\", \"zerolinecolor\": \"white\"}, \"yaxis\": {\"backgroundcolor\": \"#E5ECF6\", \"gridcolor\": \"white\", \"gridwidth\": 2, \"linecolor\": \"white\", \"showbackground\": true, \"ticks\": \"\", \"zerolinecolor\": \"white\"}, \"zaxis\": {\"backgroundcolor\": \"#E5ECF6\", \"gridcolor\": \"white\", \"gridwidth\": 2, \"linecolor\": \"white\", \"showbackground\": true, \"ticks\": \"\", \"zerolinecolor\": \"white\"}}, \"shapedefaults\": {\"line\": {\"color\": \"#2a3f5f\"}}, \"ternary\": {\"aaxis\": {\"gridcolor\": \"white\", \"linecolor\": \"white\", \"ticks\": \"\"}, \"baxis\": {\"gridcolor\": \"white\", \"linecolor\": \"white\", \"ticks\": \"\"}, \"bgcolor\": \"#E5ECF6\", \"caxis\": {\"gridcolor\": \"white\", \"linecolor\": \"white\", \"ticks\": \"\"}}, \"title\": {\"x\": 0.05}, \"xaxis\": {\"automargin\": true, \"gridcolor\": \"white\", \"linecolor\": \"white\", \"ticks\": \"\", \"title\": {\"standoff\": 15}, \"zerolinecolor\": \"white\", \"zerolinewidth\": 2}, \"yaxis\": {\"automargin\": true, \"gridcolor\": \"white\", \"linecolor\": \"white\", \"ticks\": \"\", \"title\": {\"standoff\": 15}, \"zerolinecolor\": \"white\", \"zerolinewidth\": 2}}}, \"width\": 500, \"xaxis\": {\"anchor\": \"y\", \"domain\": [0.0, 1.0], \"title\": {\"text\": \"count\"}}, \"yaxis\": {\"anchor\": \"x\", \"categoryarray\": [\"peopl\", \"health\", \"love\", \"pfe\", \"sol\", \"bwi\", \"ethicon\", \"johnson\", \"amp\", \"jnj\"], \"categoryorder\": \"array\", \"domain\": [0.0, 1.0], \"title\": {\"text\": \"Common_words\"}}},                        {\"responsive\": true}                    ).then(function(){\n",
       "                            \n",
       "var gd = document.getElementById('69b1f053-107f-4de0-97ce-5b92df99021d');\n",
       "var x = new MutationObserver(function (mutations, observer) {{\n",
       "        var display = window.getComputedStyle(gd).display;\n",
       "        if (!display || display === 'none') {{\n",
       "            console.log([gd, 'removed!']);\n",
       "            Plotly.purge(gd);\n",
       "            observer.disconnect();\n",
       "        }}\n",
       "}});\n",
       "\n",
       "// Listen for the removal of the full notebook cells\n",
       "var notebookContainer = gd.closest('#notebook-container');\n",
       "if (notebookContainer) {{\n",
       "    x.observe(notebookContainer, {childList: true});\n",
       "}}\n",
       "\n",
       "// Listen for the clearing of the current output cell\n",
       "var outputEl = gd.closest('.output');\n",
       "if (outputEl) {{\n",
       "    x.observe(outputEl, {childList: true});\n",
       "}}\n",
       "\n",
       "                        })                };                });            </script>        </div>"
      ]
     },
     "metadata": {},
     "output_type": "display_data"
    }
   ],
   "source": [
    "fig = px.bar(temp1, x=\"count\", y=\"Common_words\", orientation='h', \n",
    "             width=500, height=400,color='Common_words')\n",
    "fig.show()"
   ]
  },
  {
   "cell_type": "code",
   "execution_count": 200,
   "metadata": {},
   "outputs": [],
   "source": [
    "right_class = tweets[tweets['medical_device']==True]\n",
    "wrong_class = tweets[tweets['medical_device']==False]"
   ]
  },
  {
   "cell_type": "code",
   "execution_count": 201,
   "metadata": {},
   "outputs": [
    {
     "data": {
      "text/html": [
       "<style  type=\"text/css\" >\n",
       "    #T_61006854_a0b7_11ec_b6b1_acde48001122row0_col1 {\n",
       "            background-color:  #00441b;\n",
       "            color:  #f1f1f1;\n",
       "        }    #T_61006854_a0b7_11ec_b6b1_acde48001122row1_col1 {\n",
       "            background-color:  #3ea75a;\n",
       "            color:  #000000;\n",
       "        }    #T_61006854_a0b7_11ec_b6b1_acde48001122row2_col1 {\n",
       "            background-color:  #6ec173;\n",
       "            color:  #000000;\n",
       "        }    #T_61006854_a0b7_11ec_b6b1_acde48001122row3_col1 {\n",
       "            background-color:  #90d18d;\n",
       "            color:  #000000;\n",
       "        }    #T_61006854_a0b7_11ec_b6b1_acde48001122row4_col1 {\n",
       "            background-color:  #90d18d;\n",
       "            color:  #000000;\n",
       "        }    #T_61006854_a0b7_11ec_b6b1_acde48001122row5_col1 {\n",
       "            background-color:  #e1f3dc;\n",
       "            color:  #000000;\n",
       "        }    #T_61006854_a0b7_11ec_b6b1_acde48001122row6_col1 {\n",
       "            background-color:  #ecf8e8;\n",
       "            color:  #000000;\n",
       "        }    #T_61006854_a0b7_11ec_b6b1_acde48001122row7_col1 {\n",
       "            background-color:  #ecf8e8;\n",
       "            color:  #000000;\n",
       "        }    #T_61006854_a0b7_11ec_b6b1_acde48001122row8_col1 {\n",
       "            background-color:  #edf8e9;\n",
       "            color:  #000000;\n",
       "        }    #T_61006854_a0b7_11ec_b6b1_acde48001122row9_col1 {\n",
       "            background-color:  #edf8ea;\n",
       "            color:  #000000;\n",
       "        }    #T_61006854_a0b7_11ec_b6b1_acde48001122row10_col1 {\n",
       "            background-color:  #edf8ea;\n",
       "            color:  #000000;\n",
       "        }    #T_61006854_a0b7_11ec_b6b1_acde48001122row11_col1 {\n",
       "            background-color:  #f4fbf2;\n",
       "            color:  #000000;\n",
       "        }    #T_61006854_a0b7_11ec_b6b1_acde48001122row12_col1 {\n",
       "            background-color:  #f5fbf2;\n",
       "            color:  #000000;\n",
       "        }    #T_61006854_a0b7_11ec_b6b1_acde48001122row13_col1 {\n",
       "            background-color:  #f6fcf4;\n",
       "            color:  #000000;\n",
       "        }    #T_61006854_a0b7_11ec_b6b1_acde48001122row14_col1 {\n",
       "            background-color:  #f6fcf4;\n",
       "            color:  #000000;\n",
       "        }    #T_61006854_a0b7_11ec_b6b1_acde48001122row15_col1 {\n",
       "            background-color:  #f6fcf4;\n",
       "            color:  #000000;\n",
       "        }    #T_61006854_a0b7_11ec_b6b1_acde48001122row16_col1 {\n",
       "            background-color:  #f7fcf5;\n",
       "            color:  #000000;\n",
       "        }    #T_61006854_a0b7_11ec_b6b1_acde48001122row17_col1 {\n",
       "            background-color:  #f7fcf5;\n",
       "            color:  #000000;\n",
       "        }    #T_61006854_a0b7_11ec_b6b1_acde48001122row18_col1 {\n",
       "            background-color:  #f7fcf5;\n",
       "            color:  #000000;\n",
       "        }    #T_61006854_a0b7_11ec_b6b1_acde48001122row19_col1 {\n",
       "            background-color:  #f7fcf5;\n",
       "            color:  #000000;\n",
       "        }</style><table id=\"T_61006854_a0b7_11ec_b6b1_acde48001122\" ><thead>    <tr>        <th class=\"blank level0\" ></th>        <th class=\"col_heading level0 col0\" >Common_words</th>        <th class=\"col_heading level0 col1\" >count</th>    </tr></thead><tbody>\n",
       "                <tr>\n",
       "                        <th id=\"T_61006854_a0b7_11ec_b6b1_acde48001122level0_row0\" class=\"row_heading level0 row0\" >0</th>\n",
       "                        <td id=\"T_61006854_a0b7_11ec_b6b1_acde48001122row0_col0\" class=\"data row0 col0\" >ethicon</td>\n",
       "                        <td id=\"T_61006854_a0b7_11ec_b6b1_acde48001122row0_col1\" class=\"data row0 col1\" >264</td>\n",
       "            </tr>\n",
       "            <tr>\n",
       "                        <th id=\"T_61006854_a0b7_11ec_b6b1_acde48001122level0_row1\" class=\"row_heading level0 row1\" >1</th>\n",
       "                        <td id=\"T_61006854_a0b7_11ec_b6b1_acde48001122row1_col0\" class=\"data row1 col0\" >jnj</td>\n",
       "                        <td id=\"T_61006854_a0b7_11ec_b6b1_acde48001122row1_col1\" class=\"data row1 col1\" >180</td>\n",
       "            </tr>\n",
       "            <tr>\n",
       "                        <th id=\"T_61006854_a0b7_11ec_b6b1_acde48001122level0_row2\" class=\"row_heading level0 row2\" >2</th>\n",
       "                        <td id=\"T_61006854_a0b7_11ec_b6b1_acde48001122row2_col0\" class=\"data row2 col0\" >amp</td>\n",
       "                        <td id=\"T_61006854_a0b7_11ec_b6b1_acde48001122row2_col1\" class=\"data row2 col1\" >151</td>\n",
       "            </tr>\n",
       "            <tr>\n",
       "                        <th id=\"T_61006854_a0b7_11ec_b6b1_acde48001122level0_row3\" class=\"row_heading level0 row3\" >3</th>\n",
       "                        <td id=\"T_61006854_a0b7_11ec_b6b1_acde48001122row3_col0\" class=\"data row3 col0\" >johnson</td>\n",
       "                        <td id=\"T_61006854_a0b7_11ec_b6b1_acde48001122row3_col1\" class=\"data row3 col1\" >130</td>\n",
       "            </tr>\n",
       "            <tr>\n",
       "                        <th id=\"T_61006854_a0b7_11ec_b6b1_acde48001122level0_row4\" class=\"row_heading level0 row4\" >4</th>\n",
       "                        <td id=\"T_61006854_a0b7_11ec_b6b1_acde48001122row4_col0\" class=\"data row4 col0\" >mesh</td>\n",
       "                        <td id=\"T_61006854_a0b7_11ec_b6b1_acde48001122row4_col1\" class=\"data row4 col1\" >130</td>\n",
       "            </tr>\n",
       "            <tr>\n",
       "                        <th id=\"T_61006854_a0b7_11ec_b6b1_acde48001122level0_row5\" class=\"row_heading level0 row5\" >5</th>\n",
       "                        <td id=\"T_61006854_a0b7_11ec_b6b1_acde48001122row5_col0\" class=\"data row5 col0\" >devic</td>\n",
       "                        <td id=\"T_61006854_a0b7_11ec_b6b1_acde48001122row5_col1\" class=\"data row5 col1\" >64</td>\n",
       "            </tr>\n",
       "            <tr>\n",
       "                        <th id=\"T_61006854_a0b7_11ec_b6b1_acde48001122level0_row6\" class=\"row_heading level0 row6\" >6</th>\n",
       "                        <td id=\"T_61006854_a0b7_11ec_b6b1_acde48001122row6_col0\" class=\"data row6 col0\" >medic</td>\n",
       "                        <td id=\"T_61006854_a0b7_11ec_b6b1_acde48001122row6_col1\" class=\"data row6 col1\" >50</td>\n",
       "            </tr>\n",
       "            <tr>\n",
       "                        <th id=\"T_61006854_a0b7_11ec_b6b1_acde48001122level0_row7\" class=\"row_heading level0 row7\" >7</th>\n",
       "                        <td id=\"T_61006854_a0b7_11ec_b6b1_acde48001122row7_col0\" class=\"data row7 col0\" >surgic</td>\n",
       "                        <td id=\"T_61006854_a0b7_11ec_b6b1_acde48001122row7_col1\" class=\"data row7 col1\" >49</td>\n",
       "            </tr>\n",
       "            <tr>\n",
       "                        <th id=\"T_61006854_a0b7_11ec_b6b1_acde48001122level0_row8\" class=\"row_heading level0 row8\" >8</th>\n",
       "                        <td id=\"T_61006854_a0b7_11ec_b6b1_acde48001122row8_col0\" class=\"data row8 col0\" >market</td>\n",
       "                        <td id=\"T_61006854_a0b7_11ec_b6b1_acde48001122row8_col1\" class=\"data row8 col1\" >48</td>\n",
       "            </tr>\n",
       "            <tr>\n",
       "                        <th id=\"T_61006854_a0b7_11ec_b6b1_acde48001122level0_row9\" class=\"row_heading level0 row9\" >9</th>\n",
       "                        <td id=\"T_61006854_a0b7_11ec_b6b1_acde48001122row9_col0\" class=\"data row9 col0\" >use</td>\n",
       "                        <td id=\"T_61006854_a0b7_11ec_b6b1_acde48001122row9_col1\" class=\"data row9 col1\" >47</td>\n",
       "            </tr>\n",
       "            <tr>\n",
       "                        <th id=\"T_61006854_a0b7_11ec_b6b1_acde48001122level0_row10\" class=\"row_heading level0 row10\" >10</th>\n",
       "                        <td id=\"T_61006854_a0b7_11ec_b6b1_acde48001122row10_col0\" class=\"data row10 col0\" >implant</td>\n",
       "                        <td id=\"T_61006854_a0b7_11ec_b6b1_acde48001122row10_col1\" class=\"data row10 col1\" >47</td>\n",
       "            </tr>\n",
       "            <tr>\n",
       "                        <th id=\"T_61006854_a0b7_11ec_b6b1_acde48001122level0_row11\" class=\"row_heading level0 row11\" >11</th>\n",
       "                        <td id=\"T_61006854_a0b7_11ec_b6b1_acde48001122row11_col0\" class=\"data row11 col0\" >surgeri</td>\n",
       "                        <td id=\"T_61006854_a0b7_11ec_b6b1_acde48001122row11_col1\" class=\"data row11 col1\" >36</td>\n",
       "            </tr>\n",
       "            <tr>\n",
       "                        <th id=\"T_61006854_a0b7_11ec_b6b1_acde48001122level0_row12\" class=\"row_heading level0 row12\" >12</th>\n",
       "                        <td id=\"T_61006854_a0b7_11ec_b6b1_acde48001122row12_col0\" class=\"data row12 col0\" >biosens</td>\n",
       "                        <td id=\"T_61006854_a0b7_11ec_b6b1_acde48001122row12_col1\" class=\"data row12 col1\" >35</td>\n",
       "            </tr>\n",
       "            <tr>\n",
       "                        <th id=\"T_61006854_a0b7_11ec_b6b1_acde48001122level0_row13\" class=\"row_heading level0 row13\" >13</th>\n",
       "                        <td id=\"T_61006854_a0b7_11ec_b6b1_acde48001122row13_col0\" class=\"data row13 col0\" >webster</td>\n",
       "                        <td id=\"T_61006854_a0b7_11ec_b6b1_acde48001122row13_col1\" class=\"data row13 col1\" >33</td>\n",
       "            </tr>\n",
       "            <tr>\n",
       "                        <th id=\"T_61006854_a0b7_11ec_b6b1_acde48001122level0_row14\" class=\"row_heading level0 row14\" >14</th>\n",
       "                        <td id=\"T_61006854_a0b7_11ec_b6b1_acde48001122row14_col0\" class=\"data row14 col0\" >ablat</td>\n",
       "                        <td id=\"T_61006854_a0b7_11ec_b6b1_acde48001122row14_col1\" class=\"data row14 col1\" >32</td>\n",
       "            </tr>\n",
       "            <tr>\n",
       "                        <th id=\"T_61006854_a0b7_11ec_b6b1_acde48001122level0_row15\" class=\"row_heading level0 row15\" >15</th>\n",
       "                        <td id=\"T_61006854_a0b7_11ec_b6b1_acde48001122row15_col0\" class=\"data row15 col0\" >patient</td>\n",
       "                        <td id=\"T_61006854_a0b7_11ec_b6b1_acde48001122row15_col1\" class=\"data row15 col1\" >32</td>\n",
       "            </tr>\n",
       "            <tr>\n",
       "                        <th id=\"T_61006854_a0b7_11ec_b6b1_acde48001122level0_row16\" class=\"row_heading level0 row16\" >16</th>\n",
       "                        <td id=\"T_61006854_a0b7_11ec_b6b1_acde48001122row16_col0\" class=\"data row16 col0\" >surgeon</td>\n",
       "                        <td id=\"T_61006854_a0b7_11ec_b6b1_acde48001122row16_col1\" class=\"data row16 col1\" >31</td>\n",
       "            </tr>\n",
       "            <tr>\n",
       "                        <th id=\"T_61006854_a0b7_11ec_b6b1_acde48001122level0_row17\" class=\"row_heading level0 row17\" >17</th>\n",
       "                        <td id=\"T_61006854_a0b7_11ec_b6b1_acde48001122row17_col0\" class=\"data row17 col0\" >pain</td>\n",
       "                        <td id=\"T_61006854_a0b7_11ec_b6b1_acde48001122row17_col1\" class=\"data row17 col1\" >31</td>\n",
       "            </tr>\n",
       "            <tr>\n",
       "                        <th id=\"T_61006854_a0b7_11ec_b6b1_acde48001122level0_row18\" class=\"row_heading level0 row18\" >18</th>\n",
       "                        <td id=\"T_61006854_a0b7_11ec_b6b1_acde48001122row18_col0\" class=\"data row18 col0\" >fda</td>\n",
       "                        <td id=\"T_61006854_a0b7_11ec_b6b1_acde48001122row18_col1\" class=\"data row18 col1\" >31</td>\n",
       "            </tr>\n",
       "            <tr>\n",
       "                        <th id=\"T_61006854_a0b7_11ec_b6b1_acde48001122level0_row19\" class=\"row_heading level0 row19\" >19</th>\n",
       "                        <td id=\"T_61006854_a0b7_11ec_b6b1_acde48001122row19_col0\" class=\"data row19 col0\" >women</td>\n",
       "                        <td id=\"T_61006854_a0b7_11ec_b6b1_acde48001122row19_col1\" class=\"data row19 col1\" >31</td>\n",
       "            </tr>\n",
       "    </tbody></table>"
      ],
      "text/plain": [
       "<pandas.io.formats.style.Styler at 0x7fdc13173750>"
      ]
     },
     "execution_count": 201,
     "metadata": {},
     "output_type": "execute_result"
    }
   ],
   "source": [
    "top = Counter([item for sublist in right_class['temp_list3'] for item in sublist])\n",
    "temp_positive = pd.DataFrame(top.most_common(20))\n",
    "temp_positive.columns = ['Common_words','count']\n",
    "temp_positive.style.background_gradient(cmap='Greens')"
   ]
  },
  {
   "cell_type": "code",
   "execution_count": 206,
   "metadata": {},
   "outputs": [
    {
     "data": {
      "application/vnd.plotly.v1+json": {
       "config": {
        "plotlyServerURL": "https://plot.ly"
       },
       "data": [
        {
         "alignmentgroup": "True",
         "hovertemplate": "Common_words=%{y}<br>count=%{x}<extra></extra>",
         "legendgroup": "ethicon",
         "marker": {
          "color": "#636efa"
         },
         "name": "ethicon",
         "offsetgroup": "ethicon",
         "orientation": "h",
         "showlegend": true,
         "textposition": "auto",
         "type": "bar",
         "x": [
          264
         ],
         "xaxis": "x",
         "y": [
          "ethicon"
         ],
         "yaxis": "y"
        },
        {
         "alignmentgroup": "True",
         "hovertemplate": "Common_words=%{y}<br>count=%{x}<extra></extra>",
         "legendgroup": "jnj",
         "marker": {
          "color": "#EF553B"
         },
         "name": "jnj",
         "offsetgroup": "jnj",
         "orientation": "h",
         "showlegend": true,
         "textposition": "auto",
         "type": "bar",
         "x": [
          180
         ],
         "xaxis": "x",
         "y": [
          "jnj"
         ],
         "yaxis": "y"
        },
        {
         "alignmentgroup": "True",
         "hovertemplate": "Common_words=%{y}<br>count=%{x}<extra></extra>",
         "legendgroup": "amp",
         "marker": {
          "color": "#00cc96"
         },
         "name": "amp",
         "offsetgroup": "amp",
         "orientation": "h",
         "showlegend": true,
         "textposition": "auto",
         "type": "bar",
         "x": [
          151
         ],
         "xaxis": "x",
         "y": [
          "amp"
         ],
         "yaxis": "y"
        },
        {
         "alignmentgroup": "True",
         "hovertemplate": "Common_words=%{y}<br>count=%{x}<extra></extra>",
         "legendgroup": "johnson",
         "marker": {
          "color": "#ab63fa"
         },
         "name": "johnson",
         "offsetgroup": "johnson",
         "orientation": "h",
         "showlegend": true,
         "textposition": "auto",
         "type": "bar",
         "x": [
          130
         ],
         "xaxis": "x",
         "y": [
          "johnson"
         ],
         "yaxis": "y"
        },
        {
         "alignmentgroup": "True",
         "hovertemplate": "Common_words=%{y}<br>count=%{x}<extra></extra>",
         "legendgroup": "mesh",
         "marker": {
          "color": "#FFA15A"
         },
         "name": "mesh",
         "offsetgroup": "mesh",
         "orientation": "h",
         "showlegend": true,
         "textposition": "auto",
         "type": "bar",
         "x": [
          130
         ],
         "xaxis": "x",
         "y": [
          "mesh"
         ],
         "yaxis": "y"
        },
        {
         "alignmentgroup": "True",
         "hovertemplate": "Common_words=%{y}<br>count=%{x}<extra></extra>",
         "legendgroup": "devic",
         "marker": {
          "color": "#19d3f3"
         },
         "name": "devic",
         "offsetgroup": "devic",
         "orientation": "h",
         "showlegend": true,
         "textposition": "auto",
         "type": "bar",
         "x": [
          64
         ],
         "xaxis": "x",
         "y": [
          "devic"
         ],
         "yaxis": "y"
        },
        {
         "alignmentgroup": "True",
         "hovertemplate": "Common_words=%{y}<br>count=%{x}<extra></extra>",
         "legendgroup": "medic",
         "marker": {
          "color": "#FF6692"
         },
         "name": "medic",
         "offsetgroup": "medic",
         "orientation": "h",
         "showlegend": true,
         "textposition": "auto",
         "type": "bar",
         "x": [
          50
         ],
         "xaxis": "x",
         "y": [
          "medic"
         ],
         "yaxis": "y"
        },
        {
         "alignmentgroup": "True",
         "hovertemplate": "Common_words=%{y}<br>count=%{x}<extra></extra>",
         "legendgroup": "surgic",
         "marker": {
          "color": "#B6E880"
         },
         "name": "surgic",
         "offsetgroup": "surgic",
         "orientation": "h",
         "showlegend": true,
         "textposition": "auto",
         "type": "bar",
         "x": [
          49
         ],
         "xaxis": "x",
         "y": [
          "surgic"
         ],
         "yaxis": "y"
        },
        {
         "alignmentgroup": "True",
         "hovertemplate": "Common_words=%{y}<br>count=%{x}<extra></extra>",
         "legendgroup": "market",
         "marker": {
          "color": "#FF97FF"
         },
         "name": "market",
         "offsetgroup": "market",
         "orientation": "h",
         "showlegend": true,
         "textposition": "auto",
         "type": "bar",
         "x": [
          48
         ],
         "xaxis": "x",
         "y": [
          "market"
         ],
         "yaxis": "y"
        },
        {
         "alignmentgroup": "True",
         "hovertemplate": "Common_words=%{y}<br>count=%{x}<extra></extra>",
         "legendgroup": "use",
         "marker": {
          "color": "#FECB52"
         },
         "name": "use",
         "offsetgroup": "use",
         "orientation": "h",
         "showlegend": true,
         "textposition": "auto",
         "type": "bar",
         "x": [
          47
         ],
         "xaxis": "x",
         "y": [
          "use"
         ],
         "yaxis": "y"
        },
        {
         "alignmentgroup": "True",
         "hovertemplate": "Common_words=%{y}<br>count=%{x}<extra></extra>",
         "legendgroup": "implant",
         "marker": {
          "color": "#636efa"
         },
         "name": "implant",
         "offsetgroup": "implant",
         "orientation": "h",
         "showlegend": true,
         "textposition": "auto",
         "type": "bar",
         "x": [
          47
         ],
         "xaxis": "x",
         "y": [
          "implant"
         ],
         "yaxis": "y"
        },
        {
         "alignmentgroup": "True",
         "hovertemplate": "Common_words=%{y}<br>count=%{x}<extra></extra>",
         "legendgroup": "surgeri",
         "marker": {
          "color": "#EF553B"
         },
         "name": "surgeri",
         "offsetgroup": "surgeri",
         "orientation": "h",
         "showlegend": true,
         "textposition": "auto",
         "type": "bar",
         "x": [
          36
         ],
         "xaxis": "x",
         "y": [
          "surgeri"
         ],
         "yaxis": "y"
        },
        {
         "alignmentgroup": "True",
         "hovertemplate": "Common_words=%{y}<br>count=%{x}<extra></extra>",
         "legendgroup": "biosens",
         "marker": {
          "color": "#00cc96"
         },
         "name": "biosens",
         "offsetgroup": "biosens",
         "orientation": "h",
         "showlegend": true,
         "textposition": "auto",
         "type": "bar",
         "x": [
          35
         ],
         "xaxis": "x",
         "y": [
          "biosens"
         ],
         "yaxis": "y"
        },
        {
         "alignmentgroup": "True",
         "hovertemplate": "Common_words=%{y}<br>count=%{x}<extra></extra>",
         "legendgroup": "webster",
         "marker": {
          "color": "#ab63fa"
         },
         "name": "webster",
         "offsetgroup": "webster",
         "orientation": "h",
         "showlegend": true,
         "textposition": "auto",
         "type": "bar",
         "x": [
          33
         ],
         "xaxis": "x",
         "y": [
          "webster"
         ],
         "yaxis": "y"
        },
        {
         "alignmentgroup": "True",
         "hovertemplate": "Common_words=%{y}<br>count=%{x}<extra></extra>",
         "legendgroup": "ablat",
         "marker": {
          "color": "#FFA15A"
         },
         "name": "ablat",
         "offsetgroup": "ablat",
         "orientation": "h",
         "showlegend": true,
         "textposition": "auto",
         "type": "bar",
         "x": [
          32
         ],
         "xaxis": "x",
         "y": [
          "ablat"
         ],
         "yaxis": "y"
        },
        {
         "alignmentgroup": "True",
         "hovertemplate": "Common_words=%{y}<br>count=%{x}<extra></extra>",
         "legendgroup": "patient",
         "marker": {
          "color": "#19d3f3"
         },
         "name": "patient",
         "offsetgroup": "patient",
         "orientation": "h",
         "showlegend": true,
         "textposition": "auto",
         "type": "bar",
         "x": [
          32
         ],
         "xaxis": "x",
         "y": [
          "patient"
         ],
         "yaxis": "y"
        },
        {
         "alignmentgroup": "True",
         "hovertemplate": "Common_words=%{y}<br>count=%{x}<extra></extra>",
         "legendgroup": "surgeon",
         "marker": {
          "color": "#FF6692"
         },
         "name": "surgeon",
         "offsetgroup": "surgeon",
         "orientation": "h",
         "showlegend": true,
         "textposition": "auto",
         "type": "bar",
         "x": [
          31
         ],
         "xaxis": "x",
         "y": [
          "surgeon"
         ],
         "yaxis": "y"
        },
        {
         "alignmentgroup": "True",
         "hovertemplate": "Common_words=%{y}<br>count=%{x}<extra></extra>",
         "legendgroup": "pain",
         "marker": {
          "color": "#B6E880"
         },
         "name": "pain",
         "offsetgroup": "pain",
         "orientation": "h",
         "showlegend": true,
         "textposition": "auto",
         "type": "bar",
         "x": [
          31
         ],
         "xaxis": "x",
         "y": [
          "pain"
         ],
         "yaxis": "y"
        },
        {
         "alignmentgroup": "True",
         "hovertemplate": "Common_words=%{y}<br>count=%{x}<extra></extra>",
         "legendgroup": "fda",
         "marker": {
          "color": "#FF97FF"
         },
         "name": "fda",
         "offsetgroup": "fda",
         "orientation": "h",
         "showlegend": true,
         "textposition": "auto",
         "type": "bar",
         "x": [
          31
         ],
         "xaxis": "x",
         "y": [
          "fda"
         ],
         "yaxis": "y"
        },
        {
         "alignmentgroup": "True",
         "hovertemplate": "Common_words=%{y}<br>count=%{x}<extra></extra>",
         "legendgroup": "women",
         "marker": {
          "color": "#FECB52"
         },
         "name": "women",
         "offsetgroup": "women",
         "orientation": "h",
         "showlegend": true,
         "textposition": "auto",
         "type": "bar",
         "x": [
          31
         ],
         "xaxis": "x",
         "y": [
          "women"
         ],
         "yaxis": "y"
        }
       ],
       "layout": {
        "barmode": "relative",
        "height": 700,
        "legend": {
         "title": {
          "text": "Common_words"
         },
         "tracegroupgap": 0
        },
        "template": {
         "data": {
          "bar": [
           {
            "error_x": {
             "color": "#2a3f5f"
            },
            "error_y": {
             "color": "#2a3f5f"
            },
            "marker": {
             "line": {
              "color": "#E5ECF6",
              "width": 0.5
             }
            },
            "type": "bar"
           }
          ],
          "barpolar": [
           {
            "marker": {
             "line": {
              "color": "#E5ECF6",
              "width": 0.5
             }
            },
            "type": "barpolar"
           }
          ],
          "carpet": [
           {
            "aaxis": {
             "endlinecolor": "#2a3f5f",
             "gridcolor": "white",
             "linecolor": "white",
             "minorgridcolor": "white",
             "startlinecolor": "#2a3f5f"
            },
            "baxis": {
             "endlinecolor": "#2a3f5f",
             "gridcolor": "white",
             "linecolor": "white",
             "minorgridcolor": "white",
             "startlinecolor": "#2a3f5f"
            },
            "type": "carpet"
           }
          ],
          "choropleth": [
           {
            "colorbar": {
             "outlinewidth": 0,
             "ticks": ""
            },
            "type": "choropleth"
           }
          ],
          "contour": [
           {
            "colorbar": {
             "outlinewidth": 0,
             "ticks": ""
            },
            "colorscale": [
             [
              0,
              "#0d0887"
             ],
             [
              0.1111111111111111,
              "#46039f"
             ],
             [
              0.2222222222222222,
              "#7201a8"
             ],
             [
              0.3333333333333333,
              "#9c179e"
             ],
             [
              0.4444444444444444,
              "#bd3786"
             ],
             [
              0.5555555555555556,
              "#d8576b"
             ],
             [
              0.6666666666666666,
              "#ed7953"
             ],
             [
              0.7777777777777778,
              "#fb9f3a"
             ],
             [
              0.8888888888888888,
              "#fdca26"
             ],
             [
              1,
              "#f0f921"
             ]
            ],
            "type": "contour"
           }
          ],
          "contourcarpet": [
           {
            "colorbar": {
             "outlinewidth": 0,
             "ticks": ""
            },
            "type": "contourcarpet"
           }
          ],
          "heatmap": [
           {
            "colorbar": {
             "outlinewidth": 0,
             "ticks": ""
            },
            "colorscale": [
             [
              0,
              "#0d0887"
             ],
             [
              0.1111111111111111,
              "#46039f"
             ],
             [
              0.2222222222222222,
              "#7201a8"
             ],
             [
              0.3333333333333333,
              "#9c179e"
             ],
             [
              0.4444444444444444,
              "#bd3786"
             ],
             [
              0.5555555555555556,
              "#d8576b"
             ],
             [
              0.6666666666666666,
              "#ed7953"
             ],
             [
              0.7777777777777778,
              "#fb9f3a"
             ],
             [
              0.8888888888888888,
              "#fdca26"
             ],
             [
              1,
              "#f0f921"
             ]
            ],
            "type": "heatmap"
           }
          ],
          "heatmapgl": [
           {
            "colorbar": {
             "outlinewidth": 0,
             "ticks": ""
            },
            "colorscale": [
             [
              0,
              "#0d0887"
             ],
             [
              0.1111111111111111,
              "#46039f"
             ],
             [
              0.2222222222222222,
              "#7201a8"
             ],
             [
              0.3333333333333333,
              "#9c179e"
             ],
             [
              0.4444444444444444,
              "#bd3786"
             ],
             [
              0.5555555555555556,
              "#d8576b"
             ],
             [
              0.6666666666666666,
              "#ed7953"
             ],
             [
              0.7777777777777778,
              "#fb9f3a"
             ],
             [
              0.8888888888888888,
              "#fdca26"
             ],
             [
              1,
              "#f0f921"
             ]
            ],
            "type": "heatmapgl"
           }
          ],
          "histogram": [
           {
            "marker": {
             "colorbar": {
              "outlinewidth": 0,
              "ticks": ""
             }
            },
            "type": "histogram"
           }
          ],
          "histogram2d": [
           {
            "colorbar": {
             "outlinewidth": 0,
             "ticks": ""
            },
            "colorscale": [
             [
              0,
              "#0d0887"
             ],
             [
              0.1111111111111111,
              "#46039f"
             ],
             [
              0.2222222222222222,
              "#7201a8"
             ],
             [
              0.3333333333333333,
              "#9c179e"
             ],
             [
              0.4444444444444444,
              "#bd3786"
             ],
             [
              0.5555555555555556,
              "#d8576b"
             ],
             [
              0.6666666666666666,
              "#ed7953"
             ],
             [
              0.7777777777777778,
              "#fb9f3a"
             ],
             [
              0.8888888888888888,
              "#fdca26"
             ],
             [
              1,
              "#f0f921"
             ]
            ],
            "type": "histogram2d"
           }
          ],
          "histogram2dcontour": [
           {
            "colorbar": {
             "outlinewidth": 0,
             "ticks": ""
            },
            "colorscale": [
             [
              0,
              "#0d0887"
             ],
             [
              0.1111111111111111,
              "#46039f"
             ],
             [
              0.2222222222222222,
              "#7201a8"
             ],
             [
              0.3333333333333333,
              "#9c179e"
             ],
             [
              0.4444444444444444,
              "#bd3786"
             ],
             [
              0.5555555555555556,
              "#d8576b"
             ],
             [
              0.6666666666666666,
              "#ed7953"
             ],
             [
              0.7777777777777778,
              "#fb9f3a"
             ],
             [
              0.8888888888888888,
              "#fdca26"
             ],
             [
              1,
              "#f0f921"
             ]
            ],
            "type": "histogram2dcontour"
           }
          ],
          "mesh3d": [
           {
            "colorbar": {
             "outlinewidth": 0,
             "ticks": ""
            },
            "type": "mesh3d"
           }
          ],
          "parcoords": [
           {
            "line": {
             "colorbar": {
              "outlinewidth": 0,
              "ticks": ""
             }
            },
            "type": "parcoords"
           }
          ],
          "pie": [
           {
            "automargin": true,
            "type": "pie"
           }
          ],
          "scatter": [
           {
            "marker": {
             "colorbar": {
              "outlinewidth": 0,
              "ticks": ""
             }
            },
            "type": "scatter"
           }
          ],
          "scatter3d": [
           {
            "line": {
             "colorbar": {
              "outlinewidth": 0,
              "ticks": ""
             }
            },
            "marker": {
             "colorbar": {
              "outlinewidth": 0,
              "ticks": ""
             }
            },
            "type": "scatter3d"
           }
          ],
          "scattercarpet": [
           {
            "marker": {
             "colorbar": {
              "outlinewidth": 0,
              "ticks": ""
             }
            },
            "type": "scattercarpet"
           }
          ],
          "scattergeo": [
           {
            "marker": {
             "colorbar": {
              "outlinewidth": 0,
              "ticks": ""
             }
            },
            "type": "scattergeo"
           }
          ],
          "scattergl": [
           {
            "marker": {
             "colorbar": {
              "outlinewidth": 0,
              "ticks": ""
             }
            },
            "type": "scattergl"
           }
          ],
          "scattermapbox": [
           {
            "marker": {
             "colorbar": {
              "outlinewidth": 0,
              "ticks": ""
             }
            },
            "type": "scattermapbox"
           }
          ],
          "scatterpolar": [
           {
            "marker": {
             "colorbar": {
              "outlinewidth": 0,
              "ticks": ""
             }
            },
            "type": "scatterpolar"
           }
          ],
          "scatterpolargl": [
           {
            "marker": {
             "colorbar": {
              "outlinewidth": 0,
              "ticks": ""
             }
            },
            "type": "scatterpolargl"
           }
          ],
          "scatterternary": [
           {
            "marker": {
             "colorbar": {
              "outlinewidth": 0,
              "ticks": ""
             }
            },
            "type": "scatterternary"
           }
          ],
          "surface": [
           {
            "colorbar": {
             "outlinewidth": 0,
             "ticks": ""
            },
            "colorscale": [
             [
              0,
              "#0d0887"
             ],
             [
              0.1111111111111111,
              "#46039f"
             ],
             [
              0.2222222222222222,
              "#7201a8"
             ],
             [
              0.3333333333333333,
              "#9c179e"
             ],
             [
              0.4444444444444444,
              "#bd3786"
             ],
             [
              0.5555555555555556,
              "#d8576b"
             ],
             [
              0.6666666666666666,
              "#ed7953"
             ],
             [
              0.7777777777777778,
              "#fb9f3a"
             ],
             [
              0.8888888888888888,
              "#fdca26"
             ],
             [
              1,
              "#f0f921"
             ]
            ],
            "type": "surface"
           }
          ],
          "table": [
           {
            "cells": {
             "fill": {
              "color": "#EBF0F8"
             },
             "line": {
              "color": "white"
             }
            },
            "header": {
             "fill": {
              "color": "#C8D4E3"
             },
             "line": {
              "color": "white"
             }
            },
            "type": "table"
           }
          ]
         },
         "layout": {
          "annotationdefaults": {
           "arrowcolor": "#2a3f5f",
           "arrowhead": 0,
           "arrowwidth": 1
          },
          "coloraxis": {
           "colorbar": {
            "outlinewidth": 0,
            "ticks": ""
           }
          },
          "colorscale": {
           "diverging": [
            [
             0,
             "#8e0152"
            ],
            [
             0.1,
             "#c51b7d"
            ],
            [
             0.2,
             "#de77ae"
            ],
            [
             0.3,
             "#f1b6da"
            ],
            [
             0.4,
             "#fde0ef"
            ],
            [
             0.5,
             "#f7f7f7"
            ],
            [
             0.6,
             "#e6f5d0"
            ],
            [
             0.7,
             "#b8e186"
            ],
            [
             0.8,
             "#7fbc41"
            ],
            [
             0.9,
             "#4d9221"
            ],
            [
             1,
             "#276419"
            ]
           ],
           "sequential": [
            [
             0,
             "#0d0887"
            ],
            [
             0.1111111111111111,
             "#46039f"
            ],
            [
             0.2222222222222222,
             "#7201a8"
            ],
            [
             0.3333333333333333,
             "#9c179e"
            ],
            [
             0.4444444444444444,
             "#bd3786"
            ],
            [
             0.5555555555555556,
             "#d8576b"
            ],
            [
             0.6666666666666666,
             "#ed7953"
            ],
            [
             0.7777777777777778,
             "#fb9f3a"
            ],
            [
             0.8888888888888888,
             "#fdca26"
            ],
            [
             1,
             "#f0f921"
            ]
           ],
           "sequentialminus": [
            [
             0,
             "#0d0887"
            ],
            [
             0.1111111111111111,
             "#46039f"
            ],
            [
             0.2222222222222222,
             "#7201a8"
            ],
            [
             0.3333333333333333,
             "#9c179e"
            ],
            [
             0.4444444444444444,
             "#bd3786"
            ],
            [
             0.5555555555555556,
             "#d8576b"
            ],
            [
             0.6666666666666666,
             "#ed7953"
            ],
            [
             0.7777777777777778,
             "#fb9f3a"
            ],
            [
             0.8888888888888888,
             "#fdca26"
            ],
            [
             1,
             "#f0f921"
            ]
           ]
          },
          "colorway": [
           "#636efa",
           "#EF553B",
           "#00cc96",
           "#ab63fa",
           "#FFA15A",
           "#19d3f3",
           "#FF6692",
           "#B6E880",
           "#FF97FF",
           "#FECB52"
          ],
          "font": {
           "color": "#2a3f5f"
          },
          "geo": {
           "bgcolor": "white",
           "lakecolor": "white",
           "landcolor": "#E5ECF6",
           "showlakes": true,
           "showland": true,
           "subunitcolor": "white"
          },
          "hoverlabel": {
           "align": "left"
          },
          "hovermode": "closest",
          "mapbox": {
           "style": "light"
          },
          "paper_bgcolor": "white",
          "plot_bgcolor": "#E5ECF6",
          "polar": {
           "angularaxis": {
            "gridcolor": "white",
            "linecolor": "white",
            "ticks": ""
           },
           "bgcolor": "#E5ECF6",
           "radialaxis": {
            "gridcolor": "white",
            "linecolor": "white",
            "ticks": ""
           }
          },
          "scene": {
           "xaxis": {
            "backgroundcolor": "#E5ECF6",
            "gridcolor": "white",
            "gridwidth": 2,
            "linecolor": "white",
            "showbackground": true,
            "ticks": "",
            "zerolinecolor": "white"
           },
           "yaxis": {
            "backgroundcolor": "#E5ECF6",
            "gridcolor": "white",
            "gridwidth": 2,
            "linecolor": "white",
            "showbackground": true,
            "ticks": "",
            "zerolinecolor": "white"
           },
           "zaxis": {
            "backgroundcolor": "#E5ECF6",
            "gridcolor": "white",
            "gridwidth": 2,
            "linecolor": "white",
            "showbackground": true,
            "ticks": "",
            "zerolinecolor": "white"
           }
          },
          "shapedefaults": {
           "line": {
            "color": "#2a3f5f"
           }
          },
          "ternary": {
           "aaxis": {
            "gridcolor": "white",
            "linecolor": "white",
            "ticks": ""
           },
           "baxis": {
            "gridcolor": "white",
            "linecolor": "white",
            "ticks": ""
           },
           "bgcolor": "#E5ECF6",
           "caxis": {
            "gridcolor": "white",
            "linecolor": "white",
            "ticks": ""
           }
          },
          "title": {
           "x": 0.05
          },
          "xaxis": {
           "automargin": true,
           "gridcolor": "white",
           "linecolor": "white",
           "ticks": "",
           "title": {
            "standoff": 15
           },
           "zerolinecolor": "white",
           "zerolinewidth": 2
          },
          "yaxis": {
           "automargin": true,
           "gridcolor": "white",
           "linecolor": "white",
           "ticks": "",
           "title": {
            "standoff": 15
           },
           "zerolinecolor": "white",
           "zerolinewidth": 2
          }
         }
        },
        "title": {
         "text": " common words in tweets about medical device"
        },
        "width": 700,
        "xaxis": {
         "anchor": "y",
         "domain": [
          0,
          1
         ],
         "title": {
          "text": "count"
         }
        },
        "yaxis": {
         "anchor": "x",
         "categoryarray": [
          "women",
          "fda",
          "pain",
          "surgeon",
          "patient",
          "ablat",
          "webster",
          "biosens",
          "surgeri",
          "implant",
          "use",
          "market",
          "surgic",
          "medic",
          "devic",
          "mesh",
          "johnson",
          "amp",
          "jnj",
          "ethicon"
         ],
         "categoryorder": "array",
         "domain": [
          0,
          1
         ],
         "title": {
          "text": "Common_words"
         }
        }
       }
      },
      "text/html": [
       "<div>                            <div id=\"a99edf50-5b49-4a43-86ca-ec0447e407dc\" class=\"plotly-graph-div\" style=\"height:700px; width:700px;\"></div>            <script type=\"text/javascript\">                require([\"plotly\"], function(Plotly) {                    window.PLOTLYENV=window.PLOTLYENV || {};                                    if (document.getElementById(\"a99edf50-5b49-4a43-86ca-ec0447e407dc\")) {                    Plotly.newPlot(                        \"a99edf50-5b49-4a43-86ca-ec0447e407dc\",                        [{\"alignmentgroup\": \"True\", \"hovertemplate\": \"Common_words=%{y}<br>count=%{x}<extra></extra>\", \"legendgroup\": \"ethicon\", \"marker\": {\"color\": \"#636efa\"}, \"name\": \"ethicon\", \"offsetgroup\": \"ethicon\", \"orientation\": \"h\", \"showlegend\": true, \"textposition\": \"auto\", \"type\": \"bar\", \"x\": [264], \"xaxis\": \"x\", \"y\": [\"ethicon\"], \"yaxis\": \"y\"}, {\"alignmentgroup\": \"True\", \"hovertemplate\": \"Common_words=%{y}<br>count=%{x}<extra></extra>\", \"legendgroup\": \"jnj\", \"marker\": {\"color\": \"#EF553B\"}, \"name\": \"jnj\", \"offsetgroup\": \"jnj\", \"orientation\": \"h\", \"showlegend\": true, \"textposition\": \"auto\", \"type\": \"bar\", \"x\": [180], \"xaxis\": \"x\", \"y\": [\"jnj\"], \"yaxis\": \"y\"}, {\"alignmentgroup\": \"True\", \"hovertemplate\": \"Common_words=%{y}<br>count=%{x}<extra></extra>\", \"legendgroup\": \"amp\", \"marker\": {\"color\": \"#00cc96\"}, \"name\": \"amp\", \"offsetgroup\": \"amp\", \"orientation\": \"h\", \"showlegend\": true, \"textposition\": \"auto\", \"type\": \"bar\", \"x\": [151], \"xaxis\": \"x\", \"y\": [\"amp\"], \"yaxis\": \"y\"}, {\"alignmentgroup\": \"True\", \"hovertemplate\": \"Common_words=%{y}<br>count=%{x}<extra></extra>\", \"legendgroup\": \"johnson\", \"marker\": {\"color\": \"#ab63fa\"}, \"name\": \"johnson\", \"offsetgroup\": \"johnson\", \"orientation\": \"h\", \"showlegend\": true, \"textposition\": \"auto\", \"type\": \"bar\", \"x\": [130], \"xaxis\": \"x\", \"y\": [\"johnson\"], \"yaxis\": \"y\"}, {\"alignmentgroup\": \"True\", \"hovertemplate\": \"Common_words=%{y}<br>count=%{x}<extra></extra>\", \"legendgroup\": \"mesh\", \"marker\": {\"color\": \"#FFA15A\"}, \"name\": \"mesh\", \"offsetgroup\": \"mesh\", \"orientation\": \"h\", \"showlegend\": true, \"textposition\": \"auto\", \"type\": \"bar\", \"x\": [130], \"xaxis\": \"x\", \"y\": [\"mesh\"], \"yaxis\": \"y\"}, {\"alignmentgroup\": \"True\", \"hovertemplate\": \"Common_words=%{y}<br>count=%{x}<extra></extra>\", \"legendgroup\": \"devic\", \"marker\": {\"color\": \"#19d3f3\"}, \"name\": \"devic\", \"offsetgroup\": \"devic\", \"orientation\": \"h\", \"showlegend\": true, \"textposition\": \"auto\", \"type\": \"bar\", \"x\": [64], \"xaxis\": \"x\", \"y\": [\"devic\"], \"yaxis\": \"y\"}, {\"alignmentgroup\": \"True\", \"hovertemplate\": \"Common_words=%{y}<br>count=%{x}<extra></extra>\", \"legendgroup\": \"medic\", \"marker\": {\"color\": \"#FF6692\"}, \"name\": \"medic\", \"offsetgroup\": \"medic\", \"orientation\": \"h\", \"showlegend\": true, \"textposition\": \"auto\", \"type\": \"bar\", \"x\": [50], \"xaxis\": \"x\", \"y\": [\"medic\"], \"yaxis\": \"y\"}, {\"alignmentgroup\": \"True\", \"hovertemplate\": \"Common_words=%{y}<br>count=%{x}<extra></extra>\", \"legendgroup\": \"surgic\", \"marker\": {\"color\": \"#B6E880\"}, \"name\": \"surgic\", \"offsetgroup\": \"surgic\", \"orientation\": \"h\", \"showlegend\": true, \"textposition\": \"auto\", \"type\": \"bar\", \"x\": [49], \"xaxis\": \"x\", \"y\": [\"surgic\"], \"yaxis\": \"y\"}, {\"alignmentgroup\": \"True\", \"hovertemplate\": \"Common_words=%{y}<br>count=%{x}<extra></extra>\", \"legendgroup\": \"market\", \"marker\": {\"color\": \"#FF97FF\"}, \"name\": \"market\", \"offsetgroup\": \"market\", \"orientation\": \"h\", \"showlegend\": true, \"textposition\": \"auto\", \"type\": \"bar\", \"x\": [48], \"xaxis\": \"x\", \"y\": [\"market\"], \"yaxis\": \"y\"}, {\"alignmentgroup\": \"True\", \"hovertemplate\": \"Common_words=%{y}<br>count=%{x}<extra></extra>\", \"legendgroup\": \"use\", \"marker\": {\"color\": \"#FECB52\"}, \"name\": \"use\", \"offsetgroup\": \"use\", \"orientation\": \"h\", \"showlegend\": true, \"textposition\": \"auto\", \"type\": \"bar\", \"x\": [47], \"xaxis\": \"x\", \"y\": [\"use\"], \"yaxis\": \"y\"}, {\"alignmentgroup\": \"True\", \"hovertemplate\": \"Common_words=%{y}<br>count=%{x}<extra></extra>\", \"legendgroup\": \"implant\", \"marker\": {\"color\": \"#636efa\"}, \"name\": \"implant\", \"offsetgroup\": \"implant\", \"orientation\": \"h\", \"showlegend\": true, \"textposition\": \"auto\", \"type\": \"bar\", \"x\": [47], \"xaxis\": \"x\", \"y\": [\"implant\"], \"yaxis\": \"y\"}, {\"alignmentgroup\": \"True\", \"hovertemplate\": \"Common_words=%{y}<br>count=%{x}<extra></extra>\", \"legendgroup\": \"surgeri\", \"marker\": {\"color\": \"#EF553B\"}, \"name\": \"surgeri\", \"offsetgroup\": \"surgeri\", \"orientation\": \"h\", \"showlegend\": true, \"textposition\": \"auto\", \"type\": \"bar\", \"x\": [36], \"xaxis\": \"x\", \"y\": [\"surgeri\"], \"yaxis\": \"y\"}, {\"alignmentgroup\": \"True\", \"hovertemplate\": \"Common_words=%{y}<br>count=%{x}<extra></extra>\", \"legendgroup\": \"biosens\", \"marker\": {\"color\": \"#00cc96\"}, \"name\": \"biosens\", \"offsetgroup\": \"biosens\", \"orientation\": \"h\", \"showlegend\": true, \"textposition\": \"auto\", \"type\": \"bar\", \"x\": [35], \"xaxis\": \"x\", \"y\": [\"biosens\"], \"yaxis\": \"y\"}, {\"alignmentgroup\": \"True\", \"hovertemplate\": \"Common_words=%{y}<br>count=%{x}<extra></extra>\", \"legendgroup\": \"webster\", \"marker\": {\"color\": \"#ab63fa\"}, \"name\": \"webster\", \"offsetgroup\": \"webster\", \"orientation\": \"h\", \"showlegend\": true, \"textposition\": \"auto\", \"type\": \"bar\", \"x\": [33], \"xaxis\": \"x\", \"y\": [\"webster\"], \"yaxis\": \"y\"}, {\"alignmentgroup\": \"True\", \"hovertemplate\": \"Common_words=%{y}<br>count=%{x}<extra></extra>\", \"legendgroup\": \"ablat\", \"marker\": {\"color\": \"#FFA15A\"}, \"name\": \"ablat\", \"offsetgroup\": \"ablat\", \"orientation\": \"h\", \"showlegend\": true, \"textposition\": \"auto\", \"type\": \"bar\", \"x\": [32], \"xaxis\": \"x\", \"y\": [\"ablat\"], \"yaxis\": \"y\"}, {\"alignmentgroup\": \"True\", \"hovertemplate\": \"Common_words=%{y}<br>count=%{x}<extra></extra>\", \"legendgroup\": \"patient\", \"marker\": {\"color\": \"#19d3f3\"}, \"name\": \"patient\", \"offsetgroup\": \"patient\", \"orientation\": \"h\", \"showlegend\": true, \"textposition\": \"auto\", \"type\": \"bar\", \"x\": [32], \"xaxis\": \"x\", \"y\": [\"patient\"], \"yaxis\": \"y\"}, {\"alignmentgroup\": \"True\", \"hovertemplate\": \"Common_words=%{y}<br>count=%{x}<extra></extra>\", \"legendgroup\": \"surgeon\", \"marker\": {\"color\": \"#FF6692\"}, \"name\": \"surgeon\", \"offsetgroup\": \"surgeon\", \"orientation\": \"h\", \"showlegend\": true, \"textposition\": \"auto\", \"type\": \"bar\", \"x\": [31], \"xaxis\": \"x\", \"y\": [\"surgeon\"], \"yaxis\": \"y\"}, {\"alignmentgroup\": \"True\", \"hovertemplate\": \"Common_words=%{y}<br>count=%{x}<extra></extra>\", \"legendgroup\": \"pain\", \"marker\": {\"color\": \"#B6E880\"}, \"name\": \"pain\", \"offsetgroup\": \"pain\", \"orientation\": \"h\", \"showlegend\": true, \"textposition\": \"auto\", \"type\": \"bar\", \"x\": [31], \"xaxis\": \"x\", \"y\": [\"pain\"], \"yaxis\": \"y\"}, {\"alignmentgroup\": \"True\", \"hovertemplate\": \"Common_words=%{y}<br>count=%{x}<extra></extra>\", \"legendgroup\": \"fda\", \"marker\": {\"color\": \"#FF97FF\"}, \"name\": \"fda\", \"offsetgroup\": \"fda\", \"orientation\": \"h\", \"showlegend\": true, \"textposition\": \"auto\", \"type\": \"bar\", \"x\": [31], \"xaxis\": \"x\", \"y\": [\"fda\"], \"yaxis\": \"y\"}, {\"alignmentgroup\": \"True\", \"hovertemplate\": \"Common_words=%{y}<br>count=%{x}<extra></extra>\", \"legendgroup\": \"women\", \"marker\": {\"color\": \"#FECB52\"}, \"name\": \"women\", \"offsetgroup\": \"women\", \"orientation\": \"h\", \"showlegend\": true, \"textposition\": \"auto\", \"type\": \"bar\", \"x\": [31], \"xaxis\": \"x\", \"y\": [\"women\"], \"yaxis\": \"y\"}],                        {\"barmode\": \"relative\", \"height\": 700, \"legend\": {\"title\": {\"text\": \"Common_words\"}, \"tracegroupgap\": 0}, \"template\": {\"data\": {\"bar\": [{\"error_x\": {\"color\": \"#2a3f5f\"}, \"error_y\": {\"color\": \"#2a3f5f\"}, \"marker\": {\"line\": {\"color\": \"#E5ECF6\", \"width\": 0.5}}, \"type\": \"bar\"}], \"barpolar\": [{\"marker\": {\"line\": {\"color\": \"#E5ECF6\", \"width\": 0.5}}, \"type\": \"barpolar\"}], \"carpet\": [{\"aaxis\": {\"endlinecolor\": \"#2a3f5f\", \"gridcolor\": \"white\", \"linecolor\": \"white\", \"minorgridcolor\": \"white\", \"startlinecolor\": \"#2a3f5f\"}, \"baxis\": {\"endlinecolor\": \"#2a3f5f\", \"gridcolor\": \"white\", \"linecolor\": \"white\", \"minorgridcolor\": \"white\", \"startlinecolor\": \"#2a3f5f\"}, \"type\": \"carpet\"}], \"choropleth\": [{\"colorbar\": {\"outlinewidth\": 0, \"ticks\": \"\"}, \"type\": \"choropleth\"}], \"contour\": [{\"colorbar\": {\"outlinewidth\": 0, \"ticks\": \"\"}, \"colorscale\": [[0.0, \"#0d0887\"], [0.1111111111111111, \"#46039f\"], [0.2222222222222222, \"#7201a8\"], [0.3333333333333333, \"#9c179e\"], [0.4444444444444444, \"#bd3786\"], [0.5555555555555556, \"#d8576b\"], [0.6666666666666666, \"#ed7953\"], [0.7777777777777778, \"#fb9f3a\"], [0.8888888888888888, \"#fdca26\"], [1.0, \"#f0f921\"]], \"type\": \"contour\"}], \"contourcarpet\": [{\"colorbar\": {\"outlinewidth\": 0, \"ticks\": \"\"}, \"type\": \"contourcarpet\"}], \"heatmap\": [{\"colorbar\": {\"outlinewidth\": 0, \"ticks\": \"\"}, \"colorscale\": [[0.0, \"#0d0887\"], [0.1111111111111111, \"#46039f\"], [0.2222222222222222, \"#7201a8\"], [0.3333333333333333, \"#9c179e\"], [0.4444444444444444, \"#bd3786\"], [0.5555555555555556, \"#d8576b\"], [0.6666666666666666, \"#ed7953\"], [0.7777777777777778, \"#fb9f3a\"], [0.8888888888888888, \"#fdca26\"], [1.0, \"#f0f921\"]], \"type\": \"heatmap\"}], \"heatmapgl\": [{\"colorbar\": {\"outlinewidth\": 0, \"ticks\": \"\"}, \"colorscale\": [[0.0, \"#0d0887\"], [0.1111111111111111, \"#46039f\"], [0.2222222222222222, \"#7201a8\"], [0.3333333333333333, \"#9c179e\"], [0.4444444444444444, \"#bd3786\"], [0.5555555555555556, \"#d8576b\"], [0.6666666666666666, \"#ed7953\"], [0.7777777777777778, \"#fb9f3a\"], [0.8888888888888888, \"#fdca26\"], [1.0, \"#f0f921\"]], \"type\": \"heatmapgl\"}], \"histogram\": [{\"marker\": {\"colorbar\": {\"outlinewidth\": 0, \"ticks\": \"\"}}, \"type\": \"histogram\"}], \"histogram2d\": [{\"colorbar\": {\"outlinewidth\": 0, \"ticks\": \"\"}, \"colorscale\": [[0.0, \"#0d0887\"], [0.1111111111111111, \"#46039f\"], [0.2222222222222222, \"#7201a8\"], [0.3333333333333333, \"#9c179e\"], [0.4444444444444444, \"#bd3786\"], [0.5555555555555556, \"#d8576b\"], [0.6666666666666666, \"#ed7953\"], [0.7777777777777778, \"#fb9f3a\"], [0.8888888888888888, \"#fdca26\"], [1.0, \"#f0f921\"]], \"type\": \"histogram2d\"}], \"histogram2dcontour\": [{\"colorbar\": {\"outlinewidth\": 0, \"ticks\": \"\"}, \"colorscale\": [[0.0, \"#0d0887\"], [0.1111111111111111, \"#46039f\"], [0.2222222222222222, \"#7201a8\"], [0.3333333333333333, \"#9c179e\"], [0.4444444444444444, \"#bd3786\"], [0.5555555555555556, \"#d8576b\"], [0.6666666666666666, \"#ed7953\"], [0.7777777777777778, \"#fb9f3a\"], [0.8888888888888888, \"#fdca26\"], [1.0, \"#f0f921\"]], \"type\": \"histogram2dcontour\"}], \"mesh3d\": [{\"colorbar\": {\"outlinewidth\": 0, \"ticks\": \"\"}, \"type\": \"mesh3d\"}], \"parcoords\": [{\"line\": {\"colorbar\": {\"outlinewidth\": 0, \"ticks\": \"\"}}, \"type\": \"parcoords\"}], \"pie\": [{\"automargin\": true, \"type\": \"pie\"}], \"scatter\": [{\"marker\": {\"colorbar\": {\"outlinewidth\": 0, \"ticks\": \"\"}}, \"type\": \"scatter\"}], \"scatter3d\": [{\"line\": {\"colorbar\": {\"outlinewidth\": 0, \"ticks\": \"\"}}, \"marker\": {\"colorbar\": {\"outlinewidth\": 0, \"ticks\": \"\"}}, \"type\": \"scatter3d\"}], \"scattercarpet\": [{\"marker\": {\"colorbar\": {\"outlinewidth\": 0, \"ticks\": \"\"}}, \"type\": \"scattercarpet\"}], \"scattergeo\": [{\"marker\": {\"colorbar\": {\"outlinewidth\": 0, \"ticks\": \"\"}}, \"type\": \"scattergeo\"}], \"scattergl\": [{\"marker\": {\"colorbar\": {\"outlinewidth\": 0, \"ticks\": \"\"}}, \"type\": \"scattergl\"}], \"scattermapbox\": [{\"marker\": {\"colorbar\": {\"outlinewidth\": 0, \"ticks\": \"\"}}, \"type\": \"scattermapbox\"}], \"scatterpolar\": [{\"marker\": {\"colorbar\": {\"outlinewidth\": 0, \"ticks\": \"\"}}, \"type\": \"scatterpolar\"}], \"scatterpolargl\": [{\"marker\": {\"colorbar\": {\"outlinewidth\": 0, \"ticks\": \"\"}}, \"type\": \"scatterpolargl\"}], \"scatterternary\": [{\"marker\": {\"colorbar\": {\"outlinewidth\": 0, \"ticks\": \"\"}}, \"type\": \"scatterternary\"}], \"surface\": [{\"colorbar\": {\"outlinewidth\": 0, \"ticks\": \"\"}, \"colorscale\": [[0.0, \"#0d0887\"], [0.1111111111111111, \"#46039f\"], [0.2222222222222222, \"#7201a8\"], [0.3333333333333333, \"#9c179e\"], [0.4444444444444444, \"#bd3786\"], [0.5555555555555556, \"#d8576b\"], [0.6666666666666666, \"#ed7953\"], [0.7777777777777778, \"#fb9f3a\"], [0.8888888888888888, \"#fdca26\"], [1.0, \"#f0f921\"]], \"type\": \"surface\"}], \"table\": [{\"cells\": {\"fill\": {\"color\": \"#EBF0F8\"}, \"line\": {\"color\": \"white\"}}, \"header\": {\"fill\": {\"color\": \"#C8D4E3\"}, \"line\": {\"color\": \"white\"}}, \"type\": \"table\"}]}, \"layout\": {\"annotationdefaults\": {\"arrowcolor\": \"#2a3f5f\", \"arrowhead\": 0, \"arrowwidth\": 1}, \"coloraxis\": {\"colorbar\": {\"outlinewidth\": 0, \"ticks\": \"\"}}, \"colorscale\": {\"diverging\": [[0, \"#8e0152\"], [0.1, \"#c51b7d\"], [0.2, \"#de77ae\"], [0.3, \"#f1b6da\"], [0.4, \"#fde0ef\"], [0.5, \"#f7f7f7\"], [0.6, \"#e6f5d0\"], [0.7, \"#b8e186\"], [0.8, \"#7fbc41\"], [0.9, \"#4d9221\"], [1, \"#276419\"]], \"sequential\": [[0.0, \"#0d0887\"], [0.1111111111111111, \"#46039f\"], [0.2222222222222222, \"#7201a8\"], [0.3333333333333333, \"#9c179e\"], [0.4444444444444444, \"#bd3786\"], [0.5555555555555556, \"#d8576b\"], [0.6666666666666666, \"#ed7953\"], [0.7777777777777778, \"#fb9f3a\"], [0.8888888888888888, \"#fdca26\"], [1.0, \"#f0f921\"]], \"sequentialminus\": [[0.0, \"#0d0887\"], [0.1111111111111111, \"#46039f\"], [0.2222222222222222, \"#7201a8\"], [0.3333333333333333, \"#9c179e\"], [0.4444444444444444, \"#bd3786\"], [0.5555555555555556, \"#d8576b\"], [0.6666666666666666, \"#ed7953\"], [0.7777777777777778, \"#fb9f3a\"], [0.8888888888888888, \"#fdca26\"], [1.0, \"#f0f921\"]]}, \"colorway\": [\"#636efa\", \"#EF553B\", \"#00cc96\", \"#ab63fa\", \"#FFA15A\", \"#19d3f3\", \"#FF6692\", \"#B6E880\", \"#FF97FF\", \"#FECB52\"], \"font\": {\"color\": \"#2a3f5f\"}, \"geo\": {\"bgcolor\": \"white\", \"lakecolor\": \"white\", \"landcolor\": \"#E5ECF6\", \"showlakes\": true, \"showland\": true, \"subunitcolor\": \"white\"}, \"hoverlabel\": {\"align\": \"left\"}, \"hovermode\": \"closest\", \"mapbox\": {\"style\": \"light\"}, \"paper_bgcolor\": \"white\", \"plot_bgcolor\": \"#E5ECF6\", \"polar\": {\"angularaxis\": {\"gridcolor\": \"white\", \"linecolor\": \"white\", \"ticks\": \"\"}, \"bgcolor\": \"#E5ECF6\", \"radialaxis\": {\"gridcolor\": \"white\", \"linecolor\": \"white\", \"ticks\": \"\"}}, \"scene\": {\"xaxis\": {\"backgroundcolor\": \"#E5ECF6\", \"gridcolor\": \"white\", \"gridwidth\": 2, \"linecolor\": \"white\", \"showbackground\": true, \"ticks\": \"\", \"zerolinecolor\": \"white\"}, \"yaxis\": {\"backgroundcolor\": \"#E5ECF6\", \"gridcolor\": \"white\", \"gridwidth\": 2, \"linecolor\": \"white\", \"showbackground\": true, \"ticks\": \"\", \"zerolinecolor\": \"white\"}, \"zaxis\": {\"backgroundcolor\": \"#E5ECF6\", \"gridcolor\": \"white\", \"gridwidth\": 2, \"linecolor\": \"white\", \"showbackground\": true, \"ticks\": \"\", \"zerolinecolor\": \"white\"}}, \"shapedefaults\": {\"line\": {\"color\": \"#2a3f5f\"}}, \"ternary\": {\"aaxis\": {\"gridcolor\": \"white\", \"linecolor\": \"white\", \"ticks\": \"\"}, \"baxis\": {\"gridcolor\": \"white\", \"linecolor\": \"white\", \"ticks\": \"\"}, \"bgcolor\": \"#E5ECF6\", \"caxis\": {\"gridcolor\": \"white\", \"linecolor\": \"white\", \"ticks\": \"\"}}, \"title\": {\"x\": 0.05}, \"xaxis\": {\"automargin\": true, \"gridcolor\": \"white\", \"linecolor\": \"white\", \"ticks\": \"\", \"title\": {\"standoff\": 15}, \"zerolinecolor\": \"white\", \"zerolinewidth\": 2}, \"yaxis\": {\"automargin\": true, \"gridcolor\": \"white\", \"linecolor\": \"white\", \"ticks\": \"\", \"title\": {\"standoff\": 15}, \"zerolinecolor\": \"white\", \"zerolinewidth\": 2}}}, \"title\": {\"text\": \" common words in tweets about medical device\"}, \"width\": 700, \"xaxis\": {\"anchor\": \"y\", \"domain\": [0.0, 1.0], \"title\": {\"text\": \"count\"}}, \"yaxis\": {\"anchor\": \"x\", \"categoryarray\": [\"women\", \"fda\", \"pain\", \"surgeon\", \"patient\", \"ablat\", \"webster\", \"biosens\", \"surgeri\", \"implant\", \"use\", \"market\", \"surgic\", \"medic\", \"devic\", \"mesh\", \"johnson\", \"amp\", \"jnj\", \"ethicon\"], \"categoryorder\": \"array\", \"domain\": [0.0, 1.0], \"title\": {\"text\": \"Common_words\"}}},                        {\"responsive\": true}                    ).then(function(){\n",
       "                            \n",
       "var gd = document.getElementById('a99edf50-5b49-4a43-86ca-ec0447e407dc');\n",
       "var x = new MutationObserver(function (mutations, observer) {{\n",
       "        var display = window.getComputedStyle(gd).display;\n",
       "        if (!display || display === 'none') {{\n",
       "            console.log([gd, 'removed!']);\n",
       "            Plotly.purge(gd);\n",
       "            observer.disconnect();\n",
       "        }}\n",
       "}});\n",
       "\n",
       "// Listen for the removal of the full notebook cells\n",
       "var notebookContainer = gd.closest('#notebook-container');\n",
       "if (notebookContainer) {{\n",
       "    x.observe(notebookContainer, {childList: true});\n",
       "}}\n",
       "\n",
       "// Listen for the clearing of the current output cell\n",
       "var outputEl = gd.closest('.output');\n",
       "if (outputEl) {{\n",
       "    x.observe(outputEl, {childList: true});\n",
       "}}\n",
       "\n",
       "                        })                };                });            </script>        </div>"
      ]
     },
     "metadata": {},
     "output_type": "display_data"
    }
   ],
   "source": [
    "fig = px.bar(temp_positive, x=\"count\", y=\"Common_words\", title= ' common words in tweets about medical device',orientation='h', \n",
    "             width=700, height=700,color='Common_words')\n",
    "fig.show()"
   ]
  },
  {
   "cell_type": "code",
   "execution_count": 203,
   "metadata": {},
   "outputs": [
    {
     "data": {
      "text/html": [
       "<style  type=\"text/css\" >\n",
       "    #T_7a703058_a0b7_11ec_b6b1_acde48001122row0_col1 {\n",
       "            background-color:  #67000d;\n",
       "            color:  #f1f1f1;\n",
       "        }    #T_7a703058_a0b7_11ec_b6b1_acde48001122row1_col1 {\n",
       "            background-color:  #eb372a;\n",
       "            color:  #f1f1f1;\n",
       "        }    #T_7a703058_a0b7_11ec_b6b1_acde48001122row2_col1 {\n",
       "            background-color:  #fcc2aa;\n",
       "            color:  #000000;\n",
       "        }    #T_7a703058_a0b7_11ec_b6b1_acde48001122row3_col1 {\n",
       "            background-color:  #fdd7c6;\n",
       "            color:  #000000;\n",
       "        }    #T_7a703058_a0b7_11ec_b6b1_acde48001122row4_col1 {\n",
       "            background-color:  #fee1d3;\n",
       "            color:  #000000;\n",
       "        }    #T_7a703058_a0b7_11ec_b6b1_acde48001122row5_col1 {\n",
       "            background-color:  #fee5d9;\n",
       "            color:  #000000;\n",
       "        }    #T_7a703058_a0b7_11ec_b6b1_acde48001122row6_col1 {\n",
       "            background-color:  #fee7dc;\n",
       "            color:  #000000;\n",
       "        }    #T_7a703058_a0b7_11ec_b6b1_acde48001122row7_col1 {\n",
       "            background-color:  #fee9df;\n",
       "            color:  #000000;\n",
       "        }    #T_7a703058_a0b7_11ec_b6b1_acde48001122row8_col1 {\n",
       "            background-color:  #fee9df;\n",
       "            color:  #000000;\n",
       "        }    #T_7a703058_a0b7_11ec_b6b1_acde48001122row9_col1 {\n",
       "            background-color:  #ffebe2;\n",
       "            color:  #000000;\n",
       "        }    #T_7a703058_a0b7_11ec_b6b1_acde48001122row10_col1 {\n",
       "            background-color:  #ffece4;\n",
       "            color:  #000000;\n",
       "        }    #T_7a703058_a0b7_11ec_b6b1_acde48001122row11_col1 {\n",
       "            background-color:  #ffede5;\n",
       "            color:  #000000;\n",
       "        }    #T_7a703058_a0b7_11ec_b6b1_acde48001122row12_col1 {\n",
       "            background-color:  #ffeee7;\n",
       "            color:  #000000;\n",
       "        }    #T_7a703058_a0b7_11ec_b6b1_acde48001122row13_col1 {\n",
       "            background-color:  #fff0e8;\n",
       "            color:  #000000;\n",
       "        }    #T_7a703058_a0b7_11ec_b6b1_acde48001122row14_col1 {\n",
       "            background-color:  #fff0e8;\n",
       "            color:  #000000;\n",
       "        }    #T_7a703058_a0b7_11ec_b6b1_acde48001122row15_col1 {\n",
       "            background-color:  #fff0e8;\n",
       "            color:  #000000;\n",
       "        }    #T_7a703058_a0b7_11ec_b6b1_acde48001122row16_col1 {\n",
       "            background-color:  #fff1ea;\n",
       "            color:  #000000;\n",
       "        }    #T_7a703058_a0b7_11ec_b6b1_acde48001122row17_col1 {\n",
       "            background-color:  #fff2ec;\n",
       "            color:  #000000;\n",
       "        }    #T_7a703058_a0b7_11ec_b6b1_acde48001122row18_col1 {\n",
       "            background-color:  #fff5f0;\n",
       "            color:  #000000;\n",
       "        }</style><table id=\"T_7a703058_a0b7_11ec_b6b1_acde48001122\" ><thead>    <tr>        <th class=\"blank level0\" ></th>        <th class=\"col_heading level0 col0\" >Common_words</th>        <th class=\"col_heading level0 col1\" >count</th>    </tr></thead><tbody>\n",
       "                <tr>\n",
       "                        <th id=\"T_7a703058_a0b7_11ec_b6b1_acde48001122level0_row0\" class=\"row_heading level0 row0\" >1</th>\n",
       "                        <td id=\"T_7a703058_a0b7_11ec_b6b1_acde48001122row0_col0\" class=\"data row0 col0\" >amp</td>\n",
       "                        <td id=\"T_7a703058_a0b7_11ec_b6b1_acde48001122row0_col1\" class=\"data row0 col1\" >634</td>\n",
       "            </tr>\n",
       "            <tr>\n",
       "                        <th id=\"T_7a703058_a0b7_11ec_b6b1_acde48001122level0_row1\" class=\"row_heading level0 row1\" >2</th>\n",
       "                        <td id=\"T_7a703058_a0b7_11ec_b6b1_acde48001122row1_col0\" class=\"data row1 col0\" >johnson</td>\n",
       "                        <td id=\"T_7a703058_a0b7_11ec_b6b1_acde48001122row1_col1\" class=\"data row1 col1\" >478</td>\n",
       "            </tr>\n",
       "            <tr>\n",
       "                        <th id=\"T_7a703058_a0b7_11ec_b6b1_acde48001122level0_row2\" class=\"row_heading level0 row2\" >3</th>\n",
       "                        <td id=\"T_7a703058_a0b7_11ec_b6b1_acde48001122row2_col0\" class=\"data row2 col0\" >ethicon</td>\n",
       "                        <td id=\"T_7a703058_a0b7_11ec_b6b1_acde48001122row2_col1\" class=\"data row2 col1\" >300</td>\n",
       "            </tr>\n",
       "            <tr>\n",
       "                        <th id=\"T_7a703058_a0b7_11ec_b6b1_acde48001122level0_row3\" class=\"row_heading level0 row3\" >4</th>\n",
       "                        <td id=\"T_7a703058_a0b7_11ec_b6b1_acde48001122row3_col0\" class=\"data row3 col0\" >bwi</td>\n",
       "                        <td id=\"T_7a703058_a0b7_11ec_b6b1_acde48001122row3_col1\" class=\"data row3 col1\" >269</td>\n",
       "            </tr>\n",
       "            <tr>\n",
       "                        <th id=\"T_7a703058_a0b7_11ec_b6b1_acde48001122level0_row4\" class=\"row_heading level0 row4\" >5</th>\n",
       "                        <td id=\"T_7a703058_a0b7_11ec_b6b1_acde48001122row4_col0\" class=\"data row4 col0\" >sol</td>\n",
       "                        <td id=\"T_7a703058_a0b7_11ec_b6b1_acde48001122row4_col1\" class=\"data row4 col1\" >254</td>\n",
       "            </tr>\n",
       "            <tr>\n",
       "                        <th id=\"T_7a703058_a0b7_11ec_b6b1_acde48001122level0_row5\" class=\"row_heading level0 row5\" >6</th>\n",
       "                        <td id=\"T_7a703058_a0b7_11ec_b6b1_acde48001122row5_col0\" class=\"data row5 col0\" >pfe</td>\n",
       "                        <td id=\"T_7a703058_a0b7_11ec_b6b1_acde48001122row5_col1\" class=\"data row5 col1\" >242</td>\n",
       "            </tr>\n",
       "            <tr>\n",
       "                        <th id=\"T_7a703058_a0b7_11ec_b6b1_acde48001122level0_row6\" class=\"row_heading level0 row6\" >7</th>\n",
       "                        <td id=\"T_7a703058_a0b7_11ec_b6b1_acde48001122row6_col0\" class=\"data row6 col0\" >peopl</td>\n",
       "                        <td id=\"T_7a703058_a0b7_11ec_b6b1_acde48001122row6_col1\" class=\"data row6 col1\" >237</td>\n",
       "            </tr>\n",
       "            <tr>\n",
       "                        <th id=\"T_7a703058_a0b7_11ec_b6b1_acde48001122level0_row7\" class=\"row_heading level0 row7\" >8</th>\n",
       "                        <td id=\"T_7a703058_a0b7_11ec_b6b1_acde48001122row7_col0\" class=\"data row7 col0\" >love</td>\n",
       "                        <td id=\"T_7a703058_a0b7_11ec_b6b1_acde48001122row7_col1\" class=\"data row7 col1\" >232</td>\n",
       "            </tr>\n",
       "            <tr>\n",
       "                        <th id=\"T_7a703058_a0b7_11ec_b6b1_acde48001122level0_row8\" class=\"row_heading level0 row8\" >9</th>\n",
       "                        <td id=\"T_7a703058_a0b7_11ec_b6b1_acde48001122row8_col0\" class=\"data row8 col0\" >uon</td>\n",
       "                        <td id=\"T_7a703058_a0b7_11ec_b6b1_acde48001122row8_col1\" class=\"data row8 col1\" >231</td>\n",
       "            </tr>\n",
       "            <tr>\n",
       "                        <th id=\"T_7a703058_a0b7_11ec_b6b1_acde48001122level0_row9\" class=\"row_heading level0 row9\" >10</th>\n",
       "                        <td id=\"T_7a703058_a0b7_11ec_b6b1_acde48001122row9_col0\" class=\"data row9 col0\" >nftart</td>\n",
       "                        <td id=\"T_7a703058_a0b7_11ec_b6b1_acde48001122row9_col1\" class=\"data row9 col1\" >226</td>\n",
       "            </tr>\n",
       "            <tr>\n",
       "                        <th id=\"T_7a703058_a0b7_11ec_b6b1_acde48001122level0_row10\" class=\"row_heading level0 row10\" >11</th>\n",
       "                        <td id=\"T_7a703058_a0b7_11ec_b6b1_acde48001122row10_col0\" class=\"data row10 col0\" >time</td>\n",
       "                        <td id=\"T_7a703058_a0b7_11ec_b6b1_acde48001122row10_col1\" class=\"data row10 col1\" >223</td>\n",
       "            </tr>\n",
       "            <tr>\n",
       "                        <th id=\"T_7a703058_a0b7_11ec_b6b1_acde48001122level0_row11\" class=\"row_heading level0 row11\" >12</th>\n",
       "                        <td id=\"T_7a703058_a0b7_11ec_b6b1_acde48001122row11_col0\" class=\"data row11 col0\" >1</td>\n",
       "                        <td id=\"T_7a703058_a0b7_11ec_b6b1_acde48001122row11_col1\" class=\"data row11 col1\" >222</td>\n",
       "            </tr>\n",
       "            <tr>\n",
       "                        <th id=\"T_7a703058_a0b7_11ec_b6b1_acde48001122level0_row12\" class=\"row_heading level0 row12\" >13</th>\n",
       "                        <td id=\"T_7a703058_a0b7_11ec_b6b1_acde48001122row12_col0\" class=\"data row12 col0\" >health</td>\n",
       "                        <td id=\"T_7a703058_a0b7_11ec_b6b1_acde48001122row12_col1\" class=\"data row12 col1\" >217</td>\n",
       "            </tr>\n",
       "            <tr>\n",
       "                        <th id=\"T_7a703058_a0b7_11ec_b6b1_acde48001122level0_row13\" class=\"row_heading level0 row13\" >14</th>\n",
       "                        <td id=\"T_7a703058_a0b7_11ec_b6b1_acde48001122row13_col0\" class=\"data row13 col0\" >day</td>\n",
       "                        <td id=\"T_7a703058_a0b7_11ec_b6b1_acde48001122row13_col1\" class=\"data row13 col1\" >215</td>\n",
       "            </tr>\n",
       "            <tr>\n",
       "                        <th id=\"T_7a703058_a0b7_11ec_b6b1_acde48001122level0_row14\" class=\"row_heading level0 row14\" >15</th>\n",
       "                        <td id=\"T_7a703058_a0b7_11ec_b6b1_acde48001122row14_col0\" class=\"data row14 col0\" >get</td>\n",
       "                        <td id=\"T_7a703058_a0b7_11ec_b6b1_acde48001122row14_col1\" class=\"data row14 col1\" >215</td>\n",
       "            </tr>\n",
       "            <tr>\n",
       "                        <th id=\"T_7a703058_a0b7_11ec_b6b1_acde48001122level0_row15\" class=\"row_heading level0 row15\" >16</th>\n",
       "                        <td id=\"T_7a703058_a0b7_11ec_b6b1_acde48001122row15_col0\" class=\"data row15 col0\" >one</td>\n",
       "                        <td id=\"T_7a703058_a0b7_11ec_b6b1_acde48001122row15_col1\" class=\"data row15 col1\" >214</td>\n",
       "            </tr>\n",
       "            <tr>\n",
       "                        <th id=\"T_7a703058_a0b7_11ec_b6b1_acde48001122level0_row16\" class=\"row_heading level0 row16\" >17</th>\n",
       "                        <td id=\"T_7a703058_a0b7_11ec_b6b1_acde48001122row16_col0\" class=\"data row16 col0\" >jack</td>\n",
       "                        <td id=\"T_7a703058_a0b7_11ec_b6b1_acde48001122row16_col1\" class=\"data row16 col1\" >211</td>\n",
       "            </tr>\n",
       "            <tr>\n",
       "                        <th id=\"T_7a703058_a0b7_11ec_b6b1_acde48001122level0_row17\" class=\"row_heading level0 row17\" >18</th>\n",
       "                        <td id=\"T_7a703058_a0b7_11ec_b6b1_acde48001122row17_col0\" class=\"data row17 col0\" >thank</td>\n",
       "                        <td id=\"T_7a703058_a0b7_11ec_b6b1_acde48001122row17_col1\" class=\"data row17 col1\" >208</td>\n",
       "            </tr>\n",
       "            <tr>\n",
       "                        <th id=\"T_7a703058_a0b7_11ec_b6b1_acde48001122level0_row18\" class=\"row_heading level0 row18\" >19</th>\n",
       "                        <td id=\"T_7a703058_a0b7_11ec_b6b1_acde48001122row18_col0\" class=\"data row18 col0\" >jnjnew</td>\n",
       "                        <td id=\"T_7a703058_a0b7_11ec_b6b1_acde48001122row18_col1\" class=\"data row18 col1\" >200</td>\n",
       "            </tr>\n",
       "    </tbody></table>"
      ],
      "text/plain": [
       "<pandas.io.formats.style.Styler at 0x7fdc13158a10>"
      ]
     },
     "execution_count": 203,
     "metadata": {},
     "output_type": "execute_result"
    }
   ],
   "source": [
    "top = Counter([item for sublist in wrong_class['temp_list3'] for item in sublist])\n",
    "temp_negative = pd.DataFrame(top.most_common(20))\n",
    "temp_negative = temp_negative.iloc[1:,:]\n",
    "temp_negative.columns = ['Common_words','count']\n",
    "temp_negative.style.background_gradient(cmap='Reds')"
   ]
  },
  {
   "cell_type": "code",
   "execution_count": 209,
   "metadata": {},
   "outputs": [
    {
     "data": {
      "application/vnd.plotly.v1+json": {
       "config": {
        "plotlyServerURL": "https://plot.ly"
       },
       "data": [
        {
         "alignmentgroup": "True",
         "hovertemplate": "Common_words=%{y}<br>count=%{x}<extra></extra>",
         "legendgroup": "amp",
         "marker": {
          "color": "#636efa"
         },
         "name": "amp",
         "offsetgroup": "amp",
         "orientation": "h",
         "showlegend": true,
         "textposition": "auto",
         "type": "bar",
         "x": [
          634
         ],
         "xaxis": "x",
         "y": [
          "amp"
         ],
         "yaxis": "y"
        },
        {
         "alignmentgroup": "True",
         "hovertemplate": "Common_words=%{y}<br>count=%{x}<extra></extra>",
         "legendgroup": "johnson",
         "marker": {
          "color": "#EF553B"
         },
         "name": "johnson",
         "offsetgroup": "johnson",
         "orientation": "h",
         "showlegend": true,
         "textposition": "auto",
         "type": "bar",
         "x": [
          478
         ],
         "xaxis": "x",
         "y": [
          "johnson"
         ],
         "yaxis": "y"
        },
        {
         "alignmentgroup": "True",
         "hovertemplate": "Common_words=%{y}<br>count=%{x}<extra></extra>",
         "legendgroup": "ethicon",
         "marker": {
          "color": "#00cc96"
         },
         "name": "ethicon",
         "offsetgroup": "ethicon",
         "orientation": "h",
         "showlegend": true,
         "textposition": "auto",
         "type": "bar",
         "x": [
          300
         ],
         "xaxis": "x",
         "y": [
          "ethicon"
         ],
         "yaxis": "y"
        },
        {
         "alignmentgroup": "True",
         "hovertemplate": "Common_words=%{y}<br>count=%{x}<extra></extra>",
         "legendgroup": "bwi",
         "marker": {
          "color": "#ab63fa"
         },
         "name": "bwi",
         "offsetgroup": "bwi",
         "orientation": "h",
         "showlegend": true,
         "textposition": "auto",
         "type": "bar",
         "x": [
          269
         ],
         "xaxis": "x",
         "y": [
          "bwi"
         ],
         "yaxis": "y"
        },
        {
         "alignmentgroup": "True",
         "hovertemplate": "Common_words=%{y}<br>count=%{x}<extra></extra>",
         "legendgroup": "sol",
         "marker": {
          "color": "#FFA15A"
         },
         "name": "sol",
         "offsetgroup": "sol",
         "orientation": "h",
         "showlegend": true,
         "textposition": "auto",
         "type": "bar",
         "x": [
          254
         ],
         "xaxis": "x",
         "y": [
          "sol"
         ],
         "yaxis": "y"
        },
        {
         "alignmentgroup": "True",
         "hovertemplate": "Common_words=%{y}<br>count=%{x}<extra></extra>",
         "legendgroup": "pfe",
         "marker": {
          "color": "#19d3f3"
         },
         "name": "pfe",
         "offsetgroup": "pfe",
         "orientation": "h",
         "showlegend": true,
         "textposition": "auto",
         "type": "bar",
         "x": [
          242
         ],
         "xaxis": "x",
         "y": [
          "pfe"
         ],
         "yaxis": "y"
        },
        {
         "alignmentgroup": "True",
         "hovertemplate": "Common_words=%{y}<br>count=%{x}<extra></extra>",
         "legendgroup": "peopl",
         "marker": {
          "color": "#FF6692"
         },
         "name": "peopl",
         "offsetgroup": "peopl",
         "orientation": "h",
         "showlegend": true,
         "textposition": "auto",
         "type": "bar",
         "x": [
          237
         ],
         "xaxis": "x",
         "y": [
          "peopl"
         ],
         "yaxis": "y"
        },
        {
         "alignmentgroup": "True",
         "hovertemplate": "Common_words=%{y}<br>count=%{x}<extra></extra>",
         "legendgroup": "love",
         "marker": {
          "color": "#B6E880"
         },
         "name": "love",
         "offsetgroup": "love",
         "orientation": "h",
         "showlegend": true,
         "textposition": "auto",
         "type": "bar",
         "x": [
          232
         ],
         "xaxis": "x",
         "y": [
          "love"
         ],
         "yaxis": "y"
        },
        {
         "alignmentgroup": "True",
         "hovertemplate": "Common_words=%{y}<br>count=%{x}<extra></extra>",
         "legendgroup": "uon",
         "marker": {
          "color": "#FF97FF"
         },
         "name": "uon",
         "offsetgroup": "uon",
         "orientation": "h",
         "showlegend": true,
         "textposition": "auto",
         "type": "bar",
         "x": [
          231
         ],
         "xaxis": "x",
         "y": [
          "uon"
         ],
         "yaxis": "y"
        },
        {
         "alignmentgroup": "True",
         "hovertemplate": "Common_words=%{y}<br>count=%{x}<extra></extra>",
         "legendgroup": "nftart",
         "marker": {
          "color": "#FECB52"
         },
         "name": "nftart",
         "offsetgroup": "nftart",
         "orientation": "h",
         "showlegend": true,
         "textposition": "auto",
         "type": "bar",
         "x": [
          226
         ],
         "xaxis": "x",
         "y": [
          "nftart"
         ],
         "yaxis": "y"
        },
        {
         "alignmentgroup": "True",
         "hovertemplate": "Common_words=%{y}<br>count=%{x}<extra></extra>",
         "legendgroup": "time",
         "marker": {
          "color": "#636efa"
         },
         "name": "time",
         "offsetgroup": "time",
         "orientation": "h",
         "showlegend": true,
         "textposition": "auto",
         "type": "bar",
         "x": [
          223
         ],
         "xaxis": "x",
         "y": [
          "time"
         ],
         "yaxis": "y"
        },
        {
         "alignmentgroup": "True",
         "hovertemplate": "Common_words=%{y}<br>count=%{x}<extra></extra>",
         "legendgroup": "1",
         "marker": {
          "color": "#EF553B"
         },
         "name": "1",
         "offsetgroup": "1",
         "orientation": "h",
         "showlegend": true,
         "textposition": "auto",
         "type": "bar",
         "x": [
          222
         ],
         "xaxis": "x",
         "y": [
          "1"
         ],
         "yaxis": "y"
        },
        {
         "alignmentgroup": "True",
         "hovertemplate": "Common_words=%{y}<br>count=%{x}<extra></extra>",
         "legendgroup": "health",
         "marker": {
          "color": "#00cc96"
         },
         "name": "health",
         "offsetgroup": "health",
         "orientation": "h",
         "showlegend": true,
         "textposition": "auto",
         "type": "bar",
         "x": [
          217
         ],
         "xaxis": "x",
         "y": [
          "health"
         ],
         "yaxis": "y"
        },
        {
         "alignmentgroup": "True",
         "hovertemplate": "Common_words=%{y}<br>count=%{x}<extra></extra>",
         "legendgroup": "day",
         "marker": {
          "color": "#ab63fa"
         },
         "name": "day",
         "offsetgroup": "day",
         "orientation": "h",
         "showlegend": true,
         "textposition": "auto",
         "type": "bar",
         "x": [
          215
         ],
         "xaxis": "x",
         "y": [
          "day"
         ],
         "yaxis": "y"
        },
        {
         "alignmentgroup": "True",
         "hovertemplate": "Common_words=%{y}<br>count=%{x}<extra></extra>",
         "legendgroup": "get",
         "marker": {
          "color": "#FFA15A"
         },
         "name": "get",
         "offsetgroup": "get",
         "orientation": "h",
         "showlegend": true,
         "textposition": "auto",
         "type": "bar",
         "x": [
          215
         ],
         "xaxis": "x",
         "y": [
          "get"
         ],
         "yaxis": "y"
        },
        {
         "alignmentgroup": "True",
         "hovertemplate": "Common_words=%{y}<br>count=%{x}<extra></extra>",
         "legendgroup": "one",
         "marker": {
          "color": "#19d3f3"
         },
         "name": "one",
         "offsetgroup": "one",
         "orientation": "h",
         "showlegend": true,
         "textposition": "auto",
         "type": "bar",
         "x": [
          214
         ],
         "xaxis": "x",
         "y": [
          "one"
         ],
         "yaxis": "y"
        },
        {
         "alignmentgroup": "True",
         "hovertemplate": "Common_words=%{y}<br>count=%{x}<extra></extra>",
         "legendgroup": "jack",
         "marker": {
          "color": "#FF6692"
         },
         "name": "jack",
         "offsetgroup": "jack",
         "orientation": "h",
         "showlegend": true,
         "textposition": "auto",
         "type": "bar",
         "x": [
          211
         ],
         "xaxis": "x",
         "y": [
          "jack"
         ],
         "yaxis": "y"
        },
        {
         "alignmentgroup": "True",
         "hovertemplate": "Common_words=%{y}<br>count=%{x}<extra></extra>",
         "legendgroup": "thank",
         "marker": {
          "color": "#B6E880"
         },
         "name": "thank",
         "offsetgroup": "thank",
         "orientation": "h",
         "showlegend": true,
         "textposition": "auto",
         "type": "bar",
         "x": [
          208
         ],
         "xaxis": "x",
         "y": [
          "thank"
         ],
         "yaxis": "y"
        },
        {
         "alignmentgroup": "True",
         "hovertemplate": "Common_words=%{y}<br>count=%{x}<extra></extra>",
         "legendgroup": "jnjnew",
         "marker": {
          "color": "#FF97FF"
         },
         "name": "jnjnew",
         "offsetgroup": "jnjnew",
         "orientation": "h",
         "showlegend": true,
         "textposition": "auto",
         "type": "bar",
         "x": [
          200
         ],
         "xaxis": "x",
         "y": [
          "jnjnew"
         ],
         "yaxis": "y"
        }
       ],
       "layout": {
        "barmode": "relative",
        "height": 700,
        "legend": {
         "title": {
          "text": "Common_words"
         },
         "tracegroupgap": 0
        },
        "template": {
         "data": {
          "bar": [
           {
            "error_x": {
             "color": "#2a3f5f"
            },
            "error_y": {
             "color": "#2a3f5f"
            },
            "marker": {
             "line": {
              "color": "#E5ECF6",
              "width": 0.5
             }
            },
            "type": "bar"
           }
          ],
          "barpolar": [
           {
            "marker": {
             "line": {
              "color": "#E5ECF6",
              "width": 0.5
             }
            },
            "type": "barpolar"
           }
          ],
          "carpet": [
           {
            "aaxis": {
             "endlinecolor": "#2a3f5f",
             "gridcolor": "white",
             "linecolor": "white",
             "minorgridcolor": "white",
             "startlinecolor": "#2a3f5f"
            },
            "baxis": {
             "endlinecolor": "#2a3f5f",
             "gridcolor": "white",
             "linecolor": "white",
             "minorgridcolor": "white",
             "startlinecolor": "#2a3f5f"
            },
            "type": "carpet"
           }
          ],
          "choropleth": [
           {
            "colorbar": {
             "outlinewidth": 0,
             "ticks": ""
            },
            "type": "choropleth"
           }
          ],
          "contour": [
           {
            "colorbar": {
             "outlinewidth": 0,
             "ticks": ""
            },
            "colorscale": [
             [
              0,
              "#0d0887"
             ],
             [
              0.1111111111111111,
              "#46039f"
             ],
             [
              0.2222222222222222,
              "#7201a8"
             ],
             [
              0.3333333333333333,
              "#9c179e"
             ],
             [
              0.4444444444444444,
              "#bd3786"
             ],
             [
              0.5555555555555556,
              "#d8576b"
             ],
             [
              0.6666666666666666,
              "#ed7953"
             ],
             [
              0.7777777777777778,
              "#fb9f3a"
             ],
             [
              0.8888888888888888,
              "#fdca26"
             ],
             [
              1,
              "#f0f921"
             ]
            ],
            "type": "contour"
           }
          ],
          "contourcarpet": [
           {
            "colorbar": {
             "outlinewidth": 0,
             "ticks": ""
            },
            "type": "contourcarpet"
           }
          ],
          "heatmap": [
           {
            "colorbar": {
             "outlinewidth": 0,
             "ticks": ""
            },
            "colorscale": [
             [
              0,
              "#0d0887"
             ],
             [
              0.1111111111111111,
              "#46039f"
             ],
             [
              0.2222222222222222,
              "#7201a8"
             ],
             [
              0.3333333333333333,
              "#9c179e"
             ],
             [
              0.4444444444444444,
              "#bd3786"
             ],
             [
              0.5555555555555556,
              "#d8576b"
             ],
             [
              0.6666666666666666,
              "#ed7953"
             ],
             [
              0.7777777777777778,
              "#fb9f3a"
             ],
             [
              0.8888888888888888,
              "#fdca26"
             ],
             [
              1,
              "#f0f921"
             ]
            ],
            "type": "heatmap"
           }
          ],
          "heatmapgl": [
           {
            "colorbar": {
             "outlinewidth": 0,
             "ticks": ""
            },
            "colorscale": [
             [
              0,
              "#0d0887"
             ],
             [
              0.1111111111111111,
              "#46039f"
             ],
             [
              0.2222222222222222,
              "#7201a8"
             ],
             [
              0.3333333333333333,
              "#9c179e"
             ],
             [
              0.4444444444444444,
              "#bd3786"
             ],
             [
              0.5555555555555556,
              "#d8576b"
             ],
             [
              0.6666666666666666,
              "#ed7953"
             ],
             [
              0.7777777777777778,
              "#fb9f3a"
             ],
             [
              0.8888888888888888,
              "#fdca26"
             ],
             [
              1,
              "#f0f921"
             ]
            ],
            "type": "heatmapgl"
           }
          ],
          "histogram": [
           {
            "marker": {
             "colorbar": {
              "outlinewidth": 0,
              "ticks": ""
             }
            },
            "type": "histogram"
           }
          ],
          "histogram2d": [
           {
            "colorbar": {
             "outlinewidth": 0,
             "ticks": ""
            },
            "colorscale": [
             [
              0,
              "#0d0887"
             ],
             [
              0.1111111111111111,
              "#46039f"
             ],
             [
              0.2222222222222222,
              "#7201a8"
             ],
             [
              0.3333333333333333,
              "#9c179e"
             ],
             [
              0.4444444444444444,
              "#bd3786"
             ],
             [
              0.5555555555555556,
              "#d8576b"
             ],
             [
              0.6666666666666666,
              "#ed7953"
             ],
             [
              0.7777777777777778,
              "#fb9f3a"
             ],
             [
              0.8888888888888888,
              "#fdca26"
             ],
             [
              1,
              "#f0f921"
             ]
            ],
            "type": "histogram2d"
           }
          ],
          "histogram2dcontour": [
           {
            "colorbar": {
             "outlinewidth": 0,
             "ticks": ""
            },
            "colorscale": [
             [
              0,
              "#0d0887"
             ],
             [
              0.1111111111111111,
              "#46039f"
             ],
             [
              0.2222222222222222,
              "#7201a8"
             ],
             [
              0.3333333333333333,
              "#9c179e"
             ],
             [
              0.4444444444444444,
              "#bd3786"
             ],
             [
              0.5555555555555556,
              "#d8576b"
             ],
             [
              0.6666666666666666,
              "#ed7953"
             ],
             [
              0.7777777777777778,
              "#fb9f3a"
             ],
             [
              0.8888888888888888,
              "#fdca26"
             ],
             [
              1,
              "#f0f921"
             ]
            ],
            "type": "histogram2dcontour"
           }
          ],
          "mesh3d": [
           {
            "colorbar": {
             "outlinewidth": 0,
             "ticks": ""
            },
            "type": "mesh3d"
           }
          ],
          "parcoords": [
           {
            "line": {
             "colorbar": {
              "outlinewidth": 0,
              "ticks": ""
             }
            },
            "type": "parcoords"
           }
          ],
          "pie": [
           {
            "automargin": true,
            "type": "pie"
           }
          ],
          "scatter": [
           {
            "marker": {
             "colorbar": {
              "outlinewidth": 0,
              "ticks": ""
             }
            },
            "type": "scatter"
           }
          ],
          "scatter3d": [
           {
            "line": {
             "colorbar": {
              "outlinewidth": 0,
              "ticks": ""
             }
            },
            "marker": {
             "colorbar": {
              "outlinewidth": 0,
              "ticks": ""
             }
            },
            "type": "scatter3d"
           }
          ],
          "scattercarpet": [
           {
            "marker": {
             "colorbar": {
              "outlinewidth": 0,
              "ticks": ""
             }
            },
            "type": "scattercarpet"
           }
          ],
          "scattergeo": [
           {
            "marker": {
             "colorbar": {
              "outlinewidth": 0,
              "ticks": ""
             }
            },
            "type": "scattergeo"
           }
          ],
          "scattergl": [
           {
            "marker": {
             "colorbar": {
              "outlinewidth": 0,
              "ticks": ""
             }
            },
            "type": "scattergl"
           }
          ],
          "scattermapbox": [
           {
            "marker": {
             "colorbar": {
              "outlinewidth": 0,
              "ticks": ""
             }
            },
            "type": "scattermapbox"
           }
          ],
          "scatterpolar": [
           {
            "marker": {
             "colorbar": {
              "outlinewidth": 0,
              "ticks": ""
             }
            },
            "type": "scatterpolar"
           }
          ],
          "scatterpolargl": [
           {
            "marker": {
             "colorbar": {
              "outlinewidth": 0,
              "ticks": ""
             }
            },
            "type": "scatterpolargl"
           }
          ],
          "scatterternary": [
           {
            "marker": {
             "colorbar": {
              "outlinewidth": 0,
              "ticks": ""
             }
            },
            "type": "scatterternary"
           }
          ],
          "surface": [
           {
            "colorbar": {
             "outlinewidth": 0,
             "ticks": ""
            },
            "colorscale": [
             [
              0,
              "#0d0887"
             ],
             [
              0.1111111111111111,
              "#46039f"
             ],
             [
              0.2222222222222222,
              "#7201a8"
             ],
             [
              0.3333333333333333,
              "#9c179e"
             ],
             [
              0.4444444444444444,
              "#bd3786"
             ],
             [
              0.5555555555555556,
              "#d8576b"
             ],
             [
              0.6666666666666666,
              "#ed7953"
             ],
             [
              0.7777777777777778,
              "#fb9f3a"
             ],
             [
              0.8888888888888888,
              "#fdca26"
             ],
             [
              1,
              "#f0f921"
             ]
            ],
            "type": "surface"
           }
          ],
          "table": [
           {
            "cells": {
             "fill": {
              "color": "#EBF0F8"
             },
             "line": {
              "color": "white"
             }
            },
            "header": {
             "fill": {
              "color": "#C8D4E3"
             },
             "line": {
              "color": "white"
             }
            },
            "type": "table"
           }
          ]
         },
         "layout": {
          "annotationdefaults": {
           "arrowcolor": "#2a3f5f",
           "arrowhead": 0,
           "arrowwidth": 1
          },
          "coloraxis": {
           "colorbar": {
            "outlinewidth": 0,
            "ticks": ""
           }
          },
          "colorscale": {
           "diverging": [
            [
             0,
             "#8e0152"
            ],
            [
             0.1,
             "#c51b7d"
            ],
            [
             0.2,
             "#de77ae"
            ],
            [
             0.3,
             "#f1b6da"
            ],
            [
             0.4,
             "#fde0ef"
            ],
            [
             0.5,
             "#f7f7f7"
            ],
            [
             0.6,
             "#e6f5d0"
            ],
            [
             0.7,
             "#b8e186"
            ],
            [
             0.8,
             "#7fbc41"
            ],
            [
             0.9,
             "#4d9221"
            ],
            [
             1,
             "#276419"
            ]
           ],
           "sequential": [
            [
             0,
             "#0d0887"
            ],
            [
             0.1111111111111111,
             "#46039f"
            ],
            [
             0.2222222222222222,
             "#7201a8"
            ],
            [
             0.3333333333333333,
             "#9c179e"
            ],
            [
             0.4444444444444444,
             "#bd3786"
            ],
            [
             0.5555555555555556,
             "#d8576b"
            ],
            [
             0.6666666666666666,
             "#ed7953"
            ],
            [
             0.7777777777777778,
             "#fb9f3a"
            ],
            [
             0.8888888888888888,
             "#fdca26"
            ],
            [
             1,
             "#f0f921"
            ]
           ],
           "sequentialminus": [
            [
             0,
             "#0d0887"
            ],
            [
             0.1111111111111111,
             "#46039f"
            ],
            [
             0.2222222222222222,
             "#7201a8"
            ],
            [
             0.3333333333333333,
             "#9c179e"
            ],
            [
             0.4444444444444444,
             "#bd3786"
            ],
            [
             0.5555555555555556,
             "#d8576b"
            ],
            [
             0.6666666666666666,
             "#ed7953"
            ],
            [
             0.7777777777777778,
             "#fb9f3a"
            ],
            [
             0.8888888888888888,
             "#fdca26"
            ],
            [
             1,
             "#f0f921"
            ]
           ]
          },
          "colorway": [
           "#636efa",
           "#EF553B",
           "#00cc96",
           "#ab63fa",
           "#FFA15A",
           "#19d3f3",
           "#FF6692",
           "#B6E880",
           "#FF97FF",
           "#FECB52"
          ],
          "font": {
           "color": "#2a3f5f"
          },
          "geo": {
           "bgcolor": "white",
           "lakecolor": "white",
           "landcolor": "#E5ECF6",
           "showlakes": true,
           "showland": true,
           "subunitcolor": "white"
          },
          "hoverlabel": {
           "align": "left"
          },
          "hovermode": "closest",
          "mapbox": {
           "style": "light"
          },
          "paper_bgcolor": "white",
          "plot_bgcolor": "#E5ECF6",
          "polar": {
           "angularaxis": {
            "gridcolor": "white",
            "linecolor": "white",
            "ticks": ""
           },
           "bgcolor": "#E5ECF6",
           "radialaxis": {
            "gridcolor": "white",
            "linecolor": "white",
            "ticks": ""
           }
          },
          "scene": {
           "xaxis": {
            "backgroundcolor": "#E5ECF6",
            "gridcolor": "white",
            "gridwidth": 2,
            "linecolor": "white",
            "showbackground": true,
            "ticks": "",
            "zerolinecolor": "white"
           },
           "yaxis": {
            "backgroundcolor": "#E5ECF6",
            "gridcolor": "white",
            "gridwidth": 2,
            "linecolor": "white",
            "showbackground": true,
            "ticks": "",
            "zerolinecolor": "white"
           },
           "zaxis": {
            "backgroundcolor": "#E5ECF6",
            "gridcolor": "white",
            "gridwidth": 2,
            "linecolor": "white",
            "showbackground": true,
            "ticks": "",
            "zerolinecolor": "white"
           }
          },
          "shapedefaults": {
           "line": {
            "color": "#2a3f5f"
           }
          },
          "ternary": {
           "aaxis": {
            "gridcolor": "white",
            "linecolor": "white",
            "ticks": ""
           },
           "baxis": {
            "gridcolor": "white",
            "linecolor": "white",
            "ticks": ""
           },
           "bgcolor": "#E5ECF6",
           "caxis": {
            "gridcolor": "white",
            "linecolor": "white",
            "ticks": ""
           }
          },
          "title": {
           "x": 0.05
          },
          "xaxis": {
           "automargin": true,
           "gridcolor": "white",
           "linecolor": "white",
           "ticks": "",
           "title": {
            "standoff": 15
           },
           "zerolinecolor": "white",
           "zerolinewidth": 2
          },
          "yaxis": {
           "automargin": true,
           "gridcolor": "white",
           "linecolor": "white",
           "ticks": "",
           "title": {
            "standoff": 15
           },
           "zerolinecolor": "white",
           "zerolinewidth": 2
          }
         }
        },
        "title": {
         "text": " common words in tweets not about medical device"
        },
        "width": 700,
        "xaxis": {
         "anchor": "y",
         "domain": [
          0,
          1
         ],
         "title": {
          "text": "count"
         }
        },
        "yaxis": {
         "anchor": "x",
         "categoryarray": [
          "jnjnew",
          "thank",
          "jack",
          "one",
          "get",
          "day",
          "health",
          "1",
          "time",
          "nftart",
          "uon",
          "love",
          "peopl",
          "pfe",
          "sol",
          "bwi",
          "ethicon",
          "johnson",
          "amp"
         ],
         "categoryorder": "array",
         "domain": [
          0,
          1
         ],
         "title": {
          "text": "Common_words"
         }
        }
       }
      },
      "text/html": [
       "<div>                            <div id=\"18fb9b91-1d0d-4e06-bcd2-e11cb1499c6b\" class=\"plotly-graph-div\" style=\"height:700px; width:700px;\"></div>            <script type=\"text/javascript\">                require([\"plotly\"], function(Plotly) {                    window.PLOTLYENV=window.PLOTLYENV || {};                                    if (document.getElementById(\"18fb9b91-1d0d-4e06-bcd2-e11cb1499c6b\")) {                    Plotly.newPlot(                        \"18fb9b91-1d0d-4e06-bcd2-e11cb1499c6b\",                        [{\"alignmentgroup\": \"True\", \"hovertemplate\": \"Common_words=%{y}<br>count=%{x}<extra></extra>\", \"legendgroup\": \"amp\", \"marker\": {\"color\": \"#636efa\"}, \"name\": \"amp\", \"offsetgroup\": \"amp\", \"orientation\": \"h\", \"showlegend\": true, \"textposition\": \"auto\", \"type\": \"bar\", \"x\": [634], \"xaxis\": \"x\", \"y\": [\"amp\"], \"yaxis\": \"y\"}, {\"alignmentgroup\": \"True\", \"hovertemplate\": \"Common_words=%{y}<br>count=%{x}<extra></extra>\", \"legendgroup\": \"johnson\", \"marker\": {\"color\": \"#EF553B\"}, \"name\": \"johnson\", \"offsetgroup\": \"johnson\", \"orientation\": \"h\", \"showlegend\": true, \"textposition\": \"auto\", \"type\": \"bar\", \"x\": [478], \"xaxis\": \"x\", \"y\": [\"johnson\"], \"yaxis\": \"y\"}, {\"alignmentgroup\": \"True\", \"hovertemplate\": \"Common_words=%{y}<br>count=%{x}<extra></extra>\", \"legendgroup\": \"ethicon\", \"marker\": {\"color\": \"#00cc96\"}, \"name\": \"ethicon\", \"offsetgroup\": \"ethicon\", \"orientation\": \"h\", \"showlegend\": true, \"textposition\": \"auto\", \"type\": \"bar\", \"x\": [300], \"xaxis\": \"x\", \"y\": [\"ethicon\"], \"yaxis\": \"y\"}, {\"alignmentgroup\": \"True\", \"hovertemplate\": \"Common_words=%{y}<br>count=%{x}<extra></extra>\", \"legendgroup\": \"bwi\", \"marker\": {\"color\": \"#ab63fa\"}, \"name\": \"bwi\", \"offsetgroup\": \"bwi\", \"orientation\": \"h\", \"showlegend\": true, \"textposition\": \"auto\", \"type\": \"bar\", \"x\": [269], \"xaxis\": \"x\", \"y\": [\"bwi\"], \"yaxis\": \"y\"}, {\"alignmentgroup\": \"True\", \"hovertemplate\": \"Common_words=%{y}<br>count=%{x}<extra></extra>\", \"legendgroup\": \"sol\", \"marker\": {\"color\": \"#FFA15A\"}, \"name\": \"sol\", \"offsetgroup\": \"sol\", \"orientation\": \"h\", \"showlegend\": true, \"textposition\": \"auto\", \"type\": \"bar\", \"x\": [254], \"xaxis\": \"x\", \"y\": [\"sol\"], \"yaxis\": \"y\"}, {\"alignmentgroup\": \"True\", \"hovertemplate\": \"Common_words=%{y}<br>count=%{x}<extra></extra>\", \"legendgroup\": \"pfe\", \"marker\": {\"color\": \"#19d3f3\"}, \"name\": \"pfe\", \"offsetgroup\": \"pfe\", \"orientation\": \"h\", \"showlegend\": true, \"textposition\": \"auto\", \"type\": \"bar\", \"x\": [242], \"xaxis\": \"x\", \"y\": [\"pfe\"], \"yaxis\": \"y\"}, {\"alignmentgroup\": \"True\", \"hovertemplate\": \"Common_words=%{y}<br>count=%{x}<extra></extra>\", \"legendgroup\": \"peopl\", \"marker\": {\"color\": \"#FF6692\"}, \"name\": \"peopl\", \"offsetgroup\": \"peopl\", \"orientation\": \"h\", \"showlegend\": true, \"textposition\": \"auto\", \"type\": \"bar\", \"x\": [237], \"xaxis\": \"x\", \"y\": [\"peopl\"], \"yaxis\": \"y\"}, {\"alignmentgroup\": \"True\", \"hovertemplate\": \"Common_words=%{y}<br>count=%{x}<extra></extra>\", \"legendgroup\": \"love\", \"marker\": {\"color\": \"#B6E880\"}, \"name\": \"love\", \"offsetgroup\": \"love\", \"orientation\": \"h\", \"showlegend\": true, \"textposition\": \"auto\", \"type\": \"bar\", \"x\": [232], \"xaxis\": \"x\", \"y\": [\"love\"], \"yaxis\": \"y\"}, {\"alignmentgroup\": \"True\", \"hovertemplate\": \"Common_words=%{y}<br>count=%{x}<extra></extra>\", \"legendgroup\": \"uon\", \"marker\": {\"color\": \"#FF97FF\"}, \"name\": \"uon\", \"offsetgroup\": \"uon\", \"orientation\": \"h\", \"showlegend\": true, \"textposition\": \"auto\", \"type\": \"bar\", \"x\": [231], \"xaxis\": \"x\", \"y\": [\"uon\"], \"yaxis\": \"y\"}, {\"alignmentgroup\": \"True\", \"hovertemplate\": \"Common_words=%{y}<br>count=%{x}<extra></extra>\", \"legendgroup\": \"nftart\", \"marker\": {\"color\": \"#FECB52\"}, \"name\": \"nftart\", \"offsetgroup\": \"nftart\", \"orientation\": \"h\", \"showlegend\": true, \"textposition\": \"auto\", \"type\": \"bar\", \"x\": [226], \"xaxis\": \"x\", \"y\": [\"nftart\"], \"yaxis\": \"y\"}, {\"alignmentgroup\": \"True\", \"hovertemplate\": \"Common_words=%{y}<br>count=%{x}<extra></extra>\", \"legendgroup\": \"time\", \"marker\": {\"color\": \"#636efa\"}, \"name\": \"time\", \"offsetgroup\": \"time\", \"orientation\": \"h\", \"showlegend\": true, \"textposition\": \"auto\", \"type\": \"bar\", \"x\": [223], \"xaxis\": \"x\", \"y\": [\"time\"], \"yaxis\": \"y\"}, {\"alignmentgroup\": \"True\", \"hovertemplate\": \"Common_words=%{y}<br>count=%{x}<extra></extra>\", \"legendgroup\": \"1\", \"marker\": {\"color\": \"#EF553B\"}, \"name\": \"1\", \"offsetgroup\": \"1\", \"orientation\": \"h\", \"showlegend\": true, \"textposition\": \"auto\", \"type\": \"bar\", \"x\": [222], \"xaxis\": \"x\", \"y\": [\"1\"], \"yaxis\": \"y\"}, {\"alignmentgroup\": \"True\", \"hovertemplate\": \"Common_words=%{y}<br>count=%{x}<extra></extra>\", \"legendgroup\": \"health\", \"marker\": {\"color\": \"#00cc96\"}, \"name\": \"health\", \"offsetgroup\": \"health\", \"orientation\": \"h\", \"showlegend\": true, \"textposition\": \"auto\", \"type\": \"bar\", \"x\": [217], \"xaxis\": \"x\", \"y\": [\"health\"], \"yaxis\": \"y\"}, {\"alignmentgroup\": \"True\", \"hovertemplate\": \"Common_words=%{y}<br>count=%{x}<extra></extra>\", \"legendgroup\": \"day\", \"marker\": {\"color\": \"#ab63fa\"}, \"name\": \"day\", \"offsetgroup\": \"day\", \"orientation\": \"h\", \"showlegend\": true, \"textposition\": \"auto\", \"type\": \"bar\", \"x\": [215], \"xaxis\": \"x\", \"y\": [\"day\"], \"yaxis\": \"y\"}, {\"alignmentgroup\": \"True\", \"hovertemplate\": \"Common_words=%{y}<br>count=%{x}<extra></extra>\", \"legendgroup\": \"get\", \"marker\": {\"color\": \"#FFA15A\"}, \"name\": \"get\", \"offsetgroup\": \"get\", \"orientation\": \"h\", \"showlegend\": true, \"textposition\": \"auto\", \"type\": \"bar\", \"x\": [215], \"xaxis\": \"x\", \"y\": [\"get\"], \"yaxis\": \"y\"}, {\"alignmentgroup\": \"True\", \"hovertemplate\": \"Common_words=%{y}<br>count=%{x}<extra></extra>\", \"legendgroup\": \"one\", \"marker\": {\"color\": \"#19d3f3\"}, \"name\": \"one\", \"offsetgroup\": \"one\", \"orientation\": \"h\", \"showlegend\": true, \"textposition\": \"auto\", \"type\": \"bar\", \"x\": [214], \"xaxis\": \"x\", \"y\": [\"one\"], \"yaxis\": \"y\"}, {\"alignmentgroup\": \"True\", \"hovertemplate\": \"Common_words=%{y}<br>count=%{x}<extra></extra>\", \"legendgroup\": \"jack\", \"marker\": {\"color\": \"#FF6692\"}, \"name\": \"jack\", \"offsetgroup\": \"jack\", \"orientation\": \"h\", \"showlegend\": true, \"textposition\": \"auto\", \"type\": \"bar\", \"x\": [211], \"xaxis\": \"x\", \"y\": [\"jack\"], \"yaxis\": \"y\"}, {\"alignmentgroup\": \"True\", \"hovertemplate\": \"Common_words=%{y}<br>count=%{x}<extra></extra>\", \"legendgroup\": \"thank\", \"marker\": {\"color\": \"#B6E880\"}, \"name\": \"thank\", \"offsetgroup\": \"thank\", \"orientation\": \"h\", \"showlegend\": true, \"textposition\": \"auto\", \"type\": \"bar\", \"x\": [208], \"xaxis\": \"x\", \"y\": [\"thank\"], \"yaxis\": \"y\"}, {\"alignmentgroup\": \"True\", \"hovertemplate\": \"Common_words=%{y}<br>count=%{x}<extra></extra>\", \"legendgroup\": \"jnjnew\", \"marker\": {\"color\": \"#FF97FF\"}, \"name\": \"jnjnew\", \"offsetgroup\": \"jnjnew\", \"orientation\": \"h\", \"showlegend\": true, \"textposition\": \"auto\", \"type\": \"bar\", \"x\": [200], \"xaxis\": \"x\", \"y\": [\"jnjnew\"], \"yaxis\": \"y\"}],                        {\"barmode\": \"relative\", \"height\": 700, \"legend\": {\"title\": {\"text\": \"Common_words\"}, \"tracegroupgap\": 0}, \"template\": {\"data\": {\"bar\": [{\"error_x\": {\"color\": \"#2a3f5f\"}, \"error_y\": {\"color\": \"#2a3f5f\"}, \"marker\": {\"line\": {\"color\": \"#E5ECF6\", \"width\": 0.5}}, \"type\": \"bar\"}], \"barpolar\": [{\"marker\": {\"line\": {\"color\": \"#E5ECF6\", \"width\": 0.5}}, \"type\": \"barpolar\"}], \"carpet\": [{\"aaxis\": {\"endlinecolor\": \"#2a3f5f\", \"gridcolor\": \"white\", \"linecolor\": \"white\", \"minorgridcolor\": \"white\", \"startlinecolor\": \"#2a3f5f\"}, \"baxis\": {\"endlinecolor\": \"#2a3f5f\", \"gridcolor\": \"white\", \"linecolor\": \"white\", \"minorgridcolor\": \"white\", \"startlinecolor\": \"#2a3f5f\"}, \"type\": \"carpet\"}], \"choropleth\": [{\"colorbar\": {\"outlinewidth\": 0, \"ticks\": \"\"}, \"type\": \"choropleth\"}], \"contour\": [{\"colorbar\": {\"outlinewidth\": 0, \"ticks\": \"\"}, \"colorscale\": [[0.0, \"#0d0887\"], [0.1111111111111111, \"#46039f\"], [0.2222222222222222, \"#7201a8\"], [0.3333333333333333, \"#9c179e\"], [0.4444444444444444, \"#bd3786\"], [0.5555555555555556, \"#d8576b\"], [0.6666666666666666, \"#ed7953\"], [0.7777777777777778, \"#fb9f3a\"], [0.8888888888888888, \"#fdca26\"], [1.0, \"#f0f921\"]], \"type\": \"contour\"}], \"contourcarpet\": [{\"colorbar\": {\"outlinewidth\": 0, \"ticks\": \"\"}, \"type\": \"contourcarpet\"}], \"heatmap\": [{\"colorbar\": {\"outlinewidth\": 0, \"ticks\": \"\"}, \"colorscale\": [[0.0, \"#0d0887\"], [0.1111111111111111, \"#46039f\"], [0.2222222222222222, \"#7201a8\"], [0.3333333333333333, \"#9c179e\"], [0.4444444444444444, \"#bd3786\"], [0.5555555555555556, \"#d8576b\"], [0.6666666666666666, \"#ed7953\"], [0.7777777777777778, \"#fb9f3a\"], [0.8888888888888888, \"#fdca26\"], [1.0, \"#f0f921\"]], \"type\": \"heatmap\"}], \"heatmapgl\": [{\"colorbar\": {\"outlinewidth\": 0, \"ticks\": \"\"}, \"colorscale\": [[0.0, \"#0d0887\"], [0.1111111111111111, \"#46039f\"], [0.2222222222222222, \"#7201a8\"], [0.3333333333333333, \"#9c179e\"], [0.4444444444444444, \"#bd3786\"], [0.5555555555555556, \"#d8576b\"], [0.6666666666666666, \"#ed7953\"], [0.7777777777777778, \"#fb9f3a\"], [0.8888888888888888, \"#fdca26\"], [1.0, \"#f0f921\"]], \"type\": \"heatmapgl\"}], \"histogram\": [{\"marker\": {\"colorbar\": {\"outlinewidth\": 0, \"ticks\": \"\"}}, \"type\": \"histogram\"}], \"histogram2d\": [{\"colorbar\": {\"outlinewidth\": 0, \"ticks\": \"\"}, \"colorscale\": [[0.0, \"#0d0887\"], [0.1111111111111111, \"#46039f\"], [0.2222222222222222, \"#7201a8\"], [0.3333333333333333, \"#9c179e\"], [0.4444444444444444, \"#bd3786\"], [0.5555555555555556, \"#d8576b\"], [0.6666666666666666, \"#ed7953\"], [0.7777777777777778, \"#fb9f3a\"], [0.8888888888888888, \"#fdca26\"], [1.0, \"#f0f921\"]], \"type\": \"histogram2d\"}], \"histogram2dcontour\": [{\"colorbar\": {\"outlinewidth\": 0, \"ticks\": \"\"}, \"colorscale\": [[0.0, \"#0d0887\"], [0.1111111111111111, \"#46039f\"], [0.2222222222222222, \"#7201a8\"], [0.3333333333333333, \"#9c179e\"], [0.4444444444444444, \"#bd3786\"], [0.5555555555555556, \"#d8576b\"], [0.6666666666666666, \"#ed7953\"], [0.7777777777777778, \"#fb9f3a\"], [0.8888888888888888, \"#fdca26\"], [1.0, \"#f0f921\"]], \"type\": \"histogram2dcontour\"}], \"mesh3d\": [{\"colorbar\": {\"outlinewidth\": 0, \"ticks\": \"\"}, \"type\": \"mesh3d\"}], \"parcoords\": [{\"line\": {\"colorbar\": {\"outlinewidth\": 0, \"ticks\": \"\"}}, \"type\": \"parcoords\"}], \"pie\": [{\"automargin\": true, \"type\": \"pie\"}], \"scatter\": [{\"marker\": {\"colorbar\": {\"outlinewidth\": 0, \"ticks\": \"\"}}, \"type\": \"scatter\"}], \"scatter3d\": [{\"line\": {\"colorbar\": {\"outlinewidth\": 0, \"ticks\": \"\"}}, \"marker\": {\"colorbar\": {\"outlinewidth\": 0, \"ticks\": \"\"}}, \"type\": \"scatter3d\"}], \"scattercarpet\": [{\"marker\": {\"colorbar\": {\"outlinewidth\": 0, \"ticks\": \"\"}}, \"type\": \"scattercarpet\"}], \"scattergeo\": [{\"marker\": {\"colorbar\": {\"outlinewidth\": 0, \"ticks\": \"\"}}, \"type\": \"scattergeo\"}], \"scattergl\": [{\"marker\": {\"colorbar\": {\"outlinewidth\": 0, \"ticks\": \"\"}}, \"type\": \"scattergl\"}], \"scattermapbox\": [{\"marker\": {\"colorbar\": {\"outlinewidth\": 0, \"ticks\": \"\"}}, \"type\": \"scattermapbox\"}], \"scatterpolar\": [{\"marker\": {\"colorbar\": {\"outlinewidth\": 0, \"ticks\": \"\"}}, \"type\": \"scatterpolar\"}], \"scatterpolargl\": [{\"marker\": {\"colorbar\": {\"outlinewidth\": 0, \"ticks\": \"\"}}, \"type\": \"scatterpolargl\"}], \"scatterternary\": [{\"marker\": {\"colorbar\": {\"outlinewidth\": 0, \"ticks\": \"\"}}, \"type\": \"scatterternary\"}], \"surface\": [{\"colorbar\": {\"outlinewidth\": 0, \"ticks\": \"\"}, \"colorscale\": [[0.0, \"#0d0887\"], [0.1111111111111111, \"#46039f\"], [0.2222222222222222, \"#7201a8\"], [0.3333333333333333, \"#9c179e\"], [0.4444444444444444, \"#bd3786\"], [0.5555555555555556, \"#d8576b\"], [0.6666666666666666, \"#ed7953\"], [0.7777777777777778, \"#fb9f3a\"], [0.8888888888888888, \"#fdca26\"], [1.0, \"#f0f921\"]], \"type\": \"surface\"}], \"table\": [{\"cells\": {\"fill\": {\"color\": \"#EBF0F8\"}, \"line\": {\"color\": \"white\"}}, \"header\": {\"fill\": {\"color\": \"#C8D4E3\"}, \"line\": {\"color\": \"white\"}}, \"type\": \"table\"}]}, \"layout\": {\"annotationdefaults\": {\"arrowcolor\": \"#2a3f5f\", \"arrowhead\": 0, \"arrowwidth\": 1}, \"coloraxis\": {\"colorbar\": {\"outlinewidth\": 0, \"ticks\": \"\"}}, \"colorscale\": {\"diverging\": [[0, \"#8e0152\"], [0.1, \"#c51b7d\"], [0.2, \"#de77ae\"], [0.3, \"#f1b6da\"], [0.4, \"#fde0ef\"], [0.5, \"#f7f7f7\"], [0.6, \"#e6f5d0\"], [0.7, \"#b8e186\"], [0.8, \"#7fbc41\"], [0.9, \"#4d9221\"], [1, \"#276419\"]], \"sequential\": [[0.0, \"#0d0887\"], [0.1111111111111111, \"#46039f\"], [0.2222222222222222, \"#7201a8\"], [0.3333333333333333, \"#9c179e\"], [0.4444444444444444, \"#bd3786\"], [0.5555555555555556, \"#d8576b\"], [0.6666666666666666, \"#ed7953\"], [0.7777777777777778, \"#fb9f3a\"], [0.8888888888888888, \"#fdca26\"], [1.0, \"#f0f921\"]], \"sequentialminus\": [[0.0, \"#0d0887\"], [0.1111111111111111, \"#46039f\"], [0.2222222222222222, \"#7201a8\"], [0.3333333333333333, \"#9c179e\"], [0.4444444444444444, \"#bd3786\"], [0.5555555555555556, \"#d8576b\"], [0.6666666666666666, \"#ed7953\"], [0.7777777777777778, \"#fb9f3a\"], [0.8888888888888888, \"#fdca26\"], [1.0, \"#f0f921\"]]}, \"colorway\": [\"#636efa\", \"#EF553B\", \"#00cc96\", \"#ab63fa\", \"#FFA15A\", \"#19d3f3\", \"#FF6692\", \"#B6E880\", \"#FF97FF\", \"#FECB52\"], \"font\": {\"color\": \"#2a3f5f\"}, \"geo\": {\"bgcolor\": \"white\", \"lakecolor\": \"white\", \"landcolor\": \"#E5ECF6\", \"showlakes\": true, \"showland\": true, \"subunitcolor\": \"white\"}, \"hoverlabel\": {\"align\": \"left\"}, \"hovermode\": \"closest\", \"mapbox\": {\"style\": \"light\"}, \"paper_bgcolor\": \"white\", \"plot_bgcolor\": \"#E5ECF6\", \"polar\": {\"angularaxis\": {\"gridcolor\": \"white\", \"linecolor\": \"white\", \"ticks\": \"\"}, \"bgcolor\": \"#E5ECF6\", \"radialaxis\": {\"gridcolor\": \"white\", \"linecolor\": \"white\", \"ticks\": \"\"}}, \"scene\": {\"xaxis\": {\"backgroundcolor\": \"#E5ECF6\", \"gridcolor\": \"white\", \"gridwidth\": 2, \"linecolor\": \"white\", \"showbackground\": true, \"ticks\": \"\", \"zerolinecolor\": \"white\"}, \"yaxis\": {\"backgroundcolor\": \"#E5ECF6\", \"gridcolor\": \"white\", \"gridwidth\": 2, \"linecolor\": \"white\", \"showbackground\": true, \"ticks\": \"\", \"zerolinecolor\": \"white\"}, \"zaxis\": {\"backgroundcolor\": \"#E5ECF6\", \"gridcolor\": \"white\", \"gridwidth\": 2, \"linecolor\": \"white\", \"showbackground\": true, \"ticks\": \"\", \"zerolinecolor\": \"white\"}}, \"shapedefaults\": {\"line\": {\"color\": \"#2a3f5f\"}}, \"ternary\": {\"aaxis\": {\"gridcolor\": \"white\", \"linecolor\": \"white\", \"ticks\": \"\"}, \"baxis\": {\"gridcolor\": \"white\", \"linecolor\": \"white\", \"ticks\": \"\"}, \"bgcolor\": \"#E5ECF6\", \"caxis\": {\"gridcolor\": \"white\", \"linecolor\": \"white\", \"ticks\": \"\"}}, \"title\": {\"x\": 0.05}, \"xaxis\": {\"automargin\": true, \"gridcolor\": \"white\", \"linecolor\": \"white\", \"ticks\": \"\", \"title\": {\"standoff\": 15}, \"zerolinecolor\": \"white\", \"zerolinewidth\": 2}, \"yaxis\": {\"automargin\": true, \"gridcolor\": \"white\", \"linecolor\": \"white\", \"ticks\": \"\", \"title\": {\"standoff\": 15}, \"zerolinecolor\": \"white\", \"zerolinewidth\": 2}}}, \"title\": {\"text\": \" common words in tweets not about medical device\"}, \"width\": 700, \"xaxis\": {\"anchor\": \"y\", \"domain\": [0.0, 1.0], \"title\": {\"text\": \"count\"}}, \"yaxis\": {\"anchor\": \"x\", \"categoryarray\": [\"jnjnew\", \"thank\", \"jack\", \"one\", \"get\", \"day\", \"health\", \"1\", \"time\", \"nftart\", \"uon\", \"love\", \"peopl\", \"pfe\", \"sol\", \"bwi\", \"ethicon\", \"johnson\", \"amp\"], \"categoryorder\": \"array\", \"domain\": [0.0, 1.0], \"title\": {\"text\": \"Common_words\"}}},                        {\"responsive\": true}                    ).then(function(){\n",
       "                            \n",
       "var gd = document.getElementById('18fb9b91-1d0d-4e06-bcd2-e11cb1499c6b');\n",
       "var x = new MutationObserver(function (mutations, observer) {{\n",
       "        var display = window.getComputedStyle(gd).display;\n",
       "        if (!display || display === 'none') {{\n",
       "            console.log([gd, 'removed!']);\n",
       "            Plotly.purge(gd);\n",
       "            observer.disconnect();\n",
       "        }}\n",
       "}});\n",
       "\n",
       "// Listen for the removal of the full notebook cells\n",
       "var notebookContainer = gd.closest('#notebook-container');\n",
       "if (notebookContainer) {{\n",
       "    x.observe(notebookContainer, {childList: true});\n",
       "}}\n",
       "\n",
       "// Listen for the clearing of the current output cell\n",
       "var outputEl = gd.closest('.output');\n",
       "if (outputEl) {{\n",
       "    x.observe(outputEl, {childList: true});\n",
       "}}\n",
       "\n",
       "                        })                };                });            </script>        </div>"
      ]
     },
     "metadata": {},
     "output_type": "display_data"
    }
   ],
   "source": [
    "fig = px.bar(temp_negative, x=\"count\", y=\"Common_words\",  title= ' common words in tweets not about medical device',orientation='h', \n",
    "             width=700, height=700,color='Common_words')\n",
    "fig.show()"
   ]
  },
  {
   "cell_type": "code",
   "execution_count": 204,
   "metadata": {},
   "outputs": [],
   "source": [
    "tweets['temp_list1'] = tweets['text2'].apply(lambda x:str(x).split()) #List of words in every row for text text_preprocess\n",
    "tweets['temp_list1'] = tweets['temp_list1'].apply(lambda x:remove_stopword(x)) #Removing Stopwords"
   ]
  },
  {
   "cell_type": "code",
   "execution_count": 210,
   "metadata": {},
   "outputs": [],
   "source": [
    "raw_text = [word for word_list in tweets['temp_list3'] for word in word_list]"
   ]
  },
  {
   "cell_type": "code",
   "execution_count": 211,
   "metadata": {},
   "outputs": [],
   "source": [
    "def words_unique(sentiment,numwords,raw_words):\n",
    "    '''\n",
    "    Input:\n",
    "        segment - Segment category (ex. 'Neutral');\n",
    "        numwords - how many specific words do you want to see in the final result; \n",
    "        raw_words - list  for item in train_data[train_data.segments == segments]['temp_list1']:\n",
    "    Output: \n",
    "        dataframe giving information about the name of the specific ingredient and how many times it occurs in the chosen cuisine (in descending order based on their counts)..\n",
    "\n",
    "    '''\n",
    "    allother = []\n",
    "    for item in tweets[tweets.medical_device != sentiment]['temp_list1']:\n",
    "        for word in item:\n",
    "            allother .append(word)\n",
    "    allother  = list(set(allother ))\n",
    "    \n",
    "    specificnonly = [x for x in raw_text if x not in allother]\n",
    "    \n",
    "    mycounter = Counter()\n",
    "    \n",
    "    for item in tweets[tweets.medical_device == sentiment]['temp_list1']:\n",
    "        for word in item:\n",
    "            mycounter[word] += 1\n",
    "    keep = list(specificnonly)\n",
    "    \n",
    "    for word in list(mycounter):\n",
    "        if word not in keep:\n",
    "            del mycounter[word]\n",
    "    \n",
    "    Unique_words = pd.DataFrame(mycounter.most_common(numwords), columns = ['words','count'])\n",
    "    \n",
    "    return Unique_words"
   ]
  },
  {
   "cell_type": "code",
   "execution_count": 212,
   "metadata": {},
   "outputs": [
    {
     "name": "stdout",
     "output_type": "stream",
     "text": [
      "The top 20 unique words in Positive Tweets are:\n"
     ]
    },
    {
     "data": {
      "text/html": [
       "<style  type=\"text/css\" >\n",
       "    #T_b9bfe056_a0bb_11ec_b6b1_acde48001122row0_col1 {\n",
       "            background-color:  #00441b;\n",
       "            color:  #f1f1f1;\n",
       "        }    #T_b9bfe056_a0bb_11ec_b6b1_acde48001122row1_col1 {\n",
       "            background-color:  #edf8e9;\n",
       "            color:  #000000;\n",
       "        }    #T_b9bfe056_a0bb_11ec_b6b1_acde48001122row2_col1 {\n",
       "            background-color:  #eff9ec;\n",
       "            color:  #000000;\n",
       "        }    #T_b9bfe056_a0bb_11ec_b6b1_acde48001122row3_col1 {\n",
       "            background-color:  #f0f9ed;\n",
       "            color:  #000000;\n",
       "        }    #T_b9bfe056_a0bb_11ec_b6b1_acde48001122row4_col1 {\n",
       "            background-color:  #f1faee;\n",
       "            color:  #000000;\n",
       "        }    #T_b9bfe056_a0bb_11ec_b6b1_acde48001122row5_col1 {\n",
       "            background-color:  #f1faee;\n",
       "            color:  #000000;\n",
       "        }    #T_b9bfe056_a0bb_11ec_b6b1_acde48001122row6_col1 {\n",
       "            background-color:  #f1faee;\n",
       "            color:  #000000;\n",
       "        }    #T_b9bfe056_a0bb_11ec_b6b1_acde48001122row7_col1 {\n",
       "            background-color:  #f2faf0;\n",
       "            color:  #000000;\n",
       "        }    #T_b9bfe056_a0bb_11ec_b6b1_acde48001122row8_col1 {\n",
       "            background-color:  #f5fbf2;\n",
       "            color:  #000000;\n",
       "        }    #T_b9bfe056_a0bb_11ec_b6b1_acde48001122row9_col1 {\n",
       "            background-color:  #f5fbf2;\n",
       "            color:  #000000;\n",
       "        }    #T_b9bfe056_a0bb_11ec_b6b1_acde48001122row10_col1 {\n",
       "            background-color:  #f5fbf2;\n",
       "            color:  #000000;\n",
       "        }    #T_b9bfe056_a0bb_11ec_b6b1_acde48001122row11_col1 {\n",
       "            background-color:  #f5fbf2;\n",
       "            color:  #000000;\n",
       "        }    #T_b9bfe056_a0bb_11ec_b6b1_acde48001122row12_col1 {\n",
       "            background-color:  #f6fcf4;\n",
       "            color:  #000000;\n",
       "        }    #T_b9bfe056_a0bb_11ec_b6b1_acde48001122row13_col1 {\n",
       "            background-color:  #f7fcf5;\n",
       "            color:  #000000;\n",
       "        }    #T_b9bfe056_a0bb_11ec_b6b1_acde48001122row14_col1 {\n",
       "            background-color:  #f7fcf5;\n",
       "            color:  #000000;\n",
       "        }    #T_b9bfe056_a0bb_11ec_b6b1_acde48001122row15_col1 {\n",
       "            background-color:  #f7fcf5;\n",
       "            color:  #000000;\n",
       "        }    #T_b9bfe056_a0bb_11ec_b6b1_acde48001122row16_col1 {\n",
       "            background-color:  #f7fcf5;\n",
       "            color:  #000000;\n",
       "        }    #T_b9bfe056_a0bb_11ec_b6b1_acde48001122row17_col1 {\n",
       "            background-color:  #f7fcf5;\n",
       "            color:  #000000;\n",
       "        }    #T_b9bfe056_a0bb_11ec_b6b1_acde48001122row18_col1 {\n",
       "            background-color:  #f7fcf5;\n",
       "            color:  #000000;\n",
       "        }    #T_b9bfe056_a0bb_11ec_b6b1_acde48001122row19_col1 {\n",
       "            background-color:  #f7fcf5;\n",
       "            color:  #000000;\n",
       "        }</style><table id=\"T_b9bfe056_a0bb_11ec_b6b1_acde48001122\" ><thead>    <tr>        <th class=\"blank level0\" ></th>        <th class=\"col_heading level0 col0\" >words</th>        <th class=\"col_heading level0 col1\" >count</th>    </tr></thead><tbody>\n",
       "                <tr>\n",
       "                        <th id=\"T_b9bfe056_a0bb_11ec_b6b1_acde48001122level0_row0\" class=\"row_heading level0 row0\" >0</th>\n",
       "                        <td id=\"T_b9bfe056_a0bb_11ec_b6b1_acde48001122row0_col0\" class=\"data row0 col0\" >mesh</td>\n",
       "                        <td id=\"T_b9bfe056_a0bb_11ec_b6b1_acde48001122row0_col1\" class=\"data row0 col1\" >130</td>\n",
       "            </tr>\n",
       "            <tr>\n",
       "                        <th id=\"T_b9bfe056_a0bb_11ec_b6b1_acde48001122level0_row1\" class=\"row_heading level0 row1\" >1</th>\n",
       "                        <td id=\"T_b9bfe056_a0bb_11ec_b6b1_acde48001122row1_col0\" class=\"data row1 col0\" >stapler</td>\n",
       "                        <td id=\"T_b9bfe056_a0bb_11ec_b6b1_acde48001122row1_col1\" class=\"data row1 col1\" >15</td>\n",
       "            </tr>\n",
       "            <tr>\n",
       "                        <th id=\"T_b9bfe056_a0bb_11ec_b6b1_acde48001122level0_row2\" class=\"row_heading level0 row2\" >2</th>\n",
       "                        <td id=\"T_b9bfe056_a0bb_11ec_b6b1_acde48001122row2_col0\" class=\"data row2 col0\" >echelon</td>\n",
       "                        <td id=\"T_b9bfe056_a0bb_11ec_b6b1_acde48001122row2_col1\" class=\"data row2 col1\" >13</td>\n",
       "            </tr>\n",
       "            <tr>\n",
       "                        <th id=\"T_b9bfe056_a0bb_11ec_b6b1_acde48001122level0_row3\" class=\"row_heading level0 row3\" >3</th>\n",
       "                        <td id=\"T_b9bfe056_a0bb_11ec_b6b1_acde48001122row3_col0\" class=\"data row3 col0\" >sf</td>\n",
       "                        <td id=\"T_b9bfe056_a0bb_11ec_b6b1_acde48001122row3_col1\" class=\"data row3 col1\" >12</td>\n",
       "            </tr>\n",
       "            <tr>\n",
       "                        <th id=\"T_b9bfe056_a0bb_11ec_b6b1_acde48001122level0_row4\" class=\"row_heading level0 row4\" >4</th>\n",
       "                        <td id=\"T_b9bfe056_a0bb_11ec_b6b1_acde48001122row4_col0\" class=\"data row4 col0\" >transvagin</td>\n",
       "                        <td id=\"T_b9bfe056_a0bb_11ec_b6b1_acde48001122row4_col1\" class=\"data row4 col1\" >11</td>\n",
       "            </tr>\n",
       "            <tr>\n",
       "                        <th id=\"T_b9bfe056_a0bb_11ec_b6b1_acde48001122level0_row5\" class=\"row_heading level0 row5\" >5</th>\n",
       "                        <td id=\"T_b9bfe056_a0bb_11ec_b6b1_acde48001122row5_col0\" class=\"data row5 col0\" >thermocool</td>\n",
       "                        <td id=\"T_b9bfe056_a0bb_11ec_b6b1_acde48001122row5_col1\" class=\"data row5 col1\" >11</td>\n",
       "            </tr>\n",
       "            <tr>\n",
       "                        <th id=\"T_b9bfe056_a0bb_11ec_b6b1_acde48001122level0_row6\" class=\"row_heading level0 row6\" >6</th>\n",
       "                        <td id=\"T_b9bfe056_a0bb_11ec_b6b1_acde48001122row6_col0\" class=\"data row6 col0\" >smarttouch</td>\n",
       "                        <td id=\"T_b9bfe056_a0bb_11ec_b6b1_acde48001122row6_col1\" class=\"data row6 col1\" >11</td>\n",
       "            </tr>\n",
       "            <tr>\n",
       "                        <th id=\"T_b9bfe056_a0bb_11ec_b6b1_acde48001122level0_row7\" class=\"row_heading level0 row7\" >7</th>\n",
       "                        <td id=\"T_b9bfe056_a0bb_11ec_b6b1_acde48001122row7_col0\" class=\"data row7 col0\" >vagin</td>\n",
       "                        <td id=\"T_b9bfe056_a0bb_11ec_b6b1_acde48001122row7_col1\" class=\"data row7 col1\" >10</td>\n",
       "            </tr>\n",
       "            <tr>\n",
       "                        <th id=\"T_b9bfe056_a0bb_11ec_b6b1_acde48001122level0_row8\" class=\"row_heading level0 row8\" >8</th>\n",
       "                        <td id=\"T_b9bfe056_a0bb_11ec_b6b1_acde48001122row8_col0\" class=\"data row8 col0\" >hip</td>\n",
       "                        <td id=\"T_b9bfe056_a0bb_11ec_b6b1_acde48001122row8_col1\" class=\"data row8 col1\" >8</td>\n",
       "            </tr>\n",
       "            <tr>\n",
       "                        <th id=\"T_b9bfe056_a0bb_11ec_b6b1_acde48001122level0_row9\" class=\"row_heading level0 row9\" >9</th>\n",
       "                        <td id=\"T_b9bfe056_a0bb_11ec_b6b1_acde48001122row9_col0\" class=\"data row9 col0\" >bard</td>\n",
       "                        <td id=\"T_b9bfe056_a0bb_11ec_b6b1_acde48001122row9_col1\" class=\"data row9 col1\" >8</td>\n",
       "            </tr>\n",
       "            <tr>\n",
       "                        <th id=\"T_b9bfe056_a0bb_11ec_b6b1_acde48001122level0_row10\" class=\"row_heading level0 row10\" >10</th>\n",
       "                        <td id=\"T_b9bfe056_a0bb_11ec_b6b1_acde48001122row10_col0\" class=\"data row10 col0\" >awschat</td>\n",
       "                        <td id=\"T_b9bfe056_a0bb_11ec_b6b1_acde48001122row10_col1\" class=\"data row10 col1\" >8</td>\n",
       "            </tr>\n",
       "            <tr>\n",
       "                        <th id=\"T_b9bfe056_a0bb_11ec_b6b1_acde48001122level0_row11\" class=\"row_heading level0 row11\" >11</th>\n",
       "                        <td id=\"T_b9bfe056_a0bb_11ec_b6b1_acde48001122row11_col0\" class=\"data row11 col0\" >prolift</td>\n",
       "                        <td id=\"T_b9bfe056_a0bb_11ec_b6b1_acde48001122row11_col1\" class=\"data row11 col1\" >8</td>\n",
       "            </tr>\n",
       "            <tr>\n",
       "                        <th id=\"T_b9bfe056_a0bb_11ec_b6b1_acde48001122level0_row12\" class=\"row_heading level0 row12\" >12</th>\n",
       "                        <td id=\"T_b9bfe056_a0bb_11ec_b6b1_acde48001122row12_col0\" class=\"data row12 col0\" >vicryl</td>\n",
       "                        <td id=\"T_b9bfe056_a0bb_11ec_b6b1_acde48001122row12_col1\" class=\"data row12 col1\" >7</td>\n",
       "            </tr>\n",
       "            <tr>\n",
       "                        <th id=\"T_b9bfe056_a0bb_11ec_b6b1_acde48001122level0_row13\" class=\"row_heading level0 row13\" >13</th>\n",
       "                        <td id=\"T_b9bfe056_a0bb_11ec_b6b1_acde48001122row13_col0\" class=\"data row13 col0\" >defect</td>\n",
       "                        <td id=\"T_b9bfe056_a0bb_11ec_b6b1_acde48001122row13_col1\" class=\"data row13 col1\" >6</td>\n",
       "            </tr>\n",
       "            <tr>\n",
       "                        <th id=\"T_b9bfe056_a0bb_11ec_b6b1_acde48001122level0_row14\" class=\"row_heading level0 row14\" >14</th>\n",
       "                        <td id=\"T_b9bfe056_a0bb_11ec_b6b1_acde48001122row14_col0\" class=\"data row14 col0\" >sharjah</td>\n",
       "                        <td id=\"T_b9bfe056_a0bb_11ec_b6b1_acde48001122row14_col1\" class=\"data row14 col1\" >6</td>\n",
       "            </tr>\n",
       "            <tr>\n",
       "                        <th id=\"T_b9bfe056_a0bb_11ec_b6b1_acde48001122level0_row15\" class=\"row_heading level0 row15\" >15</th>\n",
       "                        <td id=\"T_b9bfe056_a0bb_11ec_b6b1_acde48001122row15_col0\" class=\"data row15 col0\" >ergonom</td>\n",
       "                        <td id=\"T_b9bfe056_a0bb_11ec_b6b1_acde48001122row15_col1\" class=\"data row15 col1\" >6</td>\n",
       "            </tr>\n",
       "            <tr>\n",
       "                        <th id=\"T_b9bfe056_a0bb_11ec_b6b1_acde48001122level0_row16\" class=\"row_heading level0 row16\" >16</th>\n",
       "                        <td id=\"T_b9bfe056_a0bb_11ec_b6b1_acde48001122row16_col0\" class=\"data row16 col0\" >microwav</td>\n",
       "                        <td id=\"T_b9bfe056_a0bb_11ec_b6b1_acde48001122row16_col1\" class=\"data row16 col1\" >6</td>\n",
       "            </tr>\n",
       "            <tr>\n",
       "                        <th id=\"T_b9bfe056_a0bb_11ec_b6b1_acde48001122level0_row17\" class=\"row_heading level0 row17\" >17</th>\n",
       "                        <td id=\"T_b9bfe056_a0bb_11ec_b6b1_acde48001122row17_col0\" class=\"data row17 col0\" >linx</td>\n",
       "                        <td id=\"T_b9bfe056_a0bb_11ec_b6b1_acde48001122row17_col1\" class=\"data row17 col1\" >6</td>\n",
       "            </tr>\n",
       "            <tr>\n",
       "                        <th id=\"T_b9bfe056_a0bb_11ec_b6b1_acde48001122level0_row18\" class=\"row_heading level0 row18\" >18</th>\n",
       "                        <td id=\"T_b9bfe056_a0bb_11ec_b6b1_acde48001122row18_col0\" class=\"data row18 col0\" >optic</td>\n",
       "                        <td id=\"T_b9bfe056_a0bb_11ec_b6b1_acde48001122row18_col1\" class=\"data row18 col1\" >6</td>\n",
       "            </tr>\n",
       "            <tr>\n",
       "                        <th id=\"T_b9bfe056_a0bb_11ec_b6b1_acde48001122level0_row19\" class=\"row_heading level0 row19\" >19</th>\n",
       "                        <td id=\"T_b9bfe056_a0bb_11ec_b6b1_acde48001122row19_col0\" class=\"data row19 col0\" >experiment</td>\n",
       "                        <td id=\"T_b9bfe056_a0bb_11ec_b6b1_acde48001122row19_col1\" class=\"data row19 col1\" >6</td>\n",
       "            </tr>\n",
       "    </tbody></table>"
      ],
      "text/plain": [
       "<pandas.io.formats.style.Styler at 0x7fdc134a0890>"
      ]
     },
     "execution_count": 212,
     "metadata": {},
     "output_type": "execute_result"
    }
   ],
   "source": [
    "Unique_Positive= words_unique(True, 20, raw_text)\n",
    "print(\"The top 20 unique words in Positive Tweets are:\")\n",
    "Unique_Positive.style.background_gradient(cmap='Greens')"
   ]
  },
  {
   "cell_type": "code",
   "execution_count": 213,
   "metadata": {},
   "outputs": [
    {
     "data": {
      "application/vnd.plotly.v1+json": {
       "config": {
        "plotlyServerURL": "https://plot.ly"
       },
       "data": [
        {
         "branchvalues": "total",
         "domain": {
          "x": [
           0,
           1
          ],
          "y": [
           0,
           1
          ]
         },
         "hovertemplate": "labels=%{label}<br>count=%{value}<br>parent=%{parent}<br>id=%{id}<extra></extra>",
         "ids": [
          "awschat",
          "bard",
          "defect",
          "echelon",
          "ergonom",
          "experiment",
          "hip",
          "linx",
          "mesh",
          "microwav",
          "optic",
          "prolift",
          "sf",
          "sharjah",
          "smarttouch",
          "stapler",
          "thermocool",
          "transvagin",
          "vagin",
          "vicryl"
         ],
         "labels": [
          "awschat",
          "bard",
          "defect",
          "echelon",
          "ergonom",
          "experiment",
          "hip",
          "linx",
          "mesh",
          "microwav",
          "optic",
          "prolift",
          "sf",
          "sharjah",
          "smarttouch",
          "stapler",
          "thermocool",
          "transvagin",
          "vagin",
          "vicryl"
         ],
         "name": "",
         "parents": [
          "",
          "",
          "",
          "",
          "",
          "",
          "",
          "",
          "",
          "",
          "",
          "",
          "",
          "",
          "",
          "",
          "",
          "",
          "",
          ""
         ],
         "type": "treemap",
         "values": [
          8,
          8,
          6,
          13,
          6,
          6,
          8,
          6,
          130,
          6,
          6,
          8,
          12,
          6,
          11,
          15,
          11,
          11,
          10,
          7
         ]
        }
       ],
       "layout": {
        "legend": {
         "tracegroupgap": 0
        },
        "template": {
         "data": {
          "bar": [
           {
            "error_x": {
             "color": "#2a3f5f"
            },
            "error_y": {
             "color": "#2a3f5f"
            },
            "marker": {
             "line": {
              "color": "#E5ECF6",
              "width": 0.5
             }
            },
            "type": "bar"
           }
          ],
          "barpolar": [
           {
            "marker": {
             "line": {
              "color": "#E5ECF6",
              "width": 0.5
             }
            },
            "type": "barpolar"
           }
          ],
          "carpet": [
           {
            "aaxis": {
             "endlinecolor": "#2a3f5f",
             "gridcolor": "white",
             "linecolor": "white",
             "minorgridcolor": "white",
             "startlinecolor": "#2a3f5f"
            },
            "baxis": {
             "endlinecolor": "#2a3f5f",
             "gridcolor": "white",
             "linecolor": "white",
             "minorgridcolor": "white",
             "startlinecolor": "#2a3f5f"
            },
            "type": "carpet"
           }
          ],
          "choropleth": [
           {
            "colorbar": {
             "outlinewidth": 0,
             "ticks": ""
            },
            "type": "choropleth"
           }
          ],
          "contour": [
           {
            "colorbar": {
             "outlinewidth": 0,
             "ticks": ""
            },
            "colorscale": [
             [
              0,
              "#0d0887"
             ],
             [
              0.1111111111111111,
              "#46039f"
             ],
             [
              0.2222222222222222,
              "#7201a8"
             ],
             [
              0.3333333333333333,
              "#9c179e"
             ],
             [
              0.4444444444444444,
              "#bd3786"
             ],
             [
              0.5555555555555556,
              "#d8576b"
             ],
             [
              0.6666666666666666,
              "#ed7953"
             ],
             [
              0.7777777777777778,
              "#fb9f3a"
             ],
             [
              0.8888888888888888,
              "#fdca26"
             ],
             [
              1,
              "#f0f921"
             ]
            ],
            "type": "contour"
           }
          ],
          "contourcarpet": [
           {
            "colorbar": {
             "outlinewidth": 0,
             "ticks": ""
            },
            "type": "contourcarpet"
           }
          ],
          "heatmap": [
           {
            "colorbar": {
             "outlinewidth": 0,
             "ticks": ""
            },
            "colorscale": [
             [
              0,
              "#0d0887"
             ],
             [
              0.1111111111111111,
              "#46039f"
             ],
             [
              0.2222222222222222,
              "#7201a8"
             ],
             [
              0.3333333333333333,
              "#9c179e"
             ],
             [
              0.4444444444444444,
              "#bd3786"
             ],
             [
              0.5555555555555556,
              "#d8576b"
             ],
             [
              0.6666666666666666,
              "#ed7953"
             ],
             [
              0.7777777777777778,
              "#fb9f3a"
             ],
             [
              0.8888888888888888,
              "#fdca26"
             ],
             [
              1,
              "#f0f921"
             ]
            ],
            "type": "heatmap"
           }
          ],
          "heatmapgl": [
           {
            "colorbar": {
             "outlinewidth": 0,
             "ticks": ""
            },
            "colorscale": [
             [
              0,
              "#0d0887"
             ],
             [
              0.1111111111111111,
              "#46039f"
             ],
             [
              0.2222222222222222,
              "#7201a8"
             ],
             [
              0.3333333333333333,
              "#9c179e"
             ],
             [
              0.4444444444444444,
              "#bd3786"
             ],
             [
              0.5555555555555556,
              "#d8576b"
             ],
             [
              0.6666666666666666,
              "#ed7953"
             ],
             [
              0.7777777777777778,
              "#fb9f3a"
             ],
             [
              0.8888888888888888,
              "#fdca26"
             ],
             [
              1,
              "#f0f921"
             ]
            ],
            "type": "heatmapgl"
           }
          ],
          "histogram": [
           {
            "marker": {
             "colorbar": {
              "outlinewidth": 0,
              "ticks": ""
             }
            },
            "type": "histogram"
           }
          ],
          "histogram2d": [
           {
            "colorbar": {
             "outlinewidth": 0,
             "ticks": ""
            },
            "colorscale": [
             [
              0,
              "#0d0887"
             ],
             [
              0.1111111111111111,
              "#46039f"
             ],
             [
              0.2222222222222222,
              "#7201a8"
             ],
             [
              0.3333333333333333,
              "#9c179e"
             ],
             [
              0.4444444444444444,
              "#bd3786"
             ],
             [
              0.5555555555555556,
              "#d8576b"
             ],
             [
              0.6666666666666666,
              "#ed7953"
             ],
             [
              0.7777777777777778,
              "#fb9f3a"
             ],
             [
              0.8888888888888888,
              "#fdca26"
             ],
             [
              1,
              "#f0f921"
             ]
            ],
            "type": "histogram2d"
           }
          ],
          "histogram2dcontour": [
           {
            "colorbar": {
             "outlinewidth": 0,
             "ticks": ""
            },
            "colorscale": [
             [
              0,
              "#0d0887"
             ],
             [
              0.1111111111111111,
              "#46039f"
             ],
             [
              0.2222222222222222,
              "#7201a8"
             ],
             [
              0.3333333333333333,
              "#9c179e"
             ],
             [
              0.4444444444444444,
              "#bd3786"
             ],
             [
              0.5555555555555556,
              "#d8576b"
             ],
             [
              0.6666666666666666,
              "#ed7953"
             ],
             [
              0.7777777777777778,
              "#fb9f3a"
             ],
             [
              0.8888888888888888,
              "#fdca26"
             ],
             [
              1,
              "#f0f921"
             ]
            ],
            "type": "histogram2dcontour"
           }
          ],
          "mesh3d": [
           {
            "colorbar": {
             "outlinewidth": 0,
             "ticks": ""
            },
            "type": "mesh3d"
           }
          ],
          "parcoords": [
           {
            "line": {
             "colorbar": {
              "outlinewidth": 0,
              "ticks": ""
             }
            },
            "type": "parcoords"
           }
          ],
          "pie": [
           {
            "automargin": true,
            "type": "pie"
           }
          ],
          "scatter": [
           {
            "marker": {
             "colorbar": {
              "outlinewidth": 0,
              "ticks": ""
             }
            },
            "type": "scatter"
           }
          ],
          "scatter3d": [
           {
            "line": {
             "colorbar": {
              "outlinewidth": 0,
              "ticks": ""
             }
            },
            "marker": {
             "colorbar": {
              "outlinewidth": 0,
              "ticks": ""
             }
            },
            "type": "scatter3d"
           }
          ],
          "scattercarpet": [
           {
            "marker": {
             "colorbar": {
              "outlinewidth": 0,
              "ticks": ""
             }
            },
            "type": "scattercarpet"
           }
          ],
          "scattergeo": [
           {
            "marker": {
             "colorbar": {
              "outlinewidth": 0,
              "ticks": ""
             }
            },
            "type": "scattergeo"
           }
          ],
          "scattergl": [
           {
            "marker": {
             "colorbar": {
              "outlinewidth": 0,
              "ticks": ""
             }
            },
            "type": "scattergl"
           }
          ],
          "scattermapbox": [
           {
            "marker": {
             "colorbar": {
              "outlinewidth": 0,
              "ticks": ""
             }
            },
            "type": "scattermapbox"
           }
          ],
          "scatterpolar": [
           {
            "marker": {
             "colorbar": {
              "outlinewidth": 0,
              "ticks": ""
             }
            },
            "type": "scatterpolar"
           }
          ],
          "scatterpolargl": [
           {
            "marker": {
             "colorbar": {
              "outlinewidth": 0,
              "ticks": ""
             }
            },
            "type": "scatterpolargl"
           }
          ],
          "scatterternary": [
           {
            "marker": {
             "colorbar": {
              "outlinewidth": 0,
              "ticks": ""
             }
            },
            "type": "scatterternary"
           }
          ],
          "surface": [
           {
            "colorbar": {
             "outlinewidth": 0,
             "ticks": ""
            },
            "colorscale": [
             [
              0,
              "#0d0887"
             ],
             [
              0.1111111111111111,
              "#46039f"
             ],
             [
              0.2222222222222222,
              "#7201a8"
             ],
             [
              0.3333333333333333,
              "#9c179e"
             ],
             [
              0.4444444444444444,
              "#bd3786"
             ],
             [
              0.5555555555555556,
              "#d8576b"
             ],
             [
              0.6666666666666666,
              "#ed7953"
             ],
             [
              0.7777777777777778,
              "#fb9f3a"
             ],
             [
              0.8888888888888888,
              "#fdca26"
             ],
             [
              1,
              "#f0f921"
             ]
            ],
            "type": "surface"
           }
          ],
          "table": [
           {
            "cells": {
             "fill": {
              "color": "#EBF0F8"
             },
             "line": {
              "color": "white"
             }
            },
            "header": {
             "fill": {
              "color": "#C8D4E3"
             },
             "line": {
              "color": "white"
             }
            },
            "type": "table"
           }
          ]
         },
         "layout": {
          "annotationdefaults": {
           "arrowcolor": "#2a3f5f",
           "arrowhead": 0,
           "arrowwidth": 1
          },
          "coloraxis": {
           "colorbar": {
            "outlinewidth": 0,
            "ticks": ""
           }
          },
          "colorscale": {
           "diverging": [
            [
             0,
             "#8e0152"
            ],
            [
             0.1,
             "#c51b7d"
            ],
            [
             0.2,
             "#de77ae"
            ],
            [
             0.3,
             "#f1b6da"
            ],
            [
             0.4,
             "#fde0ef"
            ],
            [
             0.5,
             "#f7f7f7"
            ],
            [
             0.6,
             "#e6f5d0"
            ],
            [
             0.7,
             "#b8e186"
            ],
            [
             0.8,
             "#7fbc41"
            ],
            [
             0.9,
             "#4d9221"
            ],
            [
             1,
             "#276419"
            ]
           ],
           "sequential": [
            [
             0,
             "#0d0887"
            ],
            [
             0.1111111111111111,
             "#46039f"
            ],
            [
             0.2222222222222222,
             "#7201a8"
            ],
            [
             0.3333333333333333,
             "#9c179e"
            ],
            [
             0.4444444444444444,
             "#bd3786"
            ],
            [
             0.5555555555555556,
             "#d8576b"
            ],
            [
             0.6666666666666666,
             "#ed7953"
            ],
            [
             0.7777777777777778,
             "#fb9f3a"
            ],
            [
             0.8888888888888888,
             "#fdca26"
            ],
            [
             1,
             "#f0f921"
            ]
           ],
           "sequentialminus": [
            [
             0,
             "#0d0887"
            ],
            [
             0.1111111111111111,
             "#46039f"
            ],
            [
             0.2222222222222222,
             "#7201a8"
            ],
            [
             0.3333333333333333,
             "#9c179e"
            ],
            [
             0.4444444444444444,
             "#bd3786"
            ],
            [
             0.5555555555555556,
             "#d8576b"
            ],
            [
             0.6666666666666666,
             "#ed7953"
            ],
            [
             0.7777777777777778,
             "#fb9f3a"
            ],
            [
             0.8888888888888888,
             "#fdca26"
            ],
            [
             1,
             "#f0f921"
            ]
           ]
          },
          "colorway": [
           "#636efa",
           "#EF553B",
           "#00cc96",
           "#ab63fa",
           "#FFA15A",
           "#19d3f3",
           "#FF6692",
           "#B6E880",
           "#FF97FF",
           "#FECB52"
          ],
          "font": {
           "color": "#2a3f5f"
          },
          "geo": {
           "bgcolor": "white",
           "lakecolor": "white",
           "landcolor": "#E5ECF6",
           "showlakes": true,
           "showland": true,
           "subunitcolor": "white"
          },
          "hoverlabel": {
           "align": "left"
          },
          "hovermode": "closest",
          "mapbox": {
           "style": "light"
          },
          "paper_bgcolor": "white",
          "plot_bgcolor": "#E5ECF6",
          "polar": {
           "angularaxis": {
            "gridcolor": "white",
            "linecolor": "white",
            "ticks": ""
           },
           "bgcolor": "#E5ECF6",
           "radialaxis": {
            "gridcolor": "white",
            "linecolor": "white",
            "ticks": ""
           }
          },
          "scene": {
           "xaxis": {
            "backgroundcolor": "#E5ECF6",
            "gridcolor": "white",
            "gridwidth": 2,
            "linecolor": "white",
            "showbackground": true,
            "ticks": "",
            "zerolinecolor": "white"
           },
           "yaxis": {
            "backgroundcolor": "#E5ECF6",
            "gridcolor": "white",
            "gridwidth": 2,
            "linecolor": "white",
            "showbackground": true,
            "ticks": "",
            "zerolinecolor": "white"
           },
           "zaxis": {
            "backgroundcolor": "#E5ECF6",
            "gridcolor": "white",
            "gridwidth": 2,
            "linecolor": "white",
            "showbackground": true,
            "ticks": "",
            "zerolinecolor": "white"
           }
          },
          "shapedefaults": {
           "line": {
            "color": "#2a3f5f"
           }
          },
          "ternary": {
           "aaxis": {
            "gridcolor": "white",
            "linecolor": "white",
            "ticks": ""
           },
           "baxis": {
            "gridcolor": "white",
            "linecolor": "white",
            "ticks": ""
           },
           "bgcolor": "#E5ECF6",
           "caxis": {
            "gridcolor": "white",
            "linecolor": "white",
            "ticks": ""
           }
          },
          "title": {
           "x": 0.05
          },
          "xaxis": {
           "automargin": true,
           "gridcolor": "white",
           "linecolor": "white",
           "ticks": "",
           "title": {
            "standoff": 15
           },
           "zerolinecolor": "white",
           "zerolinewidth": 2
          },
          "yaxis": {
           "automargin": true,
           "gridcolor": "white",
           "linecolor": "white",
           "ticks": "",
           "title": {
            "standoff": 15
           },
           "zerolinecolor": "white",
           "zerolinewidth": 2
          }
         }
        },
        "title": {
         "text": "Tree Of Unique Positive Words"
        }
       }
      },
      "text/html": [
       "<div>                            <div id=\"0a00bd79-bd55-49fc-b83a-aa04a57da89b\" class=\"plotly-graph-div\" style=\"height:525px; width:100%;\"></div>            <script type=\"text/javascript\">                require([\"plotly\"], function(Plotly) {                    window.PLOTLYENV=window.PLOTLYENV || {};                                    if (document.getElementById(\"0a00bd79-bd55-49fc-b83a-aa04a57da89b\")) {                    Plotly.newPlot(                        \"0a00bd79-bd55-49fc-b83a-aa04a57da89b\",                        [{\"branchvalues\": \"total\", \"domain\": {\"x\": [0.0, 1.0], \"y\": [0.0, 1.0]}, \"hovertemplate\": \"labels=%{label}<br>count=%{value}<br>parent=%{parent}<br>id=%{id}<extra></extra>\", \"ids\": [\"awschat\", \"bard\", \"defect\", \"echelon\", \"ergonom\", \"experiment\", \"hip\", \"linx\", \"mesh\", \"microwav\", \"optic\", \"prolift\", \"sf\", \"sharjah\", \"smarttouch\", \"stapler\", \"thermocool\", \"transvagin\", \"vagin\", \"vicryl\"], \"labels\": [\"awschat\", \"bard\", \"defect\", \"echelon\", \"ergonom\", \"experiment\", \"hip\", \"linx\", \"mesh\", \"microwav\", \"optic\", \"prolift\", \"sf\", \"sharjah\", \"smarttouch\", \"stapler\", \"thermocool\", \"transvagin\", \"vagin\", \"vicryl\"], \"name\": \"\", \"parents\": [\"\", \"\", \"\", \"\", \"\", \"\", \"\", \"\", \"\", \"\", \"\", \"\", \"\", \"\", \"\", \"\", \"\", \"\", \"\", \"\"], \"type\": \"treemap\", \"values\": [8, 8, 6, 13, 6, 6, 8, 6, 130, 6, 6, 8, 12, 6, 11, 15, 11, 11, 10, 7]}],                        {\"legend\": {\"tracegroupgap\": 0}, \"template\": {\"data\": {\"bar\": [{\"error_x\": {\"color\": \"#2a3f5f\"}, \"error_y\": {\"color\": \"#2a3f5f\"}, \"marker\": {\"line\": {\"color\": \"#E5ECF6\", \"width\": 0.5}}, \"type\": \"bar\"}], \"barpolar\": [{\"marker\": {\"line\": {\"color\": \"#E5ECF6\", \"width\": 0.5}}, \"type\": \"barpolar\"}], \"carpet\": [{\"aaxis\": {\"endlinecolor\": \"#2a3f5f\", \"gridcolor\": \"white\", \"linecolor\": \"white\", \"minorgridcolor\": \"white\", \"startlinecolor\": \"#2a3f5f\"}, \"baxis\": {\"endlinecolor\": \"#2a3f5f\", \"gridcolor\": \"white\", \"linecolor\": \"white\", \"minorgridcolor\": \"white\", \"startlinecolor\": \"#2a3f5f\"}, \"type\": \"carpet\"}], \"choropleth\": [{\"colorbar\": {\"outlinewidth\": 0, \"ticks\": \"\"}, \"type\": \"choropleth\"}], \"contour\": [{\"colorbar\": {\"outlinewidth\": 0, \"ticks\": \"\"}, \"colorscale\": [[0.0, \"#0d0887\"], [0.1111111111111111, \"#46039f\"], [0.2222222222222222, \"#7201a8\"], [0.3333333333333333, \"#9c179e\"], [0.4444444444444444, \"#bd3786\"], [0.5555555555555556, \"#d8576b\"], [0.6666666666666666, \"#ed7953\"], [0.7777777777777778, \"#fb9f3a\"], [0.8888888888888888, \"#fdca26\"], [1.0, \"#f0f921\"]], \"type\": \"contour\"}], \"contourcarpet\": [{\"colorbar\": {\"outlinewidth\": 0, \"ticks\": \"\"}, \"type\": \"contourcarpet\"}], \"heatmap\": [{\"colorbar\": {\"outlinewidth\": 0, \"ticks\": \"\"}, \"colorscale\": [[0.0, \"#0d0887\"], [0.1111111111111111, \"#46039f\"], [0.2222222222222222, \"#7201a8\"], [0.3333333333333333, \"#9c179e\"], [0.4444444444444444, \"#bd3786\"], [0.5555555555555556, \"#d8576b\"], [0.6666666666666666, \"#ed7953\"], [0.7777777777777778, \"#fb9f3a\"], [0.8888888888888888, \"#fdca26\"], [1.0, \"#f0f921\"]], \"type\": \"heatmap\"}], \"heatmapgl\": [{\"colorbar\": {\"outlinewidth\": 0, \"ticks\": \"\"}, \"colorscale\": [[0.0, \"#0d0887\"], [0.1111111111111111, \"#46039f\"], [0.2222222222222222, \"#7201a8\"], [0.3333333333333333, \"#9c179e\"], [0.4444444444444444, \"#bd3786\"], [0.5555555555555556, \"#d8576b\"], [0.6666666666666666, \"#ed7953\"], [0.7777777777777778, \"#fb9f3a\"], [0.8888888888888888, \"#fdca26\"], [1.0, \"#f0f921\"]], \"type\": \"heatmapgl\"}], \"histogram\": [{\"marker\": {\"colorbar\": {\"outlinewidth\": 0, \"ticks\": \"\"}}, \"type\": \"histogram\"}], \"histogram2d\": [{\"colorbar\": {\"outlinewidth\": 0, \"ticks\": \"\"}, \"colorscale\": [[0.0, \"#0d0887\"], [0.1111111111111111, \"#46039f\"], [0.2222222222222222, \"#7201a8\"], [0.3333333333333333, \"#9c179e\"], [0.4444444444444444, \"#bd3786\"], [0.5555555555555556, \"#d8576b\"], [0.6666666666666666, \"#ed7953\"], [0.7777777777777778, \"#fb9f3a\"], [0.8888888888888888, \"#fdca26\"], [1.0, \"#f0f921\"]], \"type\": \"histogram2d\"}], \"histogram2dcontour\": [{\"colorbar\": {\"outlinewidth\": 0, \"ticks\": \"\"}, \"colorscale\": [[0.0, \"#0d0887\"], [0.1111111111111111, \"#46039f\"], [0.2222222222222222, \"#7201a8\"], [0.3333333333333333, \"#9c179e\"], [0.4444444444444444, \"#bd3786\"], [0.5555555555555556, \"#d8576b\"], [0.6666666666666666, \"#ed7953\"], [0.7777777777777778, \"#fb9f3a\"], [0.8888888888888888, \"#fdca26\"], [1.0, \"#f0f921\"]], \"type\": \"histogram2dcontour\"}], \"mesh3d\": [{\"colorbar\": {\"outlinewidth\": 0, \"ticks\": \"\"}, \"type\": \"mesh3d\"}], \"parcoords\": [{\"line\": {\"colorbar\": {\"outlinewidth\": 0, \"ticks\": \"\"}}, \"type\": \"parcoords\"}], \"pie\": [{\"automargin\": true, \"type\": \"pie\"}], \"scatter\": [{\"marker\": {\"colorbar\": {\"outlinewidth\": 0, \"ticks\": \"\"}}, \"type\": \"scatter\"}], \"scatter3d\": [{\"line\": {\"colorbar\": {\"outlinewidth\": 0, \"ticks\": \"\"}}, \"marker\": {\"colorbar\": {\"outlinewidth\": 0, \"ticks\": \"\"}}, \"type\": \"scatter3d\"}], \"scattercarpet\": [{\"marker\": {\"colorbar\": {\"outlinewidth\": 0, \"ticks\": \"\"}}, \"type\": \"scattercarpet\"}], \"scattergeo\": [{\"marker\": {\"colorbar\": {\"outlinewidth\": 0, \"ticks\": \"\"}}, \"type\": \"scattergeo\"}], \"scattergl\": [{\"marker\": {\"colorbar\": {\"outlinewidth\": 0, \"ticks\": \"\"}}, \"type\": \"scattergl\"}], \"scattermapbox\": [{\"marker\": {\"colorbar\": {\"outlinewidth\": 0, \"ticks\": \"\"}}, \"type\": \"scattermapbox\"}], \"scatterpolar\": [{\"marker\": {\"colorbar\": {\"outlinewidth\": 0, \"ticks\": \"\"}}, \"type\": \"scatterpolar\"}], \"scatterpolargl\": [{\"marker\": {\"colorbar\": {\"outlinewidth\": 0, \"ticks\": \"\"}}, \"type\": \"scatterpolargl\"}], \"scatterternary\": [{\"marker\": {\"colorbar\": {\"outlinewidth\": 0, \"ticks\": \"\"}}, \"type\": \"scatterternary\"}], \"surface\": [{\"colorbar\": {\"outlinewidth\": 0, \"ticks\": \"\"}, \"colorscale\": [[0.0, \"#0d0887\"], [0.1111111111111111, \"#46039f\"], [0.2222222222222222, \"#7201a8\"], [0.3333333333333333, \"#9c179e\"], [0.4444444444444444, \"#bd3786\"], [0.5555555555555556, \"#d8576b\"], [0.6666666666666666, \"#ed7953\"], [0.7777777777777778, \"#fb9f3a\"], [0.8888888888888888, \"#fdca26\"], [1.0, \"#f0f921\"]], \"type\": \"surface\"}], \"table\": [{\"cells\": {\"fill\": {\"color\": \"#EBF0F8\"}, \"line\": {\"color\": \"white\"}}, \"header\": {\"fill\": {\"color\": \"#C8D4E3\"}, \"line\": {\"color\": \"white\"}}, \"type\": \"table\"}]}, \"layout\": {\"annotationdefaults\": {\"arrowcolor\": \"#2a3f5f\", \"arrowhead\": 0, \"arrowwidth\": 1}, \"coloraxis\": {\"colorbar\": {\"outlinewidth\": 0, \"ticks\": \"\"}}, \"colorscale\": {\"diverging\": [[0, \"#8e0152\"], [0.1, \"#c51b7d\"], [0.2, \"#de77ae\"], [0.3, \"#f1b6da\"], [0.4, \"#fde0ef\"], [0.5, \"#f7f7f7\"], [0.6, \"#e6f5d0\"], [0.7, \"#b8e186\"], [0.8, \"#7fbc41\"], [0.9, \"#4d9221\"], [1, \"#276419\"]], \"sequential\": [[0.0, \"#0d0887\"], [0.1111111111111111, \"#46039f\"], [0.2222222222222222, \"#7201a8\"], [0.3333333333333333, \"#9c179e\"], [0.4444444444444444, \"#bd3786\"], [0.5555555555555556, \"#d8576b\"], [0.6666666666666666, \"#ed7953\"], [0.7777777777777778, \"#fb9f3a\"], [0.8888888888888888, \"#fdca26\"], [1.0, \"#f0f921\"]], \"sequentialminus\": [[0.0, \"#0d0887\"], [0.1111111111111111, \"#46039f\"], [0.2222222222222222, \"#7201a8\"], [0.3333333333333333, \"#9c179e\"], [0.4444444444444444, \"#bd3786\"], [0.5555555555555556, \"#d8576b\"], [0.6666666666666666, \"#ed7953\"], [0.7777777777777778, \"#fb9f3a\"], [0.8888888888888888, \"#fdca26\"], [1.0, \"#f0f921\"]]}, \"colorway\": [\"#636efa\", \"#EF553B\", \"#00cc96\", \"#ab63fa\", \"#FFA15A\", \"#19d3f3\", \"#FF6692\", \"#B6E880\", \"#FF97FF\", \"#FECB52\"], \"font\": {\"color\": \"#2a3f5f\"}, \"geo\": {\"bgcolor\": \"white\", \"lakecolor\": \"white\", \"landcolor\": \"#E5ECF6\", \"showlakes\": true, \"showland\": true, \"subunitcolor\": \"white\"}, \"hoverlabel\": {\"align\": \"left\"}, \"hovermode\": \"closest\", \"mapbox\": {\"style\": \"light\"}, \"paper_bgcolor\": \"white\", \"plot_bgcolor\": \"#E5ECF6\", \"polar\": {\"angularaxis\": {\"gridcolor\": \"white\", \"linecolor\": \"white\", \"ticks\": \"\"}, \"bgcolor\": \"#E5ECF6\", \"radialaxis\": {\"gridcolor\": \"white\", \"linecolor\": \"white\", \"ticks\": \"\"}}, \"scene\": {\"xaxis\": {\"backgroundcolor\": \"#E5ECF6\", \"gridcolor\": \"white\", \"gridwidth\": 2, \"linecolor\": \"white\", \"showbackground\": true, \"ticks\": \"\", \"zerolinecolor\": \"white\"}, \"yaxis\": {\"backgroundcolor\": \"#E5ECF6\", \"gridcolor\": \"white\", \"gridwidth\": 2, \"linecolor\": \"white\", \"showbackground\": true, \"ticks\": \"\", \"zerolinecolor\": \"white\"}, \"zaxis\": {\"backgroundcolor\": \"#E5ECF6\", \"gridcolor\": \"white\", \"gridwidth\": 2, \"linecolor\": \"white\", \"showbackground\": true, \"ticks\": \"\", \"zerolinecolor\": \"white\"}}, \"shapedefaults\": {\"line\": {\"color\": \"#2a3f5f\"}}, \"ternary\": {\"aaxis\": {\"gridcolor\": \"white\", \"linecolor\": \"white\", \"ticks\": \"\"}, \"baxis\": {\"gridcolor\": \"white\", \"linecolor\": \"white\", \"ticks\": \"\"}, \"bgcolor\": \"#E5ECF6\", \"caxis\": {\"gridcolor\": \"white\", \"linecolor\": \"white\", \"ticks\": \"\"}}, \"title\": {\"x\": 0.05}, \"xaxis\": {\"automargin\": true, \"gridcolor\": \"white\", \"linecolor\": \"white\", \"ticks\": \"\", \"title\": {\"standoff\": 15}, \"zerolinecolor\": \"white\", \"zerolinewidth\": 2}, \"yaxis\": {\"automargin\": true, \"gridcolor\": \"white\", \"linecolor\": \"white\", \"ticks\": \"\", \"title\": {\"standoff\": 15}, \"zerolinecolor\": \"white\", \"zerolinewidth\": 2}}}, \"title\": {\"text\": \"Tree Of Unique Positive Words\"}},                        {\"responsive\": true}                    ).then(function(){\n",
       "                            \n",
       "var gd = document.getElementById('0a00bd79-bd55-49fc-b83a-aa04a57da89b');\n",
       "var x = new MutationObserver(function (mutations, observer) {{\n",
       "        var display = window.getComputedStyle(gd).display;\n",
       "        if (!display || display === 'none') {{\n",
       "            console.log([gd, 'removed!']);\n",
       "            Plotly.purge(gd);\n",
       "            observer.disconnect();\n",
       "        }}\n",
       "}});\n",
       "\n",
       "// Listen for the removal of the full notebook cells\n",
       "var notebookContainer = gd.closest('#notebook-container');\n",
       "if (notebookContainer) {{\n",
       "    x.observe(notebookContainer, {childList: true});\n",
       "}}\n",
       "\n",
       "// Listen for the clearing of the current output cell\n",
       "var outputEl = gd.closest('.output');\n",
       "if (outputEl) {{\n",
       "    x.observe(outputEl, {childList: true});\n",
       "}}\n",
       "\n",
       "                        })                };                });            </script>        </div>"
      ]
     },
     "metadata": {},
     "output_type": "display_data"
    }
   ],
   "source": [
    "fig = px.treemap(Unique_Positive, path=['words'], values='count',title='Tree Of Unique Words About Medical Device')\n",
    "fig.show()"
   ]
  },
  {
   "cell_type": "code",
   "execution_count": 214,
   "metadata": {},
   "outputs": [
    {
     "name": "stdout",
     "output_type": "stream",
     "text": [
      "The top 10 unique words in Negative Tweets are:\n"
     ]
    },
    {
     "data": {
      "text/html": [
       "<style  type=\"text/css\" >\n",
       "    #T_ef71d514_a0bc_11ec_b6b1_acde48001122row0_col1 {\n",
       "            background-color:  #67000d;\n",
       "            color:  #f1f1f1;\n",
       "        }    #T_ef71d514_a0bc_11ec_b6b1_acde48001122row1_col1 {\n",
       "            background-color:  #9d0d14;\n",
       "            color:  #f1f1f1;\n",
       "        }    #T_ef71d514_a0bc_11ec_b6b1_acde48001122row2_col1 {\n",
       "            background-color:  #bc141a;\n",
       "            color:  #f1f1f1;\n",
       "        }    #T_ef71d514_a0bc_11ec_b6b1_acde48001122row3_col1 {\n",
       "            background-color:  #d52221;\n",
       "            color:  #f1f1f1;\n",
       "        }    #T_ef71d514_a0bc_11ec_b6b1_acde48001122row4_col1 {\n",
       "            background-color:  #e02c26;\n",
       "            color:  #f1f1f1;\n",
       "        }    #T_ef71d514_a0bc_11ec_b6b1_acde48001122row5_col1 {\n",
       "            background-color:  #f5523a;\n",
       "            color:  #000000;\n",
       "        }    #T_ef71d514_a0bc_11ec_b6b1_acde48001122row6_col1 {\n",
       "            background-color:  #fee7dc;\n",
       "            color:  #000000;\n",
       "        }    #T_ef71d514_a0bc_11ec_b6b1_acde48001122row7_col1 {\n",
       "            background-color:  #fff0e9;\n",
       "            color:  #000000;\n",
       "        }    #T_ef71d514_a0bc_11ec_b6b1_acde48001122row8_col1 {\n",
       "            background-color:  #fff2eb;\n",
       "            color:  #000000;\n",
       "        }    #T_ef71d514_a0bc_11ec_b6b1_acde48001122row9_col1 {\n",
       "            background-color:  #fff5f0;\n",
       "            color:  #000000;\n",
       "        }</style><table id=\"T_ef71d514_a0bc_11ec_b6b1_acde48001122\" ><thead>    <tr>        <th class=\"blank level0\" ></th>        <th class=\"col_heading level0 col0\" >words</th>        <th class=\"col_heading level0 col1\" >count</th>    </tr></thead><tbody>\n",
       "                <tr>\n",
       "                        <th id=\"T_ef71d514_a0bc_11ec_b6b1_acde48001122level0_row0\" class=\"row_heading level0 row0\" >0</th>\n",
       "                        <td id=\"T_ef71d514_a0bc_11ec_b6b1_acde48001122row0_col0\" class=\"data row0 col0\" >bwi</td>\n",
       "                        <td id=\"T_ef71d514_a0bc_11ec_b6b1_acde48001122row0_col1\" class=\"data row0 col1\" >269</td>\n",
       "            </tr>\n",
       "            <tr>\n",
       "                        <th id=\"T_ef71d514_a0bc_11ec_b6b1_acde48001122level0_row1\" class=\"row_heading level0 row1\" >1</th>\n",
       "                        <td id=\"T_ef71d514_a0bc_11ec_b6b1_acde48001122row1_col0\" class=\"data row1 col0\" >sol</td>\n",
       "                        <td id=\"T_ef71d514_a0bc_11ec_b6b1_acde48001122row1_col1\" class=\"data row1 col1\" >254</td>\n",
       "            </tr>\n",
       "            <tr>\n",
       "                        <th id=\"T_ef71d514_a0bc_11ec_b6b1_acde48001122level0_row2\" class=\"row_heading level0 row2\" >2</th>\n",
       "                        <td id=\"T_ef71d514_a0bc_11ec_b6b1_acde48001122row2_col0\" class=\"data row2 col0\" >pfe</td>\n",
       "                        <td id=\"T_ef71d514_a0bc_11ec_b6b1_acde48001122row2_col1\" class=\"data row2 col1\" >242</td>\n",
       "            </tr>\n",
       "            <tr>\n",
       "                        <th id=\"T_ef71d514_a0bc_11ec_b6b1_acde48001122level0_row3\" class=\"row_heading level0 row3\" >3</th>\n",
       "                        <td id=\"T_ef71d514_a0bc_11ec_b6b1_acde48001122row3_col0\" class=\"data row3 col0\" >uon</td>\n",
       "                        <td id=\"T_ef71d514_a0bc_11ec_b6b1_acde48001122row3_col1\" class=\"data row3 col1\" >231</td>\n",
       "            </tr>\n",
       "            <tr>\n",
       "                        <th id=\"T_ef71d514_a0bc_11ec_b6b1_acde48001122level0_row4\" class=\"row_heading level0 row4\" >4</th>\n",
       "                        <td id=\"T_ef71d514_a0bc_11ec_b6b1_acde48001122row4_col0\" class=\"data row4 col0\" >nftart</td>\n",
       "                        <td id=\"T_ef71d514_a0bc_11ec_b6b1_acde48001122row4_col1\" class=\"data row4 col1\" >226</td>\n",
       "            </tr>\n",
       "            <tr>\n",
       "                        <th id=\"T_ef71d514_a0bc_11ec_b6b1_acde48001122level0_row5\" class=\"row_heading level0 row5\" >5</th>\n",
       "                        <td id=\"T_ef71d514_a0bc_11ec_b6b1_acde48001122row5_col0\" class=\"data row5 col0\" >jack</td>\n",
       "                        <td id=\"T_ef71d514_a0bc_11ec_b6b1_acde48001122row5_col1\" class=\"data row5 col1\" >211</td>\n",
       "            </tr>\n",
       "            <tr>\n",
       "                        <th id=\"T_ef71d514_a0bc_11ec_b6b1_acde48001122level0_row6\" class=\"row_heading level0 row6\" >6</th>\n",
       "                        <td id=\"T_ef71d514_a0bc_11ec_b6b1_acde48001122row6_col0\" class=\"data row6 col0\" >nkla</td>\n",
       "                        <td id=\"T_ef71d514_a0bc_11ec_b6b1_acde48001122row6_col1\" class=\"data row6 col1\" >147</td>\n",
       "            </tr>\n",
       "            <tr>\n",
       "                        <th id=\"T_ef71d514_a0bc_11ec_b6b1_acde48001122level0_row7\" class=\"row_heading level0 row7\" >7</th>\n",
       "                        <td id=\"T_ef71d514_a0bc_11ec_b6b1_acde48001122row7_col0\" class=\"data row7 col0\" >mo</td>\n",
       "                        <td id=\"T_ef71d514_a0bc_11ec_b6b1_acde48001122row7_col1\" class=\"data row7 col1\" >140</td>\n",
       "            </tr>\n",
       "            <tr>\n",
       "                        <th id=\"T_ef71d514_a0bc_11ec_b6b1_acde48001122level0_row8\" class=\"row_heading level0 row8\" >8</th>\n",
       "                        <td id=\"T_ef71d514_a0bc_11ec_b6b1_acde48001122row8_col0\" class=\"data row8 col0\" >coin</td>\n",
       "                        <td id=\"T_ef71d514_a0bc_11ec_b6b1_acde48001122row8_col1\" class=\"data row8 col1\" >139</td>\n",
       "            </tr>\n",
       "            <tr>\n",
       "                        <th id=\"T_ef71d514_a0bc_11ec_b6b1_acde48001122level0_row9\" class=\"row_heading level0 row9\" >9</th>\n",
       "                        <td id=\"T_ef71d514_a0bc_11ec_b6b1_acde48001122row9_col0\" class=\"data row9 col0\" >24</td>\n",
       "                        <td id=\"T_ef71d514_a0bc_11ec_b6b1_acde48001122row9_col1\" class=\"data row9 col1\" >136</td>\n",
       "            </tr>\n",
       "    </tbody></table>"
      ],
      "text/plain": [
       "<pandas.io.formats.style.Styler at 0x7fdc12ce4810>"
      ]
     },
     "execution_count": 214,
     "metadata": {},
     "output_type": "execute_result"
    }
   ],
   "source": [
    "Unique_Negative= words_unique(False, 10, raw_text)\n",
    "print(\"The top 10 unique words in Negative Tweets are:\")\n",
    "Unique_Negative.style.background_gradient(cmap='Reds')"
   ]
  },
  {
   "cell_type": "code",
   "execution_count": 217,
   "metadata": {},
   "outputs": [],
   "source": [
    "def plot_wordcloud(text, mask=None, max_words=200, max_font_size=100, figure_size=(12,10), color = 'white',\n",
    "                   title = None, title_size=40, image_color=False):\n",
    "    stopwords = set(STOPWORDS)\n",
    "    more_stopwords = {'u', \"im\"}\n",
    "    stopwords = stopwords.union(more_stopwords)\n",
    "\n",
    "    wordcloud = WordCloud(background_color=color,\n",
    "                    stopwords = stopwords,\n",
    "                    max_words = max_words,\n",
    "                    max_font_size = max_font_size, \n",
    "                    random_state = 42,\n",
    "                    width=400, \n",
    "                    height=200,\n",
    "                    mask = mask)\n",
    "    wordcloud.generate(str(text))\n",
    "    \n",
    "    plt.figure(figsize=figure_size)\n",
    "    if image_color:\n",
    "        image_colors = ImageColorGenerator(mask);\n",
    "        plt.imshow(wordcloud.recolor(color_func=image_colors), interpolation=\"bilinear\");\n",
    "        plt.title(title, fontdict={'size': title_size,  \n",
    "                                  'verticalalignment': 'bottom'})\n",
    "    else:\n",
    "        plt.imshow(wordcloud);\n",
    "        plt.title(title, fontdict={'size': title_size, 'color': 'black', \n",
    "                                  'verticalalignment': 'bottom'})\n",
    "    plt.axis('off');\n",
    "    plt.tight_layout()\n",
    "    plt.savefig('test')"
   ]
  },
  {
   "cell_type": "code",
   "execution_count": 218,
   "metadata": {},
   "outputs": [
    {
     "data": {
      "image/png": "[encoded data removed]",
      "text/plain": [
       "<Figure size 864x720 with 1 Axes>"
      ]
     },
     "metadata": {
      "needs_background": "light"
     },
     "output_type": "display_data"
    }
   ],
   "source": [
    "from PIL import Image\n",
    "from wordcloud import WordCloud, STOPWORDS, ImageColorGenerator\n",
    "\n",
    "#pos_mask = np.array(Image.open('twitter_mask.png'))\n",
    "plot_wordcloud(right_class.text,color='white',max_font_size=80,title_size=30,title=\"WordCloud of Medical device\")"
   ]
  },
  {
   "cell_type": "code",
   "execution_count": 66,
   "metadata": {},
   "outputs": [
    {
     "data": {
      "image/png": "[encoded data removed]",
      "text/plain": [
       "<Figure size 864x720 with 1 Axes>"
      ]
     },
     "metadata": {
      "needs_background": "light"
     },
     "output_type": "display_data"
    }
   ],
   "source": [
    "plot_wordcloud(wrong_class.text,color='white',max_font_size=80,title_size=30,title=\"WordCloud of not Medical device\")"
   ]
  },
  {
   "cell_type": "markdown",
   "metadata": {},
   "source": [
    "model"
   ]
  },
  {
   "cell_type": "code",
   "execution_count": 67,
   "metadata": {},
   "outputs": [],
   "source": [
    "from sklearn.model_selection import train_test_split\n",
    "X_train, X_test, y_train, y_test = train_test_split(tweets[\"text\"], tweets[\"medical_device\"],\n",
    "                                                    test_size=0.2,\n",
    "                                                    shuffle=True, \n",
    "                                                    stratify=tweets[\"medical_device\"],\n",
    "                                                    random_state=42)"
   ]
  },
  {
   "cell_type": "code",
   "execution_count": 74,
   "metadata": {},
   "outputs": [],
   "source": [
    "df_train, df_test = train_test_split(tweets[['text','medical_device']], test_size=0.2)"
   ]
  },
  {
   "cell_type": "code",
   "execution_count": 75,
   "metadata": {},
   "outputs": [
    {
     "data": {
      "text/html": [
       "<div>\n",
       "<style scoped>\n",
       "    .dataframe tbody tr th:only-of-type {\n",
       "        vertical-align: middle;\n",
       "    }\n",
       "\n",
       "    .dataframe tbody tr th {\n",
       "        vertical-align: top;\n",
       "    }\n",
       "\n",
       "    .dataframe thead th {\n",
       "        text-align: right;\n",
       "    }\n",
       "</style>\n",
       "<table border=\"1\" class=\"dataframe\">\n",
       "  <thead>\n",
       "    <tr style=\"text-align: right;\">\n",
       "      <th></th>\n",
       "      <th>text</th>\n",
       "      <th>medical_device</th>\n",
       "    </tr>\n",
       "  </thead>\n",
       "  <tbody>\n",
       "    <tr>\n",
       "      <th>4057</th>\n",
       "      <td>@JNJNews Enjoying D. Leanne Williams presentat...</td>\n",
       "      <td>False</td>\n",
       "    </tr>\n",
       "    <tr>\n",
       "      <th>2433</th>\n",
       "      <td>Beyond impacting patient lives, what I love ab...</td>\n",
       "      <td>False</td>\n",
       "    </tr>\n",
       "    <tr>\n",
       "      <th>3403</th>\n",
       "      <td>STATEMENT from #JnJ on doses that the FDA does...</td>\n",
       "      <td>False</td>\n",
       "    </tr>\n",
       "    <tr>\n",
       "      <th>1452</th>\n",
       "      <td>@realDonaldTrump @FDA 2014 - ETHICON\\nProduct ...</td>\n",
       "      <td>True</td>\n",
       "    </tr>\n",
       "    <tr>\n",
       "      <th>1685</th>\n",
       "      <td>#BWI Marshall welcomes Minute Suites https://t...</td>\n",
       "      <td>False</td>\n",
       "    </tr>\n",
       "    <tr>\n",
       "      <th>...</th>\n",
       "      <td>...</td>\n",
       "      <td>...</td>\n",
       "    </tr>\n",
       "    <tr>\n",
       "      <th>1037</th>\n",
       "      <td>@RTandLikeSoaps #Ericole (Nicole &amp;amp; Eric)\\n...</td>\n",
       "      <td>False</td>\n",
       "    </tr>\n",
       "    <tr>\n",
       "      <th>659</th>\n",
       "      <td>@DarthSSnape 😂🤣 GOSH! I just laughed at this! ...</td>\n",
       "      <td>False</td>\n",
       "    </tr>\n",
       "    <tr>\n",
       "      <th>919</th>\n",
       "      <td>@JNJGlobalHealth Hi, I wanna know is this a Am...</td>\n",
       "      <td>False</td>\n",
       "    </tr>\n",
       "    <tr>\n",
       "      <th>1905</th>\n",
       "      <td>#tbt...Our Medical/Food Outreach to Obere Comm...</td>\n",
       "      <td>False</td>\n",
       "    </tr>\n",
       "    <tr>\n",
       "      <th>3325</th>\n",
       "      <td>Proud to be a member of the LGBTQIA+ community...</td>\n",
       "      <td>False</td>\n",
       "    </tr>\n",
       "  </tbody>\n",
       "</table>\n",
       "<p>3712 rows × 2 columns</p>\n",
       "</div>"
      ],
      "text/plain": [
       "                                                   text  medical_device\n",
       "4057  @JNJNews Enjoying D. Leanne Williams presentat...           False\n",
       "2433  Beyond impacting patient lives, what I love ab...           False\n",
       "3403  STATEMENT from #JnJ on doses that the FDA does...           False\n",
       "1452  @realDonaldTrump @FDA 2014 - ETHICON\\nProduct ...            True\n",
       "1685  #BWI Marshall welcomes Minute Suites https://t...           False\n",
       "...                                                 ...             ...\n",
       "1037  @RTandLikeSoaps #Ericole (Nicole &amp; Eric)\\n...           False\n",
       "659   @DarthSSnape 😂🤣 GOSH! I just laughed at this! ...           False\n",
       "919   @JNJGlobalHealth Hi, I wanna know is this a Am...           False\n",
       "1905  #tbt...Our Medical/Food Outreach to Obere Comm...           False\n",
       "3325  Proud to be a member of the LGBTQIA+ community...           False\n",
       "\n",
       "[3712 rows x 2 columns]"
      ]
     },
     "execution_count": 75,
     "metadata": {},
     "output_type": "execute_result"
    }
   ],
   "source": [
    "df_train"
   ]
  },
  {
   "cell_type": "code",
   "execution_count": 98,
   "metadata": {},
   "outputs": [],
   "source": [
    "def save_model(output_dir, nlp, new_model_name):\n",
    "    ''' This Function Saves model to \n",
    "    given output directory'''\n",
    "    \n",
    "    output_dir = f'../working/{output_dir}'\n",
    "    if output_dir is not None:        \n",
    "        if not os.path.exists(output_dir):\n",
    "            os.makedirs(output_dir)\n",
    "        nlp.meta[\"name\"] = new_model_name\n",
    "        nlp.to_disk(output_dir)\n",
    "        print(\"Saved model to\", output_dir)"
   ]
  },
  {
   "cell_type": "code",
   "execution_count": 99,
   "metadata": {},
   "outputs": [],
   "source": [
    "from spacy.training.example import Example\n",
    "def train(train_data, output_dir, n_iter=20, model=None):\n",
    "    \"\"\"Load the model, set up the pipeline and train the entity recognizer.\"\"\"\n",
    "    \"\"\n",
    "    if model is not None:\n",
    "        nlp = spacy.load(output_dir)  # load existing spaCy model\n",
    "        print(\"Loaded model '%s'\" % model)\n",
    "    else:\n",
    "        nlp = spacy.blank(\"en\")  # create blank Language class\n",
    "        print(\"Created blank 'en' model\")\n",
    "    \n",
    "    # create the built-in pipeline components and add them to the pipeline\n",
    "    # nlp.create_pipe works for built-ins that are registered with spaCy\n",
    "    if \"ner\" not in nlp.pipe_names:\n",
    "        #ner = nlp.create_pipe(\"ner\")\n",
    "        nlp.add_pipe('ner', last=True)\n",
    "        ner = nlp.get_pipe(\"ner\")\n",
    "    # otherwise, get it so we can add labels\n",
    "    else:\n",
    "        ner = nlp.get_pipe(\"ner\")\n",
    "    \n",
    "    # add labels\n",
    "    for _, annotations in train_data:\n",
    "        for ent in annotations.get(\"entities\"):\n",
    "            ner.add_label(ent[2])\n",
    "\n",
    "    # get names of other pipes to disable them during training\n",
    "    other_pipes = [pipe for pipe in nlp.pipe_names if pipe != \"ner\"]\n",
    "    with nlp.disable_pipes(*other_pipes):  # only train NER\n",
    "        # sizes = compounding(1.0, 4.0, 1.001)\n",
    "        # batch up the examples using spaCy's minibatch\n",
    "        if model is None:\n",
    "            nlp.begin_training()\n",
    "        else:\n",
    "            nlp.resume_training()\n",
    "\n",
    "\n",
    "        for itn in tqdm(range(n_iter)):\n",
    "            random.shuffle(train_data)\n",
    "            batches = minibatch(train_data, size=compounding(4.0, 500.0, 1.001))    \n",
    "            losses = {}\n",
    "            for batch in batches:\n",
    "#                 texts, annotations = zip(*batch)\n",
    "                for text, annotations in batch:\n",
    "                    doc = nlp.make_doc(text)\n",
    "                    example = Example.from_dict(doc, annotations)\n",
    "#                 nlp.update(texts,  # batch of texts\n",
    "#                             annotations,  # batch of annotations\n",
    "#                             drop=0.5,   # dropout - make it harder to memorise data\n",
    "#                             losses=losses, \n",
    "#                             )\n",
    "                    nlp.update([example], losses=losses, drop=0.3)\n",
    "            print(\"Losses\", losses)\n",
    "    save_model(output_dir, nlp, 'st_ner')"
   ]
  },
  {
   "cell_type": "code",
   "execution_count": 100,
   "metadata": {},
   "outputs": [],
   "source": [
    "def get_model_out_path(sentiment):\n",
    "    '''\n",
    "    Returns Model output path\n",
    "    '''\n",
    "    model_out_path = None\n",
    "    if sentiment == True:\n",
    "        model_out_path = 'models/model_pos'\n",
    "    elif sentiment == False:\n",
    "        model_out_path = 'models/model_neg'\n",
    "    return model_out_path"
   ]
  },
  {
   "cell_type": "code",
   "execution_count": 101,
   "metadata": {},
   "outputs": [],
   "source": [
    "def get_training_data(sentiment):\n",
    "    '''\n",
    "    Returns Trainong data in the format needed to train spacy NER\n",
    "    '''\n",
    "    train_data = []\n",
    "    for index, row in df_train.iterrows():\n",
    "        if row.medical_device == sentiment:\n",
    "            selected_text = row.text\n",
    "            text = row.text\n",
    "            start = text.find(text)\n",
    "            end = start + len(text)\n",
    "            train_data.append((text, {\"entities\": [[start, end, 'selected_text']]}))\n",
    "    return train_data"
   ]
  },
  {
   "cell_type": "code",
   "execution_count": 102,
   "metadata": {},
   "outputs": [
    {
     "name": "stderr",
     "output_type": "stream",
     "text": [
      "\r",
      "  0%|          | 0/3 [00:00<?, ?it/s]"
     ]
    },
    {
     "name": "stdout",
     "output_type": "stream",
     "text": [
      "Created blank 'en' model\n"
     ]
    },
    {
     "name": "stderr",
     "output_type": "stream",
     "text": [
      "\r",
      " 33%|███▎      | 1/3 [00:09<00:19,  9.87s/it]"
     ]
    },
    {
     "name": "stdout",
     "output_type": "stream",
     "text": [
      "Losses {'ner': 1308.013655244646}\n"
     ]
    },
    {
     "name": "stderr",
     "output_type": "stream",
     "text": [
      "\r",
      " 67%|██████▋   | 2/3 [00:20<00:10, 10.02s/it]"
     ]
    },
    {
     "name": "stdout",
     "output_type": "stream",
     "text": [
      "Losses {'ner': 18.528721574487257}\n"
     ]
    },
    {
     "name": "stderr",
     "output_type": "stream",
     "text": [
      "100%|██████████| 3/3 [00:30<00:00, 10.27s/it]"
     ]
    },
    {
     "name": "stdout",
     "output_type": "stream",
     "text": [
      "Losses {'ner': 1.8744831837035567}\n",
      "Saved model to ../working/models/model_pos\n"
     ]
    },
    {
     "name": "stderr",
     "output_type": "stream",
     "text": [
      "\n"
     ]
    }
   ],
   "source": [
    "from tqdm import tqdm\n",
    "from spacy.util import compounding\n",
    "from spacy.util import minibatch\n",
    "import random\n",
    "import os\n",
    "sentiment = True\n",
    "\n",
    "train_data = get_training_data(sentiment)\n",
    "model_path = get_model_out_path(sentiment)\n",
    "# For DEmo Purposes I have taken 3 iterations you can train the model as you want\n",
    "train(train_data, model_path, n_iter=3, model=None)"
   ]
  },
  {
   "cell_type": "code",
   "execution_count": 103,
   "metadata": {},
   "outputs": [
    {
     "name": "stderr",
     "output_type": "stream",
     "text": [
      "\r",
      "  0%|          | 0/3 [00:00<?, ?it/s]"
     ]
    },
    {
     "name": "stdout",
     "output_type": "stream",
     "text": [
      "Created blank 'en' model\n"
     ]
    },
    {
     "name": "stderr",
     "output_type": "stream",
     "text": [
      "\r",
      " 33%|███▎      | 1/3 [01:29<02:58, 89.13s/it]"
     ]
    },
    {
     "name": "stdout",
     "output_type": "stream",
     "text": [
      "Losses {'ner': 1057.1190324454933}\n"
     ]
    },
    {
     "name": "stderr",
     "output_type": "stream",
     "text": [
      "\r",
      " 67%|██████▋   | 2/3 [04:07<01:50, 110.04s/it]"
     ]
    },
    {
     "name": "stdout",
     "output_type": "stream",
     "text": [
      "Losses {'ner': 19.01705900902718}\n"
     ]
    },
    {
     "name": "stderr",
     "output_type": "stream",
     "text": [
      "100%|██████████| 3/3 [06:44<00:00, 134.74s/it]"
     ]
    },
    {
     "name": "stdout",
     "output_type": "stream",
     "text": [
      "Losses {'ner': 9.92753811164133}\n",
      "Saved model to ../working/models/model_neg\n"
     ]
    },
    {
     "name": "stderr",
     "output_type": "stream",
     "text": [
      "\n"
     ]
    }
   ],
   "source": [
    "sentiment = False\n",
    "\n",
    "train_data = get_training_data(sentiment)\n",
    "model_path = get_model_out_path(sentiment)\n",
    "\n",
    "train(train_data, model_path, n_iter=3, model=None)"
   ]
  },
  {
   "cell_type": "markdown",
   "metadata": {},
   "source": [
    "predicting with the trained model"
   ]
  },
  {
   "cell_type": "code",
   "execution_count": 104,
   "metadata": {},
   "outputs": [],
   "source": [
    "def predict_entities(text, model):\n",
    "    doc = model(text)\n",
    "    ent_array = []\n",
    "    for ent in doc.ents:\n",
    "        start = text.find(ent.text)\n",
    "        end = start + len(ent.text)\n",
    "        new_int = [start, end, ent.label_]\n",
    "        if new_int not in ent_array:\n",
    "            ent_array.append([start, end, ent.label_])\n",
    "    selected_text = text[ent_array[0][0]: ent_array[0][1]] if len(ent_array) > 0 else text\n",
    "    return selected_text"
   ]
  },
  {
   "cell_type": "code",
   "execution_count": 110,
   "metadata": {},
   "outputs": [
    {
     "name": "stdout",
     "output_type": "stream",
     "text": [
      "Loading Models  from  ../working/models/\n"
     ]
    }
   ],
   "source": [
    "selected_texts = []\n",
    "MODELS_BASE_PATH = '../working/models/'\n",
    "\n",
    "if MODELS_BASE_PATH is not None:\n",
    "    print(\"Loading Models  from \", MODELS_BASE_PATH)\n",
    "    model_pos = spacy.load(MODELS_BASE_PATH + 'model_pos')\n",
    "    model_neg = spacy.load(MODELS_BASE_PATH + 'model_neg')\n",
    "        \n",
    "    for index, row in df_test.iterrows():\n",
    "        text = row.text\n",
    "        output_str = \"\"\n",
    "        if row.medical_device == 'neutral' or len(text.split()) <= 2:\n",
    "            selected_texts.append(text)\n",
    "        elif row.medical_device == True:\n",
    "            selected_texts.append(predict_entities(text, model_pos))\n",
    "        else:\n",
    "            selected_texts.append(predict_entities(text, model_neg))\n",
    "        \n",
    "df_test['selected_text'] = selected_texts"
   ]
  },
  {
   "cell_type": "code",
   "execution_count": null,
   "metadata": {},
   "outputs": [],
   "source": []
  }
 ],
 "metadata": {
  "kernelspec": {
   "display_name": "Python 3",
   "language": "python",
   "name": "python3"
  },
  "language_info": {
   "codemirror_mode": {
    "name": "ipython",
    "version": 3
   },
   "file_extension": ".py",
   "mimetype": "text/x-python",
   "name": "python",
   "nbconvert_exporter": "python",
   "pygments_lexer": "ipython3",
   "version": "3.7.6"
  }
 },
 "nbformat": 4,
 "nbformat_minor": 4
}
